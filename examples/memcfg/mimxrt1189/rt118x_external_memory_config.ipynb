{
 "cells": [
  {
   "cell_type": "markdown",
   "metadata": {},
   "source": [
    "# i.MX RT118x External Memory Configuration with SPSDK\n",
    "\n",
    "\n",
    "**Procedure of initialization and using external memory connected MCU over blhost interface.**\n",
    "1. Create the flashloader application with mBoot(blhost application) \n",
    "2. Load the flashloader application to the target device\n",
    "3. Generate a blhost script for memory configuration\n",
    "4. Execute the blhost script to configure the external memory\n",
    "   - Example of creation a non-default memory configuration\n",
    "5. Build a bootable image and load it into a memory configured though the blhost-script\n"
   ]
  },
  {
   "cell_type": "markdown",
   "metadata": {},
   "source": [
    "## 1. Prerequisites\n",
    "\n",
    " SPSDK is needed with examples extension. `pip install spsdk[examples]` (Please refer to the [installation](../../_knowledge_base/installation_guide.rst) documentation.)\n",
    "\n",
    " ### 1.1 Connect your board to you PC.\n",
    "Use both the Debug USB Port and USB OTG1 port and set the board to SDP mode.\n",
    "Configure Boot Mode Switch to SDP: 1-OFF, 2-OFF, 3-OFF, 4-ON\\\n",
    "Connect your board to your PC via a micro USB using the USB OTG1 port - J33\\\n",
    "Connect your board to your PC via a micro USB using the Debug USB port - J53\n",
    "\n",
    "**The following picture describes connector placement of RT1180 EVK:**\n",
    "\n",
    "<img src=\"../../_data/img/boards/rt1189-evk.png\" alt=\"rt1189-evk\" height=\"400\">\n",
    "    \n",
    "\n",
    "Run the code below to initialize parameters for the script:"
   ]
  },
  {
   "cell_type": "code",
   "execution_count": 1,
   "metadata": {
    "tags": [
     "remove-cell"
    ]
   },
   "outputs": [
    {
     "name": "stdout",
     "output_type": "stream",
     "text": [
      "env: JUPYTER_SPSDK=1\n",
      "Created `%!` as an alias for `%execute`.\n"
     ]
    }
   ],
   "source": [
    "from spsdk.utils.jupyter_utils import YamlDiffWidget\n",
    "\n",
    "# This env variable sets colored logger output to STDOUT\n",
    "# Execute this cell to enable execution of the ! line magic\n",
    "%env JUPYTER_SPSDK=1\n",
    "%alias execute echo %l && %l\n",
    "%alias_magic ! execute"
   ]
  },
  {
   "cell_type": "code",
   "execution_count": 10,
   "metadata": {},
   "outputs": [],
   "source": [
    "import os\n",
    "\n",
    "WORKSPACE = \"workspace/\"  # change this to path to your workspace\n",
    "INPUTS = \"inputs/\"\n",
    "VERBOSITY = (\n",
    "    \"-v\"  # verbosity of commands, might be -v or -vv for debug or blank for no additional info\n",
    ")\n",
    "\n",
    "FLASHLOADER_FILE = (\n",
    "    \"../../ahab/rt118x_signed_flashloader/workspace/flashloader.bin\"  # Path to Flashloader\n",
    ")\n",
    "CFG_MEM_FILE = WORKSPACE + \"config_mem.bls\"  # Configure memory template\n",
    "CUSTOM_CFG_MEM_FILE = WORKSPACE + \"custom_config_mem.bls\"  # Configure memory template\n",
    "FCB_FILE = WORKSPACE + \"fcb.bin\"  # Firmware Configuration block file\n",
    "CUSTOM_FCB_FILE = WORKSPACE + \"custom_fcb.bin\"  # Firmware Configuration block file"
   ]
  },
  {
   "attachments": {},
   "cell_type": "markdown",
   "metadata": {},
   "source": [
    "## 2. Create the flashloader application with mBoot(blhost application) \n",
    "We will need program our boards with a flashloader binary to be able to send blhost commands to it. To get such a binary, we can use the [signed_flashloader notebook](../../ahab/rt118x_signed_flashloader/rt118x_signed_flashloader.ipynb). The details are out of scope for this session, so just open the [signed_flashloader notebook](../../ahab/rt118x_signed_flashloader/rt118x_signed_flashloader.ipynb), use the \"Run All Cells\" option and close it again.\n",
    "\n",
    "![Run All Cells](./img/run_all_cells.png \"run all cells\")\n",
    "\n",
    "Scan for available devices with `nxpdevscan`, connect to the i.MX RT1180 and load a flashloader into it using `blhost`\n",
    "\n",
    "Call `nxpdevscan --help` to get a list of options supported by `nxpdevscan`:"
   ]
  },
  {
   "cell_type": "code",
   "execution_count": 3,
   "metadata": {
    "execute_cell": false
   },
   "outputs": [
    {
     "name": "stdout",
     "output_type": "stream",
     "text": [
      "nxpdevscan \n",
      "-------- Connected NXP USB Devices --------\n",
      "\n",
      "LPC-LINK2 CMSIS-DAP V5.361 - NXP Semiconductors\n",
      "Vendor ID: 0x1fc9\n",
      "Product ID: 0x0090\n",
      "Path: HID\\VID_1FC9&PID_0090&MI_00\\B&39EC9C5&0&0000\n",
      "Path Hash: 89666509\n",
      "Name: \n",
      "Serial number: JXBUBWEQ\n",
      "\n",
      "LPC-LINK2 DATA PORT - NXP Semiconductors\n",
      "Vendor ID: 0x1fc9\n",
      "Product ID: 0x0090\n",
      "Path: HID\\VID_1FC9&PID_0090&MI_04\\B&14C470B6&0&0000\n",
      "Path Hash: e6877f23\n",
      "Name: \n",
      "Serial number: JXBUBWEQ\n",
      "\n",
      "LPCSIO - NXP Semiconductors\n",
      "Vendor ID: 0x1fc9\n",
      "Product ID: 0x0090\n",
      "Path: HID\\VID_1FC9&PID_0090&MI_03\\B&1945478&0&0000\n",
      "Path Hash: 043ac251\n",
      "Name: \n",
      "Serial number: JXBUBWEQ\n",
      "\n",
      "-------- Connected NXP UART Devices --------\n",
      "\n",
      "-------- Connected NXP SIO Devices --------\n",
      "\n",
      "LIBUSBSIO - NXP Semiconductors, LPCSIO\n",
      "Vendor ID: 0x1fc9\n",
      "Product ID: 0x0090\n",
      "Path: HID\\VID_1FC9&PID_0090&MI_03\\B&1945478&0&0000\n",
      "Path Hash: 043ac251\n",
      "Serial number: JXBUBWEQ\n",
      "Interface number: 3\n",
      "Release number: 256\n",
      "\n",
      "-------- Connected NXP UUU Devices --------\n",
      "\n"
     ]
    }
   ],
   "source": [
    "%! nxpdevscan"
   ]
  },
  {
   "cell_type": "markdown",
   "metadata": {},
   "source": [
    "**The Vendor and Product ID values of the `OO Blank RT Family - NXP SEMICONDUCTORS` are the default values for the boot ROM.**\n",
    "\n",
    "**Store them in a variable for later use:**"
   ]
  },
  {
   "cell_type": "code",
   "execution_count": 4,
   "metadata": {},
   "outputs": [],
   "source": [
    "COMPAR = \"-u\"  # USB\n",
    "BLHOST_CONNECT_ROM = \"0x1fc9,0x014c\"  # PID/VID of ROM"
   ]
  },
  {
   "cell_type": "markdown",
   "metadata": {},
   "source": [
    "\n",
    "**Reset your board by pressing the `SW3` button. This is necessary because calling `nxpdevscan` causes the boot ROM to stop being visible. You can test this by executing the `nxpdevscan` cell one more time.**\n",
    "\n",
    "Ping the boot ROM via `blhost`:\n"
   ]
  },
  {
   "cell_type": "code",
   "execution_count": 6,
   "metadata": {},
   "outputs": [
    {
     "name": "stdout",
     "output_type": "stream",
     "text": [
      "blhost -u 0x1fc9,0x014c get-property 1 \n",
      "Response status = 0 (0x0) Success.\n",
      "Response word 1 = 1258487809 (0x4b030001)\n",
      "Current Version = K3.0.1\n"
     ]
    }
   ],
   "source": [
    "%! blhost $COMPAR $BLHOST_CONNECT_ROM get-property 1"
   ]
  },
  {
   "cell_type": "markdown",
   "metadata": {},
   "source": [
    "**Load a flashloader image into the device:**"
   ]
  },
  {
   "cell_type": "code",
   "execution_count": 13,
   "metadata": {},
   "outputs": [
    {
     "name": "stdout",
     "output_type": "stream",
     "text": [
      "blhost -u 0x1fc9,0x014c load-image ../../ahab/rt118x_signed_flashloader/workspace/flashloader.bin \n",
      "Loading image\n",
      "Response status = 0 (0x0) Success.\n"
     ]
    }
   ],
   "source": [
    "from time import sleep\n",
    "\n",
    "assert os.path.exists(FLASHLOADER_FILE)\n",
    "\n",
    "%! blhost $COMPAR $BLHOST_CONNECT_ROM load-image $FLASHLOADER_FILE\n",
    "sleep(3)  # wait for device"
   ]
  },
  {
   "cell_type": "markdown",
   "metadata": {},
   "source": [
    "Call `nxpdevscan` again to get the Value and Product ID of the flashloader:"
   ]
  },
  {
   "cell_type": "code",
   "execution_count": 10,
   "metadata": {
    "execute_cell": false
   },
   "outputs": [
    {
     "name": "stdout",
     "output_type": "stream",
     "text": [
      "nxpdevscan \n",
      "-------- Connected NXP USB Devices --------\n",
      "\n",
      "USB COMPOSITE DEVICE - FREESCALE SEMICONDUCTOR INC.\n",
      "Vendor ID: 0x15a2\n",
      "Product ID: 0x0073\n",
      "Path: HID\\VID_15A2&PID_0073\\9&1D63E617&0&0000\n",
      "Path Hash: a3f7b925\n",
      "Name: mwct2014s | mimxrt1182 | mcxc444 | mimxrt1171 | mwct2d16s | mimxrt1024 | mcxc244 | mimxrt1165 | mcxc243 | mimxrt1173 | mcxc143 | mwct2015s | mimxrt1050 | mimxrt1010 | mimxrt1020 | mwct2016s | mimxrt1166 | mcxc443 | mimxrt1015 | mcxc144 | mimxrt1064 | mimxrt1187 | mcxc141 | mwct2d17s | mimxrt1040 | mimxrt1176 | mimxrt1189 | mimxrt1060 | mcxc242 | mimxrt1172 | mcxc142 | mimxrt1175 | mimxrt1181 | mcxc041\n",
      "Serial number: \n",
      "\n",
      "LPC-LINK2 CMSIS-DAP V5.361 - NXP Semiconductors\n",
      "Vendor ID: 0x1fc9\n",
      "Product ID: 0x0090\n",
      "Path: HID\\VID_1FC9&PID_0090&MI_00\\B&39EC9C5&0&0000\n",
      "Path Hash: 89666509\n",
      "Name: \n",
      "Serial number: JXBUBWEQ\n",
      "\n",
      "LPC-LINK2 DATA PORT - NXP Semiconductors\n",
      "Vendor ID: 0x1fc9\n",
      "Product ID: 0x0090\n",
      "Path: HID\\VID_1FC9&PID_0090&MI_04\\B&14C470B6&0&0000\n",
      "Path Hash: e6877f23\n",
      "Name: \n",
      "Serial number: JXBUBWEQ\n",
      "\n",
      "LPCSIO - NXP Semiconductors\n",
      "Vendor ID: 0x1fc9\n",
      "Product ID: 0x0090\n",
      "Path: HID\\VID_1FC9&PID_0090&MI_03\\B&1945478&0&0000\n",
      "Path Hash: 043ac251\n",
      "Name: \n",
      "Serial number: JXBUBWEQ\n",
      "\n",
      "-------- Connected NXP UART Devices --------\n",
      "\n",
      "-------- Connected NXP SIO Devices --------\n",
      "\n",
      "LIBUSBSIO - NXP Semiconductors, LPCSIO\n",
      "Vendor ID: 0x1fc9\n",
      "Product ID: 0x0090\n",
      "Path: HID\\VID_1FC9&PID_0090&MI_03\\B&1945478&0&0000\n",
      "Path Hash: 043ac251\n",
      "Serial number: JXBUBWEQ\n",
      "Interface number: 3\n",
      "Release number: 256\n",
      "\n",
      "-------- Connected NXP UUU Devices --------\n",
      "\n"
     ]
    }
   ],
   "source": [
    "%! nxpdevscan"
   ]
  },
  {
   "cell_type": "markdown",
   "metadata": {},
   "source": [
    "**Store the values in a variable again:**"
   ]
  },
  {
   "cell_type": "code",
   "execution_count": 14,
   "metadata": {},
   "outputs": [],
   "source": [
    "BLHOST_CONNECT_FLDR = \"0x15A2,0x0073\"  # PID/VID of NXP Flashloader"
   ]
  },
  {
   "cell_type": "markdown",
   "metadata": {},
   "source": [
    "\n",
    "Reset your board by pressing the `SW3` button. This is necessary because calling `nxpdevscan` causes the flashloader to stop being visible as well. You can test this by executing the `nxpdevscan` cell one more time.\n",
    "\n",
    "**Reload the flashloader to be able to continue:**"
   ]
  },
  {
   "cell_type": "code",
   "execution_count": 16,
   "metadata": {
    "execute_cell": false
   },
   "outputs": [
    {
     "name": "stdout",
     "output_type": "stream",
     "text": [
      "blhost -u 0x1fc9,0x014c load-image ../../ahab/rt118x_signed_flashloader/workspace/flashloader.bin \n",
      "Loading image\n",
      "Response status = 0 (0x0) Success.\n"
     ]
    }
   ],
   "source": [
    "%! blhost $COMPAR $BLHOST_CONNECT_ROM load-image $FLASHLOADER_FILE\n",
    "sleep(3)  # wait for device"
   ]
  },
  {
   "cell_type": "markdown",
   "metadata": {},
   "source": [
    "**Ping the flashloader to double check everything worked correctly:**"
   ]
  },
  {
   "cell_type": "code",
   "execution_count": 17,
   "metadata": {},
   "outputs": [
    {
     "name": "stdout",
     "output_type": "stream",
     "text": [
      "blhost -v -u 0x15A2,0x0073 get-property 1 \n",
      "\u001b[37m\u001b[1mINFO:spsdk.mboot.mcuboot:Connect: identifier='usb', device=USB COMPOSITE DEVICE (0x15A2, 0x0073)path=b'\\\\\\\\?\\\\hid#vid_15a2&pid_0073#9&1d63e617&0&0000#{4d1e55b2-f16f-11cf-88cb-001111000030}' sn=''\u001b[39m\u001b[0m\n",
      "\u001b[37m\u001b[1mINFO:spsdk.mboot.mcuboot:CMD: GetProperty(CurrentVersion, index=0)\u001b[39m\u001b[0m\n",
      "\u001b[37m\u001b[1mINFO:spsdk.mboot.mcuboot:CMD: Status: 0 (0x0) Success.\u001b[39m\u001b[0m\n",
      "Response status = 0 (0x0) Success.\n",
      "Response word 1 = 1258424320 (0x4b020800)\n",
      "Current Version = K2.8.0\n",
      "\u001b[37m\u001b[1mINFO:spsdk.mboot.mcuboot:Closing: identifier='usb', device=USB COMPOSITE DEVICE (0x15A2, 0x0073)path=b'\\\\\\\\?\\\\hid#vid_15a2&pid_0073#9&1d63e617&0&0000#{4d1e55b2-f16f-11cf-88cb-001111000030}' sn=''\u001b[39m\u001b[0m\n"
     ]
    }
   ],
   "source": [
    "%! blhost $VERBOSITY $COMPAR $BLHOST_CONNECT_FLDR get-property 1"
   ]
  },
  {
   "cell_type": "markdown",
   "metadata": {},
   "source": [
    "**Check the enabled flashloader commands:**"
   ]
  },
  {
   "cell_type": "code",
   "execution_count": 18,
   "metadata": {},
   "outputs": [
    {
     "name": "stdout",
     "output_type": "stream",
     "text": [
      "blhost -u 0x15A2,0x0073 get-property 7 \n",
      "Response status = 0 (0x0) Success.\n",
      "Response word 1 = 25530335 (0x1858fdf)\n",
      "Available Commands = ['FlashEraseAll', 'FlashEraseRegion', 'ReadMemory', 'WriteMemory', 'FillMemory', 'GetProperty', 'ReceiveSBFile', 'Execute', 'Call', 'Reset', 'SetProperty', 'FlashReadResource', 'ConfigureMemory', 'GenerateKeyBlob', 'UpdateLifeCycle', 'EleMessage']\n"
     ]
    }
   ],
   "source": [
    "%! blhost $COMPAR $BLHOST_CONNECT_FLDR get-property 7"
   ]
  },
  {
   "cell_type": "markdown",
   "metadata": {},
   "source": [
    "\n",
    "## 3 Generate a blhost script for memory configuration using **nxpmemcfg**\n",
    "\n",
    "**Call `nxpmemcfg` or `nxpmemcfg --help` to get a list of options and sub-commands supported by `nxpmemcfg`**"
   ]
  },
  {
   "cell_type": "code",
   "execution_count": 7,
   "metadata": {
    "editable": true,
    "execute_cell": false,
    "slideshow": {
     "slide_type": ""
    },
    "tags": []
   },
   "outputs": [
    {
     "name": "stdout",
     "output_type": "stream",
     "text": [
      "nxpmemcfg \n",
      "Usage: nxpmemcfg [OPTIONS] COMMAND [ARGS]...\n",
      "\n",
      "  Collection of utilities for memory configuration operations.\n",
      "\n",
      "Options:\n",
      "  -v, --verbose  Print more detailed information\n",
      "  -vv, --debug   Display more debugging information.\n",
      "  --version      Show the version and exit.\n",
      "  --help         Show this message and exit.\n",
      "\n",
      "Commands:\n",
      "  nxpmemcfg          Collection of utilities for memory configuration operations.\n",
      "  ├── blhost-script  Export the configuration option words to blhost script.\n",
      "  ├── export         Export the configuration option words from configuration.\n",
      "  ├── family-info    List known memory configurations for the family.\n",
      "  ├── get-families   Shows the full families information for commands in this group.\n",
      "  ├── get-templates  Create template of Memory option words in YAML format.\n",
      "  └── parse          Parse the existing memory configuration option words.\n"
     ]
    }
   ],
   "source": [
    "%! nxpmemcfg"
   ]
  },
  {
   "cell_type": "markdown",
   "metadata": {
    "editable": true,
    "slideshow": {
     "slide_type": ""
    },
    "tags": []
   },
   "source": [
    "**Call `nxpmemcfg blhost-script` or `nxpmemcfg blhost-script --help` to get a list of options supported by `nxpmemcfg blhost-script`:**"
   ]
  },
  {
   "cell_type": "code",
   "execution_count": 5,
   "metadata": {
    "editable": true,
    "execute_cell": false,
    "slideshow": {
     "slide_type": ""
    },
    "tags": []
   },
   "outputs": [
    {
     "name": "stdout",
     "output_type": "stream",
     "text": [
      "nxpmemcfg blhost-script --help\n",
      "Usage: nxpmemcfg blhost-script [OPTIONS]\n",
      "\n",
      "  Export the configuration option words to blhost script.\n",
      "\n",
      "Options:\n",
      "  Known chip select. Alternative to known chip is YAML configuration '-c': [all_or_none]\n",
      "    -f, --family [lpc5502|lpc5504|lpc5506|lpc5512..., and more. Use 'get-families' command to show all.]\n",
      "                                  Select the chip family.\n",
      "    -p, --peripheral [flexspi_nor|xspi_nor|flexspi_nand|semc_nor|semc_nand|spi_nor|mmc|sd]\n",
      "                                  Choose the peripheral of the input option\n",
      "                                  words\n",
      "    -m, --memory-chip TEXT        Select supported memory chip name. Use\n",
      "                                  family-info command to get the known names.\n",
      "    -i, --interface TEXT          Select supported memory chip interface. Use\n",
      "                                  family-info command to get the known\n",
      "                                  interfaces.\n",
      "  -c, --config FILE               Option word configuration YAML file, in case\n",
      "                                  that known chip has not been used\n",
      "  -ix, --instance INTEGER         Instance of peripheral if applicable\n",
      "  --fcb PATH                      Optional filename of FCB block generated by\n",
      "                                  HW and read back to PC. Be aware that script\n",
      "                                  will contain also erase of 4KB on base\n",
      "                                  address.\n",
      "  --secure-addresses              If defined, the secure address will be used\n",
      "                                  in case of generating FCB block.\n",
      "  -o, --output FILE               Name of BLHOST script. If not specified, the\n",
      "                                  script will be printed to command line\n",
      "  --force                         Force overwriting of existing files.\n",
      "  --help                          Show this message and exit.\n"
     ]
    }
   ],
   "source": [
    "%! nxpmemcfg blhost-script --help"
   ]
  },
  {
   "cell_type": "markdown",
   "metadata": {},
   "source": [
    "**Call `nxpmemcfg family-info` to check the known memories and their default configurations:**"
   ]
  },
  {
   "cell_type": "code",
   "execution_count": 6,
   "metadata": {
    "editable": true,
    "scrolled": true,
    "slideshow": {
     "slide_type": ""
    },
    "tags": []
   },
   "outputs": [
    {
     "name": "stdout",
     "output_type": "stream",
     "text": [
      "nxpmemcfg family-info -f mimxrt1189\n",
      "List of all supported peripherals and its instances:\n",
      "╔═══╦════════════╦═════════════╦══════════╦══════════════╦══════════╦═══════════╦══════════════╦════════╦════════╗\n",
      "║ # ║   Family   ║ flexspi_nor ║ xspi_nor ║ flexspi_nand ║ semc_nor ║ semc_nand ║   spi_nor    ║  mmc   ║   sd   ║\n",
      "╠═══╬════════════╬═════════════╬══════════╬══════════════╬══════════╬═══════════╬══════════════╬════════╬════════╣\n",
      "║ \u001b[33m0\u001b[0m ║ \u001b[32mmimxrt1189\u001b[0m ║    \u001b[34m[1, 2]\u001b[0m   ║   \u001b[31mN/A\u001b[0m    ║    \u001b[34m[1, 2]\u001b[0m    ║   \u001b[34mYes\u001b[0m    ║    \u001b[34mYes\u001b[0m    ║ \u001b[34m[1, 2, 4, 5]\u001b[0m ║ \u001b[34m[1, 2]\u001b[0m ║ \u001b[34m[1, 2]\u001b[0m ║\n",
      "╚═══╩════════════╩═════════════╩══════════╩══════════════╩══════════╩═══════════╩══════════════╩════════╩════════╝\n",
      "List of all known memory configuration option words:\n",
      "╔════╦══════╦══════════════════════╦══════════════╦═════════════╦════════════════════════════════════╦════════╗\n",
      "║ #  ║ Type ║         Name         ║ Manufacturer ║  Interface  ║ Option words                       ║ Tested ║\n",
      "╠════╬══════╬══════════════════════╬══════════════╬═════════════╬════════════════════════════════════╬════════╣\n",
      "║ \u001b[33m0\u001b[0m  ║ \u001b[32mnor\u001b[0m  ║      \u001b[37mW25QxxxJV\u001b[0m       ║   \u001b[37mWinbond\u001b[0m    ║   \u001b[36mquad_spi\u001b[0m  ║ \u001b[34mOpt0: 0xC0000207\u001b[0m                   ║        ║\n",
      "║ \u001b[33m1\u001b[0m  ║ \u001b[32mnor\u001b[0m  ║       \u001b[37mW35T51NW\u001b[0m       ║   \u001b[37mWinbond\u001b[0m    ║  \u001b[36moctal_spi\u001b[0m  ║ \u001b[34mOpt0: 0xC0603005\u001b[0m                   ║        ║\n",
      "║ \u001b[33m2\u001b[0m  ║ \u001b[32mnor\u001b[0m  ║     \u001b[37mMX25Uxxx32F\u001b[0m      ║   \u001b[37mMacronix\u001b[0m   ║   \u001b[36mquad_spi\u001b[0m  ║ \u001b[34mOpt0: 0xC0000007\u001b[0m                   ║   \u001b[34m*\u001b[0m    ║\n",
      "║ \u001b[33m3\u001b[0m  ║ \u001b[32mnor\u001b[0m  ║     \u001b[37mMX25Lxxx45G\u001b[0m      ║   \u001b[37mMacronix\u001b[0m   ║   \u001b[36mquad_spi\u001b[0m  ║ \u001b[34mOpt0: 0xC0000007\u001b[0m                   ║   \u001b[34m*\u001b[0m    ║\n",
      "║ \u001b[33m4\u001b[0m  ║ \u001b[32mnor\u001b[0m  ║     \u001b[37mMX25UMxxx45G\u001b[0m     ║   \u001b[37mMacronix\u001b[0m   ║  \u001b[36moctal_spi\u001b[0m  ║ \u001b[34mOpt0: 0xC0403037\u001b[0m                   ║        ║\n",
      "║ \u001b[33m5\u001b[0m  ║ \u001b[32mnor\u001b[0m  ║     \u001b[37mMX66UMxxx45G\u001b[0m     ║   \u001b[37mMacronix\u001b[0m   ║  \u001b[36moctal_spi\u001b[0m  ║ \u001b[34mOpt0: 0xC0403037\u001b[0m                   ║        ║\n",
      "║ \u001b[33m6\u001b[0m  ║ \u001b[32mnor\u001b[0m  ║     \u001b[37mMX25LMxxx45G\u001b[0m     ║   \u001b[37mMacronix\u001b[0m   ║  \u001b[36moctal_spi\u001b[0m  ║ \u001b[34mOpt0: 0xC0403037\u001b[0m                   ║        ║\n",
      "║ \u001b[33m7\u001b[0m  ║ \u001b[32mnor\u001b[0m  ║     \u001b[37mMX25UM51345G\u001b[0m     ║   \u001b[37mMacronix\u001b[0m   ║  \u001b[36moctal_spi\u001b[0m  ║ \u001b[34mOpt0: 0xC0403037\u001b[0m                   ║        ║\n",
      "║ \u001b[33m8\u001b[0m  ║ \u001b[32mnor\u001b[0m  ║   \u001b[37mMX25UM51345G_2nd\u001b[0m   ║   \u001b[37mMacronix\u001b[0m   ║  \u001b[36moctal_spi\u001b[0m  ║ \u001b[34mOpt0: 0xC1503051, Opt1: 0x20000014\u001b[0m ║        ║\n",
      "║ \u001b[33m9\u001b[0m  ║ \u001b[32mnor\u001b[0m  ║      \u001b[37mGD25QxxxC\u001b[0m       ║  \u001b[37mGigaDevice\u001b[0m  ║   \u001b[36mquad_spi\u001b[0m  ║ \u001b[34mOpt0: 0xC0000406\u001b[0m                   ║        ║\n",
      "║ \u001b[33m10\u001b[0m ║ \u001b[32mnor\u001b[0m  ║      \u001b[37mGD25LBxxxE\u001b[0m      ║  \u001b[37mGigaDevice\u001b[0m  ║   \u001b[36mquad_spi\u001b[0m  ║ \u001b[34mOpt0: 0xC0000007\u001b[0m                   ║        ║\n",
      "║ \u001b[33m11\u001b[0m ║ \u001b[32mnor\u001b[0m  ║      \u001b[37mGD25LTxxxE\u001b[0m      ║  \u001b[37mGigaDevice\u001b[0m  ║   \u001b[36mquad_spi\u001b[0m  ║ \u001b[34mOpt0: 0xC0000008\u001b[0m                   ║        ║\n",
      "║ \u001b[33m12\u001b[0m ║ \u001b[32mnor\u001b[0m  ║      \u001b[37mGD25LXxxxE\u001b[0m      ║  \u001b[37mGigaDevice\u001b[0m  ║   \u001b[36mquad_spi\u001b[0m  ║ \u001b[34mOpt0: 0xC0603008\u001b[0m                   ║        ║\n",
      "║ \u001b[33m13\u001b[0m ║ \u001b[32mnor\u001b[0m  ║      \u001b[37mIS25LPxxxA\u001b[0m      ║     \u001b[37mISSI\u001b[0m     ║   \u001b[36mquad_spi\u001b[0m  ║ \u001b[34mOpt0: 0xC0000007\u001b[0m                   ║        ║\n",
      "║ \u001b[33m14\u001b[0m ║ \u001b[32mnor\u001b[0m  ║      \u001b[37mIS25WPxxxA\u001b[0m      ║     \u001b[37mISSI\u001b[0m     ║   \u001b[36mquad_spi\u001b[0m  ║ \u001b[34mOpt0: 0xC0000007\u001b[0m                   ║        ║\n",
      "║ \u001b[33m15\u001b[0m ║ \u001b[32mnor\u001b[0m  ║      \u001b[37mIS25LXxxx\u001b[0m       ║     \u001b[37mISSI\u001b[0m     ║  \u001b[36moctal_spi\u001b[0m  ║ \u001b[34mOpt0: 0xC0603005\u001b[0m                   ║        ║\n",
      "║ \u001b[33m16\u001b[0m ║ \u001b[32mnor\u001b[0m  ║      \u001b[37mIS25WXxxx\u001b[0m       ║     \u001b[37mISSI\u001b[0m     ║  \u001b[36moctal_spi\u001b[0m  ║ \u001b[34mOpt0: 0xC0603005\u001b[0m                   ║        ║\n",
      "║ \u001b[33m17\u001b[0m ║ \u001b[32mnor\u001b[0m  ║      \u001b[37mIS26KSxxxS\u001b[0m      ║     \u001b[37mISSI\u001b[0m     ║ \u001b[36mhyper_flash\u001b[0m ║ \u001b[34mOpt0: 0xC0233007\u001b[0m                   ║        ║\n",
      "║ \u001b[33m18\u001b[0m ║ \u001b[32mnor\u001b[0m  ║      \u001b[37mIS26KLxxxS\u001b[0m      ║     \u001b[37mISSI\u001b[0m     ║ \u001b[36mhyper_flash\u001b[0m ║ \u001b[34mOpt0: 0xC0233007\u001b[0m                   ║        ║\n",
      "║ \u001b[33m19\u001b[0m ║ \u001b[32mnor\u001b[0m  ║      \u001b[37mMT25QLxxxA\u001b[0m      ║    \u001b[37mMicron\u001b[0m    ║   \u001b[36mquad_spi\u001b[0m  ║ \u001b[34mOpt0: 0xC0000007\u001b[0m                   ║        ║\n",
      "║ \u001b[33m20\u001b[0m ║ \u001b[32mnor\u001b[0m  ║ \u001b[37mRW303-MT35XUxxxABA1G\u001b[0m ║    \u001b[37mMicron\u001b[0m    ║  \u001b[36moctal_spi\u001b[0m  ║ \u001b[34mOpt0: 0xC0603005\u001b[0m                   ║        ║\n",
      "║ \u001b[33m21\u001b[0m ║ \u001b[32mnor\u001b[0m  ║ \u001b[37mRW304-MT35XUxxxABA2G\u001b[0m ║    \u001b[37mMicron\u001b[0m    ║  \u001b[36moctal_spi\u001b[0m  ║ \u001b[34mOpt0: 0xC0633005\u001b[0m                   ║        ║\n",
      "║ \u001b[33m22\u001b[0m ║ \u001b[32mnor\u001b[0m  ║     \u001b[37mMT28EW128ABA\u001b[0m     ║    \u001b[37mMicron\u001b[0m    ║   \u001b[36mparallel\u001b[0m  ║ \u001b[34mOpt0: 0xD0000600\u001b[0m                   ║        ║\n",
      "║ \u001b[33m23\u001b[0m ║ \u001b[32mnor\u001b[0m  ║     \u001b[37mMT28UG128ABA\u001b[0m     ║    \u001b[37mMicron\u001b[0m    ║   \u001b[36mparallel\u001b[0m  ║ \u001b[34mOpt0: 0xD0000601\u001b[0m                   ║        ║\n",
      "║ \u001b[33m24\u001b[0m ║ \u001b[32mnor\u001b[0m  ║      \u001b[37mAT25SFxxxA\u001b[0m      ║    \u001b[37mAdesto\u001b[0m    ║   \u001b[36mquad_spi\u001b[0m  ║ \u001b[34mOpt0: 0xC0000007\u001b[0m                   ║        ║\n",
      "║ \u001b[33m25\u001b[0m ║ \u001b[32mnor\u001b[0m  ║       \u001b[37mATXPxxx\u001b[0m        ║    \u001b[37mAdesto\u001b[0m    ║  \u001b[36moctal_spi\u001b[0m  ║ \u001b[34mOpt0: 0xC0803007\u001b[0m                   ║        ║\n",
      "║ \u001b[33m26\u001b[0m ║ \u001b[32mnor\u001b[0m  ║      \u001b[37mS25FSxxxS\u001b[0m       ║   \u001b[37mCypress\u001b[0m    ║   \u001b[36mquad_spi\u001b[0m  ║ \u001b[34mOpt0: 0xC0000007\u001b[0m                   ║        ║\n",
      "║ \u001b[33m27\u001b[0m ║ \u001b[32mnor\u001b[0m  ║      \u001b[37mS25FLxxxS\u001b[0m       ║   \u001b[37mCypress\u001b[0m    ║   \u001b[36mquad_spi\u001b[0m  ║ \u001b[34mOpt0: 0xC0000007\u001b[0m                   ║        ║\n",
      "║ \u001b[33m28\u001b[0m ║ \u001b[32mnor\u001b[0m  ║      \u001b[37mS26KSxxxS\u001b[0m       ║   \u001b[37mCypress\u001b[0m    ║ \u001b[36mhyper_flash\u001b[0m ║ \u001b[34mOpt0: 0xC0233007\u001b[0m                   ║        ║\n",
      "║ \u001b[33m29\u001b[0m ║ \u001b[32mnor\u001b[0m  ║      \u001b[37mS26KLxxxS\u001b[0m       ║   \u001b[37mCypress\u001b[0m    ║ \u001b[36mhyper_flash\u001b[0m ║ \u001b[34mOpt0: 0xC0233007\u001b[0m                   ║        ║\n",
      "║ \u001b[33m30\u001b[0m ║ \u001b[32mnor\u001b[0m  ║     \u001b[37mSST26VFxxxB\u001b[0m      ║  \u001b[37mMicrochip\u001b[0m   ║   \u001b[36mquad_spi\u001b[0m  ║ \u001b[34mOpt0: 0xC0000005\u001b[0m                   ║        ║\n",
      "║ \u001b[33m31\u001b[0m ║ \u001b[32mnor\u001b[0m  ║       \u001b[37mFM25Qxxx\u001b[0m       ║  \u001b[37mFudanMicro\u001b[0m  ║   \u001b[36mquad_spi\u001b[0m  ║ \u001b[34mOpt0: 0xC0000205\u001b[0m                   ║        ║\n",
      "║ \u001b[33m32\u001b[0m ║ \u001b[32mnor\u001b[0m  ║      \u001b[37mBY25QxxxBS\u001b[0m      ║  \u001b[37mBoyaMicro\u001b[0m   ║   \u001b[36mquad_spi\u001b[0m  ║ \u001b[34mOpt0: 0xC0000405\u001b[0m                   ║        ║\n",
      "║ \u001b[33m33\u001b[0m ║ \u001b[32mnor\u001b[0m  ║      \u001b[37mXM25QHxxxB\u001b[0m      ║     \u001b[37mXMC\u001b[0m      ║   \u001b[36mquad_spi\u001b[0m  ║ \u001b[34mOpt0: 0xC0000007\u001b[0m                   ║        ║\n",
      "║ \u001b[33m34\u001b[0m ║ \u001b[32mnor\u001b[0m  ║      \u001b[37mXM25QUxxxB\u001b[0m      ║     \u001b[37mXMC\u001b[0m      ║   \u001b[36mquad_spi\u001b[0m  ║ \u001b[34mOpt0: 0xC0000007\u001b[0m                   ║        ║\n",
      "║ \u001b[33m35\u001b[0m ║ \u001b[32mnor\u001b[0m  ║       \u001b[37mX25FxxxB\u001b[0m       ║   \u001b[37mXTXtech\u001b[0m    ║   \u001b[36mquad_spi\u001b[0m  ║ \u001b[34mOpt0: 0xC0000407\u001b[0m                   ║        ║\n",
      "║ \u001b[33m36\u001b[0m ║ \u001b[32mnor\u001b[0m  ║       \u001b[37mX25QxxxD\u001b[0m       ║   \u001b[37mXTXtech\u001b[0m    ║   \u001b[36mquad_spi\u001b[0m  ║ \u001b[34mOpt0: 0xC0000407\u001b[0m                   ║        ║\n",
      "║ \u001b[33m37\u001b[0m ║ \u001b[32mnor\u001b[0m  ║      \u001b[37mP25QxxxLE\u001b[0m       ║     \u001b[37mPuya\u001b[0m     ║   \u001b[36mquad_spi\u001b[0m  ║ \u001b[34mOpt0: 0xC0000405\u001b[0m                   ║        ║\n",
      "║ \u001b[33m38\u001b[0m ║ \u001b[32mnor\u001b[0m  ║       \u001b[37mP25QxxxH\u001b[0m       ║     \u001b[37mPuya\u001b[0m     ║   \u001b[36mquad_spi\u001b[0m  ║ \u001b[34mOpt0: 0xC0000405\u001b[0m                   ║        ║\n",
      "║ \u001b[33m39\u001b[0m ║ \u001b[32mnor\u001b[0m  ║       \u001b[37mP25QxxxU\u001b[0m       ║     \u001b[37mPuya\u001b[0m     ║   \u001b[36mquad_spi\u001b[0m  ║ \u001b[34mOpt0: 0xC0000405\u001b[0m                   ║        ║\n",
      "║ \u001b[33m40\u001b[0m ║ \u001b[32mnor\u001b[0m  ║       \u001b[37mA25LQxxx\u001b[0m       ║     \u001b[37mAMIC\u001b[0m     ║   \u001b[36mquad_spi\u001b[0m  ║ \u001b[34mOpt0: 0xC0000105\u001b[0m                   ║        ║\n",
      "╚════╩══════╩══════════════════════╩══════════════╩═════════════╩════════════════════════════════════╩════════╝\n",
      "║ \u001b[33m41\u001b[0m ║ \u001b[32mnand\u001b[0m ║       \u001b[37mW25N01G\u001b[0m        ║   \u001b[37mWinbond\u001b[0m    ║   \u001b[36mquad_spi\u001b[0m  ║ \u001b[34mOpt0: 0xC1010026, Opt1: 0x000000EF\u001b[0m ║        ║\n",
      "║ \u001b[33m42\u001b[0m ║ \u001b[32mnand\u001b[0m ║       \u001b[37mW25N02K\u001b[0m        ║   \u001b[37mWinbond\u001b[0m    ║   \u001b[36mquad_spi\u001b[0m  ║ \u001b[34mOpt0: 0xC1020026, Opt1: 0x000000EF\u001b[0m ║        ║\n",
      "║ \u001b[33m43\u001b[0m ║ \u001b[32mnand\u001b[0m ║       \u001b[37mMX35UF1G\u001b[0m       ║   \u001b[37mMacronix\u001b[0m   ║   \u001b[36mquad_spi\u001b[0m  ║ \u001b[34mOpt0: 0xC1010026, Opt1: 0x000000C2\u001b[0m ║        ║\n",
      "║ \u001b[33m44\u001b[0m ║ \u001b[32mnand\u001b[0m ║       \u001b[37mMX35LF1G\u001b[0m       ║   \u001b[37mMacronix\u001b[0m   ║   \u001b[36mquad_spi\u001b[0m  ║ \u001b[34mOpt0: 0xC1010026, Opt1: 0x000000C2\u001b[0m ║        ║\n",
      "║ \u001b[33m45\u001b[0m ║ \u001b[32mnand\u001b[0m ║       \u001b[37mMX35UF2G\u001b[0m       ║   \u001b[37mMacronix\u001b[0m   ║   \u001b[36mquad_spi\u001b[0m  ║ \u001b[34mOpt0: 0xC1020026, Opt1: 0x000000C2\u001b[0m ║        ║\n",
      "║ \u001b[33m46\u001b[0m ║ \u001b[32mnand\u001b[0m ║       \u001b[37mMX35LF2G\u001b[0m       ║   \u001b[37mMacronix\u001b[0m   ║   \u001b[36mquad_spi\u001b[0m  ║ \u001b[34mOpt0: 0xC1020026, Opt1: 0x000000C2\u001b[0m ║        ║\n",
      "║ \u001b[33m47\u001b[0m ║ \u001b[32mnand\u001b[0m ║       \u001b[37mGD5F1GQ5\u001b[0m       ║  \u001b[37mGigaDevice\u001b[0m  ║   \u001b[36mquad_spi\u001b[0m  ║ \u001b[34mOpt0: 0xC1010026, Opt1: 0x000000C8\u001b[0m ║        ║\n",
      "║ \u001b[33m48\u001b[0m ║ \u001b[32mnand\u001b[0m ║       \u001b[37mGD5F2GQ5\u001b[0m       ║  \u001b[37mGigaDevice\u001b[0m  ║   \u001b[36mquad_spi\u001b[0m  ║ \u001b[34mOpt0: 0xC1020026, Opt1: 0x000000C8\u001b[0m ║        ║\n",
      "║ \u001b[33m49\u001b[0m ║ \u001b[32mnand\u001b[0m ║     \u001b[37mMT29F1G01AA\u001b[0m      ║    \u001b[37mMicron\u001b[0m    ║   \u001b[36mquad_spi\u001b[0m  ║ \u001b[34mOpt0: 0xC1011022, Opt1: 0x0000002C\u001b[0m ║        ║\n",
      "║ \u001b[33m50\u001b[0m ║ \u001b[32mnand\u001b[0m ║     \u001b[37mMT29F2G01AA\u001b[0m      ║    \u001b[37mMicron\u001b[0m    ║   \u001b[36mquad_spi\u001b[0m  ║ \u001b[34mOpt0: 0xC1021022, Opt1: 0x0000002C\u001b[0m ║        ║\n",
      "║ \u001b[33m51\u001b[0m ║ \u001b[32mnand\u001b[0m ║       \u001b[37mPN26Q01A\u001b[0m       ║   \u001b[37mParagon\u001b[0m    ║   \u001b[36mquad_spi\u001b[0m  ║ \u001b[34mOpt0: 0xC1010026, Opt1: 0x000000A1\u001b[0m ║        ║\n",
      "║ \u001b[33m52\u001b[0m ║ \u001b[32mnand\u001b[0m ║       \u001b[37mPN26G01A\u001b[0m       ║   \u001b[37mParagon\u001b[0m    ║   \u001b[36mquad_spi\u001b[0m  ║ \u001b[34mOpt0: 0xC1010026, Opt1: 0x000000A1\u001b[0m ║        ║\n",
      "║ \u001b[33m53\u001b[0m ║ \u001b[32mnand\u001b[0m ║       \u001b[37mPN26Q02A\u001b[0m       ║   \u001b[37mParagon\u001b[0m    ║   \u001b[36mquad_spi\u001b[0m  ║ \u001b[34mOpt0: 0xC1020026, Opt1: 0x000000A1\u001b[0m ║        ║\n",
      "║ \u001b[33m54\u001b[0m ║ \u001b[32mnand\u001b[0m ║       \u001b[37mPN26G02A\u001b[0m       ║   \u001b[37mParagon\u001b[0m    ║   \u001b[36mquad_spi\u001b[0m  ║ \u001b[34mOpt0: 0xC1020026, Opt1: 0x000000A1\u001b[0m ║        ║\n",
      "╚════╩══════╩══════════════════════╩══════════════╩═════════════╩════════════════════════════════════╩════════╝\n",
      "║ \u001b[33m55\u001b[0m ║  \u001b[32msd\u001b[0m  ║      \u001b[37m1bit_sdr12\u001b[0m      ║   \u001b[37mGeneral\u001b[0m    ║  \u001b[36minstance_0\u001b[0m ║ \u001b[34mOpt0: 0xD0000000\u001b[0m                   ║        ║\n",
      "║ \u001b[33m56\u001b[0m ║  \u001b[32msd\u001b[0m  ║      \u001b[37m1bit_sdr12\u001b[0m      ║   \u001b[37mGeneral\u001b[0m    ║  \u001b[36minstance_1\u001b[0m ║ \u001b[34mOpt0: 0xD0000001\u001b[0m                   ║        ║\n",
      "║ \u001b[33m57\u001b[0m ║  \u001b[32msd\u001b[0m  ║      \u001b[37m1bit_sdr12\u001b[0m      ║   \u001b[37mGeneral\u001b[0m    ║  \u001b[36minstance_2\u001b[0m ║ \u001b[34mOpt0: 0xD0000002\u001b[0m                   ║        ║\n",
      "║ \u001b[33m58\u001b[0m ║  \u001b[32msd\u001b[0m  ║      \u001b[37m1bit_sdr12\u001b[0m      ║   \u001b[37mGeneral\u001b[0m    ║  \u001b[36minstance_3\u001b[0m ║ \u001b[34mOpt0: 0xD0000003\u001b[0m                   ║        ║\n",
      "╚════╩══════╩══════════════════════╩══════════════╩═════════════╩════════════════════════════════════╩════════╝\n",
      "\u001b[0m\n"
     ]
    }
   ],
   "source": [
    "%! nxpmemcfg family-info -f mimxrt1189"
   ]
  },
  {
   "cell_type": "markdown",
   "metadata": {},
   "source": [
    "**Since we're using the EVK, we are interested in the default FlexSPI NOR from Winbond on interface index 1:**\n",
    "\n",
    "```\n",
    "╔════╦══════════╦═════════════╦══════════════╦══════════╦═══════════╦════════════════════╦════════╦════════╗\n",
    "║ #  ║  Family  ║ flexspi_nor ║ flexspi_nand ║ semc_nor ║ semc_nand ║      spi_nor       ║  mmc   ║   sd   ║\n",
    "╠════╬══════════╬═════════════╬══════════════╬══════════╬═══════════╬════════════════════╬════════╬════════║\n",
    "║ 15 ║  rt118x  ║    [1, 2]   ║    [1, 2]    ║   Yes    ║    Yes    ║ [0, 1, 2, 3, 4, 5] ║ [0, 1] ║ [0, 1] ║\n",
    "╚════╩══════════╩═════════════╩══════════════╩══════════╩═══════════╩════════════════════╩════════╩════════╝\n",
    "\n",
    "╔════╦══════════════╦══════════════╦══════════════════════╦═════════════╦════════════════════════════════════╗\n",
    "║ #  ║  Peripheral  ║ Manufacturer ║         Name         ║  Interface  ║ Option words                       ║\n",
    "╠════╬══════════════╬══════════════╬══════════════════════╬═════════════╬════════════════════════════════════╣\n",
    "║ 0  ║ flexspi_nor  ║   Winbond    ║      W25QxxxJV       ║   quad_spi  ║ Opt0: 0xC0000207                   ║\n",
    "╚════╩══════════════╩══════════════╩══════════════════════╩═════════════╩════════════════════════════════════╝\n",
    "```"
   ]
  },
  {
   "cell_type": "markdown",
   "metadata": {},
   "source": [
    "**Note that if you use this approach, you will configure your memory with the default option words shown in the table.**\n",
    "\n",
    "Now we can set the options according to the table:\n",
    "- f: device family => **mimxrt1189**\n",
    "- m: memory chip => **W25QxxxJV**\n",
    "- i: memory interface => **quad_spi**\n",
    "- ix: peripheral instance index => **1**"
   ]
  },
  {
   "cell_type": "code",
   "execution_count": 19,
   "metadata": {},
   "outputs": [
    {
     "name": "stdout",
     "output_type": "stream",
     "text": [
      "nxpmemcfg blhost-script -f mimxrt1189 -m W25QxxxJV -p flexspi_nor -i quad_spi -ix 1 -o workspace/config_mem.bls --force --fcb workspace/fcb.bin \n",
      "Loaded option words: Opt0: 0xC0000007\n",
      "\u001b[33mWARNING:spsdk.memcfg.memcfg:FCB block read back script has been generated. Be aware that s 4KB block at base address will be erased to avoid cumulative write! (355ms since start, memcfg.py:434)\u001b[39m\n",
      "Exported blhost script.\n"
     ]
    }
   ],
   "source": [
    "%! nxpmemcfg blhost-script -f mimxrt1189 -m W25QxxxJV -p flexspi_nor -i quad_spi -ix 1 -o $CFG_MEM_FILE --force --fcb $FCB_FILE\n",
    "\n",
    "assert os.path.exists(CFG_MEM_FILE)"
   ]
  },
  {
   "cell_type": "markdown",
   "metadata": {},
   "source": [
    "#### Let's look inside the blhost-script:\n",
    "```\n",
    "# BLHOST configure memory programming script\n",
    "# Generated by SPSDK NXPMEMCFG tool\n",
    "# Chip: mimxrt1189\n",
    "# Peripheral: flexspi_nor\n",
    "# Instance: 1\n",
    "\n",
    "# Switch the instance of the peripheral to 1:\n",
    "fill-memory 0x1FFE0000 4 0xCF900001\n",
    "configure-memory 9 0x1FFE0000\n",
    "\n",
    "# Configure memory:\n",
    "# Option word 0: 0xC0000207\n",
    "fill-memory 0x1FFE0000 4 0xC0000207\n",
    "configure-memory 9 0x1FFE0000\n",
    "\n",
    "# Script to erase FCB location, create FCB and read back a FCB block:\n",
    "flash-erase-region 0x28000000 0x1000\n",
    "fill-memory 0x1FFE0000 4 0xF000000F\n",
    "configure-memory 9 0x1FFE0000\n",
    "read-memory 0x28000400 0x200 workspace/fcb.bin\n",
    "\n",
    "```"
   ]
  },
  {
   "cell_type": "markdown",
   "metadata": {},
   "source": [
    "---\n",
    "## 4. Execute the blhost script\n",
    "\n",
    "The blhost script is used to configure the memory controller and initialize the external memory on the i.MX RT1180 EVK board. The script utilizes the NXP MCU Bootloader Host (blhost) tool to communicate with the target device over a serial or USB connection. Due to request to get FCB block, the script will erase the first memory block, generate a new FCB by BLHOST command and read back the FCB block to file."
   ]
  },
  {
   "cell_type": "code",
   "execution_count": 20,
   "metadata": {
    "execute_cell": false
   },
   "outputs": [
    {
     "name": "stdout",
     "output_type": "stream",
     "text": [
      "blhost -u 0x15A2,0x0073 batch workspace/config_mem.bls \n",
      "Response status = 0 (0x0) Success.\n",
      "Response status = 0 (0x0) Success.\n",
      "Response status = 0 (0x0) Success.\n",
      "Response status = 0 (0x0) Success.\n",
      "Response status = 0 (0x0) Success.\n",
      "Response status = 0 (0x0) Success.\n",
      "Response status = 0 (0x0) Success.\n",
      "Reading memory\n",
      "Response status = 0 (0x0) Success.\n",
      "Response word 1 = 512 (0x200)\n",
      "Read 512 of 512 bytes.\n"
     ]
    }
   ],
   "source": [
    "# The board must be in SDP mode\n",
    "# Configure Boot Mode Switch to : 1/2/3-OFF, 4-ON\n",
    "# Connect micro USB cable into USB OTG1         - J33\n",
    "# Connect micro USB cable into Debug USB Port   - J53\n",
    "\n",
    "# FLASHLOADER_FILE = \"../flashloader/ahab/workspace/flashloader.bin\"  # Path to Flashloader\n",
    "# CFG_MEM_FILE = WORKSPACE + \"config_mem.bls\"                         # Configure memory template\n",
    "# FCB_FILE = WORKSPACE + \"fcb.bin\"                                    # Firmware Configuration block file\n",
    "\n",
    "# COMPAR = \"-u\"                          # USB\n",
    "# BLHOST_CONNECT_ROM = \"0x1fc9,0x014c\"   # PID/VID of ROM\n",
    "# BLHOST_CONNECT_FLDR = \"0x15A2,0x0073\"  # PID/VID of NXP Flashloader\n",
    "\n",
    "# Execute the commands generated by \"blhost-script\". This script will configure flash,\n",
    "# program FCB into the external memory and reads back the binary data. Be aware tha erase of the first sector must be done.\n",
    "# The script can be executed only once to read FCB.\n",
    "%! blhost $COMPAR $BLHOST_CONNECT_FLDR batch $CFG_MEM_FILE"
   ]
  },
  {
   "cell_type": "markdown",
   "metadata": {},
   "source": [
    "---\n",
    "## 5. Create a non-default memory configuration\n",
    "\n",
    "The `nxpmemcfg get-templates` sub-command generates YAML configuration templates that serve as a starting point for customization. These templates can be easily modified to meet specific memory configuration requirements for the MIMXRT1189 microcontroller."
   ]
  },
  {
   "cell_type": "code",
   "execution_count": 12,
   "metadata": {
    "execute_cell": false
   },
   "outputs": [
    {
     "name": "stdout",
     "output_type": "stream",
     "text": [
      "nxpmemcfg get-templates \n",
      "Usage: nxpmemcfg get-templates [OPTIONS]\n",
      "\n",
      "  Create template of Memory option words in YAML format.\n",
      "\n",
      "Options:\n",
      "  -f, --family [lpc5502|lpc5504|lpc5506|lpc5512..., and more. Use 'get-families' command to show all.]\n",
      "                                  Select the chip family.\n",
      "  -o, --output DIRECTORY          Path to a directory, where to store\n",
      "                                  generated/parsed files.  [required]\n",
      "  --force                         Force overwriting of existing files.\n",
      "  --help                          Show this message and exit.\n"
     ]
    }
   ],
   "source": [
    "%! nxpmemcfg get-templates"
   ]
  },
  {
   "cell_type": "markdown",
   "metadata": {},
   "source": [
    "### 5.1 Let's inspect the **flexspi_nor** template\n",
    "\n",
    "Let's examine the **flexspi_nor** template. When inspecting this template, it's important to note that the 'each' value can be modified using the options provided in the comments. Additionally, if a configuration line is removed, the default value will be automatically applied. These features provide flexibility in customization while ensuring that the configuration remains functional by falling back to default values when necessary."
   ]
  },
  {
   "cell_type": "code",
   "execution_count": 3,
   "metadata": {},
   "outputs": [
    {
     "name": "stdout",
     "output_type": "stream",
     "text": [
      "nxpmemcfg get-templates -f mimxrt1189 -o workspace/cfg_opt_templates/ --force\n",
      "The Memory Configuration template for mimxrt1189 has been saved into workspace/cfg_opt_templates YAML file\n",
      "The Memory Configuration template for mimxrt1189 has been saved into workspace/cfg_opt_templates YAML file\n",
      "The Memory Configuration template for mimxrt1189 has been saved into workspace/cfg_opt_templates YAML file\n",
      "The Memory Configuration template for mimxrt1189 has been saved into workspace/cfg_opt_templates YAML file\n",
      "The Memory Configuration template for mimxrt1189 has been saved into workspace/cfg_opt_templates YAML file\n",
      "The Memory Configuration template for mimxrt1189 has been saved into workspace/cfg_opt_templates YAML file\n",
      "The Memory Configuration template for mimxrt1189 has been saved into workspace/cfg_opt_templates YAML file\n"
     ]
    },
    {
     "data": {
      "text/html": [
       "\n",
       "        \n",
       "        <style>\n",
       "            .yaml-diff { font-family: monospace; background-color: #f0f0f0; padding: 1em; border: 1px solid #c0c0c0; }\n",
       "            .yaml-key { color: #0000CC; font-weight: bold; }\n",
       "            .yaml-value { color: #006600; }\n",
       "            .yaml-commented-line { color: #008800; }\n",
       "            .yaml-list-item { color: #660066; }\n",
       "            .diff-removed { background-color: #ffaaaa; }\n",
       "            .diff-added { background-color: #aaffaa; }\n",
       "            .yaml-comment {\n",
       "                background-color: #FF8C00;\n",
       "                color: #000000;\n",
       "                border-radius: 50%;\n",
       "                padding: 0 0.3em;\n",
       "                margin-left: 0.5em;\n",
       "                font-size: 0.8em;\n",
       "                cursor: help;\n",
       "                font-weight: bold;\n",
       "                text-shadow: 1px 1px 1px rgba(255, 255, 255, 0.7);\n",
       "            }\n",
       "            #toggleButton_a8c90006399a26d9ff57557d17cb383d {\n",
       "                background-color: #4CAF50;\n",
       "                border: none;\n",
       "                color: white;\n",
       "                padding: 10px 20px;\n",
       "                text-align: center;\n",
       "                text-decoration: none;\n",
       "                display: inline-block;\n",
       "                font-size: 16px;\n",
       "                margin: 4px 2px;\n",
       "                cursor: pointer;\n",
       "            }\n",
       "        </style>\n",
       "        \n",
       "        \n",
       "        <script>\n",
       "        function toggleView_a8c90006399a26d9ff57557d17cb383d() {\n",
       "            var diffView = document.getElementById('diffView_a8c90006399a26d9ff57557d17cb383d');\n",
       "            var userConfigView = document.getElementById('userConfigView_a8c90006399a26d9ff57557d17cb383d');\n",
       "            var button = document.getElementById('toggleButton_a8c90006399a26d9ff57557d17cb383d');\n",
       "\n",
       "            if (diffView.style.display === 'none' && userConfigView.style.display === 'none') {\n",
       "                diffView.style.display = 'block';\n",
       "                userConfigView.style.display = 'none';\n",
       "                button.textContent = 'Show User Config';\n",
       "            } else if (diffView.style.display === 'block') {\n",
       "                diffView.style.display = 'none';\n",
       "                userConfigView.style.display = 'block';\n",
       "                button.textContent = 'Hide';\n",
       "            } else {\n",
       "                diffView.style.display = 'none';\n",
       "                userConfigView.style.display = 'none';\n",
       "                button.textContent = 'Show Diff';\n",
       "            }\n",
       "        }\n",
       "        </script>\n",
       "        \n",
       "        <div class=\"yaml-diff-container\">\n",
       "          <h3>Configuration Differences</h3>\n",
       "          <button onclick=\"toggleView_a8c90006399a26d9ff57557d17cb383d()\" id=\"toggleButton_a8c90006399a26d9ff57557d17cb383d\">Show Diff</button>\n",
       "          \n",
       "        <a href=\"data:text/plain;base64,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\" download=\"user_config.yaml\">\n",
       "            <button style=\"background-color: #4CAF50; border: none; color: white; padding: 10px 20px; text-align: center; text-decoration: none; display: inline-block; font-size: 16px; margin: 4px 2px; cursor: pointer;\">\n",
       "                Download Config\n",
       "            </button>\n",
       "        </a>\n",
       "        \n",
       "          <div id=\"diffView_a8c90006399a26d9ff57557d17cb383d\" class=\"yaml-diff\" style=\"display:none;\"><pre class=\"yaml-diff\"><span class=\"yaml-commented-line\"># =========================  Option Words Configuration template for mimxrt1189, flexspi_nor.  =========================</span><br><br><br><span class=\"yaml-commented-line\"># -------------------------------------------------------- Note --------------------------------------------------------</span><br><span class=\"yaml-commented-line\"># Note for settings:</span><br><span class=\"yaml-commented-line\"># All registers is possible to define also as one value although the bitfields are used. Instead of bitfields: ...</span><br><span class=\"yaml-commented-line\"># field, the value: ... definition works as well.</span><br><span class=\"yaml-commented-line\"># ======================================================================================================================</span><br><span class=\"yaml-commented-line\">#                                                 == General Options ==                                                 </span><br><span class=\"yaml-commented-line\"># ======================================================================================================================</span><br><span class=\"yaml-commented-line\"># -------------------------------------===== The chip family name [Required] =====--------------------------------------</span><br><span class=\"yaml-commented-line\"># Description: NXP chip family identifier.</span><br><span class=\"yaml-commented-line\"># Possible options: <lpc5502, lpc5504, lpc5506, lpc5512, lpc5514, lpc5516, lpc5526, lpc5528, lpc55s04, lpc55s06,</span><br><span class=\"yaml-commented-line\"># lpc55s14, lpc55s16, lpc55s26, lpc55s28, lpc55s36, lpc55s66, lpc55s69, mcxn235, mcxn236, mimxrt1010, mimxrt1015,</span><br><span class=\"yaml-commented-line\"># mimxrt1020, mimxrt1024, mimxrt1040, mimxrt1050, mimxrt1060, mimxrt1064, mimxrt1165, mimxrt1166, mimxrt1171,</span><br><span class=\"yaml-commented-line\"># mimxrt1172, mimxrt1173, mimxrt1175, mimxrt1176, mimxrt1181, mimxrt1182, mimxrt1187, mimxrt1189, mimxrt533s,</span><br><span class=\"yaml-commented-line\"># mimxrt555s, mimxrt595s, mimxrt685s, mimxrt798s, rw610, rw612></span><br><span class=\"yaml-key\">family</span>: <span class=\"yaml-value\">mimxrt1189</span><br><span class=\"yaml-commented-line\"># -----------------------------------------===== MCU revision [Optional] =====------------------------------------------</span><br><span class=\"yaml-commented-line\"># Description: Revision of silicon. The 'latest' name, means most current revision.</span><br><span class=\"yaml-commented-line\"># Possible options: <a0, b0, latest></span><br><span class=\"yaml-key\">revision</span>: <span class=\"yaml-value\">latest</span><br><span class=\"yaml-commented-line\"># ----------------------------------------===== Peripheral name [Required] =====----------------------------------------</span><br><span class=\"yaml-commented-line\"># Description: Name of the external memory support peripheral</span><br><span class=\"yaml-commented-line\"># Possible options: <flexspi_nor, flexspi_nand, semc_nor, semc_nand, spi_nor, mmc, sd></span><br><span class=\"yaml-key\">peripheral</span>: <span class=\"yaml-value\">flexspi_nor</span><br><span class=\"yaml-commented-line\"># ----------------------------------------===== Interface name [Optional] =====-----------------------------------------</span><br><span class=\"yaml-commented-line\"># Description: Interface name of some other details about connection</span><br><span class=\"yaml-commented-line\"># Possible options: <octal_spi, quad_spi, hyper_flash></span><br><span class=\"yaml-key\">interface</span>: <span class=\"yaml-value\">octal_spi</span><br><span class=\"yaml-commented-line\"># -------------------------------------===== Option words settings [Required] =====-------------------------------------</span><br><span class=\"yaml-commented-line\"># Description: The The option word settings</span><br><span class=\"yaml-key\">settings</span>:<br>  <span class=\"yaml-commented-line\"># ----------------------------------------===== ConfigOption0 [Optional] =====----------------------------------------</span><br>  <span class=\"yaml-commented-line\"># Description: Offset: 0x00000000, Width: 32b; FlexSPI NOR Configuration Option 0</span><br><span class=\"yaml-key\">  ConfigOption0</span>:<br>    <span class=\"yaml-commented-line\"># ------------------------------------------===== MaxFreq [Optional] =====------------------------------------------</span><br>    <span class=\"yaml-commented-line\"># Description: Offset: 0b, Width: 4b, The maximum work frequency for specified Flash device; 0 - Don't change</span><br>    <span class=\"yaml-commented-line\"># FlexSPI clock setting</span><br><span class=\"yaml-key\">    MaxFreq</span>: <span class=\"yaml-value\">0</span><br>    <span class=\"yaml-commented-line\"># -------------------------------------------===== Misc [Optional] =====--------------------------------------------</span><br>    <span class=\"yaml-commented-line\"># Description: Offset: 4b, Width: 4b, Specify miscellaneous mode for selected flash type; Experimental feature, do</span><br>    <span class=\"yaml-commented-line\"># not use in products, keep it as 0.</span><br>    <span class=\"yaml-commented-line\"># - NotEnabled, (0): Miscellaneous mode is not enabled</span><br>    <span class=\"yaml-commented-line\"># - Mode0-4-4, (1): Enable 0-4-4 mode for High Random Read performance</span><br>    <span class=\"yaml-commented-line\"># - SwappedMode, (3):  Data Order Swapped mode (for MXIC OctaFlash only)</span><br>    <span class=\"yaml-commented-line\"># - InternalLoopBack, (5):  Select the FlexSPI data sample source as internal loop back, more details please refer</span><br>    <span class=\"yaml-commented-line\"># FlexSPI usage</span><br>    <span class=\"yaml-commented-line\"># - StandSpiMode, (6):  Config the FlexSPI NOR flash running at stand SPI mode</span><br>    <span class=\"yaml-commented-line\"># Possible options: <NotEnabled, Mode0-4-4, SwappedMode, InternalLoopBack, StandSpiMode></span><br><span class=\"yaml-key\">    Misc</span>: <span class=\"yaml-value\">NotEnabled</span><br>    <span class=\"yaml-commented-line\"># --------------------------------------===== QuadEnableType [Optional] =====---------------------------------------</span><br>    <span class=\"yaml-commented-line\"># Description: Offset: 8b, Width: 4b, Specify the Quad Enable sequence, only applicable for device that only JESD216</span><br>    <span class=\"yaml-commented-line\"># compliant, this field is ignored if device support JESD216A or later version. This field will be effective only if</span><br>    <span class=\"yaml-commented-line\"># device is compliant with JESD216 only (9 longword SDFP table)</span><br>    <span class=\"yaml-commented-line\"># - QeBitIsBit6InStatusReg1, (1): QE bit is bit6 in StatusReg1</span><br>    <span class=\"yaml-commented-line\"># - QeBitIsBit1InStatusReg2, (2): QE bit is bit1 in StatusReg2</span><br>    <span class=\"yaml-commented-line\"># - QeBitIsBit7InStatusReg2, (3): QE bit is bit7 in StatusReg2</span><br>    <span class=\"yaml-commented-line\"># - QeBitIsBit1InStatusReg2EnableCommandIs0x31, (4): QE bit is bit1 in StatusReg2, enable command is 0x31</span><br>    <span class=\"yaml-commented-line\"># Possible options: <QeBitIsBit6InStatusReg1, QeBitIsBit1InStatusReg2, QeBitIsBit7InStatusReg2,</span><br>    <span class=\"yaml-commented-line\"># QeBitIsBit1InStatusReg2EnableCommandIs0x31></span><br><span class=\"yaml-key\">    QuadEnableType</span>: <span class=\"yaml-value\">'0x0'</span><br>    <span class=\"yaml-commented-line\"># -----------------------------------------===== CMDPad(s) [Optional] =====-----------------------------------------</span><br>    <span class=\"yaml-commented-line\"># Description: Offset: 12b, Width: 4b, Commands pads for the Flash device (1/4/8), for device that works under</span><br>    <span class=\"yaml-commented-line\"># 1-1-4,1-4-4,1-1-8 or 1-8-8 mode, CMD pad(s) value is always 0x0, for devices that only support 4-4-4 mode for high</span><br>    <span class=\"yaml-commented-line\"># performance, CMD pads value is 2, for devices that only support 8-8-8 mode for high performance, CMD pads value is</span><br>    <span class=\"yaml-commented-line\"># 3</span><br>    <span class=\"yaml-commented-line\"># - 1, (0): 1 bit</span><br>    <span class=\"yaml-commented-line\"># - 4, (2): 4 bits</span><br>    <span class=\"yaml-commented-line\"># - 8, (3): 8 bits</span><br>    <span class=\"yaml-commented-line\"># Possible options: <1, 4, 8></span><br>    CMDPad(s): <span class=\"yaml-value\">'1'</span><br>    <span class=\"yaml-commented-line\"># --------------------------------------===== Query CMDPad(s) [Optional] =====--------------------------------------</span><br>    <span class=\"yaml-commented-line\"># Description: Offset: 16b, Width: 4b, Command pads (1/4/8) for the SFDP command</span><br>    <span class=\"yaml-commented-line\"># - 1, (0): 1 bit</span><br>    <span class=\"yaml-commented-line\"># - 4, (2): 4 bits</span><br>    <span class=\"yaml-commented-line\"># - 8, (3): 8 bits</span><br>    <span class=\"yaml-commented-line\"># Possible options: <1, 4, 8></span><br>    Query CMDPad(s): <span class=\"yaml-value\">'1'</span><br>    <span class=\"yaml-commented-line\"># -----------------------------------===== Device Detection Type [Optional] =====-----------------------------------</span><br>    <span class=\"yaml-commented-line\"># Description: Offset: 20b, Width: 4b, SW defined device types used for config block autodetection</span><br>    <span class=\"yaml-commented-line\"># - QuadSPI_SDR, (0): QuadSPI SDR</span><br>    <span class=\"yaml-commented-line\"># - QuadSPI_DDR, (1): QuadSPI DDR</span><br>    <span class=\"yaml-commented-line\"># - HyperFLASH_1V8, (2): HyperFLASH 1V8</span><br>    <span class=\"yaml-commented-line\"># - HyperFLASH_3V, (3): HyperFLASH 3V</span><br>    <span class=\"yaml-commented-line\"># - MXICOPI_DDR, (4): MXICOPI DDR</span><br>    <span class=\"yaml-commented-line\"># - MicronOPI_DDR, (6): MicronOPI DDR</span><br>    <span class=\"yaml-commented-line\"># - AdestoOPI_DDR, (8): AdestoOPI DDR</span><br>    <span class=\"yaml-commented-line\"># Possible options: <QuadSPI_SDR, QuadSPI_DDR, HyperFLASH_1V8, HyperFLASH_3V, MXICOPI_DDR, MicronOPI_DDR,</span><br>    <span class=\"yaml-commented-line\"># AdestoOPI_DDR></span><br>    Device Detection Type: <span class=\"yaml-value\">QuadSPI_SDR</span><br>    <span class=\"yaml-commented-line\"># ----------------------------------------===== OptionSize [Optional] =====-----------------------------------------</span><br>    <span class=\"yaml-commented-line\"># Description: Offset: 24b, Width: 4b, Option Size</span><br>    <span class=\"yaml-commented-line\"># - OptionSize1, (0): Option words = 1</span><br>    <span class=\"yaml-commented-line\"># - OptionSize2, (1): Option words = 2</span><br>    <span class=\"yaml-commented-line\"># Possible options: <OptionSize1, OptionSize2></span><br><span class=\"yaml-key\">    OptionSize</span>: <span class=\"yaml-value\">OptionSize1</span><br>  <span class=\"yaml-commented-line\"># ----------------------------------------===== ConfigOption1 [Optional] =====----------------------------------------</span><br>  <span class=\"yaml-commented-line\"># Description: Offset: 0x00000004, Width: 32b; FlexSPI NOR Flash Configuration Option 1 - Optional</span><br><span class=\"diff-removed\"><span class=\"yaml-key\">  ConfigOption1</span>: <span style=\"background-color: #FFFF00; border-radius: 5px; padding: 2px 6px; margin-left: 5px; font-size:\n",
       "0.8em;\">Example of removing ConfigOption1, that is not used</span></span><br>    <span class=\"yaml-commented-line\"># ----------------------------------------===== DummyCycles [Optional] =====----------------------------------------</span><br>    <span class=\"yaml-commented-line\"># Description: Offset: 0b, Width: 8b, User provided dummy cycles for SDR/DDR read command: 0 - Auto detection,</span><br>    <span class=\"yaml-commented-line\"># Others - Specified dummy cycles</span><br><span class=\"diff-removed\"><span class=\"yaml-key\">    DummyCycles</span>: <span class=\"yaml-value\">0</span></span><br>    <span class=\"yaml-commented-line\"># --------------------------------------===== StatusOverride [Optional] =====---------------------------------------</span><br>    <span class=\"yaml-commented-line\"># Description: Offset: 8b, Width: 8b, Override status register value during device mode configuration</span><br><span class=\"diff-removed\"><span class=\"yaml-key\">    StatusOverride</span>: <span class=\"yaml-value\">0</span></span><br>    <span class=\"yaml-commented-line\"># ----------------------------------------===== PinMuxGroup [Optional] =====----------------------------------------</span><br>    <span class=\"yaml-commented-line\"># Description: Offset: 16b, Width: 4b, Pin multiplexer group selection</span><br><span class=\"diff-removed\"><span class=\"yaml-key\">    PinMuxGroup</span>: <span class=\"yaml-value\">0</span></span><br>    <span class=\"yaml-commented-line\"># --------------------------------------===== DqsPinMuxGroup [Optional] =====---------------------------------------</span><br>    <span class=\"yaml-commented-line\"># Description: Offset: 20b, Width: 4b, DQS Pin multiplexer group selection</span><br><span class=\"diff-removed\"><span class=\"yaml-key\">    DqsPinMuxGroup</span>: <span class=\"yaml-value\">0</span></span><br>    <span class=\"yaml-commented-line\"># -------------------------------------===== PinDriveStrength [Optional] =====--------------------------------------</span><br>    <span class=\"yaml-commented-line\"># Description: Offset: 24b, Width: 4b, The Drive Strength of FlexSPI Pads</span><br><span class=\"diff-removed\"><span class=\"yaml-key\">    PinDriveStrength</span>: <span class=\"yaml-value\">0</span></span><br>    <span class=\"yaml-commented-line\"># --------------------------------------===== FlashConnection [Optional] =====--------------------------------------</span><br>    <span class=\"yaml-commented-line\"># Description: Offset: 28b, Width: 4b, Select the FlexSPI Port A/B</span><br>    <span class=\"yaml-commented-line\"># - SingleFlashPort_A, (0): Single Flash connected to port A</span><br>    <span class=\"yaml-commented-line\"># - ParallelMode, (1): Parallel mode</span><br>    <span class=\"yaml-commented-line\"># - SingleFlashPort_B, (2): Single Flash connected to port B</span><br>    <span class=\"yaml-commented-line\"># Possible options: <SingleFlashPort_A, ParallelMode, SingleFlashPort_B></span><br><span class=\"diff-removed\"><span class=\"yaml-key\">    FlashConnection</span>: <span class=\"yaml-value\">SingleFlashPort_A</span></span><br></pre></div>\n",
       "          <div id=\"userConfigView_a8c90006399a26d9ff57557d17cb383d\" class=\"yaml-diff\" style=\"display:none;\"><pre class=\"yaml-diff\"><span class=\"yaml-commented-line\"># Copyright 2024 NXP</span><br><span class=\"yaml-commented-line\">#</span><br><span class=\"yaml-commented-line\"># SPDX-License-Identifier: BSD-3-Clause</span><br><span class=\"yaml-commented-line\"># =========================  Option Words Configuration template for mimxrt1189, flexspi_nor.  =========================</span><br><br><br><span class=\"yaml-commented-line\"># -------------------------------------------------------- Note --------------------------------------------------------</span><br><span class=\"yaml-commented-line\"># Note for settings:</span><br><span class=\"yaml-commented-line\"># All registers is possible to define also as one value although the bitfields are used. Instead of bitfields: ...</span><br><span class=\"yaml-commented-line\"># field, the value: ... definition works as well.</span><br><span class=\"yaml-commented-line\"># ======================================================================================================================</span><br><span class=\"yaml-commented-line\">#                                                 == General Options ==</span><br><span class=\"yaml-commented-line\"># ======================================================================================================================</span><br><span class=\"yaml-commented-line\"># -------------------------------------===== The chip family name [Required] =====--------------------------------------</span><br><span class=\"yaml-commented-line\"># Description: NXP chip family identifier.</span><br><span class=\"yaml-commented-line\"># Possible options: <lpc5502, lpc5504, lpc5506, lpc5512, lpc5514, lpc5516, lpc5526, lpc5528, lpc55s04, lpc55s06,</span><br><span class=\"yaml-commented-line\"># lpc55s14, lpc55s16, lpc55s26, lpc55s28, lpc55s36, lpc55s66, lpc55s69, mcxn235, mcxn236, mimxrt1010, mimxrt1015,</span><br><span class=\"yaml-commented-line\"># mimxrt1020, mimxrt1024, mimxrt1040, mimxrt1050, mimxrt1060, mimxrt1064, mimxrt1165, mimxrt1166, mimxrt1171,</span><br><span class=\"yaml-commented-line\"># mimxrt1172, mimxrt1173, mimxrt1175, mimxrt1176, mimxrt1181, mimxrt1182, mimxrt1187, mimxrt1189, mimxrt533s,</span><br><span class=\"yaml-commented-line\"># mimxrt555s, mimxrt595s, mimxrt685s, mimxrt798s, rw610, rw612></span><br><span class=\"yaml-key\">family</span>: <span class=\"yaml-value\">mimxrt1189</span><br><span class=\"yaml-commented-line\"># -----------------------------------------===== MCU revision [Optional] =====------------------------------------------</span><br><span class=\"yaml-commented-line\"># Description: Revision of silicon. The 'latest' name, means most current revision.</span><br><span class=\"yaml-commented-line\"># Possible options: <a0, b0, latest></span><br><span class=\"yaml-key\">revision</span>: <span class=\"yaml-value\">latest</span><br><span class=\"yaml-commented-line\"># ----------------------------------------===== Peripheral name [Required] =====----------------------------------------</span><br><span class=\"yaml-commented-line\"># Description: Name of the external memory support peripheral</span><br><span class=\"yaml-commented-line\"># Possible options: <flexspi_nor, flexspi_nand, semc_nor, semc_nand, spi_nor, mmc, sd></span><br><span class=\"yaml-key\">peripheral</span>: <span class=\"yaml-value\">flexspi_nor</span><br><span class=\"yaml-commented-line\"># ----------------------------------------===== Interface name [Optional] =====-----------------------------------------</span><br><span class=\"yaml-commented-line\"># Description: Interface name of some other details about connection</span><br><span class=\"yaml-commented-line\"># Possible options: <octal_spi, quad_spi, hyper_flash></span><br><span class=\"yaml-key\">interface</span>: <span class=\"yaml-value\">octal_spi</span><br><span class=\"yaml-commented-line\"># -------------------------------------===== Option words settings [Required] =====-------------------------------------</span><br><span class=\"yaml-commented-line\"># Description: The The option word settings</span><br><span class=\"yaml-key\">settings</span>:<br>  <span class=\"yaml-commented-line\"># ----------------------------------------===== ConfigOption0 [Optional] =====----------------------------------------</span><br>  <span class=\"yaml-commented-line\"># Description: Offset: 0x00000000, Width: 32b; FlexSPI NOR Configuration Option 0</span><br><span class=\"yaml-key\">  ConfigOption0</span>:<br>    <span class=\"yaml-commented-line\"># ------------------------------------------===== MaxFreq [Optional] =====------------------------------------------</span><br>    <span class=\"yaml-commented-line\"># Description: Offset: 0b, Width: 4b, The maximum work frequency for specified Flash device; 0 - Don't change</span><br>    <span class=\"yaml-commented-line\"># FlexSPI clock setting</span><br><span class=\"yaml-key\">    MaxFreq</span>: <span class=\"yaml-value\">0</span><br>    <span class=\"yaml-commented-line\"># -------------------------------------------===== Misc [Optional] =====--------------------------------------------</span><br>    <span class=\"yaml-commented-line\"># Description: Offset: 4b, Width: 4b, Specify miscellaneous mode for selected flash type; Experimental feature, do</span><br>    <span class=\"yaml-commented-line\"># not use in products, keep it as 0.</span><br>    <span class=\"yaml-commented-line\"># - NotEnabled, (0): Miscellaneous mode is not enabled</span><br>    <span class=\"yaml-commented-line\"># - Mode0-4-4, (1): Enable 0-4-4 mode for High Random Read performance</span><br>    <span class=\"yaml-commented-line\"># - SwappedMode, (3):  Data Order Swapped mode (for MXIC OctaFlash only)</span><br>    <span class=\"yaml-commented-line\"># - InternalLoopBack, (5):  Select the FlexSPI data sample source as internal loop back, more details please refer</span><br>    <span class=\"yaml-commented-line\"># FlexSPI usage</span><br>    <span class=\"yaml-commented-line\"># - StandSpiMode, (6):  Config the FlexSPI NOR flash running at stand SPI mode</span><br>    <span class=\"yaml-commented-line\"># Possible options: <NotEnabled, Mode0-4-4, SwappedMode, InternalLoopBack, StandSpiMode></span><br><span class=\"yaml-key\">    Misc</span>: <span class=\"yaml-value\">NotEnabled</span><br>    <span class=\"yaml-commented-line\"># --------------------------------------===== QuadEnableType [Optional] =====---------------------------------------</span><br>    <span class=\"yaml-commented-line\"># Description: Offset: 8b, Width: 4b, Specify the Quad Enable sequence, only applicable for device that only JESD216</span><br>    <span class=\"yaml-commented-line\"># compliant, this field is ignored if device support JESD216A or later version. This field will be effective only if</span><br>    <span class=\"yaml-commented-line\"># device is compliant with JESD216 only (9 longword SDFP table)</span><br>    <span class=\"yaml-commented-line\"># - QeBitIsBit6InStatusReg1, (1): QE bit is bit6 in StatusReg1</span><br>    <span class=\"yaml-commented-line\"># - QeBitIsBit1InStatusReg2, (2): QE bit is bit1 in StatusReg2</span><br>    <span class=\"yaml-commented-line\"># - QeBitIsBit7InStatusReg2, (3): QE bit is bit7 in StatusReg2</span><br>    <span class=\"yaml-commented-line\"># - QeBitIsBit1InStatusReg2EnableCommandIs0x31, (4): QE bit is bit1 in StatusReg2, enable command is 0x31</span><br>    <span class=\"yaml-commented-line\"># Possible options: <QeBitIsBit6InStatusReg1, QeBitIsBit1InStatusReg2, QeBitIsBit7InStatusReg2,</span><br>    <span class=\"yaml-commented-line\"># QeBitIsBit1InStatusReg2EnableCommandIs0x31></span><br><span class=\"yaml-key\">    QuadEnableType</span>: <span class=\"yaml-value\">'0x0'</span><br>    <span class=\"yaml-commented-line\"># -----------------------------------------===== CMDPad(s) [Optional] =====-----------------------------------------</span><br>    <span class=\"yaml-commented-line\"># Description: Offset: 12b, Width: 4b, Commands pads for the Flash device (1/4/8), for device that works under</span><br>    <span class=\"yaml-commented-line\"># 1-1-4,1-4-4,1-1-8 or 1-8-8 mode, CMD pad(s) value is always 0x0, for devices that only support 4-4-4 mode for high</span><br>    <span class=\"yaml-commented-line\"># performance, CMD pads value is 2, for devices that only support 8-8-8 mode for high performance, CMD pads value is</span><br>    <span class=\"yaml-commented-line\"># 3</span><br>    <span class=\"yaml-commented-line\"># - 1, (0): 1 bit</span><br>    <span class=\"yaml-commented-line\"># - 4, (2): 4 bits</span><br>    <span class=\"yaml-commented-line\"># - 8, (3): 8 bits</span><br>    <span class=\"yaml-commented-line\"># Possible options: <1, 4, 8></span><br>    CMDPad(s): <span class=\"yaml-value\">'1'</span><br>    <span class=\"yaml-commented-line\"># --------------------------------------===== Query CMDPad(s) [Optional] =====--------------------------------------</span><br>    <span class=\"yaml-commented-line\"># Description: Offset: 16b, Width: 4b, Command pads (1/4/8) for the SFDP command</span><br>    <span class=\"yaml-commented-line\"># - 1, (0): 1 bit</span><br>    <span class=\"yaml-commented-line\"># - 4, (2): 4 bits</span><br>    <span class=\"yaml-commented-line\"># - 8, (3): 8 bits</span><br>    <span class=\"yaml-commented-line\"># Possible options: <1, 4, 8></span><br>    Query CMDPad(s): <span class=\"yaml-value\">'1'</span><br>    <span class=\"yaml-commented-line\"># -----------------------------------===== Device Detection Type [Optional] =====-----------------------------------</span><br>    <span class=\"yaml-commented-line\"># Description: Offset: 20b, Width: 4b, SW defined device types used for config block autodetection</span><br>    <span class=\"yaml-commented-line\"># - QuadSPI_SDR, (0): QuadSPI SDR</span><br>    <span class=\"yaml-commented-line\"># - QuadSPI_DDR, (1): QuadSPI DDR</span><br>    <span class=\"yaml-commented-line\"># - HyperFLASH_1V8, (2): HyperFLASH 1V8</span><br>    <span class=\"yaml-commented-line\"># - HyperFLASH_3V, (3): HyperFLASH 3V</span><br>    <span class=\"yaml-commented-line\"># - MXICOPI_DDR, (4): MXICOPI DDR</span><br>    <span class=\"yaml-commented-line\"># - MicronOPI_DDR, (6): MicronOPI DDR</span><br>    <span class=\"yaml-commented-line\"># - AdestoOPI_DDR, (8): AdestoOPI DDR</span><br>    <span class=\"yaml-commented-line\"># Possible options: <QuadSPI_SDR, QuadSPI_DDR, HyperFLASH_1V8, HyperFLASH_3V, MXICOPI_DDR, MicronOPI_DDR,</span><br>    <span class=\"yaml-commented-line\"># AdestoOPI_DDR></span><br>    Device Detection Type: <span class=\"yaml-value\">QuadSPI_SDR</span><br>    <span class=\"yaml-commented-line\"># ----------------------------------------===== OptionSize [Optional] =====-----------------------------------------</span><br>    <span class=\"yaml-commented-line\"># Description: Offset: 24b, Width: 4b, Option Size</span><br>    <span class=\"yaml-commented-line\"># - OptionSize1, (0): Option words = 1</span><br>    <span class=\"yaml-commented-line\"># - OptionSize2, (1): Option words = 2</span><br>    <span class=\"yaml-commented-line\"># Possible options: <OptionSize1, OptionSize2></span><br><span class=\"yaml-key\">    OptionSize</span>: <span class=\"yaml-value\">OptionSize1</span><br></pre></div>\n",
       "        </div>\n",
       "        "
      ],
      "text/plain": [
       "<IPython.core.display.HTML object>"
      ]
     },
     "execution_count": 3,
     "metadata": {},
     "output_type": "execute_result"
    }
   ],
   "source": [
    "# Show the typical external memory configuration for FlexSPI and NOR\n",
    "YamlDiffWidget(\"inputs/rt118x_external_memory_config.diffc\").html"
   ]
  },
  {
   "cell_type": "markdown",
   "metadata": {},
   "source": [
    "**Once the template is configured for the new memory, it can be used to export a blhost script with `nxpmemcfg blhost-script` like this:**"
   ]
  },
  {
   "cell_type": "code",
   "execution_count": 4,
   "metadata": {},
   "outputs": [
    {
     "name": "stdout",
     "output_type": "stream",
     "text": [
      "nxpmemcfg blhost-script -c inputs/ow_flexspi_nor.yaml -ix 1 -o --force\n",
      "Exported blhost script.\n"
     ]
    }
   ],
   "source": [
    "%! nxpmemcfg blhost-script -c \"inputs/ow_flexspi_nor.yaml\" -ix 1 -o $CUSTOM_CFG_MEM_FILE --force"
   ]
  },
  {
   "cell_type": "markdown",
   "metadata": {},
   "source": [
    "**Let's inspect the blhost-script generated from the `flexspi_nor` template (note the difference in the option word):**\n",
    "\n",
    "```\n",
    "# BLHOST configure memory programming script\n",
    "# Generated by SPSDK NXPMEMCFG tool\n",
    "# Chip: mimxrt1189\n",
    "# Peripheral: flexspi_nor\n",
    "# Instance: 1\n",
    "\n",
    "# Switch the instance of the peripheral to 1:\n",
    "fill-memory 0x1FFE0000 4 0xCF900001\n",
    "configure-memory 9 0x1FFE0000\n",
    "\n",
    "# Configure memory:\n",
    "# Option word 0: 0xC0000000\n",
    "fill-memory 0x1FFE0000 4 0xC0000000\n",
    "configure-memory 9 0x1FFE0000\n",
    "```"
   ]
  },
  {
   "cell_type": "markdown",
   "metadata": {},
   "source": [
    "## 6. Build a bootable image\n",
    "\n",
    "Load it into a memory configured though the blhost-script."
   ]
  },
  {
   "cell_type": "markdown",
   "metadata": {},
   "source": [
    "This process is explained in the [Secure Boot notebook](../../ahab/rt118x_secure_boot/rt118x_secure_boot.ipynb)"
   ]
  }
 ],
 "metadata": {
  "kernelspec": {
   "display_name": "venv",
   "language": "python",
   "name": "python3"
  },
  "language_info": {
   "codemirror_mode": {
    "name": "ipython",
    "version": 3
   },
   "file_extension": ".py",
   "mimetype": "text/x-python",
   "name": "python",
   "nbconvert_exporter": "python",
   "pygments_lexer": "ipython3",
   "version": "3.11.4"
  }
 },
 "nbformat": 4,
 "nbformat_minor": 4
}
