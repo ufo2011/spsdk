{
 "cells": [
  {
   "cell_type": "markdown",
   "metadata": {},
   "source": [
    "## LPC 8xx Programming Tool\n",
    "\n",
    "SPSDK provides command line utility *lpcprog* that might be used for in system programming of LPC devices. In this example it will be demostrated on LPCXpresso860-MAX board. ISP protocol is described in [AN13815](https://www.nxp.com/docs/en/application-note/AN13815.pdf) document.\n",
    "\n",
    "This example shows the basic operation using the SPSDK CLI application \"lpcprog\".\n",
    "\n",
    "## 1. Prerequisites\n",
    "- SPSDK is needed with examples extension. `pip install spsdk[examples]` (Please refer to the [installation](../_knowledge_base/installation_guide.rst) documentation.)\n",
    "\n",
    "- This example uses LPC800 EVK board.\n",
    "\n",
    "### 1.1 Hardware setup\n",
    "\n",
    "When the ISP entry pin (PIO0_12) is pulled LOW on reset, the part enters ISP mode and\n",
    "the ISP command handler starts up.\n",
    "PIO0_25 is UART0 TX, and PIO0_24 is UART0 RX, are used for USART ISP mode.\n",
    "\n",
    "In this example we have used FTDI TTL232-3V3 USB to serial converter.\n",
    "\n",
    "![board-connection](img/board_connection.jpg \"board-connection\")\n",
    "\n",
    "### 1.2 Synchronization\n",
    "\n",
    "All ISP responses are sent as CR-LF terminated ASCII strings. Data is sent and received in plain binary format.\n",
    "The host sends a '?' (0x3F) as a synchronization character and waits for a response. The host side serial port settings are 8 data bits, one stop bit, and no parity. \n",
    "\n",
    "The auto-baud routine programs the baud rate of\n",
    "the serial port generator by measuring the bit time of the received synchronization character in terms of its frequency. It also sends an ASCII string (Synchronized) to the host. In response to this action, the host sends back the same string (Synchronized CR-LF).\n",
    "\n",
    "The auto-baud routine looks at the received characters to verify synchronization. If synchronization is verified, the Synchronized OK string is sent to the host (“echo” is enabled by default). The host responds by sending the crystal frequency (in kHz) at which the part is running. The response is required\n",
    "for backward compatibility of the bootloader code and is ignored. \n",
    "\n",
    "The OK string is sent to the host after receiving the crystal frequency. If synchronization is not verified, the auto-baud routine waits again for a synchronization character.\n",
    "Once the crystal frequency is received, the part initializes, and the ISP command handler invokes. For safety reasons, an \"Unlock\" command is required before executing the commands resulting in flash erase/write operations and the \"Go\" command. The rest of the commands are executed without the unlock command. Execute the \"Unlock\" command once per ISP session."
   ]
  },
  {
   "cell_type": "code",
   "execution_count": 29,
   "metadata": {},
   "outputs": [
    {
     "name": "stdout",
     "output_type": "stream",
     "text": [
      "env: JUPYTER_SPSDK=1\n",
      "Created `%!` as an alias for `%execute`.\n",
      "lpcprog -p /dev/tty.usbserial-FTCEE1TG -v sync\n",
      "\u001b[37m\u001b[1mINFO:spsdk.lpcprog.interface:Synchronized\u001b[39m\u001b[0m\n",
      "Synchronized\n"
     ]
    }
   ],
   "source": [
    "# Initialization\n",
    "\n",
    "# This env variable sets colored logger output to STDOUT\n",
    "%env JUPYTER_SPSDK=1\n",
    "# Set a magic for command execution and echo\n",
    "%alias execute echo %l && %l\n",
    "%alias_magic ! execute\n",
    "\n",
    "WORKSPACE = \"workspace/\"  # change this to path to your workspace\n",
    "DATA = \"data/\"  # data folder that contains input images\n",
    "VERBOSITY = (\n",
    "    \"-v\"  # verbosity of commands, might be -v or -vv for debug or blank for no additional info\n",
    ")\n",
    "# PORT = \"-p /dev/tty.usbserial-FTCEE1TG\"  # change this to your port\n",
    "PORT = \"-p COM126\"\n",
    "\n",
    "# Synchronize\n",
    "%! lpcprog $PORT $VERBOSITY sync"
   ]
  },
  {
   "cell_type": "markdown",
   "metadata": {},
   "source": [
    "After successfull synchronization, we can try other commands.\n",
    "\n",
    "## 2. CLI Operations\n",
    "### 2.1 Get info command\n",
    "This command is used for getting information about the chip.\n",
    "It reports part ID, UID, boot code version and CRP level. "
   ]
  },
  {
   "cell_type": "code",
   "execution_count": 31,
   "metadata": {},
   "outputs": [
    {
     "name": "stdout",
     "output_type": "stream",
     "text": [
      "lpcprog -p /dev/tty.usbserial-FTCEE1TG -v get-info\n",
      "\u001b[37m\u001b[1mINFO:spsdk.lpcprog.protocol:CMD: read_uid, STATUS: Success\u001b[39m\u001b[0m\n",
      "\u001b[37m\u001b[1mINFO:spsdk.lpcprog.protocol:CMD: read_boot_code_version, STATUS: Success\u001b[39m\u001b[0m\n",
      "\u001b[37m\u001b[1mINFO:spsdk.lpcprog.protocol:CMD: read_part_id, STATUS: Success\u001b[39m\u001b[0m\n",
      "\u001b[37m\u001b[1mINFO:spsdk.lpcprog.protocol:CMD: read_memory, STATUS: Success\u001b[39m\u001b[0m\n",
      "Part ID: LPC865M201JBD64d\n",
      "UID: 0x0301001f 0x95cc1007 0x61aa9196 0xf5000282\n",
      "Boot code version: 0.240\n",
      "CRP Level: NO_CRP\n",
      "All USART ISP commands are supported.\n"
     ]
    }
   ],
   "source": [
    "# Get information about the device\n",
    "%! lpcprog $PORT $VERBOSITY get-info"
   ]
  },
  {
   "cell_type": "markdown",
   "metadata": {},
   "source": [
    "### 2.2 Read memory\n",
    "This command is used for reading flash and RAM. User might specify file --binary where the content will be stored."
   ]
  },
  {
   "cell_type": "code",
   "execution_count": 32,
   "metadata": {},
   "outputs": [
    {
     "name": "stdout",
     "output_type": "stream",
     "text": [
      "lpcprog -p /dev/tty.usbserial-FTCEE1TG -v read-memory 0 0x100\n",
      "\u001b[?25lReading memory  [------------------------------------]    0%\u001b[37m\u001b[1mINFO:spsdk.lpcprog.protocol:CMD: read_memory, STATUS: Success\u001b[39m\u001b[0m\n",
      "\u001b[?25lReading memory  [####################################]  100%\u001b[?25h\n",
      "00000000: E0 1F 00 10 E9 00 00 00  5F 01 00 00 61 05 00 00  ........_...a...\n",
      "00000010: 00 00 00 00 00 00 00 00  00 00 00 00 77 D8 FF EF  ............w...\n",
      "00000020: 00 00 00 00 00 00 00 00  00 00 00 00 63 01 00 00  ............c...\n",
      "00000030: 00 00 00 00 00 00 00 00  65 01 00 00 C9 04 00 00  ........e.......\n",
      "00000040: 6B 01 00 00 73 01 00 00  7B 01 00 00 83 01 00 00  k...s...{.......\n",
      "00000050: 8B 01 00 00 93 01 00 00  9B 01 00 00 A3 01 00 00  ................\n",
      "00000060: AB 01 00 00 B3 01 00 00  BB 01 00 00 C3 01 00 00  ................\n",
      "00000070: CB 01 00 00 D3 01 00 00  DB 01 00 00 E3 01 00 00  ................\n",
      "00000080: EB 01 00 00 F3 01 00 00  FB 01 00 00 03 02 00 00  ................\n",
      "00000090: 0B 02 00 00 13 02 00 00  1B 02 00 00 23 02 00 00  ............#...\n",
      "000000A0: 2B 02 00 00 33 02 00 00  3B 02 00 00 43 02 00 00  +...3...;...C...\n",
      "000000B0: 4B 02 00 00 53 02 00 00  5B 02 00 00 63 02 00 00  K...S...[...c...\n",
      "000000C0: 0C 18 00 00 80 00 00 10  04 00 00 00 0C 18 00 00  ................\n",
      "000000D0: E0 1F 00 10 00 00 00 00  84 00 00 10 E0 00 00 00  ................\n",
      "000000E0: E0 1F 00 10 00 00 00 00  72 B6 13 48 38 21 01 60  ........r..H8!.`\n",
      "000000F0: 00 F0 D8 FB 0D 4B 07 E0  18 68 59 68 1C 00 0C 34  .....K...hYh...4\n"
     ]
    }
   ],
   "source": [
    "# Read the flash memory\n",
    "%! lpcprog $PORT $VERBOSITY read-memory 0 0x100"
   ]
  },
  {
   "cell_type": "code",
   "execution_count": 33,
   "metadata": {},
   "outputs": [
    {
     "name": "stdout",
     "output_type": "stream",
     "text": [
      "lpcprog -p /dev/tty.usbserial-FTCEE1TG -v read-memory 0x1000_0800 0x100\n",
      "\u001b[?25lReading memory  [------------------------------------]    0%\u001b[37m\u001b[1mINFO:spsdk.lpcprog.protocol:CMD: read_memory, STATUS: Success\u001b[39m\u001b[0m\n",
      "\u001b[?25lReading memory  [####################################]  100%\u001b[?25h\n",
      "00000000: 70 58 94 06 D8 AF BA 7E  5F 0D FE 55 30 A9 55 DC  pX.....~_..U0.U.\n",
      "00000010: 4E BA F1 8E 00 4C EA 38  6F 69 93 24 6E C1 25 AD  N....L.8oi.$n.%.\n",
      "00000020: 65 42 02 32 72 C8 7D D4  F1 82 3E 58 E3 5F 30 DD  eB.2r.}...>X._0.\n",
      "00000030: A1 A0 E5 63 F8 D9 7A CD  AE DA 16 9B 34 36 F0 C4  ...c..z.....46..\n",
      "00000040: DC 02 8F 8A EA 2D 48 EF  DA A5 A8 BA 5A F1 13 06  .....-H.....Z...\n",
      "00000050: 25 9D 1F C0 9F DB 05 1E  3F 86 16 4D 28 D7 B4 85  %.......?..M(...\n",
      "00000060: C1 83 87 AD 40 34 D3 F3  27 E4 BB AB 59 80 75 3D  ....@4..'...Y.u=\n",
      "00000070: A1 4E A0 87 81 AB AD FC  19 AE 10 11 54 CA 4E 5F  .N..........T.N_\n",
      "00000080: C9 6C 8B 8A D2 0F 47 1E  5F FB B1 D6 5C E2 74 5D  .l....G._...\\.t]\n",
      "00000090: A7 58 9D 84 12 C0 60 7B  23 16 7A 11 07 2A 12 44  .X....`{#.z..*.D\n",
      "000000A0: 6F 58 B9 53 DA 93 90 46  64 18 2B 05 D6 19 46 DD  oX.S...Fd.+...F.\n",
      "000000B0: 30 1D C8 D4 DC D3 F4 34  CB 89 6A 71 BC 37 A0 B4  0......4..jq.7..\n",
      "000000C0: C2 C8 CE 09 2C 9B 7F 64  DE 2A 0D 9D D9 53 FC 45  ....,..d.*...S.E\n",
      "000000D0: 0C 3C 7E 96 81 1D 31 89  AD B7 40 EE 32 07 31 DC  .<~...1...@.2.1.\n",
      "000000E0: 64 24 EA CC 57 8B 1B 56  F0 62 43 1E 07 5C 36 AE  d$..W..V.bC..\\6.\n",
      "000000F0: 2F 1C D2 77 0B DC 00 17  41 F7 D4 EB B1 04 72 1B  /..w....A.....r.\n"
     ]
    }
   ],
   "source": [
    "# Read from RAM\n",
    "%! lpcprog $PORT $VERBOSITY read-memory 0x1000_0800 0x100"
   ]
  },
  {
   "cell_type": "markdown",
   "metadata": {},
   "source": [
    "### 2.3 Compare memory\n",
    "This command is used to compare the memory contents at two locations."
   ]
  },
  {
   "cell_type": "code",
   "execution_count": 34,
   "metadata": {},
   "outputs": [
    {
     "name": "stdout",
     "output_type": "stream",
     "text": [
      "lpcprog -p /dev/tty.usbserial-FTCEE1TG -v compare 0x10 0x20 4\n",
      "\u001b[37m\u001b[1mINFO:spsdk.lpcprog.protocol:CMD: compare, STATUS: Success\u001b[39m\u001b[0m\n",
      "\n",
      "Status: Success\n",
      "Description: Success\n",
      "Content is same\n"
     ]
    }
   ],
   "source": [
    "# Compare the content of the flash memory\n",
    "%! lpcprog $PORT $VERBOSITY compare 0x10 0x20 4"
   ]
  },
  {
   "cell_type": "markdown",
   "metadata": {},
   "source": [
    "### 2.4 Erase flash memory\n",
    "\n",
    "Flash memory might be erased by sectors or by pages."
   ]
  },
  {
   "cell_type": "code",
   "execution_count": 35,
   "metadata": {},
   "outputs": [
    {
     "name": "stdout",
     "output_type": "stream",
     "text": [
      "lpcprog -p /dev/tty.usbserial-FTCEE1TG -v erase-sector 0x10 0x20\n",
      "\u001b[37m\u001b[1mINFO:spsdk.lpcprog.protocol:CMD: unlock, STATUS: Success\u001b[39m\u001b[0m\n",
      "\u001b[37m\u001b[1mINFO:spsdk.lpcprog.protocol:CMD: prepare_sectors_for_write, STATUS: Success\u001b[39m\u001b[0m\n",
      "\u001b[37m\u001b[1mINFO:spsdk.lpcprog.protocol:CMD: erase_sector, STATUS: Success\u001b[39m\u001b[0m\n",
      "\n",
      "Status: Success\n",
      "Description: Success\n"
     ]
    }
   ],
   "source": [
    "# Erase memory from sector 0x10 to sector 0x20\n",
    "%! lpcprog $PORT $VERBOSITY erase-sector 0x10 0x20"
   ]
  },
  {
   "cell_type": "markdown",
   "metadata": {},
   "source": [
    "### 2.5 Check blank sectors\n",
    "This command is used to blank check one or more sectors of on-chip flash memory"
   ]
  },
  {
   "cell_type": "code",
   "execution_count": 36,
   "metadata": {},
   "outputs": [
    {
     "name": "stdout",
     "output_type": "stream",
     "text": [
      "lpcprog -p /dev/tty.usbserial-FTCEE1TG -v blank-check-sectors 0x10 0x20\n",
      "\u001b[37m\u001b[1mINFO:spsdk.lpcprog.protocol:CMD: blank_check_sectors, STATUS: Success\u001b[39m\u001b[0m\n",
      "\n",
      "Status: Success\n",
      "Description: Success\n",
      "Sectors are blank\n"
     ]
    }
   ],
   "source": [
    "# Check blank sectors\n",
    "%! lpcprog $PORT $VERBOSITY blank-check-sectors 0x10 0x20"
   ]
  },
  {
   "cell_type": "markdown",
   "metadata": {},
   "source": [
    "### 2.6 Write to RAM\n",
    "This command is used for writing to RAM, user might specify file or binary pattern using the syntax \"{{}}\" "
   ]
  },
  {
   "cell_type": "code",
   "execution_count": 37,
   "metadata": {},
   "outputs": [
    {
     "name": "stdout",
     "output_type": "stream",
     "text": [
      "lpcprog -p COM126 -v write-ram -a 0x1000_0800 -b [[deadbeef]] \n",
      "\u001b[37m\u001b[1mINFO:spsdk.lpcprog.protocol:CMD: write_ram, STATUS: Success\u001b[39m\u001b[0m\n",
      "Data has been written to RAM\n"
     ]
    }
   ],
   "source": [
    "# Write pattern to RAM\n",
    "%! lpcprog $PORT $VERBOSITY write-ram -a 0x1000_0800 -b [[deadbeef]]"
   ]
  },
  {
   "cell_type": "markdown",
   "metadata": {},
   "source": [
    "### 2.7 Read CRC checksum\n",
    "This command is used to read the CRC checksum of a block of RAM or flash memory."
   ]
  },
  {
   "cell_type": "code",
   "execution_count": 38,
   "metadata": {},
   "outputs": [
    {
     "name": "stdout",
     "output_type": "stream",
     "text": [
      "lpcprog -p /dev/tty.usbserial-FTCEE1TG -v read-crc-checksum 0 128\n",
      "\u001b[37m\u001b[1mINFO:spsdk.lpcprog.protocol:CMD: read_crc_checksum, STATUS: Success\u001b[39m\u001b[0m\n",
      "Checksum: 0x7fa26eca\n"
     ]
    }
   ],
   "source": [
    "# Get CRC-32 checksum\n",
    "%! lpcprog $PORT $VERBOSITY read-crc-checksum 0 128"
   ]
  },
  {
   "cell_type": "markdown",
   "metadata": {},
   "source": [
    "### 2.8 Read flash signature\n",
    "This command is used to read the flash signature generated by the flash controller."
   ]
  },
  {
   "cell_type": "code",
   "execution_count": 39,
   "metadata": {},
   "outputs": [
    {
     "name": "stdout",
     "output_type": "stream",
     "text": [
      "lpcprog -p /dev/tty.usbserial-FTCEE1TG -v read-flash-signature 0 128\n",
      "\u001b[37m\u001b[1mINFO:spsdk.lpcprog.protocol:CMD: read_flash_signature, STATUS: Success\u001b[39m\u001b[0m\n",
      "Signature: 0x44d83974\n"
     ]
    }
   ],
   "source": [
    "# Get flash signature\n",
    "%! lpcprog $PORT $VERBOSITY read-flash-signature 0 128"
   ]
  },
  {
   "cell_type": "markdown",
   "metadata": {},
   "source": [
    "### 2.9 Flash programming\n",
    "\n",
    "This command is used for programming the flash sector.\n",
    "\n",
    "Approach for writing the sector\n",
    "* Write data to RAM\n",
    "* Prepare sector for writing\n",
    "* Erase sector\n",
    "* Again prepare sector\n",
    "* Copy RAM to flash\n",
    "\n",
    "In this example we are going to write \"led blinky\" demo application that blinks with green on-board LED.\n",
    "\n",
    "This command requires information about the device, so the correct sector and page size and flash range is correctly obtained. If the device ID cannot be decoded, it must be provided as -f/--family option."
   ]
  },
  {
   "cell_type": "code",
   "execution_count": 40,
   "metadata": {},
   "outputs": [
    {
     "name": "stdout",
     "output_type": "stream",
     "text": [
      "lpcprog -f lpc865 -p /dev/tty.usbserial-FTCEE1TG -v program-flash -b ../_data/lpcxpresso860_led_blinky.bin\n",
      "\u001b[?25lProgramming flash memory  [------------------------------------]    0%\u001b[37m\u001b[1mINFO:spsdk.lpcprog.protocol:CMD: unlock, STATUS: Success\u001b[39m\u001b[0m\n",
      "\u001b[37m\u001b[1mINFO:spsdk.lpcprog.protocol:Writing flash sector: 0 Address: 0x0\u001b[39m\u001b[0m\n",
      "\u001b[37m\u001b[1mINFO:spsdk.lpcprog.protocol:CMD: write_ram, STATUS: Success\u001b[39m\u001b[0m\n",
      "\u001b[37m\u001b[1mINFO:spsdk.lpcprog.protocol:Preparing sector 0 for erase\u001b[39m\u001b[0m\n",
      "\u001b[37m\u001b[1mINFO:spsdk.lpcprog.protocol:CMD: prepare_sectors_for_write, STATUS: Success\u001b[39m\u001b[0m\n",
      "\u001b[37m\u001b[1mINFO:spsdk.lpcprog.protocol:Erasing sector 0\u001b[39m\u001b[0m\n",
      "\u001b[37m\u001b[1mINFO:spsdk.lpcprog.protocol:CMD: erase_sector, STATUS: Success\u001b[39m\u001b[0m\n",
      "\u001b[37m\u001b[1mINFO:spsdk.lpcprog.protocol:Preparing sector 0 for write\u001b[39m\u001b[0m\n",
      "\u001b[37m\u001b[1mINFO:spsdk.lpcprog.protocol:CMD: prepare_sectors_for_write, STATUS: Success\u001b[39m\u001b[0m\n",
      "\u001b[37m\u001b[1mINFO:spsdk.lpcprog.protocol:Copying 1024B RAM 0x10000800 to flash address 0x0\u001b[39m\u001b[0m\n",
      "\u001b[37m\u001b[1mINFO:spsdk.lpcprog.protocol:CMD: copy_ram_to_flash, STATUS: Success\u001b[39m\u001b[0m\n",
      "\u001b[37m\u001b[1mINFO:spsdk.lpcprog.protocol:Calculating checksum\u001b[39m\u001b[0m\n",
      "\u001b[37m\u001b[1mINFO:spsdk.lpcprog.protocol:CMD: read_crc_checksum, STATUS: Success\u001b[39m\u001b[0m\n",
      "\u001b[37m\u001b[1mINFO:spsdk.lpcprog.protocol:Writing flash sector: 7 Address: 0x1c00\u001b[39m\u001b[0m\n",
      "\u001b[37m\u001b[1mINFO:spsdk.lpcprog.protocol:CMD: write_ram, STATUS: Success\u001b[39m\u001b[0m\n",
      "\u001b[37m\u001b[1mINFO:spsdk.lpcprog.protocol:Preparing sector 7 for erase\u001b[39m\u001b[0m\n",
      "\u001b[37m\u001b[1mINFO:spsdk.lpcprog.protocol:CMD: prepare_sectors_for_write, STATUS: Success\u001b[39m\u001b[0m\n",
      "\u001b[37m\u001b[1mINFO:spsdk.lpcprog.protocol:Erasing sector 7\u001b[39m\u001b[0m\n",
      "\u001b[37m\u001b[1mINFO:spsdk.lpcprog.protocol:CMD: erase_sector, STATUS: Success\u001b[39m\u001b[0m\n",
      "\u001b[37m\u001b[1mINFO:spsdk.lpcprog.protocol:Preparing sector 7 for write\u001b[39m\u001b[0m\n",
      "\u001b[37m\u001b[1mINFO:spsdk.lpcprog.protocol:CMD: prepare_sectors_for_write, STATUS: Success\u001b[39m\u001b[0m\n",
      "\u001b[37m\u001b[1mINFO:spsdk.lpcprog.protocol:Copying 1024B RAM 0x10000800 to flash address 0x1c00\u001b[39m\u001b[0m\n",
      "\u001b[37m\u001b[1mINFO:spsdk.lpcprog.protocol:CMD: copy_ram_to_flash, STATUS: Success\u001b[39m\u001b[0m\n",
      "\u001b[37m\u001b[1mINFO:spsdk.lpcprog.protocol:Calculating checksum\u001b[39m\u001b[0m\n",
      "\u001b[37m\u001b[1mINFO:spsdk.lpcprog.protocol:CMD: read_crc_checksum, STATUS: Success\u001b[39m\u001b[0m\n",
      "\u001b[?25lProgramming flash memory  [####--------------------------------]   12%  00:00:07\u001b[37m\u001b[1mINFO:spsdk.lpcprog.protocol:Writing flash sector: 6 Address: 0x1800\u001b[39m\u001b[0m\n",
      "\u001b[37m\u001b[1mINFO:spsdk.lpcprog.protocol:CMD: write_ram, STATUS: Success\u001b[39m\u001b[0m\n",
      "\u001b[37m\u001b[1mINFO:spsdk.lpcprog.protocol:Preparing sector 6 for erase\u001b[39m\u001b[0m\n",
      "\u001b[37m\u001b[1mINFO:spsdk.lpcprog.protocol:CMD: prepare_sectors_for_write, STATUS: Success\u001b[39m\u001b[0m\n",
      "\u001b[37m\u001b[1mINFO:spsdk.lpcprog.protocol:Erasing sector 6\u001b[39m\u001b[0m\n",
      "\u001b[37m\u001b[1mINFO:spsdk.lpcprog.protocol:CMD: erase_sector, STATUS: Success\u001b[39m\u001b[0m\n",
      "\u001b[37m\u001b[1mINFO:spsdk.lpcprog.protocol:Preparing sector 6 for write\u001b[39m\u001b[0m\n",
      "\u001b[37m\u001b[1mINFO:spsdk.lpcprog.protocol:CMD: prepare_sectors_for_write, STATUS: Success\u001b[39m\u001b[0m\n",
      "\u001b[37m\u001b[1mINFO:spsdk.lpcprog.protocol:Copying 1024B RAM 0x10000800 to flash address 0x1800\u001b[39m\u001b[0m\n",
      "\u001b[37m\u001b[1mINFO:spsdk.lpcprog.protocol:CMD: copy_ram_to_flash, STATUS: Success\u001b[39m\u001b[0m\n",
      "\u001b[37m\u001b[1mINFO:spsdk.lpcprog.protocol:Calculating checksum\u001b[39m\u001b[0m\n",
      "\u001b[37m\u001b[1mINFO:spsdk.lpcprog.protocol:CMD: read_crc_checksum, STATUS: Success\u001b[39m\u001b[0m\n",
      "\u001b[?25lProgramming flash memory  [#########---------------------------]   25%  00:00:06\u001b[37m\u001b[1mINFO:spsdk.lpcprog.protocol:Writing flash sector: 5 Address: 0x1400\u001b[39m\u001b[0m\n",
      "\u001b[37m\u001b[1mINFO:spsdk.lpcprog.protocol:CMD: write_ram, STATUS: Success\u001b[39m\u001b[0m\n",
      "\u001b[37m\u001b[1mINFO:spsdk.lpcprog.protocol:Preparing sector 5 for erase\u001b[39m\u001b[0m\n",
      "\u001b[37m\u001b[1mINFO:spsdk.lpcprog.protocol:CMD: prepare_sectors_for_write, STATUS: Success\u001b[39m\u001b[0m\n",
      "\u001b[37m\u001b[1mINFO:spsdk.lpcprog.protocol:Erasing sector 5\u001b[39m\u001b[0m\n",
      "\u001b[37m\u001b[1mINFO:spsdk.lpcprog.protocol:CMD: erase_sector, STATUS: Success\u001b[39m\u001b[0m\n",
      "\u001b[37m\u001b[1mINFO:spsdk.lpcprog.protocol:Preparing sector 5 for write\u001b[39m\u001b[0m\n",
      "\u001b[37m\u001b[1mINFO:spsdk.lpcprog.protocol:CMD: prepare_sectors_for_write, STATUS: Success\u001b[39m\u001b[0m\n",
      "\u001b[37m\u001b[1mINFO:spsdk.lpcprog.protocol:Copying 1024B RAM 0x10000800 to flash address 0x1400\u001b[39m\u001b[0m\n",
      "\u001b[37m\u001b[1mINFO:spsdk.lpcprog.protocol:CMD: copy_ram_to_flash, STATUS: Success\u001b[39m\u001b[0m\n",
      "\u001b[37m\u001b[1mINFO:spsdk.lpcprog.protocol:Calculating checksum\u001b[39m\u001b[0m\n",
      "\u001b[37m\u001b[1mINFO:spsdk.lpcprog.protocol:CMD: read_crc_checksum, STATUS: Success\u001b[39m\u001b[0m\n",
      "\u001b[?25lProgramming flash memory  [#############-----------------------]   37%  00:00:05\u001b[37m\u001b[1mINFO:spsdk.lpcprog.protocol:Writing flash sector: 4 Address: 0x1000\u001b[39m\u001b[0m\n",
      "\u001b[37m\u001b[1mINFO:spsdk.lpcprog.protocol:CMD: write_ram, STATUS: Success\u001b[39m\u001b[0m\n",
      "\u001b[37m\u001b[1mINFO:spsdk.lpcprog.protocol:Preparing sector 4 for erase\u001b[39m\u001b[0m\n",
      "\u001b[37m\u001b[1mINFO:spsdk.lpcprog.protocol:CMD: prepare_sectors_for_write, STATUS: Success\u001b[39m\u001b[0m\n",
      "\u001b[37m\u001b[1mINFO:spsdk.lpcprog.protocol:Erasing sector 4\u001b[39m\u001b[0m\n",
      "\u001b[37m\u001b[1mINFO:spsdk.lpcprog.protocol:CMD: erase_sector, STATUS: Success\u001b[39m\u001b[0m\n",
      "\u001b[37m\u001b[1mINFO:spsdk.lpcprog.protocol:Preparing sector 4 for write\u001b[39m\u001b[0m\n",
      "\u001b[37m\u001b[1mINFO:spsdk.lpcprog.protocol:CMD: prepare_sectors_for_write, STATUS: Success\u001b[39m\u001b[0m\n",
      "\u001b[37m\u001b[1mINFO:spsdk.lpcprog.protocol:Copying 1024B RAM 0x10000800 to flash address 0x1000\u001b[39m\u001b[0m\n",
      "\u001b[37m\u001b[1mINFO:spsdk.lpcprog.protocol:CMD: copy_ram_to_flash, STATUS: Success\u001b[39m\u001b[0m\n",
      "\u001b[37m\u001b[1mINFO:spsdk.lpcprog.protocol:Calculating checksum\u001b[39m\u001b[0m\n",
      "\u001b[37m\u001b[1mINFO:spsdk.lpcprog.protocol:CMD: read_crc_checksum, STATUS: Success\u001b[39m\u001b[0m\n",
      "\u001b[?25lProgramming flash memory  [##################------------------]   50%  00:00:03\u001b[37m\u001b[1mINFO:spsdk.lpcprog.protocol:Writing flash sector: 3 Address: 0xc00\u001b[39m\u001b[0m\n",
      "\u001b[37m\u001b[1mINFO:spsdk.lpcprog.protocol:CMD: write_ram, STATUS: Success\u001b[39m\u001b[0m\n",
      "\u001b[37m\u001b[1mINFO:spsdk.lpcprog.protocol:Preparing sector 3 for erase\u001b[39m\u001b[0m\n",
      "\u001b[37m\u001b[1mINFO:spsdk.lpcprog.protocol:CMD: prepare_sectors_for_write, STATUS: Success\u001b[39m\u001b[0m\n",
      "\u001b[37m\u001b[1mINFO:spsdk.lpcprog.protocol:Erasing sector 3\u001b[39m\u001b[0m\n",
      "\u001b[37m\u001b[1mINFO:spsdk.lpcprog.protocol:CMD: erase_sector, STATUS: Success\u001b[39m\u001b[0m\n",
      "\u001b[37m\u001b[1mINFO:spsdk.lpcprog.protocol:Preparing sector 3 for write\u001b[39m\u001b[0m\n",
      "\u001b[37m\u001b[1mINFO:spsdk.lpcprog.protocol:CMD: prepare_sectors_for_write, STATUS: Success\u001b[39m\u001b[0m\n",
      "\u001b[37m\u001b[1mINFO:spsdk.lpcprog.protocol:Copying 1024B RAM 0x10000800 to flash address 0xc00\u001b[39m\u001b[0m\n",
      "\u001b[37m\u001b[1mINFO:spsdk.lpcprog.protocol:CMD: copy_ram_to_flash, STATUS: Success\u001b[39m\u001b[0m\n",
      "\u001b[37m\u001b[1mINFO:spsdk.lpcprog.protocol:Calculating checksum\u001b[39m\u001b[0m\n",
      "\u001b[37m\u001b[1mINFO:spsdk.lpcprog.protocol:CMD: read_crc_checksum, STATUS: Success\u001b[39m\u001b[0m\n",
      "\u001b[?25lProgramming flash memory  [######################--------------]   62%  00:00:02\u001b[37m\u001b[1mINFO:spsdk.lpcprog.protocol:Writing flash sector: 2 Address: 0x800\u001b[39m\u001b[0m\n",
      "\u001b[37m\u001b[1mINFO:spsdk.lpcprog.protocol:CMD: write_ram, STATUS: Success\u001b[39m\u001b[0m\n",
      "\u001b[37m\u001b[1mINFO:spsdk.lpcprog.protocol:Preparing sector 2 for erase\u001b[39m\u001b[0m\n",
      "\u001b[37m\u001b[1mINFO:spsdk.lpcprog.protocol:CMD: prepare_sectors_for_write, STATUS: Success\u001b[39m\u001b[0m\n",
      "\u001b[37m\u001b[1mINFO:spsdk.lpcprog.protocol:Erasing sector 2\u001b[39m\u001b[0m\n",
      "\u001b[37m\u001b[1mINFO:spsdk.lpcprog.protocol:CMD: erase_sector, STATUS: Success\u001b[39m\u001b[0m\n",
      "\u001b[37m\u001b[1mINFO:spsdk.lpcprog.protocol:Preparing sector 2 for write\u001b[39m\u001b[0m\n",
      "\u001b[37m\u001b[1mINFO:spsdk.lpcprog.protocol:CMD: prepare_sectors_for_write, STATUS: Success\u001b[39m\u001b[0m\n",
      "\u001b[37m\u001b[1mINFO:spsdk.lpcprog.protocol:Copying 1024B RAM 0x10000800 to flash address 0x800\u001b[39m\u001b[0m\n",
      "\u001b[37m\u001b[1mINFO:spsdk.lpcprog.protocol:CMD: copy_ram_to_flash, STATUS: Success\u001b[39m\u001b[0m\n",
      "\u001b[37m\u001b[1mINFO:spsdk.lpcprog.protocol:Calculating checksum\u001b[39m\u001b[0m\n",
      "\u001b[37m\u001b[1mINFO:spsdk.lpcprog.protocol:CMD: read_crc_checksum, STATUS: Success\u001b[39m\u001b[0m\n",
      "\u001b[?25lProgramming flash memory  [###########################---------]   75%  00:00:01\u001b[37m\u001b[1mINFO:spsdk.lpcprog.protocol:Writing flash sector: 1 Address: 0x400\u001b[39m\u001b[0m\n",
      "\u001b[37m\u001b[1mINFO:spsdk.lpcprog.protocol:CMD: write_ram, STATUS: Success\u001b[39m\u001b[0m\n",
      "\u001b[37m\u001b[1mINFO:spsdk.lpcprog.protocol:Preparing sector 1 for erase\u001b[39m\u001b[0m\n",
      "\u001b[37m\u001b[1mINFO:spsdk.lpcprog.protocol:CMD: prepare_sectors_for_write, STATUS: Success\u001b[39m\u001b[0m\n",
      "\u001b[37m\u001b[1mINFO:spsdk.lpcprog.protocol:Erasing sector 1\u001b[39m\u001b[0m\n",
      "\u001b[37m\u001b[1mINFO:spsdk.lpcprog.protocol:CMD: erase_sector, STATUS: Success\u001b[39m\u001b[0m\n",
      "\u001b[37m\u001b[1mINFO:spsdk.lpcprog.protocol:Preparing sector 1 for write\u001b[39m\u001b[0m\n",
      "\u001b[37m\u001b[1mINFO:spsdk.lpcprog.protocol:CMD: prepare_sectors_for_write, STATUS: Success\u001b[39m\u001b[0m\n",
      "\u001b[37m\u001b[1mINFO:spsdk.lpcprog.protocol:Copying 1024B RAM 0x10000800 to flash address 0x400\u001b[39m\u001b[0m\n",
      "\u001b[37m\u001b[1mINFO:spsdk.lpcprog.protocol:CMD: copy_ram_to_flash, STATUS: Success\u001b[39m\u001b[0m\n",
      "\u001b[37m\u001b[1mINFO:spsdk.lpcprog.protocol:Calculating checksum\u001b[39m\u001b[0m\n",
      "\u001b[37m\u001b[1mINFO:spsdk.lpcprog.protocol:CMD: read_crc_checksum, STATUS: Success\u001b[39m\u001b[0m\n",
      "\u001b[?25lProgramming flash memory  [###############################-----]   87%  00:00:00\u001b[37m\u001b[1mINFO:spsdk.lpcprog.protocol:Writing flash sector: 0 Address: 0x0\u001b[39m\u001b[0m\n",
      "\u001b[37m\u001b[1mINFO:spsdk.lpcprog.protocol:CMD: write_ram, STATUS: Success\u001b[39m\u001b[0m\n",
      "\u001b[37m\u001b[1mINFO:spsdk.lpcprog.protocol:Preparing sector 0 for erase\u001b[39m\u001b[0m\n",
      "\u001b[37m\u001b[1mINFO:spsdk.lpcprog.protocol:CMD: prepare_sectors_for_write, STATUS: Success\u001b[39m\u001b[0m\n",
      "\u001b[37m\u001b[1mINFO:spsdk.lpcprog.protocol:Erasing sector 0\u001b[39m\u001b[0m\n",
      "\u001b[37m\u001b[1mINFO:spsdk.lpcprog.protocol:CMD: erase_sector, STATUS: Success\u001b[39m\u001b[0m\n",
      "\u001b[37m\u001b[1mINFO:spsdk.lpcprog.protocol:Preparing sector 0 for write\u001b[39m\u001b[0m\n",
      "\u001b[37m\u001b[1mINFO:spsdk.lpcprog.protocol:CMD: prepare_sectors_for_write, STATUS: Success\u001b[39m\u001b[0m\n",
      "\u001b[37m\u001b[1mINFO:spsdk.lpcprog.protocol:Copying 1024B RAM 0x10000800 to flash address 0x0\u001b[39m\u001b[0m\n",
      "\u001b[37m\u001b[1mINFO:spsdk.lpcprog.protocol:CMD: copy_ram_to_flash, STATUS: Success\u001b[39m\u001b[0m\n",
      "\u001b[37m\u001b[1mINFO:spsdk.lpcprog.protocol:Calculating checksum\u001b[39m\u001b[0m\n",
      "\u001b[37m\u001b[1mINFO:spsdk.lpcprog.protocol:CMD: read_crc_checksum, STATUS: Success\u001b[39m\u001b[0m\n",
      "\u001b[?25lProgramming flash memory  [####################################]  100%          \u001b[37m\u001b[1mINFO:spsdk.lpcprog.protocol:Programming flash memory completed, written 8192B\u001b[39m\u001b[0m\n",
      "\n",
      "Status: Success\n",
      "Description: Success\n",
      "\u001b[?25h\n"
     ]
    }
   ],
   "source": [
    "# Write LED blinky application\n",
    "%! lpcprog -f lpc865 $PORT $VERBOSITY program-flash -b \"../_data/lpcxpresso860_led_blinky.bin\""
   ]
  },
  {
   "cell_type": "markdown",
   "metadata": {},
   "source": [
    "### 2.10 Baudrate change\n",
    "\n",
    "Using the command set-baud-rate it is possible to change baudrate"
   ]
  },
  {
   "cell_type": "code",
   "execution_count": 41,
   "metadata": {},
   "outputs": [
    {
     "name": "stdout",
     "output_type": "stream",
     "text": [
      "lpcprog -p /dev/tty.usbserial-FTCEE1TG -v set-baud-rate -r 460800\n",
      "\u001b[37m\u001b[1mINFO:spsdk.lpcprog.protocol:CMD: set_baud_rate, STATUS: Success\u001b[39m\u001b[0m\n",
      "\n",
      "Status: Success\n",
      "Description: Success\n"
     ]
    }
   ],
   "source": [
    "# Set baudrate to 460800\n",
    "%! lpcprog $PORT $VERBOSITY set-baud-rate -r 460800"
   ]
  },
  {
   "cell_type": "code",
   "execution_count": 42,
   "metadata": {},
   "outputs": [
    {
     "name": "stdout",
     "output_type": "stream",
     "text": [
      "lpcprog -b 460800 -p /dev/tty.usbserial-FTCEE1TG -v get-info\n",
      "\u001b[37m\u001b[1mINFO:spsdk.lpcprog.protocol:CMD: read_uid, STATUS: Success\u001b[39m\u001b[0m\n",
      "\u001b[37m\u001b[1mINFO:spsdk.lpcprog.protocol:CMD: read_boot_code_version, STATUS: Success\u001b[39m\u001b[0m\n",
      "\u001b[37m\u001b[1mINFO:spsdk.lpcprog.protocol:CMD: read_part_id, STATUS: Success\u001b[39m\u001b[0m\n",
      "\u001b[37m\u001b[1mINFO:spsdk.lpcprog.protocol:CMD: read_memory, STATUS: Success\u001b[39m\u001b[0m\n",
      "Part ID: LPC865M201JBD64d\n",
      "UID: 0x0301001f 0x95cc1007 0x61aa9196 0xf5000282\n",
      "Boot code version: 0.240\n",
      "CRP Level: NO_CRP\n",
      "All USART ISP commands are supported.\n"
     ]
    }
   ],
   "source": [
    "# Now we have to provide the new baudrate as the -b/--baudrate command\n",
    "%! lpcprog -b 460800 $PORT $VERBOSITY get-info"
   ]
  }
 ],
 "metadata": {
  "kernelspec": {
   "display_name": "venv311",
   "language": "python",
   "name": "python3"
  },
  "language_info": {
   "codemirror_mode": {
    "name": "ipython",
    "version": 3
   },
   "file_extension": ".py",
   "mimetype": "text/x-python",
   "name": "python",
   "nbconvert_exporter": "python",
   "pygments_lexer": "ipython3",
   "version": "3.11.1"
  }
 },
 "nbformat": 4,
 "nbformat_minor": 2
}
