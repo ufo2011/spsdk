{
 "cells": [
  {
   "cell_type": "markdown",
   "metadata": {},
   "source": [
    "# Keys"
   ]
  },
  {
   "cell_type": "markdown",
   "metadata": {},
   "source": [
    "Nxpcrypto, a component of SPSDK (Secure Provisioning SDK), offers a suite of utilities for cryptographic operations. This Jupyter notebook guides you through the process of generating cryptographic keys using nxpcrypto, with a specific focus on Elliptic Curve Cryptography (ECC) keys.\n",
    "\n",
    "Cryptographic keys are fundamental to secure communication and data protection. They come in two main types:\n",
    "\n",
    " - Symmetric keys: Used in algorithms where the same key is used for both encryption and decryption.\n",
    " - Asymmetric keys: Consist of a key pair - a public key for encryption and a private key for decryption.\n",
    " \n",
    "In this guide, we'll concentrate on generating asymmetric key pairs, specifically ECC keys. ECC is a modern approach to public-key cryptography based on the algebraic structure of elliptic curves over finite fields. It offers smaller key sizes and faster computations compared to RSA while maintaining equivalent security levels.\n",
    "\n",
    "#### Key management best practices:\n",
    "\n",
    " - Generate unique keys for each project or application.\n",
    " - Store keys securely, preferably in a hardware security module (HSM) or a secure key management system.\n",
    " - Protect private keys with strong passwords or encryption.\n",
    " - Implement access controls to limit who can use or manage the keys.\n",
    " - Remember, the security of your entire system often depends on the security of your cryptographic keys. Treat them with utmost care and follow industry best practices for key management.\n",
    "\n",
    "#### Supported Key types\n",
    "\n",
    "**RSA**\n",
    "- 2048-bit (rsa2048)\n",
    "- 3072-bit (rsa3072)\n",
    "- 4096-bit (rsa4096)\n",
    "\n",
    "**ECC**\n",
    "- secp256r1\n",
    "- secp384r1\n",
    "- secp521r1\n",
    "\n",
    "**Chinese national cryptography standards**\n",
    "- sm2\n",
    "\n",
    "**Post Quantum**\n",
    "- dilithium2\n",
    "- dilithium3\n",
    "- dilithium5\n",
    "\n",
    "Now, let's proceed with generating keys using nxpcrypto in our Jupyter notebook."
   ]
  },
  {
   "cell_type": "markdown",
   "metadata": {},
   "source": [
    "## 1. Prerequisites\n",
    "  - SPSDK is needed with examples extension. `pip install spsdk[examples]` (Please refer to the [installation](../_knowledge_base/installation_guide.rst) documentation.)"
   ]
  },
  {
   "cell_type": "markdown",
   "metadata": {},
   "source": [
    "Let's prepare also workspace and variables."
   ]
  },
  {
   "cell_type": "code",
   "execution_count": 1,
   "metadata": {},
   "outputs": [
    {
     "name": "stdout",
     "output_type": "stream",
     "text": [
      "env: JUPYTER_SPSDK=1\n",
      "Created `%!` as an alias for `%execute`.\n"
     ]
    }
   ],
   "source": [
    "# Initialization cell\n",
    "import os\n",
    "\n",
    "# This env variable sets colored logger output to STDOUT\n",
    "%env JUPYTER_SPSDK=1\n",
    "# Set a magic for command execution and echo\n",
    "%alias execute echo %l && %l\n",
    "%alias_magic ! execute"
   ]
  },
  {
   "cell_type": "code",
   "execution_count": 2,
   "metadata": {},
   "outputs": [],
   "source": [
    "WORKSPACE = \"workspace/\"  # change this to path to your workspace\n",
    "VERBOSITY = (\n",
    "    \"-v\"  # verbosity of commands, might be -v or -vv for debug or blank for no additional info\n",
    ")"
   ]
  },
  {
   "cell_type": "markdown",
   "metadata": {},
   "source": [
    "## 2. Keys Generation\n",
    "\n",
    "This section is used for key generation. Each time the keys generate command is called, an asymmetric key pair is generated. Key pair includes a public key (.pub) and a corresponding private key (.pem)."
   ]
  },
  {
   "cell_type": "markdown",
   "metadata": {},
   "source": [
    "### 2.1 Generate Keys with nxpcrypto CLI\n",
    "The nxpcrypto application provides command line interface which can be used for key generation as well as for verification generated key pair."
   ]
  },
  {
   "cell_type": "code",
   "execution_count": 3,
   "metadata": {},
   "outputs": [
    {
     "name": "stdout",
     "output_type": "stream",
     "text": [
      "nxpcrypto -v key generate -k secp256r1 -o workspace/srk0_secp256r1.pem --force \n",
      "The key pair has been created: workspace/srk0_secp256r1.pub, workspace/srk0_secp256r1.pem\n",
      "nxpcrypto -v key verify -k1 workspace/srk0_secp256r1.pem -k2 workspace/srk0_secp256r1.pub \n",
      "Keys match.\n"
     ]
    }
   ],
   "source": [
    "KEY_TYPE = \"secp256r1\"\n",
    "\n",
    "ROTK_PRIVATE_KEY_PATH = WORKSPACE + f\"srk0_{KEY_TYPE}.pem\"\n",
    "ROTK_PUBLIC_KEY_PATH = WORKSPACE + f\"srk0_{KEY_TYPE}.pub\"\n",
    "%! nxpcrypto $VERBOSITY key generate -k $KEY_TYPE -o $ROTK_PRIVATE_KEY_PATH --force\n",
    "\n",
    "# verify that keys were generated\n",
    "assert os.path.exists(ROTK_PRIVATE_KEY_PATH)\n",
    "assert os.path.exists(ROTK_PUBLIC_KEY_PATH)\n",
    "\n",
    "# check that the keys match\n",
    "%! nxpcrypto $VERBOSITY key verify -k1 $ROTK_PRIVATE_KEY_PATH -k2 $ROTK_PUBLIC_KEY_PATH"
   ]
  },
  {
   "cell_type": "markdown",
   "metadata": {},
   "source": [
    "### 2.2 Generating Keys with nxpcrypto API\n",
    "The `spsdk.crypto.keys` module handles key operations in the SPSDK. It provides two base classes, `PrivateKey` and `PublicKey`, which serve as the foundation for working with various types of keys.SPSDK supports all standard keys supported in cryptography like RSA and ECC with PEM and DER formats. In addition to *PEM* and *DER* encoding, SPSDK defines *NXP* encoding that is used with the NXP devices that are memory constrained.\n",
    "\n",
    "**Private Key**\n",
    "\n",
    "The `PrivateKey` class is a fundamental component of the SPSDK, acting as an abstract base class for private keys. It inherits from the `BaseClass` and includes abstract methods that must be implemented by any subclasses.\n",
    "\n",
    "**Public Key**\n",
    "\n",
    "Similarly, the `PublicKey` class is a crucial part of the SPSDK, functioning as an abstract base class for public keys. Like the `PrivateKey` class, it extends the `BaseClass` and defines abstract methods that its subclasses must implement."
   ]
  },
  {
   "cell_type": "code",
   "execution_count": 4,
   "metadata": {},
   "outputs": [
    {
     "name": "stdout",
     "output_type": "stream",
     "text": [
      "The RSA  key pair was generated workspace/rsa_2048.pem, workspace/rsa_2048.pub.\n"
     ]
    }
   ],
   "source": [
    "from spsdk.crypto.keys import EccCurve, PrivateKeyEcc, PrivateKeyRsa\n",
    "\n",
    "# Let's start with RSA key pair\n",
    "RSA_PRIVATE_KEY_PATH = WORKSPACE + f\"rsa_2048.pem\"\n",
    "RSA_PUBLIC_KEY_PATH = WORKSPACE + f\"rsa_2048.pub\"\n",
    "\n",
    "priv_key_2048 = PrivateKeyRsa.generate_key(key_size=2048)\n",
    "pub_key_2048 = priv_key_2048.get_public_key()\n",
    "\n",
    "# Generate and save rsa keys (size 2048) - pem format\n",
    "priv_key_2048.save(RSA_PRIVATE_KEY_PATH)\n",
    "pub_key_2048.save(RSA_PUBLIC_KEY_PATH)\n",
    "\n",
    "# verify that keys were generated\n",
    "assert os.path.exists(RSA_PRIVATE_KEY_PATH)\n",
    "assert os.path.exists(RSA_PUBLIC_KEY_PATH)\n",
    "\n",
    "match = priv_key_2048.verify_public_key(pub_key_2048)\n",
    "assert match, \"Private key does not match the public key\"\n",
    "print(f\"The RSA  key pair was generated {RSA_PRIVATE_KEY_PATH}, {RSA_PUBLIC_KEY_PATH}.\")"
   ]
  },
  {
   "cell_type": "code",
   "execution_count": 5,
   "metadata": {},
   "outputs": [
    {
     "name": "stdout",
     "output_type": "stream",
     "text": [
      "The ECC key pair was generated workspace/ecc_p256.pem, workspace/ecc_p256.pub.\n"
     ]
    }
   ],
   "source": [
    "# Now, let's generate ECC key pair\n",
    "ECC_PRIVATE_KEY_PATH = WORKSPACE + f\"ecc_p256.pem\"\n",
    "ECC_PUBLIC_KEY_PATH = WORKSPACE + f\"ecc_p256.pub\"\n",
    "\n",
    "priv_key_p256 = PrivateKeyEcc.generate_key(curve_name=EccCurve.SECP256R1)\n",
    "pub_key_p256 = priv_key_p256.get_public_key()\n",
    "priv_key_p256.save(ECC_PRIVATE_KEY_PATH)\n",
    "pub_key_p256.save(ECC_PUBLIC_KEY_PATH)\n",
    "\n",
    "# verify that keys were generated\n",
    "assert os.path.exists(ECC_PRIVATE_KEY_PATH)\n",
    "assert os.path.exists(ECC_PUBLIC_KEY_PATH)\n",
    "\n",
    "match = priv_key_p256.verify_public_key(pub_key_p256)\n",
    "assert match, \"Private key does not match the public key\"\n",
    "print(f\"The ECC key pair was generated {ECC_PRIVATE_KEY_PATH}, {ECC_PUBLIC_KEY_PATH}.\")"
   ]
  }
 ],
 "metadata": {
  "kernelspec": {
   "display_name": "venv",
   "language": "python",
   "name": "python3"
  },
  "language_info": {
   "codemirror_mode": {
    "name": "ipython",
    "version": 3
   },
   "file_extension": ".py",
   "mimetype": "text/x-python",
   "name": "python",
   "nbconvert_exporter": "python",
   "pygments_lexer": "ipython3",
   "version": "3.10.6"
  }
 },
 "nbformat": 4,
 "nbformat_minor": 2
}
