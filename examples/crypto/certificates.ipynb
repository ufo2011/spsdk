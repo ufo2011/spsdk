{
 "cells": [
  {
   "cell_type": "markdown",
   "metadata": {},
   "source": [
    "# Certificates"
   ]
  },
  {
   "cell_type": "markdown",
   "metadata": {},
   "source": [
    "A digital certificate is an electronic document that verifies the identity of an individual, organization, or device. It is a crucial component of secure online communication, ensuring that data exchanged between parties is encrypted and protected from unauthorized access.\n",
    "\n",
    "The `Certificate` class is a crucial representation in the SPSDK (Secure Provisioning SDK), serving as a representation of  X.509 certificates. It  encapsulates functionalities related to generating, saving, loading, and manipulating certificates."
   ]
  },
  {
   "cell_type": "markdown",
   "metadata": {},
   "source": [
    "## 1. Prerequisites\n",
    "  - SPSDK is needed with examples extension. `pip install spsdk[examples]` (Please refer to the [installation](../_knowledge_base/installation_guide.rst) documentation.)\n",
    "  - Generate 4 key pairs using nxpcrypto application. To generate these keys, use the *nxpcrypto* application (refer to [keys generation](./keys.ipynb)). In this example we will use pre-generated keys"
   ]
  },
  {
   "cell_type": "markdown",
   "metadata": {},
   "source": [
    "Let's prepare also workspace and variables."
   ]
  },
  {
   "cell_type": "code",
   "execution_count": 1,
   "metadata": {},
   "outputs": [
    {
     "name": "stdout",
     "output_type": "stream",
     "text": [
      "env: JUPYTER_SPSDK=1\n",
      "Created `%!` as an alias for `%execute`.\n"
     ]
    }
   ],
   "source": [
    "# Initialization cell\n",
    "import os\n",
    "\n",
    "# This env variable sets colored logger output to STDOUT\n",
    "%env JUPYTER_SPSDK=1\n",
    "# Set a magic for command execution and echo\n",
    "%alias execute echo %l && %l\n",
    "%alias_magic ! execute"
   ]
  },
  {
   "cell_type": "code",
   "execution_count": 2,
   "metadata": {},
   "outputs": [],
   "source": [
    "WORKSPACE = \"workspace/\"  # change this to path to your workspace\n",
    "KEYS_DIR = \"_data/keys/\"\n",
    "VERBOSITY = (\n",
    "    \"-v\"  # verbosity of commands, might be -v or -vv for debug or blank for no additional info\n",
    ")"
   ]
  },
  {
   "cell_type": "markdown",
   "metadata": {},
   "source": [
    "## 2. Chain of Trust\n",
    "\n",
    "A chain certificate is a collection of certificates that form a hierarchical structure, with each certificate signing the next one in the chain. The chain starts with a root certificate, which is a self-signed certificate that serves as the trust anchor. Each subsequent certificate in the chain is signed by the previous one, forming a chain of trust.\n",
    "\n",
    "The SPSDK uses a specific structure for chain certificates, which consists of the following components:\n",
    "\n",
    "**Root Certificate**\n",
    "\n",
    "The root certificate is a self-signed certificate that serves as the trust anchor. It is the top-most certificate in the chain and is used to sign the next certificate in the chain.\n",
    "\n",
    "**Intermediate Certificate**\n",
    "\n",
    " The intermediate certificate is signed by the root certificate and is used to sign the next certificate in the chain.\n",
    "\n",
    "**Device Certificate**\n",
    "\n",
    " The device certificate is signed by the intermediate certificate and is used to authenticate the device."
   ]
  },
  {
   "cell_type": "markdown",
   "metadata": {},
   "source": [
    " ### 2.1 Chain of Trust generation\n",
    " \n",
    "In following example we will generate following certificates chain.\n",
    " \n",
    "<pre>\n",
    "        CA Certificate\n",
    "          /      \\\n",
    "         /        \\\n",
    "       crt1      intermediate_crt\n",
    "                    \\\n",
    "                     \\\n",
    "                   crt2\n",
    "</pre>"
   ]
  },
  {
   "cell_type": "code",
   "execution_count": 3,
   "metadata": {},
   "outputs": [
    {
     "name": "stdout",
     "output_type": "stream",
     "text": [
      "The CA Certificate was created in der and pem format in workspace/\n"
     ]
    }
   ],
   "source": [
    "from os import path\n",
    "\n",
    "from spsdk.crypto.certificate import Certificate, generate_extensions, generate_name\n",
    "from spsdk.crypto.crypto_types import SPSDKEncoding\n",
    "from spsdk.crypto.keys import PrivateKeyRsa, PublicKeyRsa\n",
    "\n",
    "# Generate Root CA Certificate (self-signed certificate)\n",
    "private_key_2048_ca = PrivateKeyRsa.load(path.join(KEYS_DIR, \"ca_privatekey_rsa2048.pem\"))\n",
    "public_key_2048_ca = PublicKeyRsa.load(path.join(KEYS_DIR, \"ca_publickey_rsa2048.pem\"))\n",
    "subject = issuer = generate_name([{\"COMMON_NAME\": \"first\"}, {\"COUNTRY_NAME\": \"CZ\"}])\n",
    "ca_cert = Certificate.generate_certificate(\n",
    "    subject=subject,\n",
    "    issuer=issuer,\n",
    "    subject_public_key=public_key_2048_ca,\n",
    "    issuer_private_key=private_key_2048_ca,\n",
    "    serial_number=0x1,\n",
    "    duration=20 * 365,\n",
    "    extensions=generate_extensions(\n",
    "        {\"BASIC_CONSTRAINTS\": {\"ca\": True, \"path_length\": 5}},\n",
    "    ),\n",
    ")\n",
    "# Save certificates in two formats (pem and der)\n",
    "ca_cert.save(path.join(WORKSPACE, \"ca_cert_pem.crt\"))\n",
    "ca_cert.save(path.join(WORKSPACE, \"ca_cert_der.crt\"), encoding_type=SPSDKEncoding.DER)\n",
    "print(f\"The CA Certificate was created in der and pem format in {WORKSPACE}\")"
   ]
  },
  {
   "cell_type": "code",
   "execution_count": 4,
   "metadata": {},
   "outputs": [
    {
     "name": "stdout",
     "output_type": "stream",
     "text": [
      "The first chain certificate (signed by CA certificate) was created in der and pem format in workspace/.\n"
     ]
    }
   ],
   "source": [
    "# Create leaf certificate signed by private key of the CA certificate\n",
    "# Note that the CA flag is set to False\n",
    "subject_crt1 = generate_name([{\"COMMON_NAME\": \"second\"}, {\"COUNTRY_NAME\": \"CZ\"}])\n",
    "public_key_2048_subject = PublicKeyRsa.load(path.join(KEYS_DIR, \"crt1_publickey_rsa2048.pem\"))\n",
    "crt1 = Certificate.generate_certificate(\n",
    "    subject=subject_crt1,\n",
    "    issuer=issuer,\n",
    "    subject_public_key=public_key_2048_subject,\n",
    "    issuer_private_key=private_key_2048_ca,\n",
    "    serial_number=0x3CC30000BABADEDA,\n",
    "    duration=20 * 365,\n",
    "    extensions=generate_extensions(\n",
    "        {\"BASIC_CONSTRAINTS\": {\"ca\": False, \"path_length\": None}},\n",
    "    ),\n",
    ")\n",
    "# Save certificates in two formats (pem and der)\n",
    "crt1.save(path.join(WORKSPACE, \"crt1_pem.crt\"))\n",
    "crt1.save(path.join(WORKSPACE, \"crt1_der.crt\"), encoding_type=SPSDKEncoding.DER)\n",
    "print(\n",
    "    f\"The first chain certificate (signed by CA certificate) was created in der and pem format in {WORKSPACE}.\"\n",
    ")"
   ]
  },
  {
   "cell_type": "code",
   "execution_count": 5,
   "metadata": {},
   "outputs": [
    {
     "name": "stdout",
     "output_type": "stream",
     "text": [
      "The intermediate certificate (signed by CA certificate) was created in der and pem format in workspace/.\n"
     ]
    }
   ],
   "source": [
    "# Create intermediate certificate signed by private key of the CA certificate\n",
    "# Note that the CA flag is set to True\n",
    "subject_crt2 = generate_name([{\"COMMON_NAME\": \"third\"}, {\"COUNTRY_NAME\": \"CZ\"}])\n",
    "private_key_2048_subject_1 = PrivateKeyRsa.load(\n",
    "    path.join(KEYS_DIR, \"intermediate_privatekey_rsa2048.pem\")\n",
    ")\n",
    "public_key_2048_subject_1 = PublicKeyRsa.load(\n",
    "    path.join(KEYS_DIR, \"intermediate_publickey_rsa2048.pem\")\n",
    ")\n",
    "crt2 = Certificate.generate_certificate(\n",
    "    subject=subject_crt2,\n",
    "    issuer=issuer,\n",
    "    subject_public_key=public_key_2048_subject_1,\n",
    "    issuer_private_key=private_key_2048_ca,\n",
    "    serial_number=0x2,\n",
    "    duration=20 * 365,\n",
    "    extensions=generate_extensions(\n",
    "        {\"BASIC_CONSTRAINTS\": {\"ca\": True, \"path_length\": 3}},\n",
    "    ),\n",
    ")\n",
    "# Save certificates in two formats (pem and der)\n",
    "crt2.save(path.join(WORKSPACE, \"intermediate_crt_pem.crt\"))\n",
    "crt2.save(path.join(WORKSPACE, \"intermediate_crt_der.crt\"), encoding_type=SPSDKEncoding.DER)\n",
    "print(\n",
    "    f\"The intermediate certificate (signed by CA certificate) was created in der and pem format in {WORKSPACE}.\"\n",
    ")"
   ]
  },
  {
   "cell_type": "code",
   "execution_count": 6,
   "metadata": {},
   "outputs": [
    {
     "name": "stdout",
     "output_type": "stream",
     "text": [
      "The second certificate in a chain was created in der and pem format in workspace/.\n"
     ]
    }
   ],
   "source": [
    "# Create leaf certificate signed by private key of the intermediate certificate\n",
    "# Note that the CA flag is set to False\n",
    "subject_crt3 = generate_name([{\"COMMON_NAME\": \"fourth\"}, {\"COUNTRY_NAME\": \"CZ\"}])\n",
    "issuer_crt3 = subject_crt2\n",
    "public_key_2048_subject_2 = PublicKeyRsa.load(path.join(KEYS_DIR, \"crt2_publickey_rsa2048.pem\"))\n",
    "assert isinstance(public_key_2048_subject_2, PublicKeyRsa)\n",
    "crt3 = Certificate.generate_certificate(\n",
    "    subject=subject_crt3,\n",
    "    issuer=issuer_crt3,\n",
    "    subject_public_key=public_key_2048_subject_2,\n",
    "    issuer_private_key=private_key_2048_subject_1,\n",
    "    serial_number=0x3CC30000BABADEDA,\n",
    "    duration=20 * 365,\n",
    "    extensions=generate_extensions(\n",
    "        {\"BASIC_CONSTRAINTS\": {\"ca\": False, \"path_length\": None}},\n",
    "    ),\n",
    ")\n",
    "# Save certificates in two formats (pem and der)\n",
    "crt3.save(path.join(WORKSPACE, \"crt2_pem.crt\"))\n",
    "crt3.save(path.join(WORKSPACE, \"crt2_der.crt\"), encoding_type=SPSDKEncoding.DER)\n",
    "print(f\"The second certificate in a chain was created in der and pem format in {WORKSPACE}.\")"
   ]
  },
  {
   "cell_type": "markdown",
   "metadata": {},
   "source": [
    "### 2.2 Chain of Trust validation"
   ]
  },
  {
   "cell_type": "code",
   "execution_count": 7,
   "metadata": {},
   "outputs": [
    {
     "name": "stdout",
     "output_type": "stream",
     "text": [
      "The certificate was signed by the CA.\n",
      "The chain of certificates is valid.\n"
     ]
    }
   ],
   "source": [
    "# Example provides the usage of certificates validation. It validates previously created chains.\n",
    "\n",
    "from spsdk.crypto.certificate import Certificate, validate_certificate_chain\n",
    "from spsdk.exceptions import SPSDKError\n",
    "\n",
    "# Load public key of CA certificate\n",
    "ca0_pubkey_rsa2048 = PublicKeyRsa.load(path.join(KEYS_DIR, \"ca_publickey_rsa2048.pem\"))\n",
    "# Load CA certificate\n",
    "ca_cert = Certificate.load(path.join(WORKSPACE, \"ca_cert_pem.crt\"))\n",
    "# Compare CA's public key from file and the one from certificate\n",
    "if ca0_pubkey_rsa2048 != ca_cert.get_public_key():\n",
    "    raise SPSDKError(\"Keys are not the same (the one from disc and the one from cert)\")\n",
    "\n",
    "# Load certificate, which is singed by CA\n",
    "crt = Certificate.load(path.join(WORKSPACE, \"crt1_pem.crt\"))\n",
    "if not ca_cert.validate_subject(crt):\n",
    "    raise SPSDKError(\"The certificate is not valid\")\n",
    "print(\"The certificate was signed by the CA.\")\n",
    "\n",
    "# # Load chain of certificate\n",
    "chain = [\"crt2_pem.crt\", \"intermediate_crt_pem.crt\", \"ca_cert_pem.crt\"]\n",
    "chain_certs = [Certificate.load(path.join(WORKSPACE, cert_name)) for cert_name in chain]\n",
    "\n",
    "# Validate the chain (if corresponding items in chain are singed by one another)\n",
    "if not validate_certificate_chain(chain_certs):\n",
    "    raise SPSDKError(\"The certificate chain is not valid\")\n",
    "print(\"The chain of certificates is valid.\")\n",
    "\n",
    "# Checks if CA flag is set correctly\n",
    "if chain_certs[0].ca:\n",
    "    raise SPSDKError(\"CA flag is set\")\n",
    "if not chain_certs[1].ca:\n",
    "    raise SPSDKError(\"CA flag is not set\")\n",
    "if not chain_certs[2].ca:\n",
    "    raise SPSDKError(\"CA flag is not set\")"
   ]
  }
 ],
 "metadata": {
  "kernelspec": {
   "display_name": "venv_uv",
   "language": "python",
   "name": "python3"
  },
  "language_info": {
   "codemirror_mode": {
    "name": "ipython",
    "version": 3
   },
   "file_extension": ".py",
   "mimetype": "text/x-python",
   "name": "python",
   "nbconvert_exporter": "python",
   "pygments_lexer": "ipython3",
   "version": "3.10.6"
  },
  "nbreg": {
   "diff_ignore": [
    "/cells/1/outputs/0/text"
   ]
  },
  "orig_nbformat": 4
 },
 "nbformat": 4,
 "nbformat_minor": 2
}
