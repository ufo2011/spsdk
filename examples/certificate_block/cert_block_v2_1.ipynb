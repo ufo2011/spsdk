{
 "cells": [
  {
   "cell_type": "markdown",
   "metadata": {},
   "source": [
    "# How to create a Certificate Block v2.1\n",
    "\n",
    "This notebook describes the procedure for creating a certificate block v2.1 using SPSDK (Secure Provisioning SDK). It provides a step-by-step guide on how to generate and structure the certificate block, which is crucial for secure boot processes and firmware signing in embedded systems. The notebook demonstrates the practical application of SPSDK tools to create a standardized and secure certificate block format.\n",
    "\n",
    "For more detailed information about the certificate block format, you can refer to the following file:\n",
    "\n",
    "[Certificate blocks specification](../_knowledge_base/cert_block_summary.md)\n",
    "\n",
    "This resource contains a comprehensive description of the certificate block format and its specifications.\n",
    "\n",
    "**Procedure of creating a certificate block v2.1 in SPSDK**\n",
    "1. Optionally generate configuration template file as a starting point\n",
    "   \n",
    "   `nxpimage cert-block get-template -f lpc55s36 -o .\\workspace\\cert_block_lpc55s36.yaml --force`\n",
    "2. Create a configuration file (modify already created template or use any from other project)\n",
    "3. Export the certificate block binary\n",
    "\n",
    "\n",
    "There is two major ways to export certificate block and for both is added example:\n",
    " - Without ISK certificate\n",
    " - With ISK certificate\n",
    "\n",
    "\n",
    "## 1. Prerequisites\n",
    "- SPSDK is needed with examples extension. `pip install spsdk[examples]` (Please refer to the [installation](../_knowledge_base/installation_guide.rst) documentation.)\n",
    "\n",
    "- Have already generated keys for the project as per the requirements. (Refer to the [How to create keys in SPSDK NXPCRYPTO](../crypto/keys.ipynb) documentation.)\n",
    "    In our scenario we will use already prepared keys from example folder ECC256 prepared keys: `../_data/keys/ecc256`\n",
    "\n",
    "Let's prepare also workspace and variables.\n",
    "\n",
    "\n",
    "\n",
    "\n",
    "\n",
    "\n"
   ]
  },
  {
   "cell_type": "code",
   "execution_count": 1,
   "metadata": {},
   "outputs": [
    {
     "name": "stdout",
     "output_type": "stream",
     "text": [
      "env: JUPYTER_SPSDK=1\n",
      "Created `%!` as an alias for `%execute`.\n"
     ]
    }
   ],
   "source": [
    "# Initialization cell\n",
    "from spsdk.utils.jupyter_utils import YamlDiffWidget\n",
    "\n",
    "# This env variable sets colored logger output to STDOUT\n",
    "%env JUPYTER_SPSDK=1\n",
    "# Set a magic for command execution and echo\n",
    "%alias execute echo %l && %l\n",
    "%alias_magic ! execute"
   ]
  },
  {
   "cell_type": "markdown",
   "metadata": {},
   "source": [
    "## 2. Prepare the certificate block configuration file\n",
    "As a staring point the template file has been got and modify to satisfy our requirements.\n",
    "\n",
    "### 2.1 Without ISK\n",
    "The example of configuration without ISK certificate."
   ]
  },
  {
   "cell_type": "code",
   "execution_count": 2,
   "metadata": {},
   "outputs": [
    {
     "name": "stdout",
     "output_type": "stream",
     "text": [
      "nxpimage cert-block get-template -f lpc55s36 -o ./workspace/cert_block_v2_1_template.yaml --force\n",
      "Creating workspace/cert_block_v2_1_template.yaml template file.\n"
     ]
    },
    {
     "data": {
      "text/html": [
       "\n",
       "        \n",
       "        <style>\n",
       "            .yaml-diff { font-family: monospace; background-color: #f0f0f0; padding: 1em; border: 1px solid #c0c0c0; }\n",
       "            .yaml-key { color: #0000CC; font-weight: bold; }\n",
       "            .yaml-value { color: #006600; }\n",
       "            .yaml-commented-line { color: #008800; }\n",
       "            .yaml-list-item { color: #660066; }\n",
       "            .diff-removed { background-color: #ffaaaa; }\n",
       "            .diff-added { background-color: #aaffaa; }\n",
       "            .yaml-comment {\n",
       "                background-color: #FF8C00;\n",
       "                color: #000000;\n",
       "                border-radius: 50%;\n",
       "                padding: 0 0.3em;\n",
       "                margin-left: 0.5em;\n",
       "                font-size: 0.8em;\n",
       "                cursor: help;\n",
       "                font-weight: bold;\n",
       "                text-shadow: 1px 1px 1px rgba(255, 255, 255, 0.7);\n",
       "            }\n",
       "            #toggleButton_78985415f4e228c8f3a785ce2205f79c {\n",
       "                background-color: #4CAF50;\n",
       "                border: none;\n",
       "                color: white;\n",
       "                padding: 10px 20px;\n",
       "                text-align: center;\n",
       "                text-decoration: none;\n",
       "                display: inline-block;\n",
       "                font-size: 16px;\n",
       "                margin: 4px 2px;\n",
       "                cursor: pointer;\n",
       "            }\n",
       "        </style>\n",
       "        \n",
       "        \n",
       "        <script>\n",
       "        function toggleView_78985415f4e228c8f3a785ce2205f79c() {\n",
       "            var diffView = document.getElementById('diffView_78985415f4e228c8f3a785ce2205f79c');\n",
       "            var userConfigView = document.getElementById('userConfigView_78985415f4e228c8f3a785ce2205f79c');\n",
       "            var button = document.getElementById('toggleButton_78985415f4e228c8f3a785ce2205f79c');\n",
       "\n",
       "            if (diffView.style.display === 'none' && userConfigView.style.display === 'none') {\n",
       "                diffView.style.display = 'block';\n",
       "                userConfigView.style.display = 'none';\n",
       "                button.textContent = 'Show User Config';\n",
       "            } else if (diffView.style.display === 'block') {\n",
       "                diffView.style.display = 'none';\n",
       "                userConfigView.style.display = 'block';\n",
       "                button.textContent = 'Hide';\n",
       "            } else {\n",
       "                diffView.style.display = 'none';\n",
       "                userConfigView.style.display = 'none';\n",
       "                button.textContent = 'Show Diff';\n",
       "            }\n",
       "        }\n",
       "        </script>\n",
       "        \n",
       "        <div class=\"yaml-diff-container\">\n",
       "          <h3>Configuration Differences</h3>\n",
       "          <button onclick=\"toggleView_78985415f4e228c8f3a785ce2205f79c()\" id=\"toggleButton_78985415f4e228c8f3a785ce2205f79c\">Show Diff</button>\n",
       "          \n",
       "        <a href=\"data:text/plain;base64,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\" download=\"user_config.yaml\">\n",
       "            <button style=\"background-color: #4CAF50; border: none; color: white; padding: 10px 20px; text-align: center; text-decoration: none; display: inline-block; font-size: 16px; margin: 4px 2px; cursor: pointer;\">\n",
       "                Download Config\n",
       "            </button>\n",
       "        </a>\n",
       "        \n",
       "          <div id=\"diffView_78985415f4e228c8f3a785ce2205f79c\" class=\"yaml-diff\" style=\"display:none;\"><pre class=\"yaml-diff\"><span class=\"yaml-commented-line\"># =========================================  Certification Block V21 template  =========================================</span><br><br><span class=\"yaml-commented-line\"># ======================================================================================================================</span><br><span class=\"yaml-commented-line\">#                                   == ISK (Image signing key) Certificate Settings ==                                  </span><br><span class=\"yaml-commented-line\"># ======================================================================================================================</span><br><span class=\"yaml-commented-line\"># ---------------------------------------===== MCU family name. [Required] =====----------------------------------------</span><br><span class=\"yaml-commented-line\"># Description: MCU family name.</span><br><span class=\"yaml-key\">family</span>: <span class=\"yaml-value\">lpc55s36</span><br><span class=\"yaml-commented-line\"># ------------------------------===== Use ISK for signature certification [Required] =====------------------------------</span><br><span class=\"yaml-commented-line\"># Description: Enable ISK type of signature certification.</span><br><span class=\"yaml-key\">useIsk</span>: <span class=\"yaml-value\">false</span> <span style=\"background-color: #FFFF00; border-radius: 5px; padding: 2px 6px;\n",
       "margin-left: 5px; font-size: 0.8em;\">Is set to false because ISK is not used in this example</span><br><span class=\"yaml-commented-line\"># ---------------------------------===== ISK public key [Conditionally required] =====----------------------------------</span><br><span class=\"yaml-commented-line\"># Description: Path to ISK public key.</span><br><span class=\"diff-removed\"><span class=\"yaml-key\">iskPublicKey</span>: <span class=\"yaml-value\">sign_cert.pub</span> <span style=\"background-color: #FFFF00; border-radius: 5px; padding:\n",
       "2px 6px; margin-left: 5px; font-size: 0.8em;\">Is removed because ISK is not used in this certificates</span></span><br><span class=\"yaml-commented-line\"># ----------------------------------===== ISK certificate constraint [Optional] =====-----------------------------------</span><br><span class=\"yaml-commented-line\"># Description: Constraint is certificate version, compared with monotonic counter in fuses.</span><br><span class=\"diff-removed\"><span class=\"yaml-key\">iskCertificateConstraint</span>: <span class=\"yaml-value\">0</span> <span style=\"background-color: #FFFF00; border-radius: 5px; padding:\n",
       "2px 6px; margin-left: 5px; font-size: 0.8em;\">Is removed because ISK is not used in this certificates</span></span><br><span class=\"yaml-commented-line\"># -----------------------------------===== ISK certificate user data [Optional] =====-----------------------------------</span><br><span class=\"yaml-commented-line\"># Description: Path to user data.</span><br><span class=\"diff-removed\"><span class=\"yaml-key\">iskCertData</span>: <span class=\"yaml-value\">user_cert_data.bin</span> <span style=\"background-color: #FFFF00; border-radius: 5px;\n",
       "padding: 2px 6px; margin-left: 5px; font-size: 0.8em;\">Is removed because ISK is not used in this certificates</span></span><br><span class=\"yaml-commented-line\"># -----------------------===== Main root Certification Private Key [Conditionally required] =====-----------------------</span><br><span class=\"yaml-commented-line\"># Description: Path to Main root Certification Private Key.</span><br><span class=\"diff-added\"><span class=\"yaml-key\">signPrivateKey</span>: <span class=\"yaml-value\">../../_data/keys/ecc256/srk0_ecc256.pem</span></span><br><span class=\"diff-removed\"><span class=\"yaml-key\">signPrivateKey</span>: <span class=\"yaml-value\">main_cert_prv_key.pem</span> <span style=\"background-color: #FFFF00; border-radius: 5px;\n",
       "padding: 2px 6px; margin-left: 5px; font-size: 0.8em;\">Path to private key file for signing the certificate block</span></span><br><span class=\"yaml-commented-line\"># -------------------------------===== Signature Provider [Conditionally required] =====--------------------------------</span><br><span class=\"yaml-commented-line\"># Description: Signature provider configuration in format 'type=<sp_type>;<key1>=<value1>;<key2>=<value2>'.</span><br><span class=\"diff-removed\"><span class=\"yaml-key\">signProvider</span>: <span class=\"yaml-value\">type=file;file_path=root_prv_key.pem</span> <span style=\"background-color: #FFFF00; border-\n",
       "radius: 5px; padding: 2px 6px; margin-left: 5px; font-size: 0.8em;\">Is removed because we are using the private key directly</span></span><br><span class=\"yaml-commented-line\"># ======================================================================================================================</span><br><span class=\"yaml-commented-line\">#                                                == Root Keys Settings ==                                               </span><br><span class=\"yaml-commented-line\"># ======================================================================================================================</span><br><span class=\"yaml-commented-line\"># -----------------------------===== Root Certificate File 0 [Conditionally required] =====-----------------------------</span><br><span class=\"yaml-commented-line\"># Description: Root certificate file index 0.</span><br><span class=\"diff-removed\"><span class=\"yaml-key\">rootCertificate0File</span>: <span class=\"yaml-value\">my_certificate0.pub</span> <span style=\"background-color: #FFFF00; border-radius:\n",
       "5px; padding: 2px 6px; margin-left: 5px; font-size: 0.8em;\">Change to existing path of Root of Trust key</span></span><br><span class=\"diff-added\"><span class=\"yaml-key\">rootCertificate0File</span>: <span class=\"yaml-value\">../../_data/keys/ecc256/srk0_ecc256.pub</span></span><br><span class=\"yaml-commented-line\"># ------------------------------------===== Root Certificate File 1 [Optional] =====------------------------------------</span><br><span class=\"yaml-commented-line\"># Description: Root certificate file index 1.</span><br><span class=\"diff-removed\"><span class=\"yaml-key\">rootCertificate1File</span>: <span class=\"yaml-value\">my_certificate1.pub</span> <span style=\"background-color: #FFFF00; border-radius:\n",
       "5px; padding: 2px 6px; margin-left: 5px; font-size: 0.8em;\">Change to existing path of Root of Trust key</span></span><br><span class=\"diff-added\"><span class=\"yaml-key\">rootCertificate1File</span>: <span class=\"yaml-value\">../../_data/keys/ecc256/srk1_ecc256.pub</span></span><br><span class=\"yaml-commented-line\"># ------------------------------------===== Root Certificate File 2 [Optional] =====------------------------------------</span><br><span class=\"yaml-commented-line\"># Description: Root certificate file index 2.</span><br><span class=\"diff-removed\"><span class=\"yaml-key\">rootCertificate2File</span>: <span class=\"yaml-value\">my_certificate2.pub</span> <span style=\"background-color: #FFFF00; border-radius:\n",
       "5px; padding: 2px 6px; margin-left: 5px; font-size: 0.8em;\">Change to existing path of Root of Trust key</span></span><br><span class=\"diff-added\"><span class=\"yaml-key\">rootCertificate2File</span>: <span class=\"yaml-value\">../../_data/keys/ecc256/srk2_ecc256.pub</span></span><br><span class=\"yaml-commented-line\"># ------------------------------------===== Root Certificate File 3 [Optional] =====------------------------------------</span><br><span class=\"yaml-commented-line\"># Description: Root certificate file index 3.</span><br><span class=\"diff-removed\"><span class=\"yaml-key\">rootCertificate3File</span>: <span class=\"yaml-value\">my_certificate3.pub</span> <span style=\"background-color: #FFFF00; border-radius:\n",
       "5px; padding: 2px 6px; margin-left: 5px; font-size: 0.8em;\">Change to existing path of Root of Trust key</span></span><br><span class=\"diff-added\"><span class=\"yaml-key\">rootCertificate3File</span>: <span class=\"yaml-value\">../../_data/keys/ecc256/srk3_ecc256.pub</span></span><br><span class=\"yaml-commented-line\"># -----------------------------===== Main Certificate Index [Conditionally required] =====------------------------------</span><br><span class=\"yaml-commented-line\"># Description: Index of certificate that is used as a main. If not defined, the certificate matching private key will be</span><br><span class=\"yaml-commented-line\"># selected.</span><br><span class=\"yaml-key\">mainRootCertId</span>: <span class=\"yaml-value\">0</span> <span style=\"background-color: #FFFF00; border-radius: 5px; padding: 2px 6px;\n",
       "margin-left: 5px; font-size: 0.8em;\">As good example we set the main root index of RoT to 0</span><br><span class=\"yaml-commented-line\"># ======================================================================================================================</span><br><span class=\"yaml-commented-line\">#                                                  == Basic Settings ==                                                 </span><br><span class=\"yaml-commented-line\"># ======================================================================================================================</span><br><span class=\"yaml-commented-line\"># --------------------------------------===== cert block filename [Required] =====--------------------------------------</span><br><span class=\"yaml-commented-line\"># Description: Generated cert block filename.</span><br><span class=\"diff-removed\"><span class=\"yaml-key\">containerOutputFile</span>: <span class=\"yaml-value\">cert_block.bin</span> <span style=\"background-color: #FFFF00; border-radius: 5px;\n",
       "padding: 2px 6px; margin-left: 5px; font-size: 0.8em;\">Modify the output path to our example needs. For output files in SPSDK workspace relative paths are\n",
       "always relative to configuration file location.</span></span><br><span class=\"diff-added\"><span class=\"yaml-key\">containerOutputFile</span>: <span class=\"yaml-value\">../workspace/cert_block_v2_1.bin</span></span><br></pre></div>\n",
       "          <div id=\"userConfigView_78985415f4e228c8f3a785ce2205f79c\" class=\"yaml-diff\" style=\"display:none;\"><pre class=\"yaml-diff\"><span class=\"yaml-commented-line\"># Copyright 2024 NXP</span><br><span class=\"yaml-commented-line\">#</span><br><span class=\"yaml-commented-line\"># SPDX-License-Identifier: BSD-3-Clause</span><br><span class=\"yaml-commented-line\"># =========================================  Certification Block V21 template  =========================================</span><br><br><span class=\"yaml-commented-line\"># ======================================================================================================================</span><br><span class=\"yaml-commented-line\">#                                   == ISK (Image signing key) Certificate Settings ==</span><br><span class=\"yaml-commented-line\"># ======================================================================================================================</span><br><span class=\"yaml-commented-line\"># ---------------------------------------===== MCU family name. [Required] =====----------------------------------------</span><br><span class=\"yaml-commented-line\"># Description: MCU family name.</span><br><span class=\"yaml-key\">family</span>: <span class=\"yaml-value\">lpc55s36</span><br><span class=\"yaml-commented-line\"># ------------------------------===== Use ISK for signature certification [Required] =====------------------------------</span><br><span class=\"yaml-commented-line\"># Description: Enable ISK type of signature certification.</span><br><span class=\"yaml-key\">useIsk</span>: <span class=\"yaml-value\">false</span> <span style=\"background-color: #FFFF00; border-radius: 5px; padding: 2px 6px;\n",
       "margin-left: 5px; font-size: 0.8em;\">Is set to false because ISK is not used in this example</span><br><span class=\"yaml-commented-line\"># -----------------------===== Main root Certification Private Key [Conditionally required] =====-----------------------</span><br><span class=\"yaml-commented-line\"># Description: Path to Main root Certification Private Key.</span><br><span class=\"yaml-key\">signPrivateKey</span>: <span class=\"yaml-value\">../../_data/keys/ecc256/srk0_ecc256.pem</span> <span style=\"background-color: #FFFF00;\n",
       "border-radius: 5px; padding: 2px 6px; margin-left: 5px; font-size: 0.8em;\">Path to private key file for signing the certificate block</span><br><span class=\"yaml-commented-line\"># ======================================================================================================================</span><br><span class=\"yaml-commented-line\">#                                                == Root Keys Settings ==</span><br><span class=\"yaml-commented-line\"># ======================================================================================================================</span><br><span class=\"yaml-commented-line\"># -----------------------------===== Root Certificate File 0 [Conditionally required] =====-----------------------------</span><br><span class=\"yaml-commented-line\"># Description: Root certificate file index 0.</span><br><span class=\"yaml-key\">rootCertificate0File</span>: <span class=\"yaml-value\">../../_data/keys/ecc256/srk0_ecc256.pub</span> <span style=\"background-color:\n",
       "#FFFF00; border-radius: 5px; padding: 2px 6px; margin-left: 5px; font-size: 0.8em;\">Change to existing path of Root of Trust key</span><br><span class=\"yaml-commented-line\"># ------------------------------------===== Root Certificate File 1 [Optional] =====------------------------------------</span><br><span class=\"yaml-commented-line\"># Description: Root certificate file index 1.</span><br><span class=\"yaml-key\">rootCertificate1File</span>: <span class=\"yaml-value\">../../_data/keys/ecc256/srk1_ecc256.pub</span> <span style=\"background-color:\n",
       "#FFFF00; border-radius: 5px; padding: 2px 6px; margin-left: 5px; font-size: 0.8em;\">Change to existing path of Root of Trust key</span><br><span class=\"yaml-commented-line\"># ------------------------------------===== Root Certificate File 2 [Optional] =====------------------------------------</span><br><span class=\"yaml-commented-line\"># Description: Root certificate file index 2.</span><br><span class=\"yaml-key\">rootCertificate2File</span>: <span class=\"yaml-value\">../../_data/keys/ecc256/srk2_ecc256.pub</span> <span style=\"background-color:\n",
       "#FFFF00; border-radius: 5px; padding: 2px 6px; margin-left: 5px; font-size: 0.8em;\">Change to existing path of Root of Trust key</span><br><span class=\"yaml-commented-line\"># ------------------------------------===== Root Certificate File 3 [Optional] =====------------------------------------</span><br><span class=\"yaml-commented-line\"># Description: Root certificate file index 3.</span><br><span class=\"yaml-key\">rootCertificate3File</span>: <span class=\"yaml-value\">../../_data/keys/ecc256/srk3_ecc256.pub</span> <span style=\"background-color:\n",
       "#FFFF00; border-radius: 5px; padding: 2px 6px; margin-left: 5px; font-size: 0.8em;\">Change to existing path of Root of Trust key</span><br><span class=\"yaml-commented-line\"># -----------------------------===== Main Certificate Index [Conditionally required] =====------------------------------</span><br><span class=\"yaml-commented-line\"># Description: Index of certificate that is used as a main. If not defined, the certificate matching private key will be</span><br><span class=\"yaml-commented-line\"># selected.</span><br><span class=\"yaml-key\">mainRootCertId</span>: <span class=\"yaml-value\">0</span> <span style=\"background-color: #FFFF00; border-radius: 5px; padding: 2px 6px;\n",
       "margin-left: 5px; font-size: 0.8em;\">As good example we set the main root index of RoT to 0</span><br><span class=\"yaml-commented-line\"># ======================================================================================================================</span><br><span class=\"yaml-commented-line\">#                                                  == Basic Settings ==</span><br><span class=\"yaml-commented-line\"># ======================================================================================================================</span><br><span class=\"yaml-commented-line\"># --------------------------------------===== cert block filename [Required] =====--------------------------------------</span><br><span class=\"yaml-commented-line\"># Description: Generated cert block filename.</span><br><span class=\"yaml-key\">containerOutputFile</span>: <span class=\"yaml-value\">../workspace/cert_block_v2_1.bin</span> <span style=\"background-color: #FFFF00;\n",
       "border-radius: 5px; padding: 2px 6px; margin-left: 5px; font-size: 0.8em;\">Modify the output path to our example needs. For output files in SPSDK workspace\n",
       "relative paths are always relative to configuration file location.</span><br></pre></div>\n",
       "        </div>\n",
       "        "
      ],
      "text/plain": [
       "<IPython.core.display.HTML object>"
      ]
     },
     "execution_count": 2,
     "metadata": {},
     "output_type": "execute_result"
    }
   ],
   "source": [
    "# Get Explanation of our configuration file changes\n",
    "YamlDiffWidget(\"./inputs/cert_block_v2_1.diffc\").html"
   ]
  },
  {
   "cell_type": "markdown",
   "metadata": {},
   "source": [
    "### 2.2 With ISK\n",
    "The example of configuration with ISK certificate."
   ]
  },
  {
   "cell_type": "code",
   "execution_count": 3,
   "metadata": {},
   "outputs": [
    {
     "name": "stdout",
     "output_type": "stream",
     "text": [
      "nxpimage cert-block get-template -f lpc55s36 -o ./workspace/cert_block_v2_1_template.yaml --force\n",
      "Creating workspace/cert_block_v2_1_template.yaml template file.\n"
     ]
    },
    {
     "data": {
      "text/html": [
       "\n",
       "        \n",
       "        <style>\n",
       "            .yaml-diff { font-family: monospace; background-color: #f0f0f0; padding: 1em; border: 1px solid #c0c0c0; }\n",
       "            .yaml-key { color: #0000CC; font-weight: bold; }\n",
       "            .yaml-value { color: #006600; }\n",
       "            .yaml-commented-line { color: #008800; }\n",
       "            .yaml-list-item { color: #660066; }\n",
       "            .diff-removed { background-color: #ffaaaa; }\n",
       "            .diff-added { background-color: #aaffaa; }\n",
       "            .yaml-comment {\n",
       "                background-color: #FF8C00;\n",
       "                color: #000000;\n",
       "                border-radius: 50%;\n",
       "                padding: 0 0.3em;\n",
       "                margin-left: 0.5em;\n",
       "                font-size: 0.8em;\n",
       "                cursor: help;\n",
       "                font-weight: bold;\n",
       "                text-shadow: 1px 1px 1px rgba(255, 255, 255, 0.7);\n",
       "            }\n",
       "            #toggleButton_254e5c526e9fdbbe260a40d59d1a9a68 {\n",
       "                background-color: #4CAF50;\n",
       "                border: none;\n",
       "                color: white;\n",
       "                padding: 10px 20px;\n",
       "                text-align: center;\n",
       "                text-decoration: none;\n",
       "                display: inline-block;\n",
       "                font-size: 16px;\n",
       "                margin: 4px 2px;\n",
       "                cursor: pointer;\n",
       "            }\n",
       "        </style>\n",
       "        \n",
       "        \n",
       "        <script>\n",
       "        function toggleView_254e5c526e9fdbbe260a40d59d1a9a68() {\n",
       "            var diffView = document.getElementById('diffView_254e5c526e9fdbbe260a40d59d1a9a68');\n",
       "            var userConfigView = document.getElementById('userConfigView_254e5c526e9fdbbe260a40d59d1a9a68');\n",
       "            var button = document.getElementById('toggleButton_254e5c526e9fdbbe260a40d59d1a9a68');\n",
       "\n",
       "            if (diffView.style.display === 'none' && userConfigView.style.display === 'none') {\n",
       "                diffView.style.display = 'block';\n",
       "                userConfigView.style.display = 'none';\n",
       "                button.textContent = 'Show User Config';\n",
       "            } else if (diffView.style.display === 'block') {\n",
       "                diffView.style.display = 'none';\n",
       "                userConfigView.style.display = 'block';\n",
       "                button.textContent = 'Hide';\n",
       "            } else {\n",
       "                diffView.style.display = 'none';\n",
       "                userConfigView.style.display = 'none';\n",
       "                button.textContent = 'Show Diff';\n",
       "            }\n",
       "        }\n",
       "        </script>\n",
       "        \n",
       "        <div class=\"yaml-diff-container\">\n",
       "          <h3>Configuration Differences</h3>\n",
       "          <button onclick=\"toggleView_254e5c526e9fdbbe260a40d59d1a9a68()\" id=\"toggleButton_254e5c526e9fdbbe260a40d59d1a9a68\">Show Diff</button>\n",
       "          \n",
       "        <a href=\"data:text/plain;base64,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\" download=\"user_config.yaml\">\n",
       "            <button style=\"background-color: #4CAF50; border: none; color: white; padding: 10px 20px; text-align: center; text-decoration: none; display: inline-block; font-size: 16px; margin: 4px 2px; cursor: pointer;\">\n",
       "                Download Config\n",
       "            </button>\n",
       "        </a>\n",
       "        \n",
       "          <div id=\"diffView_254e5c526e9fdbbe260a40d59d1a9a68\" class=\"yaml-diff\" style=\"display:none;\"><pre class=\"yaml-diff\"><span class=\"yaml-commented-line\"># =========================================  Certification Block V21 template  =========================================</span><br><br><span class=\"yaml-commented-line\"># ======================================================================================================================</span><br><span class=\"yaml-commented-line\">#                                   == ISK (Image signing key) Certificate Settings ==                                  </span><br><span class=\"yaml-commented-line\"># ======================================================================================================================</span><br><span class=\"yaml-commented-line\"># ---------------------------------------===== MCU family name. [Required] =====----------------------------------------</span><br><span class=\"yaml-commented-line\"># Description: MCU family name.</span><br><span class=\"yaml-key\">family</span>: <span class=\"yaml-value\">lpc55s36</span><br><span class=\"yaml-commented-line\"># ------------------------------===== Use ISK for signature certification [Required] =====------------------------------</span><br><span class=\"yaml-commented-line\"># Description: Enable ISK type of signature certification.</span><br><span class=\"yaml-key\">useIsk</span>: <span class=\"yaml-value\">false</span> <span style=\"background-color: #FFFF00; border-radius: 5px; padding: 2px 6px;\n",
       "margin-left: 5px; font-size: 0.8em;\">Is set to false because ISK is not used in this example</span><br><span class=\"yaml-commented-line\"># ---------------------------------===== ISK public key [Conditionally required] =====----------------------------------</span><br><span class=\"yaml-commented-line\"># Description: Path to ISK public key.</span><br><span class=\"diff-removed\"><span class=\"yaml-key\">iskPublicKey</span>: <span class=\"yaml-value\">sign_cert.pub</span> <span style=\"background-color: #FFFF00; border-radius: 5px; padding:\n",
       "2px 6px; margin-left: 5px; font-size: 0.8em;\">Is removed because ISK is not used in this certificates</span></span><br><span class=\"yaml-commented-line\"># ----------------------------------===== ISK certificate constraint [Optional] =====-----------------------------------</span><br><span class=\"yaml-commented-line\"># Description: Constraint is certificate version, compared with monotonic counter in fuses.</span><br><span class=\"diff-removed\"><span class=\"yaml-key\">iskCertificateConstraint</span>: <span class=\"yaml-value\">0</span> <span style=\"background-color: #FFFF00; border-radius: 5px; padding:\n",
       "2px 6px; margin-left: 5px; font-size: 0.8em;\">Is removed because ISK is not used in this certificates</span></span><br><span class=\"yaml-commented-line\"># -----------------------------------===== ISK certificate user data [Optional] =====-----------------------------------</span><br><span class=\"yaml-commented-line\"># Description: Path to user data.</span><br><span class=\"diff-removed\"><span class=\"yaml-key\">iskCertData</span>: <span class=\"yaml-value\">user_cert_data.bin</span> <span style=\"background-color: #FFFF00; border-radius: 5px;\n",
       "padding: 2px 6px; margin-left: 5px; font-size: 0.8em;\">Is removed because ISK is not used in this certificates</span></span><br><span class=\"yaml-commented-line\"># -----------------------===== Main root Certification Private Key [Conditionally required] =====-----------------------</span><br><span class=\"yaml-commented-line\"># Description: Path to Main root Certification Private Key.</span><br><span class=\"diff-added\"><span class=\"yaml-key\">signPrivateKey</span>: <span class=\"yaml-value\">../../_data/keys/ecc256/srk0_ecc256.pem</span></span><br><span class=\"diff-removed\"><span class=\"yaml-key\">signPrivateKey</span>: <span class=\"yaml-value\">main_cert_prv_key.pem</span> <span style=\"background-color: #FFFF00; border-radius: 5px;\n",
       "padding: 2px 6px; margin-left: 5px; font-size: 0.8em;\">Path to private key file for signing the certificate block</span></span><br><span class=\"yaml-commented-line\"># -------------------------------===== Signature Provider [Conditionally required] =====--------------------------------</span><br><span class=\"yaml-commented-line\"># Description: Signature provider configuration in format 'type=<sp_type>;<key1>=<value1>;<key2>=<value2>'.</span><br><span class=\"diff-removed\"><span class=\"yaml-key\">signProvider</span>: <span class=\"yaml-value\">type=file;file_path=root_prv_key.pem</span> <span style=\"background-color: #FFFF00; border-\n",
       "radius: 5px; padding: 2px 6px; margin-left: 5px; font-size: 0.8em;\">Is removed because we are using the private key directly</span></span><br><span class=\"yaml-commented-line\"># ======================================================================================================================</span><br><span class=\"yaml-commented-line\">#                                                == Root Keys Settings ==                                               </span><br><span class=\"yaml-commented-line\"># ======================================================================================================================</span><br><span class=\"yaml-commented-line\"># -----------------------------===== Root Certificate File 0 [Conditionally required] =====-----------------------------</span><br><span class=\"yaml-commented-line\"># Description: Root certificate file index 0.</span><br><span class=\"diff-removed\"><span class=\"yaml-key\">rootCertificate0File</span>: <span class=\"yaml-value\">my_certificate0.pub</span> <span style=\"background-color: #FFFF00; border-radius:\n",
       "5px; padding: 2px 6px; margin-left: 5px; font-size: 0.8em;\">Change to existing path of Root of Trust key</span></span><br><span class=\"diff-added\"><span class=\"yaml-key\">rootCertificate0File</span>: <span class=\"yaml-value\">../../_data/keys/ecc256/srk0_ecc256.pub</span></span><br><span class=\"yaml-commented-line\"># ------------------------------------===== Root Certificate File 1 [Optional] =====------------------------------------</span><br><span class=\"yaml-commented-line\"># Description: Root certificate file index 1.</span><br><span class=\"diff-removed\"><span class=\"yaml-key\">rootCertificate1File</span>: <span class=\"yaml-value\">my_certificate1.pub</span> <span style=\"background-color: #FFFF00; border-radius:\n",
       "5px; padding: 2px 6px; margin-left: 5px; font-size: 0.8em;\">Change to existing path of Root of Trust key</span></span><br><span class=\"diff-added\"><span class=\"yaml-key\">rootCertificate1File</span>: <span class=\"yaml-value\">../../_data/keys/ecc256/srk1_ecc256.pub</span></span><br><span class=\"yaml-commented-line\"># ------------------------------------===== Root Certificate File 2 [Optional] =====------------------------------------</span><br><span class=\"yaml-commented-line\"># Description: Root certificate file index 2.</span><br><span class=\"diff-removed\"><span class=\"yaml-key\">rootCertificate2File</span>: <span class=\"yaml-value\">my_certificate2.pub</span> <span style=\"background-color: #FFFF00; border-radius:\n",
       "5px; padding: 2px 6px; margin-left: 5px; font-size: 0.8em;\">Change to existing path of Root of Trust key</span></span><br><span class=\"diff-added\"><span class=\"yaml-key\">rootCertificate2File</span>: <span class=\"yaml-value\">../../_data/keys/ecc256/srk2_ecc256.pub</span></span><br><span class=\"yaml-commented-line\"># ------------------------------------===== Root Certificate File 3 [Optional] =====------------------------------------</span><br><span class=\"yaml-commented-line\"># Description: Root certificate file index 3.</span><br><span class=\"diff-removed\"><span class=\"yaml-key\">rootCertificate3File</span>: <span class=\"yaml-value\">my_certificate3.pub</span> <span style=\"background-color: #FFFF00; border-radius:\n",
       "5px; padding: 2px 6px; margin-left: 5px; font-size: 0.8em;\">Change to existing path of Root of Trust key</span></span><br><span class=\"diff-added\"><span class=\"yaml-key\">rootCertificate3File</span>: <span class=\"yaml-value\">../../_data/keys/ecc256/srk3_ecc256.pub</span></span><br><span class=\"yaml-commented-line\"># -----------------------------===== Main Certificate Index [Conditionally required] =====------------------------------</span><br><span class=\"yaml-commented-line\"># Description: Index of certificate that is used as a main. If not defined, the certificate matching private key will be</span><br><span class=\"yaml-commented-line\"># selected.</span><br><span class=\"yaml-key\">mainRootCertId</span>: <span class=\"yaml-value\">0</span> <span style=\"background-color: #FFFF00; border-radius: 5px; padding: 2px 6px;\n",
       "margin-left: 5px; font-size: 0.8em;\">As good example we set the main root index of RoT to 0</span><br><span class=\"yaml-commented-line\"># ======================================================================================================================</span><br><span class=\"yaml-commented-line\">#                                                  == Basic Settings ==                                                 </span><br><span class=\"yaml-commented-line\"># ======================================================================================================================</span><br><span class=\"yaml-commented-line\"># --------------------------------------===== cert block filename [Required] =====--------------------------------------</span><br><span class=\"yaml-commented-line\"># Description: Generated cert block filename.</span><br><span class=\"diff-removed\"><span class=\"yaml-key\">containerOutputFile</span>: <span class=\"yaml-value\">cert_block.bin</span> <span style=\"background-color: #FFFF00; border-radius: 5px;\n",
       "padding: 2px 6px; margin-left: 5px; font-size: 0.8em;\">Modify the output path to our example needs. For output files in SPSDK workspace relative paths are\n",
       "always relative to configuration file location.</span></span><br><span class=\"diff-added\"><span class=\"yaml-key\">containerOutputFile</span>: <span class=\"yaml-value\">../workspace/cert_block_v2_1.bin</span></span><br></pre></div>\n",
       "          <div id=\"userConfigView_254e5c526e9fdbbe260a40d59d1a9a68\" class=\"yaml-diff\" style=\"display:none;\"><pre class=\"yaml-diff\"><span class=\"yaml-commented-line\"># Copyright 2024 NXP</span><br><span class=\"yaml-commented-line\">#</span><br><span class=\"yaml-commented-line\"># SPDX-License-Identifier: BSD-3-Clause</span><br><span class=\"yaml-commented-line\"># =========================================  Certification Block V21 template  =========================================</span><br><br><span class=\"yaml-commented-line\"># ======================================================================================================================</span><br><span class=\"yaml-commented-line\">#                                   == ISK (Image signing key) Certificate Settings ==</span><br><span class=\"yaml-commented-line\"># ======================================================================================================================</span><br><span class=\"yaml-commented-line\"># ---------------------------------------===== MCU family name. [Required] =====----------------------------------------</span><br><span class=\"yaml-commented-line\"># Description: MCU family name.</span><br><span class=\"yaml-key\">family</span>: <span class=\"yaml-value\">lpc55s36</span><br><span class=\"yaml-commented-line\"># ------------------------------===== Use ISK for signature certification [Required] =====------------------------------</span><br><span class=\"yaml-commented-line\"># Description: Enable ISK type of signature certification.</span><br><span class=\"yaml-key\">useIsk</span>: <span class=\"yaml-value\">false</span> <span style=\"background-color: #FFFF00; border-radius: 5px; padding: 2px 6px;\n",
       "margin-left: 5px; font-size: 0.8em;\">Is set to false because ISK is not used in this example</span><br><span class=\"yaml-commented-line\"># -----------------------===== Main root Certification Private Key [Conditionally required] =====-----------------------</span><br><span class=\"yaml-commented-line\"># Description: Path to Main root Certification Private Key.</span><br><span class=\"yaml-key\">signPrivateKey</span>: <span class=\"yaml-value\">../../_data/keys/ecc256/srk0_ecc256.pem</span> <span style=\"background-color: #FFFF00;\n",
       "border-radius: 5px; padding: 2px 6px; margin-left: 5px; font-size: 0.8em;\">Path to private key file for signing the certificate block</span><br><span class=\"yaml-commented-line\"># ======================================================================================================================</span><br><span class=\"yaml-commented-line\">#                                                == Root Keys Settings ==</span><br><span class=\"yaml-commented-line\"># ======================================================================================================================</span><br><span class=\"yaml-commented-line\"># -----------------------------===== Root Certificate File 0 [Conditionally required] =====-----------------------------</span><br><span class=\"yaml-commented-line\"># Description: Root certificate file index 0.</span><br><span class=\"yaml-key\">rootCertificate0File</span>: <span class=\"yaml-value\">../../_data/keys/ecc256/srk0_ecc256.pub</span> <span style=\"background-color:\n",
       "#FFFF00; border-radius: 5px; padding: 2px 6px; margin-left: 5px; font-size: 0.8em;\">Change to existing path of Root of Trust key</span><br><span class=\"yaml-commented-line\"># ------------------------------------===== Root Certificate File 1 [Optional] =====------------------------------------</span><br><span class=\"yaml-commented-line\"># Description: Root certificate file index 1.</span><br><span class=\"yaml-key\">rootCertificate1File</span>: <span class=\"yaml-value\">../../_data/keys/ecc256/srk1_ecc256.pub</span> <span style=\"background-color:\n",
       "#FFFF00; border-radius: 5px; padding: 2px 6px; margin-left: 5px; font-size: 0.8em;\">Change to existing path of Root of Trust key</span><br><span class=\"yaml-commented-line\"># ------------------------------------===== Root Certificate File 2 [Optional] =====------------------------------------</span><br><span class=\"yaml-commented-line\"># Description: Root certificate file index 2.</span><br><span class=\"yaml-key\">rootCertificate2File</span>: <span class=\"yaml-value\">../../_data/keys/ecc256/srk2_ecc256.pub</span> <span style=\"background-color:\n",
       "#FFFF00; border-radius: 5px; padding: 2px 6px; margin-left: 5px; font-size: 0.8em;\">Change to existing path of Root of Trust key</span><br><span class=\"yaml-commented-line\"># ------------------------------------===== Root Certificate File 3 [Optional] =====------------------------------------</span><br><span class=\"yaml-commented-line\"># Description: Root certificate file index 3.</span><br><span class=\"yaml-key\">rootCertificate3File</span>: <span class=\"yaml-value\">../../_data/keys/ecc256/srk3_ecc256.pub</span> <span style=\"background-color:\n",
       "#FFFF00; border-radius: 5px; padding: 2px 6px; margin-left: 5px; font-size: 0.8em;\">Change to existing path of Root of Trust key</span><br><span class=\"yaml-commented-line\"># -----------------------------===== Main Certificate Index [Conditionally required] =====------------------------------</span><br><span class=\"yaml-commented-line\"># Description: Index of certificate that is used as a main. If not defined, the certificate matching private key will be</span><br><span class=\"yaml-commented-line\"># selected.</span><br><span class=\"yaml-key\">mainRootCertId</span>: <span class=\"yaml-value\">0</span> <span style=\"background-color: #FFFF00; border-radius: 5px; padding: 2px 6px;\n",
       "margin-left: 5px; font-size: 0.8em;\">As good example we set the main root index of RoT to 0</span><br><span class=\"yaml-commented-line\"># ======================================================================================================================</span><br><span class=\"yaml-commented-line\">#                                                  == Basic Settings ==</span><br><span class=\"yaml-commented-line\"># ======================================================================================================================</span><br><span class=\"yaml-commented-line\"># --------------------------------------===== cert block filename [Required] =====--------------------------------------</span><br><span class=\"yaml-commented-line\"># Description: Generated cert block filename.</span><br><span class=\"yaml-key\">containerOutputFile</span>: <span class=\"yaml-value\">../workspace/cert_block_v2_1.bin</span> <span style=\"background-color: #FFFF00;\n",
       "border-radius: 5px; padding: 2px 6px; margin-left: 5px; font-size: 0.8em;\">Modify the output path to our example needs. For output files in SPSDK workspace\n",
       "relative paths are always relative to configuration file location.</span><br></pre></div>\n",
       "        </div>\n",
       "        "
      ],
      "text/plain": [
       "<IPython.core.display.HTML object>"
      ]
     },
     "execution_count": 3,
     "metadata": {},
     "output_type": "execute_result"
    }
   ],
   "source": [
    "# Get Explanation of our configuration file changes\n",
    "YamlDiffWidget(\"./inputs/cert_block_v2_1_isk.diffc\").html"
   ]
  },
  {
   "cell_type": "markdown",
   "metadata": {},
   "source": [
    "## 3. Export final certificate block binary\n",
    "To get more information regarding the export command read help: `nxpimage cert-block export --help`\n",
    "\n",
    "### 3.1 Without ISK\n",
    "    When we have the certificate block configuration file, we can export the certificate block binary using the following code: "
   ]
  },
  {
   "cell_type": "code",
   "execution_count": 4,
   "metadata": {},
   "outputs": [
    {
     "name": "stdout",
     "output_type": "stream",
     "text": [
      "nxpimage cert-block export -f lpc55s36 -c ./inputs/cert_block_v2_1_cfg.yaml\n",
      "RKTH: e2cca7cf09a45d2f1942969fda1c68ecaad78fad416d143292dad2f618291ddd\n",
      "Success. (Certificate Block: workspace/cert_block_v2_1.bin created.)\n"
     ]
    }
   ],
   "source": [
    "%! nxpimage cert-block export -f lpc55s36 -c ./inputs/cert_block_v2_1_cfg.yaml"
   ]
  },
  {
   "cell_type": "markdown",
   "metadata": {},
   "source": [
    "### 3.2 With ISK\n",
    "    When we have the certificate block configuration file, we can export the certificate block binary using the following code: "
   ]
  },
  {
   "cell_type": "code",
   "execution_count": 5,
   "metadata": {},
   "outputs": [
    {
     "name": "stdout",
     "output_type": "stream",
     "text": [
      "nxpimage cert-block export -f lpc55s36 -c ./inputs/cert_block_v2_1_isk_cfg.yaml\n",
      "RKTH: e2cca7cf09a45d2f1942969fda1c68ecaad78fad416d143292dad2f618291ddd\n",
      "Success. (Certificate Block: workspace/cert_block_v2_1.bin created.)\n"
     ]
    }
   ],
   "source": [
    "%! nxpimage cert-block export -f lpc55s36 -c ./inputs/cert_block_v2_1_isk_cfg.yaml"
   ]
  }
 ],
 "metadata": {
  "kernelspec": {
   "display_name": "venv",
   "language": "python",
   "name": "python3"
  },
  "language_info": {
   "codemirror_mode": {
    "name": "ipython",
    "version": 3
   },
   "file_extension": ".py",
   "mimetype": "text/x-python",
   "name": "python",
   "nbconvert_exporter": "python",
   "pygments_lexer": "ipython3",
   "version": "3.11.4"
  }
 },
 "nbformat": 4,
 "nbformat_minor": 2
}
