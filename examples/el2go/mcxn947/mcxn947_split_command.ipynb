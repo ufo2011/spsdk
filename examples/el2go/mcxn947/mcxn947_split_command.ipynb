{
  "cells": [
    {
      "cell_type": "markdown",
      "metadata": {},
      "source": [
        "# MCXN947 Indirect chip-specific flow (using multiple commands/stages)\n",
        "\n",
        "In the [single command example](./mcxn947_single_shot.ipynb) all necessary steps are done using a single command `el2go-host provision-device`\n",
        "\n",
        "This notebook showcases using commands for each individual operation:\n",
        "\n",
        "- obtain UUID from the target\n",
        "- assign the target to a Device Group in EL2GO (using REST API)\n",
        "- download Secure Objects from EL2GO into the target\n",
        "- runs the Provisioning FW to provision the Secure Objects on the target\n",
        "\n",
        "This flow is suitable in scenarios where the site performing the provisioning doesn't have direct connection to the EL2GO server.\n",
        "In such case the flow can be broken down to 3 stages:\n",
        "1) SiteA is used for UUID harvesting. All UUIDs can be placed into a single database (sqlite3 file)\n",
        "    - database file will be shipped to SiteB\n",
        "2) SiteB (with EL2GO connection) will download Secure Objects for all the UUIDs and store them in database\n",
        "    - database file will be shipped back to SiteA\n",
        "3) SiteA will provision devices using Secure Objects stored into database rather that downloading them from EL2GO"
      ]
    },
    {
      "cell_type": "markdown",
      "metadata": {},
      "source": [
        "## 1. Prerequisites\n",
        "- EdgeLock2GO account and API token\n",
        "- MCXN947 board\n",
        "- EL2GO Provisioning Firmware"
      ]
    },
    {
      "cell_type": "markdown",
      "metadata": {},
      "source": [
        "## 2. Setup"
      ]
    },
    {
      "cell_type": "markdown",
      "metadata": {},
      "source": [
        "### 2.1 Configuration Setup\n",
        "\n",
        "First we'll create a configuration file containing all necessary information.\n",
        "To generate a configuration template use `el2go-host get-template` command"
      ]
    },
    {
      "cell_type": "code",
      "execution_count": 1,
      "metadata": {
        "tags": [
          "remove-cell"
        ]
      },
      "outputs": [
        {
          "name": "stdout",
          "output_type": "stream",
          "text": [
            "env: JUPYTER_SPSDK=1\n",
            "Created `%!` as an alias for `%execute`.\n"
          ]
        }
      ],
      "source": [
        "# Initialization cell\n",
        "\n",
        "from spsdk.utils.jupyter_utils import YamlDiffWidget\n",
        "\n",
        "# setup this jupyter notebook\n",
        "%env JUPYTER_SPSDK=1\n",
        "%alias execute echo %l && %l\n",
        "%alias_magic ! execute"
      ]
    },
    {
      "cell_type": "code",
      "execution_count": 2,
      "metadata": {},
      "outputs": [
        {
          "name": "stdout",
          "output_type": "stream",
          "text": [
            "el2go-host get-template -f mcxn947 -o config_template.yaml --force \n",
            "The EL2GO template for mcxn947 has been saved into config_template.yaml YAML file\n"
          ]
        },
        {
          "data": {
            "text/html": [
              "\n",
              "        \n",
              "        <style>\n",
              "            .yaml-diff { font-family: monospace; background-color: #f0f0f0; padding: 1em; border: 1px solid #c0c0c0; }\n",
              "            .yaml-key { color: #0000CC; font-weight: bold; }\n",
              "            .yaml-value { color: #006600; }\n",
              "            .yaml-commented-line { color: #008800; }\n",
              "            .yaml-list-item { color: #660066; }\n",
              "            .diff-removed { background-color: #ffaaaa; }\n",
              "            .diff-added { background-color: #aaffaa; }\n",
              "            .yaml-comment {\n",
              "                background-color: #FF8C00;\n",
              "                color: #000000;\n",
              "                border-radius: 50%;\n",
              "                padding: 0 0.3em;\n",
              "                margin-left: 0.5em;\n",
              "                font-size: 0.8em;\n",
              "                cursor: help;\n",
              "                font-weight: bold;\n",
              "                text-shadow: 1px 1px 1px rgba(255, 255, 255, 0.7);\n",
              "            }\n",
              "            #toggleButton_c9f4e7c562c2048baf35c45aa7086f3f {\n",
              "                background-color: #4CAF50;\n",
              "                border: none;\n",
              "                color: white;\n",
              "                padding: 10px 20px;\n",
              "                text-align: center;\n",
              "                text-decoration: none;\n",
              "                display: inline-block;\n",
              "                font-size: 16px;\n",
              "                margin: 4px 2px;\n",
              "                cursor: pointer;\n",
              "            }\n",
              "        </style>\n",
              "        \n",
              "        \n",
              "        <script>\n",
              "        function toggleView_c9f4e7c562c2048baf35c45aa7086f3f() {\n",
              "            var diffView = document.getElementById('diffView_c9f4e7c562c2048baf35c45aa7086f3f');\n",
              "            var userConfigView = document.getElementById('userConfigView_c9f4e7c562c2048baf35c45aa7086f3f');\n",
              "            var button = document.getElementById('toggleButton_c9f4e7c562c2048baf35c45aa7086f3f');\n",
              "\n",
              "            if (diffView.style.display === 'none' && userConfigView.style.display === 'none') {\n",
              "                diffView.style.display = 'block';\n",
              "                userConfigView.style.display = 'none';\n",
              "                button.textContent = 'Show User Config';\n",
              "            } else if (diffView.style.display === 'block') {\n",
              "                diffView.style.display = 'none';\n",
              "                userConfigView.style.display = 'block';\n",
              "                button.textContent = 'Hide';\n",
              "            } else {\n",
              "                diffView.style.display = 'none';\n",
              "                userConfigView.style.display = 'none';\n",
              "                button.textContent = 'Show Diff';\n",
              "            }\n",
              "        }\n",
              "        </script>\n",
              "        \n",
              "        <div class=\"yaml-diff-container\">\n",
              "          <h3>Configuration Differences</h3>\n",
              "          <button onclick=\"toggleView_c9f4e7c562c2048baf35c45aa7086f3f()\" id=\"toggleButton_c9f4e7c562c2048baf35c45aa7086f3f\">Show Diff</button>\n",
              "          \n",
              "        <a href=\"data:text/plain;base64,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\" download=\"user_config.yaml\">\n",
              "            <button style=\"background-color: #4CAF50; border: none; color: white; padding: 10px 20px; text-align: center; text-decoration: none; display: inline-block; font-size: 16px; margin: 4px 2px; cursor: pointer;\">\n",
              "                Download Config\n",
              "            </button>\n",
              "        </a>\n",
              "        \n",
              "          <div id=\"diffView_c9f4e7c562c2048baf35c45aa7086f3f\" class=\"yaml-diff\" style=\"display:none;\"><pre class=\"yaml-diff\"><span class=\"yaml-commented-line\"># =======================  Configuration of EdgeLock 2GO Offline Provisioning flow for mcxn947  ========================</span><br><br><span class=\"yaml-commented-line\"># ======================================================================================================================</span><br><span class=\"yaml-commented-line\">#                                                 == General Options ==                                                 </span><br><span class=\"yaml-commented-line\"># ======================================================================================================================</span><br><span class=\"yaml-commented-line\"># ------------------------------------------===== MCU family [Required] =====-------------------------------------------</span><br><span class=\"yaml-commented-line\"># Description: Family identifier including the chip revision. If revision is not present, latest revision is used as</span><br><span class=\"yaml-commented-line\"># default.</span><br><span class=\"yaml-key\">family</span>: <span class=\"yaml-value\">mcxn947</span><br><span class=\"yaml-commented-line\"># -----------------------------------------===== MCU revision [Optional] =====------------------------------------------</span><br><span class=\"yaml-commented-line\"># Description: Revision of silicon</span><br><span class=\"yaml-key\">revision</span>: <span class=\"yaml-value\">latest</span><br><span class=\"yaml-commented-line\"># -------------------------------------===== EdgeLock 2GO API URL [Optional] =====--------------------------------------</span><br><span class=\"yaml-commented-line\"># Description: Base URL of the EdgeLock 2GO backend API without an / at the end</span><br><span class=\"diff-removed\"><span class=\"yaml-key\">url</span>: <span class=\"yaml-value\">https://api.edgelock2go.com</span> <span style=\"background-color: #FFFF00; border-radius: 5px;\n",
              "padding: 2px 6px; margin-left: 5px; font-size: 0.8em;\">QA.SB is for testing purposes</span></span><br><span class=\"diff-added\"><span class=\"yaml-key\">url</span>: <span class=\"yaml-value\">https://api.qa.sb.edgelock2go.com</span></span><br><span class=\"yaml-commented-line\"># -------------------------------------===== EdgeLock 2GO API Key [Required] =====--------------------------------------</span><br><span class=\"yaml-commented-line\"># Description: REST API key used for user authentication in EdgeLock 2GO. You may use: 1) path to a file with the key on</span><br><span class=\"yaml-commented-line\"># the first line: ~/.el2go/wpc_token.txt (~ is interpreted as your HOME) 2) environment variable with the key:</span><br><span class=\"yaml-commented-line\"># $MY_EL2GO_KEY 3) environment variable containing a path to the key file: $MY_KEY_FILE 4) directly your API key in</span><br><span class=\"yaml-commented-line\"># plain text (not recommended)</span><br><span class=\"diff-removed\"><span class=\"yaml-key\">api_key</span>: <span class=\"yaml-value\">abcxyz123</span> <span style=\"background-color: #FFFF00; border-radius: 5px; padding: 2px 6px;\n",
              "margin-left: 5px; font-size: 0.8em;\">It's strongly recommended not to put your API key directly into config file</span></span><br><span class=\"diff-added\"><span class=\"yaml-key\">api_key</span>: <span class=\"yaml-value\">~/.el2go/qa_token.txt</span></span><br><span class=\"yaml-commented-line\"># ----------------------------------------===== Device Group ID [Required] =====----------------------------------------</span><br><span class=\"yaml-commented-line\"># Description: Device Group ID in which the connected secure element needs to be assigned</span><br><span class=\"diff-removed\"><span class=\"yaml-key\">device_group_id</span>: <span class=\"yaml-value\">49</span> <span style=\"background-color: #FFFF00; border-radius: 5px; padding: 2px 6px;\n",
              "margin-left: 5px; font-size: 0.8em;\">You'll get an Device Group ID in EL2GO web</span></span><br><span class=\"diff-added\"><span class=\"yaml-key\">device_group_id</span>: <span class=\"yaml-value\">633</span></span><br><span class=\"yaml-commented-line\"># -----------------------------------------===== Product 12NC [Required] =====------------------------------------------</span><br><span class=\"yaml-commented-line\"># Description: Product 12NC registered in EdgeLock 2GO</span><br><span class=\"diff-removed\"><span class=\"yaml-key\">nc12</span>: <span class=\"yaml-value\">123456789012</span> <span style=\"background-color: #FFFF00; border-radius: 5px; padding: 2px 6px;\n",
              "margin-left: 5px; font-size: 0.8em;\">Product's 12NC number from EL2GO web</span></span><br><span class=\"diff-added\"><span class=\"yaml-key\">nc12</span>: <span class=\"yaml-value\">340000274521</span></span><br><span class=\"yaml-commented-line\"># ------------------------------------===== Secure Objects Domains [Optional] =====-------------------------------------</span><br><span class=\"yaml-commented-line\"># Description: List of the EdgeLock 2GO Secure Objects Domains to download.</span><br><span class=\"yaml-commented-line\"># Possible options: <RTP, MATTER></span><br><span class=\"yaml-key\">domains</span>:<br><span class=\"yaml-key\">  - </span>RTP<br><span class=\"yaml-key\">  - </span>MATTER<br><span class=\"yaml-commented-line\"># ----------------------------===== Delay between EdgeLock 2GO's API calls [Optional] =====-----------------------------</span><br><span class=\"yaml-commented-line\"># Description: Delay in seconds between EdgeLock 2GO API requests regarding Secure Objects generation status. Default</span><br><span class=\"yaml-commented-line\"># value is 5 seconds</span><br><span class=\"yaml-key\">delay</span>: <span class=\"yaml-value\">5</span><br><span class=\"yaml-commented-line\"># ---------------------------------===== Timeout for EdgeLock 2GO API [Optional] =====----------------------------------</span><br><span class=\"yaml-commented-line\"># Description: Timeout in seconds of downloading Secure Objects through EdgeLock 2GO API operation. Default is 60</span><br><span class=\"yaml-commented-line\"># seconds</span><br><span class=\"yaml-key\">timeout</span>: <span class=\"yaml-value\">60</span><br><span class=\"yaml-commented-line\"># ---------------------------------------===== Download Timeout [Optional] =====----------------------------------------</span><br><span class=\"yaml-commented-line\"># Description: Timeout for overall download process including waiting for Secure Objects creation</span><br><span class=\"yaml-key\">download_timeout</span>: <span class=\"yaml-value\">300</span><br><span class=\"yaml-commented-line\"># -------------------------------------===== Provisioning FW path [Required] =====--------------------------------------</span><br><span class=\"yaml-commented-line\"># Description: Path to OEM Provisioning Firmware SB file</span><br><span class=\"diff-removed\"><span class=\"yaml-key\">prov_fw_path</span>: <span class=\"yaml-value\">oem_tp_fw.sb</span></span><br><span class=\"diff-added\"><span class=\"yaml-key\">prov_fw_path</span>: <span class=\"yaml-value\">N10_A1_EL2GO_OEM_PROV_RC2.sb3</span></span><br><span class=\"yaml-commented-line\"># ----------------------===== Address for External (user-defined) Secure Objects [Required] =====-----------------------</span><br><span class=\"yaml-commented-line\"># Description: Address where to store External (user-defined) Secure Objects obtained from EL2GO. External Secure</span><br><span class=\"yaml-commented-line\"># Objects refers to Secure Objects other than OEM FW Authentication Key Hash, and OEM FW Decryption Key. Please note</span><br><span class=\"yaml-commented-line\"># that the FW will always erase 8K memory block (flash page size) in the destination address, so any data previously</span><br><span class=\"yaml-commented-line\"># stored at that flash location will be gone. If you don't use any External Secure Objects, this setting has no effect</span><br><span class=\"diff-removed\"><span class=\"yaml-key\">secure_objects_address</span>: <span class=\"yaml-value\">123456</span></span><br><span class=\"diff-added\"><span class=\"yaml-key\">secure_objects_address</span>: <span class=\"yaml-value\">0x1000</span></span><br></pre></div>\n",
              "          <div id=\"userConfigView_c9f4e7c562c2048baf35c45aa7086f3f\" class=\"yaml-diff\" style=\"display:none;\"><pre class=\"yaml-diff\"><span class=\"yaml-commented-line\"># =======================  Configuration of EdgeLock 2GO Offline Provisioning flow for mcxn947  ========================</span><br><br><span class=\"yaml-commented-line\"># ======================================================================================================================</span><br><span class=\"yaml-commented-line\">#                                                 == General Options ==</span><br><span class=\"yaml-commented-line\"># ======================================================================================================================</span><br><span class=\"yaml-commented-line\"># ------------------------------------------===== MCU family [Required] =====-------------------------------------------</span><br><span class=\"yaml-commented-line\"># Description: Family identifier including the chip revision. If revision is not present, latest revision is used as</span><br><span class=\"yaml-commented-line\"># default.</span><br><span class=\"yaml-key\">family</span>: <span class=\"yaml-value\">mcxn947</span><br><span class=\"yaml-commented-line\"># -----------------------------------------===== MCU revision [Optional] =====------------------------------------------</span><br><span class=\"yaml-commented-line\"># Description: Revision of silicon</span><br><span class=\"yaml-key\">revision</span>: <span class=\"yaml-value\">latest</span><br><span class=\"yaml-commented-line\"># -------------------------------------===== EdgeLock 2GO API URL [Optional] =====--------------------------------------</span><br><span class=\"yaml-commented-line\"># Description: Base URL of the EdgeLock 2GO backend API without an / at the end</span><br><span class=\"yaml-key\">url</span>: <span class=\"yaml-value\">https://api.qa.sb.edgelock2go.com</span> <span style=\"background-color: #FFFF00; border-radius: 5px;\n",
              "padding: 2px 6px; margin-left: 5px; font-size: 0.8em;\">QA.SB is for testing purposes</span><br><span class=\"yaml-commented-line\"># -------------------------------------===== EdgeLock 2GO API Key [Required] =====--------------------------------------</span><br><span class=\"yaml-commented-line\"># Description: REST API key used for user authentication in EdgeLock 2GO. You may use: 1) path to a file with the key on</span><br><span class=\"yaml-commented-line\"># the first line: ~/.el2go/wpc_token.txt (~ is interpreted as your HOME) 2) environment variable with the key:</span><br><span class=\"yaml-commented-line\"># $MY_EL2GO_KEY 3) environment variable containing a path to the key file: $MY_KEY_FILE 4) directly your API key in</span><br><span class=\"yaml-commented-line\"># plain text (not recommended)</span><br><span class=\"yaml-key\">api_key</span>: <span class=\"yaml-value\">~/.el2go/qa_token.txt</span> <span style=\"background-color: #FFFF00; border-radius: 5px;\n",
              "padding: 2px 6px; margin-left: 5px; font-size: 0.8em;\">It's strongly recommended not to put your API key directly into config file</span><br><span class=\"yaml-commented-line\"># ----------------------------------------===== Device Group ID [Required] =====----------------------------------------</span><br><span class=\"yaml-commented-line\"># Description: Device Group ID in which the connected secure element needs to be assigned</span><br><span class=\"yaml-key\">device_group_id</span>: <span class=\"yaml-value\">633</span> <span style=\"background-color: #FFFF00; border-radius: 5px; padding: 2px 6px;\n",
              "margin-left: 5px; font-size: 0.8em;\">You'll get an Device Group ID in EL2GO web</span><br><span class=\"yaml-commented-line\"># -----------------------------------------===== Product 12NC [Required] =====------------------------------------------</span><br><span class=\"yaml-commented-line\"># Description: Product 12NC registered in EdgeLock 2GO</span><br><span class=\"yaml-key\">nc12</span>: <span class=\"yaml-value\">340000274521</span> <span style=\"background-color: #FFFF00; border-radius: 5px; padding: 2px 6px;\n",
              "margin-left: 5px; font-size: 0.8em;\">Product's 12NC number from EL2GO web</span><br><span class=\"yaml-commented-line\"># ------------------------------------===== Secure Objects Domains [Optional] =====-------------------------------------</span><br><span class=\"yaml-commented-line\"># Description: List of the EdgeLock 2GO Secure Objects Domains to download.</span><br><span class=\"yaml-commented-line\"># Possible options: <RTP, MATTER></span><br><span class=\"yaml-key\">domains</span>:<br><span class=\"yaml-key\">  - </span>RTP<br><span class=\"yaml-key\">  - </span>MATTER<br><span class=\"yaml-commented-line\"># ----------------------------===== Delay between EdgeLock 2GO's API calls [Optional] =====-----------------------------</span><br><span class=\"yaml-commented-line\"># Description: Delay in seconds between EdgeLock 2GO API requests regarding Secure Objects generation status. Default</span><br><span class=\"yaml-commented-line\"># value is 5 seconds</span><br><span class=\"yaml-key\">delay</span>: <span class=\"yaml-value\">5</span><br><span class=\"yaml-commented-line\"># ---------------------------------===== Timeout for EdgeLock 2GO API [Optional] =====----------------------------------</span><br><span class=\"yaml-commented-line\"># Description: Timeout in seconds of downloading Secure Objects through EdgeLock 2GO API operation. Default is 60</span><br><span class=\"yaml-commented-line\"># seconds</span><br><span class=\"yaml-key\">timeout</span>: <span class=\"yaml-value\">60</span><br><span class=\"yaml-commented-line\"># ---------------------------------------===== Download Timeout [Optional] =====----------------------------------------</span><br><span class=\"yaml-commented-line\"># Description: Timeout for overall download process including waiting for Secure Objects creation</span><br><span class=\"yaml-key\">download_timeout</span>: <span class=\"yaml-value\">300</span><br><span class=\"yaml-commented-line\"># -------------------------------------===== Provisioning FW path [Required] =====--------------------------------------</span><br><span class=\"yaml-commented-line\"># Description: Path to OEM Provisioning Firmware SB file</span><br><span class=\"yaml-key\">prov_fw_path</span>: <span class=\"yaml-value\">N10_A1_EL2GO_OEM_PROV_RC2.sb3</span><br><span class=\"yaml-commented-line\"># ----------------------===== Address for External (user-defined) Secure Objects [Required] =====-----------------------</span><br><span class=\"yaml-commented-line\"># Description: Address where to store External (user-defined) Secure Objects obtained from EL2GO. External Secure</span><br><span class=\"yaml-commented-line\"># Objects refers to Secure Objects other than OEM FW Authentication Key Hash, and OEM FW Decryption Key. Please note</span><br><span class=\"yaml-commented-line\"># that the FW will always erase 8K memory block (flash page size) in the destination address, so any data previously</span><br><span class=\"yaml-commented-line\"># stored at that flash location will be gone. If you don't use any External Secure Objects, this setting has no effect</span><br><span class=\"yaml-key\">secure_objects_address</span>: <span class=\"yaml-value\">0x1000</span><br></pre></div>\n",
              "        </div>\n",
              "        "
            ],
            "text/plain": [
              "<IPython.core.display.HTML object>"
            ]
          },
          "execution_count": 2,
          "metadata": {},
          "output_type": "execute_result"
        }
      ],
      "source": [
        "YamlDiffWidget(\"el2go_config.diffc\").html"
      ]
    },
    {
      "cell_type": "markdown",
      "metadata": {},
      "source": [
        "### 2.2 HW Setup\n",
        "\n",
        "This example uses UART for communication with the target.\n",
        "You may use `nxpdevscan` utility to list COM ports with devices attached to them."
      ]
    },
    {
      "cell_type": "code",
      "execution_count": 3,
      "metadata": {
        "execute_cell": false
      },
      "outputs": [
        {
          "name": "stdout",
          "output_type": "stream",
          "text": [
            "nxpdevscan --port \n",
            "-------- Connected NXP UART Devices --------\n",
            "\n",
            "Port: COM5\n",
            "Type: mboot device\n",
            "\n"
          ]
        }
      ],
      "source": [
        "%! nxpdevscan --port"
      ]
    },
    {
      "cell_type": "markdown",
      "metadata": {},
      "source": [
        "## 3. Running individual operations"
      ]
    },
    {
      "cell_type": "code",
      "execution_count": 4,
      "metadata": {},
      "outputs": [],
      "source": [
        "# Setup common variables/parameters for the commands\n",
        "\n",
        "CONFIG = \"--config config_example.yaml\"\n",
        "DATABASE = \"--database db.sqlite3\"\n",
        "PORT = \"--port com5\""
      ]
    },
    {
      "cell_type": "markdown",
      "metadata": {},
      "source": [
        "### 3.1 Gathering UUID from the target\n"
      ]
    },
    {
      "cell_type": "code",
      "execution_count": 5,
      "metadata": {},
      "outputs": [
        {
          "name": "stdout",
          "output_type": "stream",
          "text": [
            "el2go-host get-uuid --port com5 --database db.sqlite3 \n",
            "UUID 100779615704702885679946391493172028108 stored in the database\n"
          ]
        }
      ],
      "source": [
        "%! el2go-host get-uuid $PORT $DATABASE"
      ]
    },
    {
      "cell_type": "markdown",
      "metadata": {},
      "source": [
        "NOTE: If there are multiple database files, they can be merged together using `el2go-host combine-uuid-db`"
      ]
    },
    {
      "cell_type": "markdown",
      "metadata": {},
      "source": [
        "### 3.2 Download Secure Objects"
      ]
    },
    {
      "cell_type": "code",
      "execution_count": 6,
      "metadata": {
        "copy_files": ["./sec_tools/targets/MCXN9XX/el2go_prov_fw/N10_A1_EL2GO_OEM_PROV_RC3.1.sb3,../spsdk/examples/el2go/mcxn947/N10_A1_EL2GO_OEM_PROV_RC2.sb3"],
        "code_inject": [["DATABASE", "DATABASE --re-assign"]]
      },
      "outputs": [
        {
          "name": "stdout",
          "output_type": "stream",
          "text": [
            "el2go-host -v get-secure-objects --config config_example.yaml --database db.sqlite3 \n",
            "\u001b[37m\u001b[1mINFO:spsdk.el2go.database:Getting number of records without associated Secure Objects\u001b[39m\u001b[0m\n",
            "\u001b[37m\u001b[1mINFO:spsdk.el2go.database:Getting UUIDs without associated Secure Objects\u001b[39m\u001b[0m\n",
            "Found 1 UUIDs out of 1 without Secure Objects\n",
            "Downloading Secure Objects for UUID: 100779615704702885679946391493172028108\n",
            "\u001b[37m\u001b[1mINFO:spsdk.el2go.client:EL2G-Correlation-ID: 1adef601-9aa3-4ee2-b85e-6a6a9810d6f5\u001b[39m\u001b[0m\n",
            "\u001b[37m\u001b[1mINFO:spsdk.utils.http_client:Requesting: https://api.qa.sb.edgelock2go.com/api/v1/products/340000274521/device-groups/633/devices\u001b[39m\u001b[0m\n",
            "\u001b[37m\u001b[1mINFO:spsdk.utils.http_client:Response: <Response [202]>\u001b[39m\u001b[0m\n",
            "\u001b[37m\u001b[1mINFO:spsdk.el2go.client:EL2G-Correlation-ID: eefc06a1-49ae-4d30-a987-18080dbf8b9e\u001b[39m\u001b[0m\n",
            "\u001b[37m\u001b[1mINFO:spsdk.utils.http_client:Requesting: https://api.qa.sb.edgelock2go.com/api/v1/rtp/devices/100779615704702885679946391493172028108/secure-object-provisionings\u001b[39m\u001b[0m\n",
            "\u001b[37m\u001b[1mINFO:spsdk.utils.http_client:Response: <Response [200]>\u001b[39m\u001b[0m\n",
            "\u001b[37m\u001b[1mINFO:spsdk.el2go.client:EL2G-Correlation-ID: fc9e2659-a1ba-4784-98b9-4125374e79dc\u001b[39m\u001b[0m\n",
            "\u001b[37m\u001b[1mINFO:spsdk.utils.http_client:Requesting: https://api.qa.sb.edgelock2go.com/api/v1/rtp/device-groups/633/devices/download-provisionings\u001b[39m\u001b[0m\n",
            "\u001b[37m\u001b[1mINFO:spsdk.utils.http_client:Response: <Response [200]>\u001b[39m\u001b[0m\n",
            "\u001b[37m\u001b[1mINFO:spsdk.el2go.database:Adding Secure Objects for UUID: 100779615704702885679946391493172028108\u001b[39m\u001b[0m\n",
            "Database update completed successfully\n"
          ]
        }
      ],
      "source": [
        "%! el2go-host -v get-secure-objects $CONFIG $DATABASE"
      ]
    },
    {
      "cell_type": "markdown",
      "metadata": {},
      "source": [
        "NOTE: For cases when there are bigger amounts of UUIDs, there's command `el2go-host bulk-so-download` which is more performant in bulk operations comparing to downloading Secure Objects for few UUIDs."
      ]
    },
    {
      "cell_type": "markdown",
      "metadata": {},
      "source": [
        "### 3.3 Provision Secure Objects into the target"
      ]
    },
    {
      "cell_type": "code",
      "execution_count": 7,
      "metadata": {},
      "outputs": [
        {
          "name": "stdout",
          "output_type": "stream",
          "text": [
            "el2go-host -v provision-objects --config config_example.yaml --database db.sqlite3 --port com5 \n",
            "\u001b[37m\u001b[1mINFO:spsdk.mboot.mcuboot:Connect: identifier='uart', device=com5\u001b[39m\u001b[0m\n",
            "\u001b[37m\u001b[1mINFO:spsdk.mboot.mcuboot:CMD: GetProperty(UniqueDeviceIdent, index=0)\u001b[39m\u001b[0m\n",
            "\u001b[37m\u001b[1mINFO:spsdk.mboot.mcuboot:CMD: Status: 0 (0x0) Success.\u001b[39m\u001b[0m\n",
            "\u001b[37m\u001b[1mINFO:spsdk.mboot.mcuboot:Closing: identifier='uart', device=com5\u001b[39m\u001b[0m\n",
            "\u001b[37m\u001b[1mINFO:spsdk.el2go.database:Getting Secure Objects for UUID: 100779615704702885679946391493172028108\u001b[39m\u001b[0m\n",
            "\u001b[37m\u001b[1mINFO:spsdk.mboot.mcuboot:Connect: identifier='uart', device=com5\u001b[39m\u001b[0m\n",
            "Writing User config data to: 0x20000000\n",
            "\u001b[37m\u001b[1mINFO:spsdk.mboot.mcuboot:CMD: WriteMemory(address=0x20000000, length=32, mem_id=0)\u001b[39m\u001b[0m\n",
            "\u001b[37m\u001b[1mINFO:spsdk.mboot.mcuboot:CMD: GetProperty(MaxPacketSize, index=0)\u001b[39m\u001b[0m\n",
            "\u001b[37m\u001b[1mINFO:spsdk.mboot.mcuboot:CMD: Status: 0 (0x0) Success.\u001b[39m\u001b[0m\n",
            "\u001b[37m\u001b[1mINFO:spsdk.mboot.mcuboot:CMD: Max Packet Size = 256\u001b[39m\u001b[0m\n",
            "\u001b[37m\u001b[1mINFO:spsdk.mboot.mcuboot:CMD: Status: 0 (0x0) Success.\u001b[39m\u001b[0m\n",
            "\u001b[37m\u001b[1mINFO:spsdk.mboot.mcuboot:CMD: Successfully Send 32 out of 32 Bytes\u001b[39m\u001b[0m\n",
            "Writing Secure Objects to: 0x20000100\n",
            "\u001b[37m\u001b[1mINFO:spsdk.mboot.mcuboot:CMD: WriteMemory(address=0x20000100, length=437, mem_id=0)\u001b[39m\u001b[0m\n",
            "\u001b[37m\u001b[1mINFO:spsdk.mboot.mcuboot:CMD: Status: 0 (0x0) Success.\u001b[39m\u001b[0m\n",
            "\u001b[37m\u001b[1mINFO:spsdk.mboot.mcuboot:CMD: Successfully Send 437 out of 437 Bytes\u001b[39m\u001b[0m\n",
            "\u001b[37m\u001b[1mINFO:spsdk.mboot.mcuboot:Closing: identifier='uart', device=com5\u001b[39m\u001b[0m\n",
            "Secure Objects uploaded successfully\n",
            "\u001b[37m\u001b[1mINFO:spsdk.mboot.mcuboot:Connect: identifier='uart', device=com5\u001b[39m\u001b[0m\n",
            "Uploading ProvFW (Starting provisioning process)\n",
            "\u001b[37m\u001b[1mINFO:spsdk.mboot.mcuboot:CMD: ReceiveSBfile(data_length=10456)\u001b[39m\u001b[0m\n",
            "\u001b[37m\u001b[1mINFO:spsdk.mboot.mcuboot:CMD: GetProperty(MaxPacketSize, index=0)\u001b[39m\u001b[0m\n",
            "\u001b[37m\u001b[1mINFO:spsdk.mboot.mcuboot:CMD: Status: 0 (0x0) Success.\u001b[39m\u001b[0m\n",
            "\u001b[37m\u001b[1mINFO:spsdk.mboot.mcuboot:CMD: Max Packet Size = 256\u001b[39m\u001b[0m\n",
            "\u001b[37m\u001b[1mINFO:spsdk.mboot.mcuboot:CMD: Status: 0 (0x0) Success.\u001b[39m\u001b[0m\n",
            "\u001b[37m\u001b[1mINFO:spsdk.mboot.mcuboot:CMD: Successfully Send 10456 out of 10456 Bytes\u001b[39m\u001b[0m\n",
            "\u001b[37m\u001b[1mINFO:spsdk.mboot.mcuboot:Closing: identifier='uart', device=com5\u001b[39m\u001b[0m\n",
            "Secure Objects provisioned successfully\n"
          ]
        }
      ],
      "source": [
        "%! el2go-host -v provision-objects $CONFIG $DATABASE $PORT"
      ]
    },
    {
      "cell_type": "markdown",
      "metadata": {},
      "source": [
        "## 4. Quick verification\n",
        "\n",
        "A full provisioning verification is not possible without a dedicated user application that would test all the Secure Objects. \n",
        "Test of RKTH and image encryption keys is done indirectly by loading the user SB3.1 file.\n",
        "\n",
        "For demonstration purposes, we can read out Secure Object's metadata stored in flash.\n",
        "The address is defined in the config file as `secure_objects_address` (in our case it's 0x1000).\n",
        "\n",
        "Each Secure Objects starts with: b\"\\x40\\x0Bedgelock2go\""
      ]
    },
    {
      "cell_type": "code",
      "execution_count": 8,
      "metadata": {},
      "outputs": [
        {
          "name": "stdout",
          "output_type": "stream",
          "text": [
            "blhost --port com5 read-memory 0x1000 0x10 --use-hexdump \n",
            "Reading memory\n",
            "00000000: 40 0B 65 64 67 65 6C 6F  63 6B 32 67 6F 41 04 00  @.edgelock2goA..\n",
            "Response status = 0 (0x0) Success.\n",
            "Response word 1 = 16 (0x10)\n",
            "Read 16 of 16 bytes.\n"
          ]
        }
      ],
      "source": [
        "%! blhost --port com5 read-memory 0x1000 0x10 --use-hexdump"
      ]
    }
  ],
  "metadata": {
    "kernelspec": {
      "display_name": "venv",
      "language": "python",
      "name": "python3"
    },
    "language_info": {
      "codemirror_mode": {
        "name": "ipython",
        "version": 3
      },
      "file_extension": ".py",
      "mimetype": "text/x-python",
      "name": "python",
      "nbconvert_exporter": "python",
      "pygments_lexer": "ipython3",
      "version": "3.12.2"
    }
  },
  "nbformat": 4,
  "nbformat_minor": 2
}
