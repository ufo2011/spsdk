{
 "cells": [
  {
   "attachments": {},
   "cell_type": "markdown",
   "metadata": {},
   "source": [
    "# i.MXRT105x Flashloader\n",
    "\n",
    "This example demonstrates how to create a flashloader for the i.MXRT105x device.\n",
    "\n",
    "The Jupyter notebook guides you through the process of creating a High Assurance Boot (HAB) container with a flashloader application from the NXP SDK, which can be loaded using serial downloader mode.\n",
    "\n",
    "The process is divided into several steps, outlined in the following sections.\n",
    "\n",
    "> **Note**: This example is adaptable to other NXP devices that support HAB containers, such as i.MX RT117x and similar chip families."
   ]
  },
  {
   "cell_type": "markdown",
   "metadata": {},
   "source": [
    "## 1. Prerequisites\n",
    "- SPSDK is needed with examples extension. `pip install spsdk[examples]` (Please refer to the [installation](../../_knowledge_base/installation_guide.rst) documentation.)"
   ]
  },
  {
   "cell_type": "markdown",
   "metadata": {},
   "source": [
    "Let's prepare also workspace and variables."
   ]
  },
  {
   "cell_type": "code",
   "execution_count": 1,
   "metadata": {
    "tags": [
     "remove-cell"
    ]
   },
   "outputs": [
    {
     "name": "stdout",
     "output_type": "stream",
     "text": [
      "env: JUPYTER_SPSDK=1\n",
      "Created `%!` as an alias for `%execute`.\n"
     ]
    }
   ],
   "source": [
    "# Initialization cell\n",
    "import os\n",
    "\n",
    "from spsdk.utils.jupyter_utils import YamlDiffWidget\n",
    "\n",
    "# This env variable sets colored logger output to STDOUT\n",
    "%env JUPYTER_SPSDK=1\n",
    "# Set a magic for command execution and echo\n",
    "%alias execute echo %l && %l\n",
    "%alias_magic ! execute"
   ]
  },
  {
   "cell_type": "code",
   "execution_count": 2,
   "metadata": {},
   "outputs": [],
   "source": [
    "WORKSPACE = \"workspace/\"  # change this to path to your workspace\n",
    "INPUTS = \"inputs/\"\n",
    "# verbosity of commands, might be -v or -vv for debug or blank for no additional info\n",
    "VERBOSITY = \"-v\"\n",
    "UART_CONNECTION = \"-p COM1\"  # change this based on your comport\n",
    "PORT = UART_CONNECTION.split(\" \")[1]\n",
    "HAB_USER_CONFIG = INPUTS + \"rt105x_hab.yaml\"\n",
    "HAB_OUTPUT = WORKSPACE + \"flashloader.bin\""
   ]
  },
  {
   "cell_type": "markdown",
   "metadata": {},
   "source": [
    "## 2. Compiling the Flashloader Application\n",
    "\n",
    "To begin, we need to build the flashloader application from the NXP SDK. Follow these steps:\n",
    "\n",
    " - Obtain the NXP MCUXpresso SDK by downloading it from the [NXP website](https://mcuxpresso.nxp.com/).\n",
    " - Locate the flashloader application in the SDK. It's typically found at: `{SDK_root}\\boards\\evkmimxrt1050\\bootloader_examples\\flashloader\\cm4`\n",
    " - Use your preferred Integrated Development Environment (IDE) to open the flashloader application.\n",
    " - Build the flashloader and generate a binary output file.\n",
    "\n",
    "> **Note**:  For this example, we're using a pre-compiled [flashloader](./inputs/rt105x_flashloader.bin) for convenience.\n"
   ]
  },
  {
   "cell_type": "markdown",
   "metadata": {},
   "source": [
    "## 3. Preparing the HAB configuration file\n",
    "\n",
    "Let's begin with creating a template configuration file using the `nxpimage hab get-template` command. This command generates a YAML template that can be customized for our specific HAB configuration needs. Below, we'll compare the differences between the template and our customized example to highlight the additions we've made."
   ]
  },
  {
   "cell_type": "code",
   "execution_count": 3,
   "metadata": {
    "tags": [
     "remove-input"
    ]
   },
   "outputs": [
    {
     "name": "stdout",
     "output_type": "stream",
     "text": [
      "nxpimage hab get-template -f mimxrt1050 -o workspace/rt105x_template.yaml --force \n",
      "The template file workspace/rt105x_template.yaml has been created.\n"
     ]
    },
    {
     "data": {
      "text/html": [
       "\n",
       "        \n",
       "        <style>\n",
       "            .yaml-diff { font-family: monospace; background-color: #f0f0f0; padding: 1em; border: 1px solid #c0c0c0; }\n",
       "            .yaml-key { color: #0000CC; font-weight: bold; }\n",
       "            .yaml-value { color: #006600; }\n",
       "            .yaml-commented-line { color: #008800; }\n",
       "            .yaml-list-item { color: #660066; }\n",
       "            .diff-removed { background-color: #ffaaaa; }\n",
       "            .diff-added { background-color: #aaffaa; }\n",
       "            .yaml-comment {\n",
       "                background-color: #FF8C00;\n",
       "                color: #000000;\n",
       "                border-radius: 50%;\n",
       "                padding: 0 0.3em;\n",
       "                margin-left: 0.5em;\n",
       "                font-size: 0.8em;\n",
       "                cursor: help;\n",
       "                font-weight: bold;\n",
       "                text-shadow: 1px 1px 1px rgba(255, 255, 255, 0.7);\n",
       "            }\n",
       "            #toggleButton_0d2a985138d82814a4298968b6a19800 {\n",
       "                background-color: #4CAF50;\n",
       "                border: none;\n",
       "                color: white;\n",
       "                padding: 10px 20px;\n",
       "                text-align: center;\n",
       "                text-decoration: none;\n",
       "                display: inline-block;\n",
       "                font-size: 16px;\n",
       "                margin: 4px 2px;\n",
       "                cursor: pointer;\n",
       "            }\n",
       "        </style>\n",
       "        \n",
       "        \n",
       "        <script>\n",
       "        function toggleView_0d2a985138d82814a4298968b6a19800() {\n",
       "            var diffView = document.getElementById('diffView_0d2a985138d82814a4298968b6a19800');\n",
       "            var userConfigView = document.getElementById('userConfigView_0d2a985138d82814a4298968b6a19800');\n",
       "            var button = document.getElementById('toggleButton_0d2a985138d82814a4298968b6a19800');\n",
       "\n",
       "            if (diffView.style.display === 'none' && userConfigView.style.display === 'none') {\n",
       "                diffView.style.display = 'block';\n",
       "                userConfigView.style.display = 'none';\n",
       "                button.textContent = 'Show User Config';\n",
       "            } else if (diffView.style.display === 'block') {\n",
       "                diffView.style.display = 'none';\n",
       "                userConfigView.style.display = 'block';\n",
       "                button.textContent = 'Hide';\n",
       "            } else {\n",
       "                diffView.style.display = 'none';\n",
       "                userConfigView.style.display = 'none';\n",
       "                button.textContent = 'Show Diff';\n",
       "            }\n",
       "        }\n",
       "        </script>\n",
       "        \n",
       "        <div class=\"yaml-diff-container\">\n",
       "          <h3>Configuration Differences</h3>\n",
       "          <button onclick=\"toggleView_0d2a985138d82814a4298968b6a19800()\" id=\"toggleButton_0d2a985138d82814a4298968b6a19800\">Show Diff</button>\n",
       "          \n",
       "        <a href=\"data:text/plain;base64,IyA9PT09PT09PT09PT09PT09PT09PT09PT09PT09PT09PT09PT09PT09PT09ICBIQUIgQ29uZmlndXJhdGlvbiB0ZW1wbGF0ZS4gID09PT09PT09PT09PT09PT09PT09PT09PT09PT09PT09PT09PT09PT09PT09CgojID09PT09PT09PT09PT09PT09PT09PT09PT09PT09PT09PT09PT09PT09PT09PT09PT09PT09PT09PT09PT09PT09PT09PT09PT09PT09PT09PT09PT09PT09PT09PT09PT09PT09PT09PT09PT09PT09PT09PT0KIyAgICAgICAgICAgICAgICAgICAgICAgICAgICAgICAgICAgICAgICAgICAgICAgICA9PSBHZW5lcmFsIE9wdGlvbnMgPT0gICAgICAgICAgICAgICAgICAgICAgICAgICAgICAgICAgICAgICAgICAgICAgICAgCiMgPT09PT09PT09PT09PT09PT09PT09PT09PT09PT09PT09PT09PT09PT09PT09PT09PT09PT09PT09PT09PT09PT09PT09PT09PT09PT09PT09PT09PT09PT09PT09PT09PT09PT09PT09PT09PT09PT09PT09PQojIC0tLS0tLS0tLS0tLS0tLS0tLS0tLS0tLS0tLS0tLS0tLS0tLS0tLS0tLT09PT09IEhBQiBPcHRpb25zIFtSZXF1aXJlZF0gPT09PT0tLS0tLS0tLS0tLS0tLS0tLS0tLS0tLS0tLS0tLS0tLS0tLS0tLS0tLS0KIyBEZXNjcmlwdGlvbjogQW4gb3B0aW9ucyBibG9jayBjb250YWlucyB6ZXJvIG9yIG1vcmUgbmFtZS92YWx1ZSBwYWlycyBhbmQgdGhlIG9wdGlvbiBzZXR0aW5ncyB0aGF0IGFzc2lnbiB2YWx1ZXMgdG8KIyBnbG9iYWwgb3B0aW9ucyB1c2VkIGJ5IHRoZSBueHBpbWFnZSB0byBjb250cm9sIHRoZSBnZW5lcmF0aW9uIG9mIHRoZSBvdXRwdXQgZmlsZS4Kb3B0aW9uczoKICAjIC0tLS0tLS0tLS0tLS0tLS0tLS0tLS0tLS0tLS0tLS0tLS0tPT09PT0gSEFCIGZsYWdzIFtDb25kaXRpb25hbGx5IHJlcXVpcmVkXSA9PT09PS0tLS0tLS0tLS0tLS0tLS0tLS0tLS0tLS0tLS0tLS0tLS0tCiAgIyBEZXNjcmlwdGlvbjogSEFCIGZsYWdzLiAweDAgZm9yIHVuc2lnbmVkLCAweDA4IHNpZ25lZCwgMHgwQyBlbmNyeXB0ZWQuCiAgZmxhZ3M6IDAKICAjIC0tLS0tLS0tLS0tLS0tLS0tLS0tLS0tLS0tLS0tLT09PT09IEltYWdlIHN0YXJ0IGFkZHJlc3MgW0NvbmRpdGlvbmFsbHkgcmVxdWlyZWRdID09PT09LS0tLS0tLS0tLS0tLS0tLS0tLS0tLS0tLS0tLS0tCiAgIyBEZXNjcmlwdGlvbjogRmlyc3QgYWRkcmVzcyBvZiB0aGUgYm9vdGFibGUgaW1hZ2UgaW4gdGhlIHRhcmdldCBtZW1vcnkuCiAgc3RhcnRBZGRyZXNzOiAweDIwMDAxYzAwCiAgIyAtLS0tLS0tLS0tLS0tLS0tLS0tLS0tLS0tLS0tLS0tLS0tLS09PT09PSBGYW1pbHkgW0NvbmRpdGlvbmFsbHkgcmVxdWlyZWRdID09PT09LS0tLS0tLS0tLS0tLS0tLS0tLS0tLS0tLS0tLS0tLS0tLS0tLQogICMgRGVzY3JpcHRpb246IFByb2Nlc3NvciBmYW1pbHkuIElmIG5vdCBzcGVjaWZpZWQsIHRoZSBpdnRPZmZzZXQgYW5kIGluaXRpYWxMb2FkU2l6ZSBtdXN0IGJlIGRlZmluZWQuCiAgIyBQb3NzaWJsZSBvcHRpb25zOiA8bWlteHJ0MTAxMCwgbWlteHJ0MTAxNSwgbWlteHJ0MTAyMCwgbWlteHJ0MTAyNCwgbWlteHJ0MTA0MCwgbWlteHJ0MTA1MCwgbWlteHJ0MTA2MCwgbWlteHJ0MTA2NCwKICAjIG1pbXhydDExNjUsIG1pbXhydDExNjYsIG1pbXhydDExNzEsIG1pbXhydDExNzIsIG1pbXhydDExNzMsIG1pbXhydDExNzUsIG1pbXhydDExNzYsIHJ0MTAxMCwgcnQxMDE1LCBydDEwMngsIHJ0MTA0eCwKICAjIHJ0MTA1eCwgcnQxMDZ4LCBydDExNngsIHJ0MTE3eD4KICBmYW1pbHk6IG1pbXhydDEwNTAKICAjIC0tLS0tLS0tLS0tLS0tLS0tLS0tLS0tLS0tLS0tLS0tLS09PT09PSBCb290IGRldmljZSBbQ29uZGl0aW9uYWxseSByZXF1aXJlZF0gPT09PT0tLS0tLS0tLS0tLS0tLS0tLS0tLS0tLS0tLS0tLS0tLS0tCiAgIyBEZXNjcmlwdGlvbjogQm9vdCBkZXZpY2UgbWVtb3J5IHdoZXJlIHRoZSBpbWFnZSBpcyBib290ZWQgZnJvbS4gSWYgbm90IHNwZWNpZmllZCwgdGhlIGl2dE9mZnNldCBhbmQgaW5pdGlhbExvYWRTaXplCiAgIyBtdXN0IGJlIGRlZmluZWQuCiAgIyBQb3NzaWJsZSBvcHRpb25zOiA8ZmxleHNwaV9ub3IsIGZsZXhzcGlfbmFuZCwgc2VtY19uYW5kLCBzZCwgbW1jPgogIGJvb3REZXZpY2U6IHNlcmlhbF9kb3dubG9hZGVyCiMgPT09PT09PT09PT09PT09PT09PT09PT09PT09PT09PT09PT09PT09PT09PT09PT09PT09PT09PT09PT09PT09PT09PT09PT09PT09PT09PT09PT09PT09PT09PT09PT09PT09PT09PT09PT09PT09PT09PT09PQojICAgICAgICAgICAgICAgICAgICAgICAgICAgICAgICAgICAgICAgICAgICAgICAgICAgID09IEhBQiBJbnB1dCA9PSAgICAgICAgICAgICAgICAgICAgICAgICAgICAgICAgICAgICAgICAgICAgICAgICAgICAKIyA9PT09PT09PT09PT09PT09PT09PT09PT09PT09PT09PT09PT09PT09PT09PT09PT09PT09PT09PT09PT09PT09PT09PT09PT09PT09PT09PT09PT09PT09PT09PT09PT09PT09PT09PT09PT09PT09PT09PT09CiMgLS0tLS0tLS0tLS0tLS0tLS0tLS0tLS0tLS0tLS0tLS0tLS0tPT09PT0gUGxhaW4gYXBwbGljYXRpb24gaW1hZ2UgW1JlcXVpcmVkXSA9PT09PS0tLS0tLS0tLS0tLS0tLS0tLS0tLS0tLS0tLS0tLS0tLS0tLQojIERlc2NyaXB0aW9uOiBUaGUgaW5wdXQgYXBwbGljYXRpb24gaW1hZ2UgaW4gcGxhaW4gQklOLCBTLVJFQyBvciBFTEYuCmlucHV0SW1hZ2VGaWxlOiBydDEwNXhfZmxhc2hsb2FkZXIuYmluCg==\" download=\"user_config.yaml\">\n",
       "            <button style=\"background-color: #4CAF50; border: none; color: white; padding: 10px 20px; text-align: center; text-decoration: none; display: inline-block; font-size: 16px; margin: 4px 2px; cursor: pointer;\">\n",
       "                Download Config\n",
       "            </button>\n",
       "        </a>\n",
       "        \n",
       "          <div id=\"diffView_0d2a985138d82814a4298968b6a19800\" class=\"yaml-diff\" style=\"display:none;\"><pre class=\"yaml-diff\"><span class=\"yaml-commented-line\"># ===========================================  HAB Configuration template.  ============================================</span><br><br><span class=\"yaml-commented-line\"># ======================================================================================================================</span><br><span class=\"yaml-commented-line\">#                                                 == General Options ==                                                 </span><br><span class=\"yaml-commented-line\"># ======================================================================================================================</span><br><span class=\"yaml-commented-line\"># ------------------------------------------===== HAB Options [Required] =====------------------------------------------</span><br><span class=\"yaml-commented-line\"># Description: An options block contains zero or more name/value pairs and the option settings that assign values to</span><br><span class=\"yaml-commented-line\"># global options used by the nxpimage to control the generation of the output file.</span><br><span class=\"yaml-key\">options</span>:<br>  <span class=\"yaml-commented-line\"># -----------------------------------===== HAB flags [Conditionally required] =====-----------------------------------</span><br>  <span class=\"yaml-commented-line\"># Description: HAB flags. 0x0 for unsigned, 0x08 signed, 0x0C encrypted.</span><br><span class=\"diff-removed\"><span class=\"yaml-key\">  flags</span>: <span class=\"yaml-value\">8</span> <span style=\"background-color: #FFFF00; border-radius: 5px; padding: 2px 6px; margin-\n",
       "left: 5px; font-size: 0.8em;\">The output is an unsigned HAB container</span></span><br><span class=\"diff-added\"><span class=\"yaml-key\">  flags</span>: <span class=\"yaml-value\">0</span></span><br>  <span class=\"yaml-commented-line\"># ------------------------------===== Image start address [Conditionally required] =====------------------------------</span><br>  <span class=\"yaml-commented-line\"># Description: First address of the bootable image in the target memory.</span><br><span class=\"diff-added\"><span class=\"yaml-key\">  startAddress</span>: <span class=\"yaml-value\">0x20001c00</span></span><br><span class=\"diff-removed\"><span class=\"yaml-key\">  startAddress</span>: <span class=\"yaml-value\">1610612736</span> <span style=\"background-color: #FFFF00; border-radius: 5px; padding:\n",
       "2px 6px; margin-left: 5px; font-size: 0.8em;\">The value is actually the linker interrupt table address(0x20002000)  - 0x400</span></span><br>  <span class=\"yaml-commented-line\"># ----------------------------------===== IVT Offset [Conditionally required] =====-----------------------------------</span><br>  <span class=\"yaml-commented-line\"># Description: Offset of IVT table(beginning of HAB container) from startAddress. This option can be omitted if family</span><br>  <span class=\"yaml-commented-line\"># and bootDevice are specified.</span><br><span class=\"diff-removed\"><span class=\"yaml-key\">  ivtOffset</span>: <span class=\"yaml-value\">4096</span> <span style=\"background-color: #FFFF00; border-radius: 5px; padding: 2px 6px;\n",
       "margin-left: 5px; font-size: 0.8em;\">IVT offset is detected automatically when family and bootDevice are specified</span></span><br>  <span class=\"yaml-commented-line\"># -------------------------------===== Initial Load size [Conditionally required] =====-------------------------------</span><br>  <span class=\"yaml-commented-line\"># Description: Size of the segments(such as IVT, BDT, DCD, XMCD) placed before the actual application image. The value</span><br>  <span class=\"yaml-commented-line\"># is specific per boot device type. This option can be omitted if family and bootDevice are specified.</span><br><span class=\"diff-removed\"><span class=\"yaml-key\">  initialLoadSize</span>: <span class=\"yaml-value\">8192</span> <span style=\"background-color: #FFFF00; border-radius: 5px; padding: 2px\n",
       "6px; margin-left: 5px; font-size: 0.8em;\">Initial load size is detected automatically when family and bootDevice are specified</span></span><br>  <span class=\"yaml-commented-line\"># -------------------------------------===== Entry Point address [Optional] =====-------------------------------------</span><br>  <span class=\"yaml-commented-line\"># Description: Reset vector of the application. If not specified, the vector will be automatically detected from the</span><br>  <span class=\"yaml-commented-line\"># input image.</span><br><span class=\"diff-removed\"><span class=\"yaml-key\">  entryPointAddress</span>: <span class=\"yaml-value\">2147500533</span> <span style=\"background-color: #FFFF00; border-radius: 5px;\n",
       "padding: 2px 6px; margin-left: 5px; font-size: 0.8em;\">The entrypoint address is detected automatically from flashloader binary</span></span><br>  <span class=\"yaml-commented-line\"># ------------------------------------===== Family [Conditionally required] =====-------------------------------------</span><br>  <span class=\"yaml-commented-line\"># Description: Processor family. If not specified, the ivtOffset and initialLoadSize must be defined.</span><br>  <span class=\"yaml-commented-line\"># Possible options: <mimxrt1010, mimxrt1015, mimxrt1020, mimxrt1024, mimxrt1040, mimxrt1050, mimxrt1060, mimxrt1064,</span><br>  <span class=\"yaml-commented-line\"># mimxrt1165, mimxrt1166, mimxrt1171, mimxrt1172, mimxrt1173, mimxrt1175, mimxrt1176></span><br><span class=\"yaml-key\">  family</span>: <span class=\"yaml-value\">mimxrt1050</span><br>  <span class=\"yaml-commented-line\"># ----------------------------------===== Boot device [Conditionally required] =====----------------------------------</span><br>  <span class=\"yaml-commented-line\"># Description: Boot device memory where the image is booted from. If not specified, the ivtOffset and initialLoadSize</span><br>  <span class=\"yaml-commented-line\"># must be defined.</span><br>  <span class=\"yaml-commented-line\"># Possible options: <serial_downloader, flexspi_nor, flexspi_nand, semc_nand, sd, mmc></span><br><span class=\"diff-added\"><span class=\"yaml-key\">  bootDevice</span>: <span class=\"yaml-value\">serial_downloader</span></span><br><span class=\"diff-removed\"><span class=\"yaml-key\">  bootDevice</span>: <span class=\"yaml-value\">flexspi_nor</span></span><br>  <span class=\"yaml-commented-line\"># ---------------------------------===== Timestamp of the signature [Optional] =====----------------------------------</span><br><span class=\"diff-removed\"><span class=\"yaml-key\">  signatureTimestamp</span>: <span class=\"yaml-value\">04/05/2023 11:27:43</span></span><br>  <span class=\"yaml-commented-line\"># ----------------------------------------===== DCD file path [Optional] =====----------------------------------------</span><br>  <span class=\"yaml-commented-line\"># Description: Optional path to DCD data.</span><br><span class=\"diff-removed\"><span class=\"yaml-key\">  DCDFilePath</span>: <span class=\"yaml-value\">dcd.bin</span></span><br>  <span class=\"yaml-commented-line\"># ---------------------------------------===== XMCD file path [Optional] =====----------------------------------------</span><br>  <span class=\"yaml-commented-line\"># Description: Optional path to XMCD data.</span><br><span class=\"diff-removed\"><span class=\"yaml-key\">  XMCDFilePath</span>: <span class=\"yaml-value\">xmcd.bin</span></span><br><span class=\"yaml-commented-line\"># ======================================================================================================================</span><br><span class=\"yaml-commented-line\">#                                                    == HAB Input ==                                                    </span><br><span class=\"yaml-commented-line\"># ======================================================================================================================</span><br><span class=\"yaml-commented-line\"># ------------------------------------===== Plain application image [Required] =====------------------------------------</span><br><span class=\"yaml-commented-line\"># Description: The input application image in plain BIN, S-REC or ELF.</span><br><span class=\"diff-added\"><span class=\"yaml-key\">inputImageFile</span>: <span class=\"yaml-value\">rt105x_flashloader.bin</span></span><br><span class=\"diff-removed\"><span class=\"yaml-key\">inputImageFile</span>: <span class=\"yaml-value\">my_application.bin</span></span><br><span class=\"yaml-commented-line\"># ======================================================================================================================</span><br><span class=\"yaml-commented-line\">#                                                   == CSF Sections ==                                                  </span><br><span class=\"yaml-commented-line\"># ======================================================================================================================</span><br><span class=\"yaml-commented-line\"># -----------------------------------------===== CSF Sections [Optional] =====------------------------------------------</span><br><span class=\"yaml-commented-line\"># Description: CSF Sections.</span><br><span class=\"diff-removed\"><span class=\"yaml-key\">sections</span>:</span><br><span class=\"diff-removed\"><span class=\"yaml-key\">  -</span></span><br>  <span class=\"yaml-commented-line\"># ====================================================================================================================</span><br>  <span class=\"yaml-commented-line\">#                                          == List of possible 11 options. ==                                         </span><br>  <span class=\"yaml-commented-line\">#  Options [Header, InstallSRK, InstallCSFK, InstallNOCAK, AuthenticateCSF, InstallKey, AuthenticateData, SetEngine,  </span><br>  <span class=\"yaml-commented-line\">#                                             Unlock, SecretKey, Decrypt]                                             </span><br>  <span class=\"yaml-commented-line\"># ====================================================================================================================</span><br><br>  <span class=\"yaml-commented-line\">#  =========================== [Example of possible configuration: #0 , erase if not used] ============================</span><br>    <span class=\"yaml-commented-line\"># ------------------------------------------===== Header [Required] =====-------------------------------------------</span><br>    <span class=\"yaml-commented-line\"># Description: The Header command contains data used in the CSF header as well as default values used by the CST for</span><br>    <span class=\"yaml-commented-line\"># other commands throughout the remaining CSF. There must be exactly one Header command and it must appear first in</span><br>    <span class=\"yaml-commented-line\"># the CSF.</span><br><span class=\"diff-removed\"><span class=\"yaml-key\">    Header</span>:</span><br>      <span class=\"yaml-commented-line\"># -----------------------------------------===== Version [Required] =====-----------------------------------------</span><br>      <span class=\"yaml-commented-line\"># Description: Version of HAB.</span><br><span class=\"diff-removed\"><span class=\"yaml-key\">      Header_Version</span>: <span class=\"yaml-value\">'4.2'</span></span><br>      <span class=\"yaml-commented-line\"># -------------------------------------===== Hash algorithm [Optional] =====--------------------------------------</span><br>      <span class=\"yaml-commented-line\"># Description: Default hash algorithm.</span><br>      <span class=\"yaml-commented-line\"># Possible options: <sha256></span><br><span class=\"diff-removed\"><span class=\"yaml-key\">      Header_HashAlgorithm</span>: <span class=\"yaml-value\">sha256</span></span><br>      <span class=\"yaml-commented-line\"># -----------------------------------------===== Engine [Optional] =====------------------------------------------</span><br>      <span class=\"yaml-commented-line\"># Description: Default engine.</span><br>      <span class=\"yaml-commented-line\"># Possible options: <ANY, SAHARA, RTIC, DCP, CAAM, SW></span><br><span class=\"diff-removed\"><span class=\"yaml-key\">      Header_Engine</span>: <span class=\"yaml-value\">ANY</span></span><br>      <span class=\"yaml-commented-line\"># ----------------------------------===== Engine configuration [Optional] =====-----------------------------------</span><br>      <span class=\"yaml-commented-line\"># Description: Default engine configuration. See the CST manual for more info.</span><br><span class=\"diff-removed\"><span class=\"yaml-key\">      Header_EngineConfiguration</span>: <span class=\"yaml-value\">0</span></span><br>      <span class=\"yaml-commented-line\"># -----------------------------------===== Certificate format [Optional] =====------------------------------------</span><br>      <span class=\"yaml-commented-line\"># Description: Default certificate format.</span><br>      <span class=\"yaml-commented-line\"># Possible options: <x509, WTLS></span><br><span class=\"diff-removed\"><span class=\"yaml-key\">      Header_CertificateFormat</span>: <span class=\"yaml-value\">x509</span></span><br>      <span class=\"yaml-commented-line\"># ------------------------------------===== Signature format [Optional] =====-------------------------------------</span><br>      <span class=\"yaml-commented-line\"># Description: Default signature format.</span><br>      <span class=\"yaml-commented-line\"># Possible options: <PKCS1, CMS></span><br><span class=\"diff-removed\"><span class=\"yaml-key\">      Header_SignatureFormat</span>: <span class=\"yaml-value\">CMS</span></span><br><span class=\"diff-removed\"></span><br>  <span class=\"yaml-commented-line\">#  =========================== [Example of possible configuration: #1 , erase if not used] ============================</span><br>    <span class=\"yaml-commented-line\"># ----------------------------------------===== Install SRK [Required] =====----------------------------------------</span><br>    <span class=\"yaml-commented-line\"># Description: The Install SRK command authenticates and installs the root public key for use in subsequent Install</span><br>    <span class=\"yaml-commented-line\"># CSFK (HAB only) or Install Key (HAB4 only) commands. HAB or AHAB authenticates the SRK using the SRK hash</span><br>    <span class=\"yaml-commented-line\"># (SRK_HASH) fuses. HAB4 or AHAB allows revocation of individual keys within the SRK table using the SRK revocation</span><br>    <span class=\"yaml-commented-line\"># (SRK_REVOKE) fuses. HAB installs the SRK in slot 0 of its internal public key store. There must be exactly one</span><br>    <span class=\"yaml-commented-line\"># Install SRK command in a CSF, and it must occur before the Install CSFK (HAB only) command.</span><br><span class=\"diff-removed\"><span class=\"yaml-key\">    InstallSRK</span>:</span><br>      <span class=\"yaml-commented-line\"># ----------------------------------===== SRK table binary file [Required] =====----------------------------------</span><br>      <span class=\"yaml-commented-line\"># Description: Valid file path</span><br><span class=\"diff-removed\"><span class=\"yaml-key\">      InstallSRK_Table</span>: <span class=\"yaml-value\">srk_table.bin</span></span><br>      <span class=\"yaml-commented-line\"># ---------------------------------===== InstallSRK SourceIndex [Required] =====----------------------------------</span><br>      <span class=\"yaml-commented-line\"># Description: SRK index within SRK table. Installation fails if the SRK revocation fuse with this index is</span><br>      <span class=\"yaml-commented-line\"># burned.</span><br>      <span class=\"yaml-commented-line\"># Possible options: <0, 1, 2, 3></span><br><span class=\"diff-removed\"><span class=\"yaml-key\">      InstallSRK_SourceIndex</span>: <span class=\"yaml-value\">0</span></span><br><span class=\"diff-removed\"></span><br>  <span class=\"yaml-commented-line\">#  =========================== [Example of possible configuration: #2 , erase if not used] ============================</span><br>    <span class=\"yaml-commented-line\"># ---------------------------------------===== Install CSFK [Required] =====----------------------------------------</span><br>    <span class=\"yaml-commented-line\"># Description: The Install CSFK command authenticates and installs a public key for use in subsequent Install Key</span><br>    <span class=\"yaml-commented-line\"># (HAB3 only) or Authenticate CSF commands. HAB authenticates the CSFK from the CSFK certificate using the SRK. HAB</span><br>    <span class=\"yaml-commented-line\"># installs the CSFK in slot 1 of its internal public key store. There must be exactly one Install CSFK command in a</span><br>    <span class=\"yaml-commented-line\"># CSF, and it must occur before the Authenticate CSF command.</span><br><span class=\"diff-removed\"><span class=\"yaml-key\">    InstallCSFK</span>:</span><br>      <span class=\"yaml-commented-line\"># ------------------------------------===== CSFK Certificate [Required] =====-------------------------------------</span><br>      <span class=\"yaml-commented-line\"># Description: Valid path.</span><br><span class=\"diff-removed\"><span class=\"yaml-key\">      InstallCSFK_File</span>: <span class=\"yaml-value\">csf.der</span></span><br>      <span class=\"yaml-commented-line\"># -----------------------------------===== Certificate Format [Optional] =====------------------------------------</span><br>      <span class=\"yaml-commented-line\"># Description: CSFK certificate format.</span><br>      <span class=\"yaml-commented-line\"># Possible options: <x509, WTLS></span><br><span class=\"diff-removed\"><span class=\"yaml-key\">      InstallCSFK_CertificateFormat</span>: <span class=\"yaml-value\">x509</span></span><br><span class=\"diff-removed\"></span><br>  <span class=\"yaml-commented-line\">#  =========================== [Example of possible configuration: #3 , erase if not used] ============================</span><br>    <span class=\"yaml-commented-line\"># ---------------------------------------===== Install NOCAK [Required] =====---------------------------------------</span><br>    <span class=\"yaml-commented-line\"># Description: The Install NOCAK command authenticates and installs a public key for use with the fast</span><br>    <span class=\"yaml-commented-line\"># authentication mechanism (HAB 4.1.2 and later only). With this mechanism, one key is used for all signatures. HAB</span><br>    <span class=\"yaml-commented-line\"># installs the no-CA key in slot 1 of its internal public key store. There must be exactly one Install NOCAK command</span><br>    <span class=\"yaml-commented-line\"># in a CSF, and it must occur before the Authenticate CSF command and there must be no Install Key commands.</span><br><span class=\"diff-removed\"><span class=\"yaml-key\">    InstallNOCAK</span>:</span><br>      <span class=\"yaml-commented-line\"># ------------------------------------===== NOCAK Certificate [Required] =====------------------------------------</span><br>      <span class=\"yaml-commented-line\"># Description: Valid path.</span><br><span class=\"diff-removed\"><span class=\"yaml-key\">      InstallNOCAK_File</span>: <span class=\"yaml-value\">srk.pem</span></span><br>      <span class=\"yaml-commented-line\"># -----------------------------------===== Certificate Format [Optional] =====------------------------------------</span><br>      <span class=\"yaml-commented-line\"># Description: NOCAK certificate format.</span><br>      <span class=\"yaml-commented-line\"># Possible options: <x509, WTLS></span><br><span class=\"diff-removed\"><span class=\"yaml-key\">      InstallNOCAK_CertificateFormat</span>: <span class=\"yaml-value\">x509</span></span><br><span class=\"diff-removed\"></span><br>  <span class=\"yaml-commented-line\">#  =========================== [Example of possible configuration: #4 , erase if not used] ============================</span><br>    <span class=\"yaml-commented-line\"># -------------------------------------===== Authenticate CSF [Required] =====--------------------------------------</span><br>    <span class=\"yaml-commented-line\"># Description: The Authenticate CSF command authenticates the CSF from which it is executed. HAB authenticates the</span><br>    <span class=\"yaml-commented-line\"># CSF using the CSFK public key, from a digital signature generated automatically by the CST. There must be exactly</span><br>    <span class=\"yaml-commented-line\"># one Authenticate CSF command in a CSF file, and it must occur after the Install CSFK command. Most other CSF</span><br>    <span class=\"yaml-commented-line\"># commands are allowed only after the Authenticate CSF command.</span><br><span class=\"diff-removed\"><span class=\"yaml-key\">    AuthenticateCSF</span>:</span><br>      <span class=\"yaml-commented-line\"># ----------------------------------===== Engine configuration [Optional] =====-----------------------------------</span><br>      <span class=\"yaml-commented-line\"># Description: Default engine configuration. See the CST manual for more info.</span><br><span class=\"diff-removed\"><span class=\"yaml-key\">      AuthenticateCSF_EngineConfiguration</span>: <span class=\"yaml-value\">0</span></span><br>      <span class=\"yaml-commented-line\"># -----------------------------------===== Certificate format [Optional] =====------------------------------------</span><br>      <span class=\"yaml-commented-line\"># Description: Default certificate format.</span><br>      <span class=\"yaml-commented-line\"># Possible options: <x509, WTLS></span><br><span class=\"diff-removed\"><span class=\"yaml-key\">      AuthenticateCSF_CertificateFormat</span>: <span class=\"yaml-value\">x509</span></span><br>      <span class=\"yaml-commented-line\"># ------------------------------------===== Signature format [Optional] =====-------------------------------------</span><br>      <span class=\"yaml-commented-line\"># Description: Default signature format.</span><br>      <span class=\"yaml-commented-line\"># Possible options: <PKCS1, CMS></span><br><span class=\"diff-removed\"><span class=\"yaml-key\">      AuthenticateCSF_SignatureFormat</span>: <span class=\"yaml-value\">CMS</span></span><br>      <span class=\"yaml-commented-line\"># -----------------------------------===== Signature Provider [Optional] =====------------------------------------</span><br>      <span class=\"yaml-commented-line\"># Description: Signature provider configuration string. If not set, the value from AuthenticateCsf_PrivateKeyFile</span><br>      <span class=\"yaml-commented-line\"># parameter will be used.</span><br><span class=\"diff-removed\"><span class=\"yaml-key\">      AuthenticateCsf_SignProvider</span>: </span><br><span class=\"diff-removed\">        type=file;file_path=keys/CSF1_1_sha256_2048_65537_v3_usr_key.pem;password=PrivateKeyPwd</span><br>      <span class=\"yaml-commented-line\"># ------------------------------------===== Private Key File [Optional] =====-------------------------------------</span><br>      <span class=\"yaml-commented-line\"># Description: Path to authenticate CSF private key file. If not set, the file will be determined from</span><br>      <span class=\"yaml-commented-line\"># InstallCSFK_File parameter.</span><br><span class=\"diff-removed\"><span class=\"yaml-key\">      AuthenticateCsf_PrivateKeyFile</span>: <span class=\"yaml-value\">keys/CSF1_1_sha256_2048_65537_v3_usr_key.pem</span></span><br><span class=\"diff-removed\"></span><br>  <span class=\"yaml-commented-line\">#  =========================== [Example of possible configuration: #5 , erase if not used] ============================</span><br>    <span class=\"yaml-commented-line\"># ----------------------------------------===== Install Key [Required] =====----------------------------------------</span><br>    <span class=\"yaml-commented-line\"># Description: The Install Key command authenticates and installs a public key for use in subsequent Install Key or</span><br>    <span class=\"yaml-commented-line\"># Authenticate Data commands. HAB authenticates a public key from a public key certificate using a previously</span><br>    <span class=\"yaml-commented-line\"># installed verifying key and a hash of the public key certificate. HAB installs the authenticated public key in an</span><br>    <span class=\"yaml-commented-line\"># internal public key store with a zero-based array of key slots. The CSF author is responsible for managing the key</span><br>    <span class=\"yaml-commented-line\"># slots in the internal public key store to establish the desired public key hierarchy and determine the keys used</span><br>    <span class=\"yaml-commented-line\"># in authentication operations. Overwriting occupied key slots is not allowed, although a repeat command to re-</span><br>    <span class=\"yaml-commented-line\"># install the same public key occupying the target slot will be skipped and not generate an error.</span><br><span class=\"diff-removed\"><span class=\"yaml-key\">    InstallKey</span>:</span><br>      <span class=\"yaml-commented-line\"># ---------------------------------===== Public key certificate [Required] =====----------------------------------</span><br>      <span class=\"yaml-commented-line\"># Description: Valid file path.</span><br><span class=\"diff-removed\"><span class=\"yaml-key\">      InstallKey_File</span>: <span class=\"yaml-value\">imgk.pem</span></span><br>      <span class=\"yaml-commented-line\"># -----------------------------------===== Verification Index [Required] =====------------------------------------</span><br>      <span class=\"yaml-commented-line\"># Description: Verification key index in key store. CSFK not supported.</span><br>      <span class=\"yaml-commented-line\"># Possible options: <0, 2, 4></span><br><span class=\"diff-removed\"><span class=\"yaml-key\">      InstallKey_VerificationIndex</span>: <span class=\"yaml-value\">0</span></span><br>      <span class=\"yaml-commented-line\"># --------------------------------------===== Target Index [Required] =====---------------------------------------</span><br>      <span class=\"yaml-commented-line\"># Description: Target key index in key store. SRK, CSFK slots reserved.</span><br>      <span class=\"yaml-commented-line\"># Possible options: <2, 4></span><br><span class=\"diff-removed\"><span class=\"yaml-key\">      InstallKey_TargetIndex</span>: <span class=\"yaml-value\">2</span></span><br><span class=\"diff-removed\"></span><br>  <span class=\"yaml-commented-line\">#  =========================== [Example of possible configuration: #6 , erase if not used] ============================</span><br>    <span class=\"yaml-commented-line\"># -------------------------------------===== Authenticate Data [Required] =====-------------------------------------</span><br>    <span class=\"yaml-commented-line\"># Description: The Authenticate Data command verifies the authenticity of pre-loaded data in memory. The data may</span><br>    <span class=\"yaml-commented-line\"># include executable SW instructions and may be spread across multiple non-contiguous address ranges drawn from</span><br>    <span class=\"yaml-commented-line\"># multiple object files. HAB authenticates the pre-loaded data using a previously installed public key from a</span><br>    <span class=\"yaml-commented-line\"># digital signature generated automatically by the CST.</span><br><span class=\"diff-removed\"><span class=\"yaml-key\">    AuthenticateData</span>:</span><br>      <span class=\"yaml-commented-line\"># -----------------------------------===== Verification Index [Required] =====------------------------------------</span><br>      <span class=\"yaml-commented-line\"># Description: Verification key index in key store. SRK, CSFK not supported. NOTE For HAB4 Fast Authentication,</span><br>      <span class=\"yaml-commented-line\"># this must be 0</span><br>      <span class=\"yaml-commented-line\"># Possible options: <0, 2, 4></span><br><span class=\"diff-removed\"><span class=\"yaml-key\">      AuthenticateData_VerificationIndex</span>: <span class=\"yaml-value\">2</span></span><br>      <span class=\"yaml-commented-line\"># -----------------------------------------===== Engine [Optional] =====------------------------------------------</span><br>      <span class=\"yaml-commented-line\"># Description: Data signature hash engine.</span><br>      <span class=\"yaml-commented-line\"># Possible options: <ANY, SAHARA, RTIC, DCP, CAAM, SW></span><br><span class=\"diff-removed\"><span class=\"yaml-key\">      AuthenticateData_Engine</span>: <span class=\"yaml-value\">ANY</span></span><br>      <span class=\"yaml-commented-line\"># ----------------------------------===== Engine Configuration [Optional] =====-----------------------------------</span><br>      <span class=\"yaml-commented-line\"># Description: Configuration flags for the engine. See the CSF manual.</span><br><span class=\"diff-removed\"><span class=\"yaml-key\">      AuthenticateData_EngineConfiguration</span>: <span class=\"yaml-value\">0</span></span><br>      <span class=\"yaml-commented-line\"># -----------------------------------===== Signature Provider [Optional] =====------------------------------------</span><br>      <span class=\"yaml-commented-line\"># Description: Signature provider configuration string. If not set, the value from AuthenticateData_PrivateKeyFile</span><br>      <span class=\"yaml-commented-line\"># parameter will be used.</span><br><span class=\"diff-removed\"><span class=\"yaml-key\">      AuthenticateData_SignProvider</span>: </span><br><span class=\"diff-removed\">        type=file;file_path=keys/IMG1_1_sha256_2048_65537_v3_usr_key.pem;password=PrivateKeyPwd</span><br>      <span class=\"yaml-commented-line\"># ------------------------------------===== Private Key File [Optional] =====-------------------------------------</span><br>      <span class=\"yaml-commented-line\"># Description: Path to authenticate IMG private key file. If not set, the file will be determined from</span><br>      <span class=\"yaml-commented-line\"># InstallCSFK_File parameter.</span><br><span class=\"diff-removed\"><span class=\"yaml-key\">      AuthenticateData_PrivateKeyFile</span>: <span class=\"yaml-value\">keys/IMG1_1_sha256_2048_65537_v3_usr_key.pem</span></span><br><span class=\"diff-removed\"></span><br>  <span class=\"yaml-commented-line\">#  =========================== [Example of possible configuration: #7 , erase if not used] ============================</span><br>    <span class=\"yaml-commented-line\"># ----------------------------------------===== Set Engine [Required] =====-----------------------------------------</span><br>    <span class=\"yaml-commented-line\"># Description: The Set Engine command selects the default engine and engine configuration for a given algorithm.</span><br>    <span class=\"yaml-commented-line\"># HAB3 does not support the Set Engine command. Some CSF commands allow the CSF author to select the engine used for</span><br>    <span class=\"yaml-commented-line\"># an algorithm by specifying an argument other than ANY. However, if the engine argument is ANY, then HAB selects</span><br>    <span class=\"yaml-commented-line\"># the engine to use based on internal criteria. The Set Engine command overrides the HAB internal criteria and</span><br>    <span class=\"yaml-commented-line\"># selects the engine and configuration to use when ANY is specified.</span><br>    <span class=\"yaml-commented-line\"># Some algorithm types do not have an associated engine argument in the CSF commands (e.g. the signature algorithm</span><br>    <span class=\"yaml-commented-line\"># in Authenticate Data commands). By default, HAB selects the engine to use for such algorithms based on internal</span><br>    <span class=\"yaml-commented-line\"># criteria. The Set Engine command overrides the HAB internal criteria in such cases as well. Multiple Set Engine</span><br>    <span class=\"yaml-commented-line\"># commands may appear anywhere in a CSF after the Header command. Subsequent commands use the engine selected by the</span><br>    <span class=\"yaml-commented-line\"># most recent Set Engine command</span><br><span class=\"diff-removed\"><span class=\"yaml-key\">    SetEngine</span>:</span><br>      <span class=\"yaml-commented-line\"># -------------------------------------===== Hash Algorithm [Required] =====--------------------------------------</span><br>      <span class=\"yaml-commented-line\"># Description: Hash algorithm.</span><br>      <span class=\"yaml-commented-line\"># Possible options: <sha256></span><br><span class=\"diff-removed\"><span class=\"yaml-key\">      SetEngine_HashAlgorithm</span>: <span class=\"yaml-value\">sha256</span></span><br>      <span class=\"yaml-commented-line\"># -----------------------------------------===== Engine [Required] =====------------------------------------------</span><br>      <span class=\"yaml-commented-line\"># Description: Engine, use ANY to restore internal HAB criteria.</span><br>      <span class=\"yaml-commented-line\"># Possible options: <ANY, SAHARA, RTIC, DCP, CAAM, SW></span><br><span class=\"diff-removed\"><span class=\"yaml-key\">      SetEngine_Engine</span>: <span class=\"yaml-value\">ANY</span></span><br>      <span class=\"yaml-commented-line\"># ----------------------------------===== Engine configuration [Optional] =====-----------------------------------</span><br>      <span class=\"yaml-commented-line\"># Description: Default engine configuration. See the CST manual for more info.</span><br><span class=\"diff-removed\"><span class=\"yaml-key\">      SetEngine_EngineConfiguration</span>: <span class=\"yaml-value\">0</span></span><br><span class=\"diff-removed\"></span><br>  <span class=\"yaml-commented-line\">#  =========================== [Example of possible configuration: #8 , erase if not used] ============================</span><br>    <span class=\"yaml-commented-line\"># ------------------------------------------===== Unlock [Required] =====-------------------------------------------</span><br>    <span class=\"yaml-commented-line\"># Description: The Unlock command prevents specified engine features from being locked when exiting the internal</span><br>    <span class=\"yaml-commented-line\"># boot ROM. HAB3 does not support the Unlock command. Multiple Unlock commands may appear after the Authenticate CSF</span><br>    <span class=\"yaml-commented-line\"># command. A feature will be unlocked if specified in one or more Unlock commands.</span><br><span class=\"diff-removed\"><span class=\"yaml-key\">    Unlock</span>:</span><br>      <span class=\"yaml-commented-line\"># -----------------------------------------===== Engine [Optional] =====------------------------------------------</span><br>      <span class=\"yaml-commented-line\"># Description: Engine to unlock.</span><br>      <span class=\"yaml-commented-line\"># Possible options: <SRTC, CAAM, SNVS, OCOTP></span><br><span class=\"diff-removed\"><span class=\"yaml-key\">      Unlock_Engine</span>: <span class=\"yaml-value\">OCOTP</span></span><br>      <span class=\"yaml-commented-line\"># ----------------------------------------===== Features [Optional] =====-----------------------------------------</span><br>      <span class=\"yaml-commented-line\"># Description: Comma-separated list of features to unlock.</span><br><span class=\"diff-removed\"><span class=\"yaml-key\">      Unlock_Features</span>: <span class=\"yaml-value\">JTAG, SRK REVOKE</span></span><br><span class=\"diff-removed\"></span><br>  <span class=\"yaml-commented-line\">#  =========================== [Example of possible configuration: #9 , erase if not used] ============================</span><br>    <span class=\"yaml-commented-line\"># ------------------------------------===== Install Secret Key [Required] =====-------------------------------------</span><br>    <span class=\"yaml-commented-line\"># Description: This command is applicable from HAB 4.1 onwards and only on processors which include CAAM and SNVS.</span><br>    <span class=\"yaml-commented-line\"># Each instance of this command generates a CSF command to install a secret key in CAAM's secret key store.</span><br><span class=\"diff-removed\"><span class=\"yaml-key\">    SecretKey</span>:</span><br>      <span class=\"yaml-commented-line\"># -------------------------------------------===== Key [Optional] =====-------------------------------------------</span><br>      <span class=\"yaml-commented-line\"># Description: CMS encrypted data encryption key.</span><br><span class=\"diff-removed\"><span class=\"yaml-key\">      SecretKey_Name</span>: <span class=\"yaml-value\">dek.bin</span></span><br>      <span class=\"yaml-commented-line\"># ---------------------------------------===== Key length [Optional] =====----------------------------------------</span><br>      <span class=\"yaml-commented-line\"># Description: Key length in bits</span><br>      <span class=\"yaml-commented-line\"># Possible options: <128, 192, 256></span><br><span class=\"diff-removed\"><span class=\"yaml-key\">      SecretKey_Length</span>: <span class=\"yaml-value\">128</span></span><br>      <span class=\"yaml-commented-line\"># -----------------------------------===== Verification index [Optional] =====------------------------------------</span><br>      <span class=\"yaml-commented-line\"># Description: Master KEK index. 0 or 1 OTPMK from fuses. 2 ZMK from SNVS, 3 CMK from SNVS.</span><br>      <span class=\"yaml-commented-line\"># Possible options: <0, 1, 2, 3></span><br><span class=\"diff-removed\"><span class=\"yaml-key\">      SecretKey_VerifyIndex</span>: <span class=\"yaml-value\">0</span></span><br>      <span class=\"yaml-commented-line\"># --------------------------------------===== Target index [Required] =====---------------------------------------</span><br>      <span class=\"yaml-commented-line\"># Description: Target secret key store index.</span><br>      <span class=\"yaml-commented-line\"># Possible options: <0, 1, 2, 3></span><br><span class=\"diff-removed\"><span class=\"yaml-key\">      SecretKey_TargetIndex</span>: <span class=\"yaml-value\">0</span></span><br>      <span class=\"yaml-commented-line\"># ----------------------------------------===== Reuse DEK [Optional] =====----------------------------------------</span><br>      <span class=\"yaml-commented-line\"># Description: If set, the secret key from SecretKey_Name parameter will be used. If not, a random key will be</span><br>      <span class=\"yaml-commented-line\"># generated and stored.</span><br><span class=\"diff-removed\"><span class=\"yaml-key\">      SecretKey_ReuseDek</span>: <span class=\"yaml-value\">false</span></span><br><span class=\"diff-removed\"></span><br>  <span class=\"yaml-commented-line\">#  =========================== [Example of possible configuration: #10 , erase if not used] ===========================</span><br>    <span class=\"yaml-commented-line\"># ---------------------------------------===== Decrypt Data [Required] =====----------------------------------------</span><br>    <span class=\"yaml-commented-line\"># Description: This command is applicable from HAB4.1 onwards. Each instance generates a CSF command to decrypt and</span><br>    <span class=\"yaml-commented-line\"># authenticate a list of code/data blocks using secret key stored in the secret key store. CST will generate a</span><br>    <span class=\"yaml-commented-line\"># corresponding AUT_DAT command. CST will encrypt the data blocks in- place in the given files using a secret key</span><br>    <span class=\"yaml-commented-line\"># and generate MAC data which is appended to the CSF. The secret key index must have been the target key index in a</span><br>    <span class=\"yaml-commented-line\"># preceding Install Secret Key command. The same secret key must never be used more than once. The secret key used</span><br>    <span class=\"yaml-commented-line\"># is removed from the secret key store by the Decrypt Data command. A separate Install Secret Key command (which</span><br>    <span class=\"yaml-commented-line\"># generates a fresh secret key) is required for another Decrypt Data command.</span><br><span class=\"diff-removed\"><span class=\"yaml-key\">    Decrypt</span>:</span><br>      <span class=\"yaml-commented-line\"># -----------------------------------===== Verification Index [Required] =====------------------------------------</span><br>      <span class=\"yaml-commented-line\"># Description: Secret key index in Secret key store.</span><br>      <span class=\"yaml-commented-line\"># Possible options: <0, 1, 2, 4></span><br><span class=\"diff-removed\"><span class=\"yaml-key\">      Decrypt_VerifyIndex</span>: <span class=\"yaml-value\">0</span></span><br>      <span class=\"yaml-commented-line\"># -----------------------------------------===== Engine [Optional] =====------------------------------------------</span><br>      <span class=\"yaml-commented-line\"># Description: MAC Engine.</span><br>      <span class=\"yaml-commented-line\"># Possible options: <CAAM, ANY></span><br><span class=\"diff-removed\"><span class=\"yaml-key\">      Decrypt_Engine</span>: <span class=\"yaml-value\">ANY</span></span><br>      <span class=\"yaml-commented-line\"># ----------------------------------===== Engine Configuration [Optional] =====-----------------------------------</span><br>      <span class=\"yaml-commented-line\"># Description: Configuration flags for the engine. See the CSF manual.</span><br><span class=\"diff-removed\"><span class=\"yaml-key\">      Decrypt_EngineConfiguration</span>: <span class=\"yaml-value\">0</span></span><br>      <span class=\"yaml-commented-line\"># ----------------------------------------===== Mac Bytes [Optional] =====----------------------------------------</span><br>      <span class=\"yaml-commented-line\"># Description: Size of MAC in bytes. Even value between 4 and 16.</span><br><span class=\"diff-removed\"><span class=\"yaml-key\">      Decrypt_MacBytes</span>: <span class=\"yaml-value\">16</span></span><br>      <span class=\"yaml-commented-line\"># ------------------------------------------===== Nonce [Optional] =====------------------------------------------</span><br>      <span class=\"yaml-commented-line\"># Description: If set, the nonce from the given file will be used. If not, a random nonce will be generated.</span><br><span class=\"diff-removed\"><span class=\"yaml-key\">      Decrypt_Nonce</span>: <span class=\"yaml-value\">nonce.bin</span></span><br><span class=\"diff-removed\"></span></pre></div>\n",
       "          <div id=\"userConfigView_0d2a985138d82814a4298968b6a19800\" class=\"yaml-diff\" style=\"display:none;\"><pre class=\"yaml-diff\"><span class=\"yaml-commented-line\"># ===========================================  HAB Configuration template.  ============================================</span><br><br><span class=\"yaml-commented-line\"># ======================================================================================================================</span><br><span class=\"yaml-commented-line\">#                                                 == General Options ==                                                 </span><br><span class=\"yaml-commented-line\"># ======================================================================================================================</span><br><span class=\"yaml-commented-line\"># ------------------------------------------===== HAB Options [Required] =====------------------------------------------</span><br><span class=\"yaml-commented-line\"># Description: An options block contains zero or more name/value pairs and the option settings that assign values to</span><br><span class=\"yaml-commented-line\"># global options used by the nxpimage to control the generation of the output file.</span><br><span class=\"yaml-key\">options</span>:<br>  <span class=\"yaml-commented-line\"># -----------------------------------===== HAB flags [Conditionally required] =====-----------------------------------</span><br>  <span class=\"yaml-commented-line\"># Description: HAB flags. 0x0 for unsigned, 0x08 signed, 0x0C encrypted.</span><br><span class=\"yaml-key\">  flags</span>: <span class=\"yaml-value\">0</span> <span style=\"background-color: #FFFF00; border-radius: 5px; padding: 2px 6px; margin-\n",
       "left: 5px; font-size: 0.8em;\">The output is an unsigned HAB container</span><br>  <span class=\"yaml-commented-line\"># ------------------------------===== Image start address [Conditionally required] =====------------------------------</span><br>  <span class=\"yaml-commented-line\"># Description: First address of the bootable image in the target memory.</span><br><span class=\"yaml-key\">  startAddress</span>: <span class=\"yaml-value\">0x20001c00</span> <span style=\"background-color: #FFFF00; border-radius: 5px; padding:\n",
       "2px 6px; margin-left: 5px; font-size: 0.8em;\">The value is actually the linker interrupt table address(0x20002000)  - 0x400</span><br>  <span class=\"yaml-commented-line\"># ------------------------------------===== Family [Conditionally required] =====-------------------------------------</span><br>  <span class=\"yaml-commented-line\"># Description: Processor family. If not specified, the ivtOffset and initialLoadSize must be defined.</span><br>  <span class=\"yaml-commented-line\"># Possible options: <mimxrt1010, mimxrt1015, mimxrt1020, mimxrt1024, mimxrt1040, mimxrt1050, mimxrt1060, mimxrt1064,</span><br>  <span class=\"yaml-commented-line\"># mimxrt1165, mimxrt1166, mimxrt1171, mimxrt1172, mimxrt1173, mimxrt1175, mimxrt1176, rt1010, rt1015, rt102x, rt104x,</span><br>  <span class=\"yaml-commented-line\"># rt105x, rt106x, rt116x, rt117x></span><br><span class=\"yaml-key\">  family</span>: <span class=\"yaml-value\">mimxrt1050</span><br>  <span class=\"yaml-commented-line\"># ----------------------------------===== Boot device [Conditionally required] =====----------------------------------</span><br>  <span class=\"yaml-commented-line\"># Description: Boot device memory where the image is booted from. If not specified, the ivtOffset and initialLoadSize</span><br>  <span class=\"yaml-commented-line\"># must be defined.</span><br>  <span class=\"yaml-commented-line\"># Possible options: <flexspi_nor, flexspi_nand, semc_nand, sd, mmc></span><br><span class=\"yaml-key\">  bootDevice</span>: <span class=\"yaml-value\">serial_downloader</span><br><span class=\"yaml-commented-line\"># ======================================================================================================================</span><br><span class=\"yaml-commented-line\">#                                                    == HAB Input ==                                                    </span><br><span class=\"yaml-commented-line\"># ======================================================================================================================</span><br><span class=\"yaml-commented-line\"># ------------------------------------===== Plain application image [Required] =====------------------------------------</span><br><span class=\"yaml-commented-line\"># Description: The input application image in plain BIN, S-REC or ELF.</span><br><span class=\"yaml-key\">inputImageFile</span>: <span class=\"yaml-value\">rt105x_flashloader.bin</span><br></pre></div>\n",
       "        </div>\n",
       "        "
      ],
      "text/plain": [
       "<IPython.core.display.HTML object>"
      ]
     },
     "execution_count": 3,
     "metadata": {},
     "output_type": "execute_result"
    }
   ],
   "source": [
    "# Get difference of template and user YAML configuration\n",
    "YamlDiffWidget(\"rt105x_flashloader.diffc\").html"
   ]
  },
  {
   "cell_type": "markdown",
   "metadata": {},
   "source": [
    "## 4. HAB Container generation\n",
    "\n",
    "Now that we have established the necessary configuration for generating the HAB container with the flashloader application, let's proceed to create the HAB container."
   ]
  },
  {
   "cell_type": "code",
   "execution_count": 6,
   "metadata": {},
   "outputs": [
    {
     "name": "stdout",
     "output_type": "stream",
     "text": [
      "nxpimage hab export -c inputs/rt105x_hab.yaml -o workspace/flashloader.bin \n",
      "Success. (HAB container: workspace/flashloader.bin created.)\n"
     ]
    }
   ],
   "source": [
    "%! nxpimage hab export -c $HAB_USER_CONFIG -o $HAB_OUTPUT\n",
    "\n",
    "# Just check the HAB container has been properly created\n",
    "assert os.path.exists(HAB_OUTPUT)"
   ]
  },
  {
   "cell_type": "markdown",
   "metadata": {},
   "source": [
    "## 5. Flashloader loading\n",
    "\n",
    "The final step involves loading the generated flashloader into the MCU and executing it. The most straightforward approach is to utilize the 'sdphost' application with the 'write-file' and 'jump-address' commands.\n",
    "\n",
    "\n",
    "Ensure that the chip is in serial downloader mode before proceeding."
   ]
  },
  {
   "cell_type": "markdown",
   "metadata": {},
   "source": [
    "### 5.1 Using CLI"
   ]
  },
  {
   "cell_type": "code",
   "execution_count": 6,
   "metadata": {},
   "outputs": [
    {
     "name": "stdout",
     "output_type": "stream",
     "text": [
      "sdphost -p COM63 write-file 0x20001c00 workspace/flashloader.bin \n",
      "Status (HAB mode) = 1450735702 (0x56787856) Hab Is Disabled (Unlocked).\n",
      "Response status = 2290649224 (0x88888888) Write File Success.\n",
      "sdphost -p COM63 jump-address 0x20001c00 \n",
      "Status (HAB mode) = 1450735702 (0x56787856) Hab Is Disabled (Unlocked).\n"
     ]
    }
   ],
   "source": [
    "%! sdphost $UART_CONNECTION write-file 0x20001c00 $HAB_OUTPUT\n",
    "%! sdphost $UART_CONNECTION jump-address 0x20001c00"
   ]
  },
  {
   "cell_type": "markdown",
   "metadata": {},
   "source": [
    "### 5.2 Using API"
   ]
  },
  {
   "cell_type": "code",
   "execution_count": 7,
   "metadata": {
    "execute_cell": false
   },
   "outputs": [
    {
     "name": "stdout",
     "output_type": "stream",
     "text": [
      "Flashloader has started.\n"
     ]
    }
   ],
   "source": [
    "from spsdk.exceptions import SPSDKError\n",
    "from spsdk.sdp.interfaces.uart import SdpUARTInterface\n",
    "from spsdk.sdp.sdp import SDP\n",
    "from spsdk.utils.misc import load_binary\n",
    "\n",
    "interfaces = SdpUARTInterface.scan(port=PORT, timeout=10000)\n",
    "if not interfaces:\n",
    "    raise SPSDKError(\"No SDP device found.\")\n",
    "\n",
    "flashloader = load_binary(HAB_OUTPUT)\n",
    "with SDP(interfaces[0], True) as serial_downloader:\n",
    "    serial_downloader.write_file(0x20001C00, flashloader)\n",
    "    serial_downloader.jump_and_run(0x20001C00)\n",
    "print(\"Flashloader has started.\")"
   ]
  },
  {
   "cell_type": "markdown",
   "metadata": {},
   "source": [
    "## 6. Verification\n",
    "Now it is time to verify that everything went well and the flashloader application has started. A new mboot device should be visible."
   ]
  },
  {
   "cell_type": "markdown",
   "metadata": {},
   "source": [
    "### 6.1 Using CLI"
   ]
  },
  {
   "cell_type": "code",
   "execution_count": 8,
   "metadata": {},
   "outputs": [
    {
     "name": "stdout",
     "output_type": "stream",
     "text": [
      "blhost -p COM63 get-property 1 \n",
      "Response status = 0 (0x0) Success.\n",
      "Response word 1 = 1258424320 (0x4b020800)\n",
      "Current Version = K2.8.0\n"
     ]
    }
   ],
   "source": [
    "%! blhost $UART_CONNECTION get-property 1"
   ]
  },
  {
   "cell_type": "markdown",
   "metadata": {},
   "source": [
    "### 6.2 Using API"
   ]
  },
  {
   "cell_type": "code",
   "execution_count": 9,
   "metadata": {
    "execute_cell": false
   },
   "outputs": [
    {
     "name": "stdout",
     "output_type": "stream",
     "text": [
      "Current Version = K2.8.0\n"
     ]
    }
   ],
   "source": [
    "from spsdk.mboot.interfaces.uart import MbootUARTInterface\n",
    "from spsdk.mboot.mcuboot import McuBoot\n",
    "from spsdk.mboot.properties import parse_property_value\n",
    "\n",
    "interfaces = MbootUARTInterface.scan()\n",
    "if not interfaces:\n",
    "    raise SPSDKError(\"No mboot device found\")\n",
    "\n",
    "PROPERTY_INDEX = 1\n",
    "with McuBoot(interfaces[0], True) as mb:\n",
    "    property_raw = mb.get_property(PROPERTY_INDEX)\n",
    "prop = parse_property_value(PROPERTY_INDEX, property_raw)\n",
    "print(prop)"
   ]
  }
 ],
 "metadata": {
  "kernelspec": {
   "display_name": "venv_new",
   "language": "python",
   "name": "python3"
  },
  "language_info": {
   "codemirror_mode": {
    "name": "ipython",
    "version": 3
   },
   "file_extension": ".py",
   "mimetype": "text/x-python",
   "name": "python",
   "nbconvert_exporter": "python",
   "pygments_lexer": "ipython3",
   "version": "3.10.6"
  }
 },
 "nbformat": 4,
 "nbformat_minor": 2
}
