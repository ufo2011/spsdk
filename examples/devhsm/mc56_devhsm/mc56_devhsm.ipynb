{
 "cells": [
  {
   "attachments": {},
   "cell_type": "markdown",
   "metadata": {},
   "source": [
    "# MC56F81xxx/MWCT2xxx Device HSM and Secure Boot\n",
    "\n",
    "This notebook describes how to setup basic secure boot on MC56F81xxx/MWCT2xxx devices using the SPSDK *nxpdevhsm* and *nxpimage* applications.\n",
    "\n",
    "Secure Boot ensures authenticity, integrity and confidentiality of any software during the\n",
    "boot process and ensures that the intended secure level is reached. Secure Boot ensures that only properly signed (Original equipment manufacturer (OEM)-authentic) code can be executed on a device, protecting debug access is of utmost importance. Secure boot provides guarantee that unauthorized code cannot be executed on a given product.\n",
    "\n",
    "## 1. Prerequisites\n",
    "\n",
    "- SPSDK is needed with examples extension. `pip install spsdk[examples]` (Please refer to the [installation](../../_knowledge_base/installation_guide.rst) documentation.)\n",
    "\n",
    "- This example uses KW45xx-EVK/K32W1xx-EVK board\n",
    "\n",
    "Prepare a plain binary image as an input for the *nxpimage* tool. There are two sample applications in workspace with OPEN and CLOSED lifecycles."
   ]
  },
  {
   "cell_type": "code",
   "execution_count": 12,
   "metadata": {
    "tags": [
     "remove-cell"
    ]
   },
   "outputs": [
    {
     "name": "stdout",
     "output_type": "stream",
     "text": [
      "env: JUPYTER_SPSDK=1\n",
      "Created `%!` as an alias for `%execute`.\n"
     ]
    }
   ],
   "source": [
    "from spsdk.utils.jupyter_utils import YamlDiffWidget\n",
    "\n",
    "# This env variable sets colored logger output to STDOUT\n",
    "%env JUPYTER_SPSDK=1\n",
    "# Set a magic for command execution and echo\n",
    "%alias execute echo %l && %l\n",
    "%alias_magic ! execute"
   ]
  },
  {
   "cell_type": "code",
   "execution_count": 13,
   "metadata": {},
   "outputs": [],
   "source": [
    "FAMILY = \"mwct20d2\"  # change this to your family\n",
    "WORKSPACE = \"workspace/\"  # change this to path to your workspace\n",
    "DATA = \"inputs/\"  # data folder that contains input images\n",
    "VERBOSITY = (\n",
    "    \"\"  # verbosity of commands, might be -v or -vv for debug or blank for no additional info\n",
    ")"
   ]
  },
  {
   "attachments": {},
   "cell_type": "markdown",
   "metadata": {},
   "source": [
    "### 1.1 Signed image (MBI)\n",
    "\n",
    "In the picture below there's a layout of signed image.\n",
    "\n",
    "![Signed Image Layout](img/image_layout.png \"Signed Image Layout\")"
   ]
  },
  {
   "attachments": {},
   "cell_type": "markdown",
   "metadata": {},
   "source": [
    "## 2. Certificate block\n",
    "\n",
    "First step is to create certificate block and then signed image.\n",
    "\n",
    "Certificate block configuration contains ISK certificate, self-signed or NXP signed. If the key is self-signed, signing key or signature provider must be provided. In this example we will use already prepared key-pair from the workspace directory. User should prepare their own key-pair using the nxpcrypto application.\n",
    "\n",
    "You might use *get-template* command to obtain template configuration for cert-block.\n"
   ]
  },
  {
   "cell_type": "code",
   "execution_count": 14,
   "metadata": {},
   "outputs": [
    {
     "name": "stdout",
     "output_type": "stream",
     "text": [
      "nxpimage -v cert-block get-template -f mwct20d2 -o workspace/cert_block_template.yaml --force \n",
      "Creating workspace/cert_block_template.yaml template file.\n"
     ]
    },
    {
     "data": {
      "text/html": [
       "\n",
       "        \n",
       "        <style>\n",
       "            .yaml-diff { font-family: monospace; background-color: #f0f0f0; padding: 1em; border: 1px solid #c0c0c0; }\n",
       "            .yaml-key { color: #0000CC; font-weight: bold; }\n",
       "            .yaml-value { color: #006600; }\n",
       "            .yaml-commented-line { color: #008800; }\n",
       "            .yaml-list-item { color: #660066; }\n",
       "            .diff-removed { background-color: #ffaaaa; }\n",
       "            .diff-added { background-color: #aaffaa; }\n",
       "            .yaml-comment {\n",
       "                background-color: #FF8C00;\n",
       "                color: #000000;\n",
       "                border-radius: 50%;\n",
       "                padding: 0 0.3em;\n",
       "                margin-left: 0.5em;\n",
       "                font-size: 0.8em;\n",
       "                cursor: help;\n",
       "                font-weight: bold;\n",
       "                text-shadow: 1px 1px 1px rgba(255, 255, 255, 0.7);\n",
       "            }\n",
       "            #toggleButton_e7d899b8c9c0e29f751bd72b89f95227 {\n",
       "                background-color: #4CAF50;\n",
       "                border: none;\n",
       "                color: white;\n",
       "                padding: 10px 20px;\n",
       "                text-align: center;\n",
       "                text-decoration: none;\n",
       "                display: inline-block;\n",
       "                font-size: 16px;\n",
       "                margin: 4px 2px;\n",
       "                cursor: pointer;\n",
       "            }\n",
       "        </style>\n",
       "        \n",
       "        \n",
       "        <script>\n",
       "        function toggleView_e7d899b8c9c0e29f751bd72b89f95227() {\n",
       "            var diffView = document.getElementById('diffView_e7d899b8c9c0e29f751bd72b89f95227');\n",
       "            var userConfigView = document.getElementById('userConfigView_e7d899b8c9c0e29f751bd72b89f95227');\n",
       "            var button = document.getElementById('toggleButton_e7d899b8c9c0e29f751bd72b89f95227');\n",
       "\n",
       "            if (diffView.style.display === 'none' && userConfigView.style.display === 'none') {\n",
       "                diffView.style.display = 'block';\n",
       "                userConfigView.style.display = 'none';\n",
       "                button.textContent = 'Show User Config';\n",
       "            } else if (diffView.style.display === 'block') {\n",
       "                diffView.style.display = 'none';\n",
       "                userConfigView.style.display = 'block';\n",
       "                button.textContent = 'Hide';\n",
       "            } else {\n",
       "                diffView.style.display = 'none';\n",
       "                userConfigView.style.display = 'none';\n",
       "                button.textContent = 'Show Diff';\n",
       "            }\n",
       "        }\n",
       "        </script>\n",
       "        \n",
       "        <div class=\"yaml-diff-container\">\n",
       "          <h3>Configuration Differences</h3>\n",
       "          <button onclick=\"toggleView_e7d899b8c9c0e29f751bd72b89f95227()\" id=\"toggleButton_e7d899b8c9c0e29f751bd72b89f95227\">Show Diff</button>\n",
       "          \n",
       "        <a href=\"data:text/plain;base64,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\" download=\"user_config.yaml\">\n",
       "            <button style=\"background-color: #4CAF50; border: none; color: white; padding: 10px 20px; text-align: center; text-decoration: none; display: inline-block; font-size: 16px; margin: 4px 2px; cursor: pointer;\">\n",
       "                Download Config\n",
       "            </button>\n",
       "        </a>\n",
       "        \n",
       "          <div id=\"diffView_e7d899b8c9c0e29f751bd72b89f95227\" class=\"yaml-diff\" style=\"display:none;\"><pre class=\"yaml-diff\"><span class=\"diff-added\"><span class=\"yaml-key\">-</span>--</span><br><span class=\"yaml-commented-line\"># =========================================  Certification Block Vx template  ==========================================</span><br><br><span class=\"yaml-commented-line\"># ======================================================================================================================</span><br><span class=\"yaml-commented-line\">#                                             == ISK Certificate Settings ==                                            </span><br><span class=\"yaml-commented-line\"># ======================================================================================================================</span><br><span class=\"yaml-commented-line\"># -------------===== True if certificate is self signed, false for NXP Signed certificate [Optional] =====--------------</span><br><span class=\"yaml-commented-line\"># Description: NXP Signed = false, Self signed = true</span><br><span class=\"yaml-key\">selfSigned</span>: <span class=\"yaml-value\">true</span> <span style=\"background-color: #FFFF00; border-radius: 5px; padding: 2px 6px;\n",
       "margin-left: 5px; font-size: 0.8em;\">set to true for self-signed certificate</span><br><span class=\"yaml-commented-line\"># ---------------------------------===== ISK public key [Conditionally required] =====----------------------------------</span><br><span class=\"yaml-commented-line\"># Description: Path to ISK public key.</span><br><span class=\"diff-removed\"><span class=\"yaml-key\">iskPublicKey</span>: <span class=\"yaml-value\">sign_cert.pub</span> <span style=\"background-color: #FFFF00; border-radius: 5px; padding:\n",
       "2px 6px; margin-left: 5px; font-size: 0.8em;\">Add path to the ISK public key file</span></span><br><span class=\"diff-added\"><span class=\"yaml-key\">iskPublicKey</span>: <span class=\"yaml-value\">ec_secp256r1_sign_cert.pem</span></span><br><span class=\"yaml-commented-line\"># -----------------------===== Main root Certification Private Key [Conditionally required] =====-----------------------</span><br><span class=\"yaml-commented-line\"># Description: Path to Main root Certification Private Key.</span><br><span class=\"diff-removed\"><span class=\"yaml-key\">signPrivateKey</span>: <span class=\"yaml-value\">main_cert_prv_key.pem</span> <span style=\"background-color: #FFFF00; border-radius: 5px;\n",
       "padding: 2px 6px; margin-left: 5px; font-size: 0.8em;\">Add path to your private key file for signing</span></span><br><span class=\"diff-added\"><span class=\"yaml-key\">signPrivateKey</span>: <span class=\"yaml-value\">ec_pk_secp256r1_sign_cert.pem</span></span><br><span class=\"yaml-commented-line\"># -------------------------------===== Signature Provider [Conditionally required] =====--------------------------------</span><br><span class=\"yaml-commented-line\"># Description: Signature provider configuration in format 'type=<sp_type>;<key1>=<value1>;<key2>=<value2>'.</span><br><span class=\"diff-removed\"><span class=\"yaml-key\">signProvider</span>: <span class=\"yaml-value\">type=file;file_path=root_prv_key.pem</span> <span style=\"background-color: #FFFF00; border-\n",
       "radius: 5px; padding: 2px 6px; margin-left: 5px; font-size: 0.8em;\">This is removed, because we are using private key in this example</span></span><br><span class=\"yaml-commented-line\"># ======================================================================================================================</span><br><span class=\"yaml-commented-line\">#                                                  == Basic Settings ==                                                 </span><br><span class=\"yaml-commented-line\"># ======================================================================================================================</span><br><span class=\"yaml-commented-line\"># --------------------------------------===== cert block filename [Required] =====--------------------------------------</span><br><span class=\"yaml-commented-line\"># Description: Generated cert block filename.</span><br><span class=\"diff-removed\"><span class=\"yaml-key\">containerOutputFile</span>: <span class=\"yaml-value\">cert_block.bin</span> <span style=\"background-color: #FFFF00; border-radius: 5px;\n",
       "padding: 2px 6px; margin-left: 5px; font-size: 0.8em;\">Add path to the output file for the container</span></span><br><span class=\"diff-added\"><span class=\"yaml-key\">containerOutputFile</span>: <span class=\"yaml-value\">../workspace/cert_block.bin</span></span><br></pre></div>\n",
       "          <div id=\"userConfigView_e7d899b8c9c0e29f751bd72b89f95227\" class=\"yaml-diff\" style=\"display:none;\"><pre class=\"yaml-diff\"><span class=\"yaml-commented-line\"># Copyright 2023-2024 NXP</span><br><span class=\"yaml-commented-line\">#</span><br><span class=\"yaml-commented-line\"># SPDX-License-Identifier: BSD-3-Clause</span><br><span class=\"yaml-key\">-</span>--<br><span class=\"yaml-commented-line\"># =====================================  Certification Block for MC56xx template  ======================================</span><br><br><span class=\"yaml-commented-line\"># ======================================================================================================================</span><br><span class=\"yaml-commented-line\">#                                             == ISK Certificate Settings ==</span><br><span class=\"yaml-commented-line\"># ======================================================================================================================</span><br><span class=\"yaml-key\">selfSigned</span>: <span class=\"yaml-value\">true</span> <span style=\"background-color: #FFFF00; border-radius: 5px; padding: 2px 6px;\n",
       "margin-left: 5px; font-size: 0.8em;\">set to true for self-signed certificate</span><br><span class=\"yaml-commented-line\"># ---------------------------------===== ISK public key [Conditionally required] =====----------------------------------</span><br><span class=\"yaml-commented-line\"># Description: Path to ISK public key.</span><br><span class=\"yaml-key\">iskPublicKey</span>: <span class=\"yaml-value\">ec_secp256r1_sign_cert.pem</span> <span style=\"background-color: #FFFF00; border-radius:\n",
       "5px; padding: 2px 6px; margin-left: 5px; font-size: 0.8em;\">Add path to the ISK public key file</span><br><span class=\"yaml-commented-line\"># -----------------------===== Main root Certification Private Key [Conditionally required] =====-----------------------</span><br><span class=\"yaml-commented-line\"># Description: Path to Main root Certification Private Key.</span><br><span class=\"yaml-key\">signPrivateKey</span>: <span class=\"yaml-value\">ec_pk_secp256r1_sign_cert.pem</span> <span style=\"background-color: #FFFF00; border-\n",
       "radius: 5px; padding: 2px 6px; margin-left: 5px; font-size: 0.8em;\">Add path to your private key file for signing</span><br><span class=\"yaml-commented-line\"># -------------------------------===== Signature Provider [Conditionally required] =====--------------------------------</span><br><span class=\"yaml-commented-line\"># Description: Signature provider configuration in format 'type=<sp_type>;<key1>=<value1>;<key2>=<value2>\".</span><br><span class=\"yaml-commented-line\"># signProvider: type=file;file_path=root_prv_key.pem</span><br><span class=\"yaml-commented-line\"># ======================================================================================================================</span><br><span class=\"yaml-commented-line\">#                                                  == Basic Settings ==</span><br><span class=\"yaml-commented-line\"># ======================================================================================================================</span><br><span class=\"yaml-commented-line\"># --------------------------------------===== cert block filename [Required] =====--------------------------------------</span><br><span class=\"yaml-commented-line\"># Description: Generated cert block filename.</span><br><span class=\"yaml-key\">containerOutputFile</span>: <span class=\"yaml-value\">../workspace/cert_block.bin</span> <span style=\"background-color: #FFFF00; border-\n",
       "radius: 5px; padding: 2px 6px; margin-left: 5px; font-size: 0.8em;\">Add path to the output file for the container</span><br></pre></div>\n",
       "        </div>\n",
       "        "
      ],
      "text/plain": [
       "<IPython.core.display.HTML object>"
      ]
     },
     "execution_count": 14,
     "metadata": {},
     "output_type": "execute_result"
    }
   ],
   "source": [
    "YamlDiffWidget(\"inputs/mc56_devhsm_cert_block.diffc\").html"
   ]
  },
  {
   "attachments": {},
   "cell_type": "markdown",
   "metadata": {},
   "source": [
    "## 3. Generate signed image (MBI) and Cert Block\n",
    "\n",
    "Template configuration for MBI might be created with *get-templates* command with proper device family (mc56f81868 or mwct20d2).\n",
    "The only supported outputImageAuthenticationType is *signed* and outputImageExecutionTarget is *xip*.\n",
    "\n",
    "User must provide input binary file built with CodeWarrior that contains properly configured BCA and FCB sections. (Do not forget the lifecycle!. Lifecycle is setup in the application - flash.h). Lifecycle might be updated in the MBI configuration using the lifeCycle property.\n",
    "\n",
    "*addCertHash* option will append certificate hash to the offset 0x4A0. This should be only used to test the image before writing certificate hash to IFR. After IFR has been written, it's no longer necessary to append hash to image.\n",
    "\n",
    "User should also provide private key or signature provider that will be used for image signature.\n",
    "\n",
    "> Generated MBI should be split to two parts at 0x800 and 0XC00 to exclude DUK Certificate block. This part of memory is write protected, when using the blhost write-memory. However, it could be written using the SBx.\n",
    "\n"
   ]
  },
  {
   "cell_type": "code",
   "execution_count": 15,
   "metadata": {},
   "outputs": [
    {
     "name": "stdout",
     "output_type": "stream",
     "text": [
      "nxpimage -v mbi get-templates -f mwct20d2 -o workspace/templates --force \n",
      "Creating workspace/templates/mwct20d2_xip_signed.yaml template file.\n",
      "Creating workspace/templates/mwct20d2_xip_plain.yaml template file.\n"
     ]
    },
    {
     "data": {
      "text/html": [
       "\n",
       "        \n",
       "        <style>\n",
       "            .yaml-diff { font-family: monospace; background-color: #f0f0f0; padding: 1em; border: 1px solid #c0c0c0; }\n",
       "            .yaml-key { color: #0000CC; font-weight: bold; }\n",
       "            .yaml-value { color: #006600; }\n",
       "            .yaml-commented-line { color: #008800; }\n",
       "            .yaml-list-item { color: #660066; }\n",
       "            .diff-removed { background-color: #ffaaaa; }\n",
       "            .diff-added { background-color: #aaffaa; }\n",
       "            .yaml-comment {\n",
       "                background-color: #FF8C00;\n",
       "                color: #000000;\n",
       "                border-radius: 50%;\n",
       "                padding: 0 0.3em;\n",
       "                margin-left: 0.5em;\n",
       "                font-size: 0.8em;\n",
       "                cursor: help;\n",
       "                font-weight: bold;\n",
       "                text-shadow: 1px 1px 1px rgba(255, 255, 255, 0.7);\n",
       "            }\n",
       "            #toggleButton_eeac0482efea0415dba83ac170f26f1c {\n",
       "                background-color: #4CAF50;\n",
       "                border: none;\n",
       "                color: white;\n",
       "                padding: 10px 20px;\n",
       "                text-align: center;\n",
       "                text-decoration: none;\n",
       "                display: inline-block;\n",
       "                font-size: 16px;\n",
       "                margin: 4px 2px;\n",
       "                cursor: pointer;\n",
       "            }\n",
       "        </style>\n",
       "        \n",
       "        \n",
       "        <script>\n",
       "        function toggleView_eeac0482efea0415dba83ac170f26f1c() {\n",
       "            var diffView = document.getElementById('diffView_eeac0482efea0415dba83ac170f26f1c');\n",
       "            var userConfigView = document.getElementById('userConfigView_eeac0482efea0415dba83ac170f26f1c');\n",
       "            var button = document.getElementById('toggleButton_eeac0482efea0415dba83ac170f26f1c');\n",
       "\n",
       "            if (diffView.style.display === 'none' && userConfigView.style.display === 'none') {\n",
       "                diffView.style.display = 'block';\n",
       "                userConfigView.style.display = 'none';\n",
       "                button.textContent = 'Show User Config';\n",
       "            } else if (diffView.style.display === 'block') {\n",
       "                diffView.style.display = 'none';\n",
       "                userConfigView.style.display = 'block';\n",
       "                button.textContent = 'Hide';\n",
       "            } else {\n",
       "                diffView.style.display = 'none';\n",
       "                userConfigView.style.display = 'none';\n",
       "                button.textContent = 'Show Diff';\n",
       "            }\n",
       "        }\n",
       "        </script>\n",
       "        \n",
       "        <div class=\"yaml-diff-container\">\n",
       "          <h3>Configuration Differences</h3>\n",
       "          <button onclick=\"toggleView_eeac0482efea0415dba83ac170f26f1c()\" id=\"toggleButton_eeac0482efea0415dba83ac170f26f1c\">Show Diff</button>\n",
       "          \n",
       "        <a href=\"data:text/plain;base64,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\" download=\"user_config.yaml\">\n",
       "            <button style=\"background-color: #4CAF50; border: none; color: white; padding: 10px 20px; text-align: center; text-decoration: none; display: inline-block; font-size: 16px; margin: 4px 2px; cursor: pointer;\">\n",
       "                Download Config\n",
       "            </button>\n",
       "        </a>\n",
       "        \n",
       "          <div id=\"diffView_eeac0482efea0415dba83ac170f26f1c\" class=\"yaml-diff\" style=\"display:none;\"><pre class=\"yaml-diff\"><span class=\"yaml-commented-line\"># ==============  Master Boot Image Configuration template for mwct20d2:latest, Plain Signed XIP Image.  ===============</span><br><br><span class=\"yaml-commented-line\"># ======================================================================================================================</span><br><span class=\"yaml-commented-line\">#                                                 == General Options ==                                                 </span><br><span class=\"yaml-commented-line\"># ======================================================================================================================</span><br><span class=\"yaml-commented-line\"># -------------------------------------===== The chip family name [Required] =====--------------------------------------</span><br><span class=\"yaml-commented-line\"># Description: NXP chip family identifier.</span><br><span class=\"yaml-commented-line\"># Possible options: <k32w148, kw45b41z5, kw45b41z8, lpc5502, lpc5504, lpc5506, lpc5512, lpc5514, lpc5516, lpc5526,</span><br><span class=\"yaml-commented-line\"># lpc5528, lpc5534, lpc5536, lpc55s04, lpc55s06, lpc55s14, lpc55s16, lpc55s26, lpc55s28, lpc55s36, lpc55s66, lpc55s69,</span><br><span class=\"yaml-commented-line\"># mc56f81646, mc56f81648, mc56f81666, mc56f81668, mc56f81746, mc56f81748, mc56f81766, mc56f81768, mc56f81866,</span><br><span class=\"yaml-commented-line\"># mc56f81868, mcxa132, mcxa133, mcxa142, mcxa143, mcxa144, mcxa145, mcxa146, mcxa152, mcxa153, mcxa154, mcxa155,</span><br><span class=\"yaml-commented-line\"># mcxa156, mcxn235, mcxn236, mcxn546, mcxn547, mcxn946, mcxn947, mcxw716a, mcxw716c, mimxrt533s, mimxrt555s, mimxrt595s,</span><br><span class=\"yaml-commented-line\"># mimxrt685s, mimxrt798s, mwct2012, mwct2012a, mwct20d2, mwct20d2a, nhs52s04, rw610, rw612></span><br><span class=\"yaml-key\">family</span>: <span class=\"yaml-value\">mwct20d2</span><br><span class=\"yaml-commented-line\"># -----------------------------------------===== MCU revision [Optional] =====------------------------------------------</span><br><span class=\"yaml-commented-line\"># Description: Revision of silicon. The 'latest' name, means most current revision.</span><br><span class=\"yaml-commented-line\"># Possible options: <b1, latest></span><br><span class=\"yaml-key\">revision</span>: <span class=\"yaml-value\">latest</span><br><span class=\"yaml-commented-line\"># ======================================================================================================================</span><br><span class=\"yaml-commented-line\">#                                                  == Basic Settings ==                                                 </span><br><span class=\"yaml-commented-line\"># ======================================================================================================================</span><br><span class=\"yaml-commented-line\"># --------------------------------------===== Application target [Required] =====---------------------------------------</span><br><span class=\"yaml-commented-line\"># Description: Definition if application is Execute in Place(XiP) or loaded to RAM during reset sequence.</span><br><span class=\"yaml-commented-line\"># Possible options: <xip, load-to-ram></span><br><span class=\"yaml-key\">outputImageExecutionTarget</span>: <span class=\"yaml-value\">xip</span><br><span class=\"yaml-commented-line\"># -------------------------------===== Type of boot image authentication [Required] =====-------------------------------</span><br><span class=\"yaml-commented-line\"># Description: Specification of final master boot image authentication.</span><br><span class=\"yaml-commented-line\"># Possible options: <plain, crc, signed, signed-encrypted, signed-nxp></span><br><span class=\"yaml-key\">outputImageAuthenticationType</span>: <span class=\"yaml-value\">signed</span><br><span class=\"yaml-commented-line\"># ---------------------------------------===== Output Image name [Required] =====---------------------------------------</span><br><span class=\"yaml-commented-line\"># Description: The path for result binary file.</span><br><span class=\"diff-removed\"><span class=\"yaml-key\">masterBootOutputFile</span>: <span class=\"yaml-value\">my_mbi.bin</span></span><br><span class=\"diff-added\"><span class=\"yaml-key\">masterBootOutputFile</span>: <span class=\"yaml-value\">../workspace/mb_xip_signed.bin</span></span><br><span class=\"yaml-commented-line\"># ------------------------------------===== Plain application image [Required] =====------------------------------------</span><br><span class=\"yaml-commented-line\"># Description: The input application image to by modified to Master Boot Image.</span><br><span class=\"diff-removed\"><span class=\"yaml-key\">inputImageFile</span>: <span class=\"yaml-value\">my_application.bin</span></span><br><span class=\"diff-added\"><span class=\"yaml-key\">inputImageFile</span>: <span class=\"yaml-value\">blinky_oem_open.bin</span></span><br><span class=\"yaml-commented-line\"># ---------------------------------------===== Firmware version. [Optional] =====---------------------------------------</span><br><span class=\"yaml-commented-line\"># Description: Used for anti-rollback protection. New firmware must have the same or higher FW version. This value is</span><br><span class=\"yaml-commented-line\"># the minimum firmware version will be stored in BCA and the firmware version specified in SBX file is then compared</span><br><span class=\"yaml-commented-line\"># with this value.</span><br><span class=\"yaml-key\">firmwareVersion</span>: <span class=\"yaml-value\">0</span><br><span class=\"yaml-commented-line\"># ---------------------------------------===== Life cycle state [Optional] =====----------------------------------------</span><br><span class=\"yaml-commented-line\"># Description: life cycle state model to protect code from reading from the device internal flash, which is called code</span><br><span class=\"yaml-commented-line\"># read protection feature. There are different levels of protections in the system, so that access to the on-chip flash</span><br><span class=\"yaml-commented-line\"># and use of ISP can be restricted. Four levels of Read Out Protection (ROP) are supported. This read out protection is</span><br><span class=\"yaml-commented-line\"># a mechanism that allows user to enable different levels of protection in the system. It is a 8-bit field FTFA_FSEC</span><br><span class=\"yaml-commented-line\"># associated with flash security byte (0x40c byte address). It can be programmed by customer. Check the SRM for more</span><br><span class=\"yaml-commented-line\"># information. If not provided, value in application will be used.</span><br><span class=\"yaml-commented-line\"># Possible options: <NOT_SET, OEM_OPEN, OEM_CLOSED_ROP1, OEM_CLOSED_ROP2, OEM_CLOSED_ROP3, OEM_CLOSED_NO_RETURN></span><br><span class=\"yaml-key\">lifeCycle</span>: <span class=\"yaml-value\">NOT_SET</span> <span style=\"background-color: #FFFF00; border-radius: 5px; padding: 2px 6px;\n",
       "margin-left: 5px; font-size: 0.8em;\">NOT_SET means that the lifecycle is taken from the application, in our case it is OEM_OPEN</span><br><span class=\"yaml-commented-line\"># -------------------------------------===== Generate only header [Optional] =====--------------------------------------</span><br><span class=\"yaml-commented-line\"># Description: Build only the boot headers (Vector table, BCA, FCB) 0x0..0x800 binary without the application. This is</span><br><span class=\"yaml-commented-line\"># needed for device HSM provisioning file in case the user set ROP2, ROP3.</span><br><span class=\"yaml-key\">justHeader</span>: <span class=\"yaml-value\">false</span><br><span class=\"yaml-commented-line\"># ======================================================================================================================</span><br><span class=\"yaml-commented-line\">#                                               == Certificate Block vX ==                                              </span><br><span class=\"yaml-commented-line\"># ======================================================================================================================</span><br><span class=\"yaml-commented-line\"># ---------------------------------===== Certificate Block binary file [Required] =====---------------------------------</span><br><span class=\"yaml-commented-line\"># Description: Path to certificate block.</span><br><span class=\"diff-removed\"><span class=\"yaml-key\">certBlock</span>: <span class=\"yaml-value\">cert_block.bin</span> <span style=\"background-color: #FFFF00; border-radius: 5px; padding: 2px\n",
       "6px; margin-left: 5px; font-size: 0.8em;\">Add path to binary certificate block</span></span><br><span class=\"diff-added\"><span class=\"yaml-key\">certBlock</span>: <span class=\"yaml-value\">../workspace/cert_block.bin</span></span><br><span class=\"yaml-commented-line\"># --------------===== True to append SHA256 hash [0:127] at the end of certificate block [Optional] =====---------------</span><br><span class=\"yaml-commented-line\"># Description: Not mandatory if the hash is written in OTP</span><br><span class=\"yaml-key\">addCertHash</span>: <span class=\"yaml-value\">true</span> <span style=\"background-color: #FFFF00; border-radius: 5px; padding: 2px 6px;\n",
       "margin-left: 5px; font-size: 0.8em;\">We have to add hash of the certificate to the MBI, because it is not yet programmed to IFR</span><br><span class=\"yaml-commented-line\"># ======================================================================================================================</span><br><span class=\"yaml-commented-line\">#                                              == Image Signing Settings ==                                             </span><br><span class=\"yaml-commented-line\"># ======================================================================================================================</span><br><span class=\"yaml-commented-line\"># --------------------------===== Main Certificate private key [Conditionally required] =====---------------------------</span><br><span class=\"yaml-commented-line\"># Description: Main Certificate private key used to sign certificate. It can be replaced by signProvider key.</span><br><span class=\"diff-added\"><span class=\"yaml-key\">signPrivateKey</span>: <span class=\"yaml-value\">ec_pk_secp256r1_sign_cert.pem</span></span><br><span class=\"diff-removed\"><span class=\"yaml-key\">signPrivateKey</span>: <span class=\"yaml-value\">main_prv_key.pem</span> <span style=\"background-color: #FFFF00; border-radius: 5px;\n",
       "padding: 2px 6px; margin-left: 5px; font-size: 0.8em;\">Add path to your private key file for signing</span></span><br><span class=\"yaml-commented-line\"># -------------------------------===== Signature Provider [Conditionally required] =====--------------------------------</span><br><span class=\"yaml-commented-line\"># Description: Signature provider configuration in format 'type=<identifier>;<key1>=<value1>;<key2>=<value2>'.</span><br><span class=\"diff-removed\"><span class=\"yaml-key\">signProvider</span>: <span class=\"yaml-value\">type=file;file_path=my_prv_key.pem</span> <span style=\"background-color: #FFFF00; border-\n",
       "radius: 5px; padding: 2px 6px; margin-left: 5px; font-size: 0.8em;\">This is removed, because we are using private key in this example</span></span><br></pre></div>\n",
       "          <div id=\"userConfigView_eeac0482efea0415dba83ac170f26f1c\" class=\"yaml-diff\" style=\"display:none;\"><pre class=\"yaml-diff\"><span class=\"yaml-commented-line\"># Copyright 2024 NXP</span><br><span class=\"yaml-commented-line\">#</span><br><span class=\"yaml-commented-line\"># SPDX-License-Identifier: BSD-3-Clause</span><br><span class=\"yaml-commented-line\"># ==============  Master Boot Image Configuration template for mwct20d2:latest, Plain Signed XIP Image.  ===============</span><br><br><span class=\"yaml-commented-line\"># ======================================================================================================================</span><br><span class=\"yaml-commented-line\">#                                                 == General Options ==</span><br><span class=\"yaml-commented-line\"># ======================================================================================================================</span><br><span class=\"yaml-commented-line\"># -------------------------------------===== The chip family name [Required] =====--------------------------------------</span><br><span class=\"yaml-commented-line\"># Description: NXP chip family identifier.</span><br><span class=\"yaml-commented-line\"># Possible options: <k32w148, kw45b41z5, kw45b41z8, lpc5502, lpc5504, lpc5506, lpc5512, lpc5514, lpc5516, lpc5526,</span><br><span class=\"yaml-commented-line\"># lpc5528, lpc5534, lpc5536, lpc55s04, lpc55s06, lpc55s14, lpc55s16, lpc55s26, lpc55s28, lpc55s36, lpc55s66, lpc55s69,</span><br><span class=\"yaml-commented-line\"># mc56f81646, mc56f81648, mc56f81666, mc56f81668, mc56f81746, mc56f81748, mc56f81766, mc56f81768, mc56f81866,</span><br><span class=\"yaml-commented-line\"># mc56f81868, mcxa132, mcxa133, mcxa142, mcxa143, mcxa144, mcxa145, mcxa146, mcxa152, mcxa153, mcxa154, mcxa155,</span><br><span class=\"yaml-commented-line\"># mcxa156, mcxn235, mcxn236, mcxn546, mcxn547, mcxn946, mcxn947, mcxw716a, mcxw716c, mimxrt533s, mimxrt555s, mimxrt595s,</span><br><span class=\"yaml-commented-line\"># mimxrt685s, mimxrt798s, mwct2012, mwct2012a, mwct20d2, mwct20d2a, nhs52s04, rw610, rw612></span><br><span class=\"yaml-key\">family</span>: <span class=\"yaml-value\">mwct20d2</span><br><span class=\"yaml-commented-line\"># -----------------------------------------===== MCU revision [Optional] =====------------------------------------------</span><br><span class=\"yaml-commented-line\"># Description: Revision of silicon. The 'latest' name, means most current revision.</span><br><span class=\"yaml-commented-line\"># Possible options: <b1, latest></span><br><span class=\"yaml-key\">revision</span>: <span class=\"yaml-value\">latest</span><br><span class=\"yaml-commented-line\"># ======================================================================================================================</span><br><span class=\"yaml-commented-line\">#                                                  == Basic Settings ==</span><br><span class=\"yaml-commented-line\"># ======================================================================================================================</span><br><span class=\"yaml-commented-line\"># --------------------------------------===== Application target [Required] =====---------------------------------------</span><br><span class=\"yaml-commented-line\"># Description: Definition if application is Execute in Place(XiP) or loaded to RAM during reset sequence.</span><br><span class=\"yaml-commented-line\"># Possible options: <xip, load-to-ram></span><br><span class=\"yaml-key\">outputImageExecutionTarget</span>: <span class=\"yaml-value\">xip</span><br><span class=\"yaml-commented-line\"># -------------------------------===== Type of boot image authentication [Required] =====-------------------------------</span><br><span class=\"yaml-commented-line\"># Description: Specification of final master boot image authentication.</span><br><span class=\"yaml-commented-line\"># Possible options: <plain, crc, signed, signed-encrypted, signed-nxp></span><br><span class=\"yaml-key\">outputImageAuthenticationType</span>: <span class=\"yaml-value\">signed</span><br><span class=\"yaml-commented-line\"># ---------------------------------------===== Output Image name [Required] =====---------------------------------------</span><br><span class=\"yaml-commented-line\"># Description: The path for result binary file.</span><br><span class=\"yaml-key\">masterBootOutputFile</span>: <span class=\"yaml-value\">../workspace/mb_xip_signed.bin</span><br><span class=\"yaml-commented-line\"># ------------------------------------===== Plain application image [Required] =====------------------------------------</span><br><span class=\"yaml-commented-line\"># Description: The input application image to by modified to Master Boot Image.</span><br><span class=\"yaml-key\">inputImageFile</span>: <span class=\"yaml-value\">blinky_oem_open.bin</span><br><span class=\"yaml-commented-line\"># ---------------------------------------===== Firmware version. [Optional] =====---------------------------------------</span><br><span class=\"yaml-commented-line\"># Description: Used for anti-rollback protection. New firmware must have the same or higher FW version. This value is</span><br><span class=\"yaml-commented-line\"># the minimum firmware version will be stored in BCA and the firmware version specified in SBX file is then compared</span><br><span class=\"yaml-commented-line\"># with this value.</span><br><span class=\"yaml-key\">firmwareVersion</span>: <span class=\"yaml-value\">0</span><br><span class=\"yaml-commented-line\"># ---------------------------------------===== Life cycle state [Optional] =====----------------------------------------</span><br><span class=\"yaml-commented-line\"># Description: life cycle state model to protect code from reading from the device internal flash, which is called code</span><br><span class=\"yaml-commented-line\"># read protection feature. There are different levels of protections in the system, so that access to the on-chip flash</span><br><span class=\"yaml-commented-line\"># and use of ISP can be restricted. Four levels of Read Out Protection (ROP) are supported. This read out protection is</span><br><span class=\"yaml-commented-line\"># a mechanism that allows user to enable different levels of protection in the system. It is a 8-bit field FTFA_FSEC</span><br><span class=\"yaml-commented-line\"># associated with flash security byte (0x40c byte address). It can be programmed by customer. Check the SRM for more</span><br><span class=\"yaml-commented-line\"># information. If not provided, value in application will be used.</span><br><span class=\"yaml-commented-line\"># Possible options: <NOT_SET, OEM_OPEN, OEM_CLOSED_ROP1, OEM_CLOSED_ROP2, OEM_CLOSED_ROP3, OEM_CLOSED_NO_RETURN></span><br><span class=\"yaml-key\">lifeCycle</span>: <span class=\"yaml-value\">NOT_SET</span> <span style=\"background-color: #FFFF00; border-radius: 5px; padding: 2px 6px;\n",
       "margin-left: 5px; font-size: 0.8em;\">NOT_SET means that the lifecycle is taken from the application, in our case it is OEM_OPEN</span><br><span class=\"yaml-commented-line\"># -------------------------------------===== Generate only header [Optional] =====--------------------------------------</span><br><span class=\"yaml-commented-line\"># Description: Build only the boot headers (Vector table, BCA, FCB) 0x0..0x800 binary without the application. This is</span><br><span class=\"yaml-commented-line\"># needed for device HSM provisioning file in case the user set ROP2, ROP3.</span><br><span class=\"yaml-key\">justHeader</span>: <span class=\"yaml-value\">false</span><br><span class=\"yaml-commented-line\"># ======================================================================================================================</span><br><span class=\"yaml-commented-line\">#                                               == Certificate Block vX ==</span><br><span class=\"yaml-commented-line\"># ======================================================================================================================</span><br><span class=\"yaml-commented-line\"># ---------------------------------===== Certificate Block binary file [Required] =====---------------------------------</span><br><span class=\"yaml-commented-line\"># Description: Path to certificate block.</span><br><span class=\"yaml-key\">certBlock</span>: <span class=\"yaml-value\">../workspace/cert_block.bin</span> <span style=\"background-color: #FFFF00; border-radius: 5px;\n",
       "padding: 2px 6px; margin-left: 5px; font-size: 0.8em;\">Add path to binary certificate block</span><br><span class=\"yaml-commented-line\"># --------------===== True to append SHA256 hash [0:127] at the end of certificate block [Optional] =====---------------</span><br><span class=\"yaml-commented-line\"># Description: Not mandatory if the hash is written in OTP</span><br><span class=\"yaml-key\">addCertHash</span>: <span class=\"yaml-value\">true</span> <span style=\"background-color: #FFFF00; border-radius: 5px; padding: 2px 6px;\n",
       "margin-left: 5px; font-size: 0.8em;\">We have to add hash of the certificate to the MBI, because it is not yet programmed to IFR</span><br><span class=\"yaml-commented-line\"># ======================================================================================================================</span><br><span class=\"yaml-commented-line\">#                                              == Image Signing Settings ==</span><br><span class=\"yaml-commented-line\"># ======================================================================================================================</span><br><span class=\"yaml-commented-line\"># --------------------------===== Main Certificate private key [Conditionally required] =====---------------------------</span><br><span class=\"yaml-commented-line\"># Description: Main Certificate private key used to sign certificate. It can be replaced by signProvider key.</span><br><span class=\"yaml-key\">signPrivateKey</span>: <span class=\"yaml-value\">ec_pk_secp256r1_sign_cert.pem</span> <span style=\"background-color: #FFFF00; border-\n",
       "radius: 5px; padding: 2px 6px; margin-left: 5px; font-size: 0.8em;\">Add path to your private key file for signing</span><br></pre></div>\n",
       "        </div>\n",
       "        "
      ],
      "text/plain": [
       "<IPython.core.display.HTML object>"
      ]
     },
     "execution_count": 15,
     "metadata": {},
     "output_type": "execute_result"
    }
   ],
   "source": [
    "YamlDiffWidget(\"inputs/mc56_devhsm_mbi.diffc\").html"
   ]
  },
  {
   "cell_type": "code",
   "execution_count": 16,
   "metadata": {},
   "outputs": [
    {
     "name": "stdout",
     "output_type": "stream",
     "text": [
      "nxpimage  cert-block export -c inputs/cert_block.yaml -f mwct20d2 \n",
      "ISK Certificate hash [0:127]: 35f321804c8f39d31d9894c334b4e0dd\n",
      "\n",
      "OTP script written to: workspace/otp_script.bcf\n",
      "Success. (Certificate Block: workspace/cert_block.bin created.)\n",
      "nxpimage  mbi export -c inputs/mbi_xip.yaml \n",
      "\u001b[33mWARNING:spsdk.image.mbi.mbi_mixin:Lifecycle won't be updated, current lifecycle in FCF: OEM_OPEN (977ms since start, mbi_mixin.py:995)\u001b[39m\n",
      "Success. (Master Boot Image: workspace/mb_xip_signed.bin created.)\n",
      "nxpimage  utils binary-image extract -b ./workspace/mb_xip_signed.bin -a 0 -s 0x800 -o ./workspace/mb_xip_signed_0_0x800.bin \n",
      "Success. (Extracted chunk: workspace/mb_xip_signed_0_0x800.bin created.)\n",
      "nxpimage  utils binary-image extract -b ./workspace/mb_xip_signed.bin -a 0xC00 -s 0 -o ./workspace/mb_xip_signed_0xC00.bin \n",
      "Success. (Extracted chunk: workspace/mb_xip_signed_0xC00.bin created.)\n"
     ]
    }
   ],
   "source": [
    "MBI_CONFIG_PATH = DATA + \"mbi_xip.yaml\"\n",
    "CERT_BLOCK_CONFIG_PATH = DATA + \"cert_block.yaml\"\n",
    "\n",
    "# # export cert block and Master Boot Image\n",
    "%! nxpimage $VERBOSITY cert-block export -c $CERT_BLOCK_CONFIG_PATH -f $FAMILY\n",
    "%! nxpimage $VERBOSITY mbi export -c $MBI_CONFIG_PATH\n",
    "\n",
    "\n",
    "# # Split MBI into two images at offset 0x0800 and 0x0C00\n",
    "%! nxpimage  utils binary-image extract -b ./workspace/mb_xip_signed.bin -a 0 -s 0x800 -o ./workspace/mb_xip_signed_0_0x800.bin\n",
    "%! nxpimage  utils binary-image extract -b ./workspace/mb_xip_signed.bin -a 0xC00 -s 0 -o ./workspace/mb_xip_signed_0xC00.bin"
   ]
  },
  {
   "attachments": {},
   "cell_type": "markdown",
   "metadata": {},
   "source": [
    "### 3.1 ISP Mode\n",
    "\n",
    "Prepare device to ISP mode. Connect UART. If the field \"peripheralDetection Timeout\" in BCA is not set. Default 0xFF means 5 seconds waiting. So issue \"nxpdevscan -p\" command immediately after powering up the MCU. "
   ]
  },
  {
   "cell_type": "code",
   "execution_count": 17,
   "metadata": {},
   "outputs": [
    {
     "name": "stdout",
     "output_type": "stream",
     "text": [
      "nxpdevscan -p \n",
      "-------- Connected NXP UART Devices --------\n",
      "\n",
      "Port: COM89\n",
      "Type: mboot device\n",
      "\n"
     ]
    }
   ],
   "source": [
    "# nxpdevscan, list all UART devices\n",
    "%! nxpdevscan -p"
   ]
  },
  {
   "attachments": {},
   "cell_type": "markdown",
   "metadata": {},
   "source": [
    "### 3.2 Programming IFR\n",
    "\n",
    "Secure boot might be tested with the hash included in the image. If the secure boot works, we might program IFR using the generated blhost script with *blhost batch* command or using the OEM Provisioning SBx.\n"
   ]
  },
  {
   "cell_type": "code",
   "execution_count": 18,
   "metadata": {},
   "outputs": [],
   "source": [
    "# Set COM port from the previous cell\n",
    "COM_PORT = \"com89\"\n",
    "OTP_SCRIPT = WORKSPACE + \"otp_script.bcf\"\n",
    "\n",
    "# You might test the MBI with blhost write-memory, first erase memory\n",
    "# %! blhost -p $COM_PORT flash-erase-region 0 0x800\n",
    "# %! blhost -p $COM_PORT write-memory 0 workspace/mb_xip_signed_0_0x800.bin\n",
    "# %! blhost -p $COM_PORT flash-erase-region 0xc00 0x800\n",
    "# %! blhost -p $COM_PORT write-memory 0xC00 workspace/mb_xip_signed_0xC00.bin\n",
    "\n",
    "# Uncomment this if you want to program IFR (WARNING! Irreversible operation)\n",
    "# %! blhost -p $COM_PORT batch $OTP_SCRIPT"
   ]
  },
  {
   "attachments": {},
   "cell_type": "markdown",
   "metadata": {},
   "source": [
    "## 4. Secure FW Update\n",
    "\n",
    "Secure update is the process used to securely update the firmware image in the field. The firmware image is encrypted using lightweight symmetric cryptography algorithm and signed using ECDSA P-256, following the SBX firmware image format. \n",
    "\n",
    "Secure update guarantees authenticity and confidentiality of the new firmware image. It also ensures that the new image is up-to-date, preventing the rollback to an older image. Running firmware is in charge of receiving and verifying the new firmware image. \n",
    "\n",
    "The follow-up secure boot verifies the new firmware image again, making sure the Immutable RoT is still in charge of ensuring authenticity of the latest firmware. \n",
    "The secure update process includes Secure Binary (SB) container, which encrypts and encapsulates user firmware. Resultant SB file can be distributed to the OEM contract manufacturer, which ensures product manufacturing. Eventually the SB file can be used for product firmware update if it is supported by the product.\n",
    "\n",
    "SB container supports two ways of firmware update:\n",
    "·\tOEM/CM Factory Initial Firmware Provisioning (OEM_PROVISIONING)\n",
    "·\tOEM In-field Firmware Update (OEM)\n",
    "\tThe OEM/CM Factory Initial Firmware Provisioning can be used for initial device programming on the production line. It ensures confidentiality and integrity of programmed user image.\n",
    "\n",
    "\n",
    "### 4.1 Device HSM OEM Provisioning\n",
    "\n",
    "![SBX Structure ](img/sbx.png \"SBX Structure\")\n",
    "\n",
    "Create Initial OEM provisioning SBx file using the nxpdevhsm application. In this example we just erase the memory and program the application and reset the MCU.\n",
    "\n",
    "Template can be created using the *nxpdevhsm get-template* command.\n",
    "\n",
    "Our configuration for initial OEM provisioning might look like this:\n",
    "\n"
   ]
  },
  {
   "cell_type": "code",
   "execution_count": 19,
   "metadata": {},
   "outputs": [
    {
     "name": "stdout",
     "output_type": "stream",
     "text": [
      "nxpdevhsm -v get-template -f mwct20d2 -o workspace/devhsm_template.yaml --force \n",
      "The DevHsm template for mwct20d2 has been saved into workspace/devhsm_template.yaml YAML file\n"
     ]
    },
    {
     "data": {
      "text/html": [
       "\n",
       "        \n",
       "        <style>\n",
       "            .yaml-diff { font-family: monospace; background-color: #f0f0f0; padding: 1em; border: 1px solid #c0c0c0; }\n",
       "            .yaml-key { color: #0000CC; font-weight: bold; }\n",
       "            .yaml-value { color: #006600; }\n",
       "            .yaml-commented-line { color: #008800; }\n",
       "            .yaml-list-item { color: #660066; }\n",
       "            .diff-removed { background-color: #ffaaaa; }\n",
       "            .diff-added { background-color: #aaffaa; }\n",
       "            .yaml-comment {\n",
       "                background-color: #FF8C00;\n",
       "                color: #000000;\n",
       "                border-radius: 50%;\n",
       "                padding: 0 0.3em;\n",
       "                margin-left: 0.5em;\n",
       "                font-size: 0.8em;\n",
       "                cursor: help;\n",
       "                font-weight: bold;\n",
       "                text-shadow: 1px 1px 1px rgba(255, 255, 255, 0.7);\n",
       "            }\n",
       "            #toggleButton_e03e1f337252c9675b4a7191671c95a0 {\n",
       "                background-color: #4CAF50;\n",
       "                border: none;\n",
       "                color: white;\n",
       "                padding: 10px 20px;\n",
       "                text-align: center;\n",
       "                text-decoration: none;\n",
       "                display: inline-block;\n",
       "                font-size: 16px;\n",
       "                margin: 4px 2px;\n",
       "                cursor: pointer;\n",
       "            }\n",
       "        </style>\n",
       "        \n",
       "        \n",
       "        <script>\n",
       "        function toggleView_e03e1f337252c9675b4a7191671c95a0() {\n",
       "            var diffView = document.getElementById('diffView_e03e1f337252c9675b4a7191671c95a0');\n",
       "            var userConfigView = document.getElementById('userConfigView_e03e1f337252c9675b4a7191671c95a0');\n",
       "            var button = document.getElementById('toggleButton_e03e1f337252c9675b4a7191671c95a0');\n",
       "\n",
       "            if (diffView.style.display === 'none' && userConfigView.style.display === 'none') {\n",
       "                diffView.style.display = 'block';\n",
       "                userConfigView.style.display = 'none';\n",
       "                button.textContent = 'Show User Config';\n",
       "            } else if (diffView.style.display === 'block') {\n",
       "                diffView.style.display = 'none';\n",
       "                userConfigView.style.display = 'block';\n",
       "                button.textContent = 'Hide';\n",
       "            } else {\n",
       "                diffView.style.display = 'none';\n",
       "                userConfigView.style.display = 'none';\n",
       "                button.textContent = 'Show Diff';\n",
       "            }\n",
       "        }\n",
       "        </script>\n",
       "        \n",
       "        <div class=\"yaml-diff-container\">\n",
       "          <h3>Configuration Differences</h3>\n",
       "          <button onclick=\"toggleView_e03e1f337252c9675b4a7191671c95a0()\" id=\"toggleButton_e03e1f337252c9675b4a7191671c95a0\">Show Diff</button>\n",
       "          \n",
       "        <a href=\"data:text/plain;base64,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\" download=\"user_config.yaml\">\n",
       "            <button style=\"background-color: #4CAF50; border: none; color: white; padding: 10px 20px; text-align: center; text-decoration: none; display: inline-block; font-size: 16px; margin: 4px 2px; cursor: pointer;\">\n",
       "                Download Config\n",
       "            </button>\n",
       "        </a>\n",
       "        \n",
       "          <div id=\"diffView_e03e1f337252c9675b4a7191671c95a0\" class=\"yaml-diff\" style=\"display:none;\"><pre class=\"yaml-diff\"><span class=\"yaml-commented-line\"># ===============================  Secure Binary X Configuration template for mwct20d2.  ===============================</span><br><br><span class=\"yaml-commented-line\"># ======================================================================================================================</span><br><span class=\"yaml-commented-line\">#                                                 == General Options ==                                                 </span><br><span class=\"yaml-commented-line\"># ======================================================================================================================</span><br><span class=\"yaml-commented-line\"># -------------------------------------===== The chip family name [Required] =====--------------------------------------</span><br><span class=\"yaml-commented-line\"># Description: NXP chip family identifier.</span><br><span class=\"yaml-commented-line\"># Possible options: <mc56f81866, mc56f81868, mwct20d2, mwct20d2a></span><br><span class=\"yaml-key\">family</span>: <span class=\"yaml-value\">mwct20d2</span><br><span class=\"yaml-commented-line\"># -----------------------------------------===== MCU revision [Optional] =====------------------------------------------</span><br><span class=\"yaml-commented-line\"># Description: Revision of silicon. The 'latest' name, means most current revision.</span><br><span class=\"yaml-commented-line\"># Possible options: <b1, latest></span><br><span class=\"yaml-key\">revision</span>: <span class=\"yaml-value\">latest</span><br><span class=\"yaml-commented-line\"># ======================================================================================================================</span><br><span class=\"yaml-commented-line\">#                                                  == Basic Settings ==                                                 </span><br><span class=\"yaml-commented-line\"># ======================================================================================================================</span><br><span class=\"yaml-commented-line\"># ---------------------------------------===== Firmware version. [Optional] =====---------------------------------------</span><br><span class=\"yaml-commented-line\"># Description: Value compared with Secure_FW_Version monotonic counter value stored in protected memory (MCU specific).</span><br><span class=\"yaml-commented-line\"># If value is lower than value in protected memory, then is image rejected (rollback protection).</span><br><span class=\"yaml-key\">firmwareVersion</span>: <span class=\"yaml-value\">0</span><br><span class=\"yaml-commented-line\"># -----------------------------------------===== SBx filename [Required] =====------------------------------------------</span><br><span class=\"yaml-commented-line\"># Description: Generated SBx container filename.</span><br><span class=\"diff-removed\"><span class=\"yaml-key\">containerOutputFile</span>: <span class=\"yaml-value\">my_new.sbx</span> <span style=\"background-color: #FFFF00; border-radius: 5px;\n",
       "padding: 2px 6px; margin-left: 5px; font-size: 0.8em;\">Add path to the output file for the container</span></span><br><span class=\"diff-added\"><span class=\"yaml-key\">containerOutputFile</span>: <span class=\"yaml-value\">../workspace/oem_open.sbx</span></span><br><span class=\"yaml-commented-line\"># ======================================================================================================================</span><br><span class=\"yaml-commented-line\">#                                             == Secure Binary X Settings ==                                            </span><br><span class=\"yaml-commented-line\"># ======================================================================================================================</span><br><span class=\"yaml-commented-line\"># ------------------------------------------===== image type [Optional] =====-------------------------------------------</span><br><span class=\"yaml-commented-line\"># Description: SecureBinaryXType</span><br><span class=\"yaml-commented-line\"># Possible options: <NXP_PROVISIONING, OEM_PROVISIONING, OEM></span><br><span class=\"yaml-key\">image_type</span>: <span class=\"yaml-value\">OEM_PROVISIONING</span> <span style=\"background-color: #FFFF00; border-radius: 5px; padding:\n",
       "2px 6px; margin-left: 5px; font-size: 0.8em;\">Set to OEM_PROVISIONING for initial provisioning</span><br><span class=\"yaml-commented-line\"># ------------------------------------------===== Description [Optional] =====------------------------------------------</span><br><span class=\"yaml-commented-line\"># Description: Description up to 16 characters, longer will be truncated. Stored in SBx manifest.</span><br><span class=\"yaml-key\">description</span>: <span class=\"yaml-value\">This is description of generated SB file.</span><br><span class=\"yaml-commented-line\"># ======================================================================================================================</span><br><span class=\"yaml-commented-line\">#                                               == Certificate Settings ==                                              </span><br><span class=\"yaml-commented-line\"># ======================================================================================================================</span><br><span class=\"yaml-commented-line\"># ---------------------------===== ISK Certificate private key [Conditionally required] =====---------------------------</span><br><span class=\"yaml-commented-line\"># Description: ISK Certificate private key used to sign certificate. It can be replaced by signProvider key. Only valid</span><br><span class=\"yaml-commented-line\"># for OEM and NXP_PROVISIONING image types</span><br><span class=\"diff-removed\"><span class=\"yaml-key\">signingCertificatePrivateKeyFile</span>: <span class=\"yaml-value\">isk_prv_key.pem</span> <span style=\"background-color: #FFFF00; border-\n",
       "radius: 5px; padding: 2px 6px; margin-left: 5px; font-size: 0.8em;\">Key is not required for OEM_PROVISIONING</span></span><br><span class=\"yaml-commented-line\"># -------------------------------===== Signature Provider [Conditionally required] =====--------------------------------</span><br><span class=\"yaml-commented-line\"># Description: Signature provider configuration in format 'type=<sp_type>;<key1>=<value1>;<key2>=<value2>'.</span><br><span class=\"diff-removed\"><span class=\"yaml-key\">signProvider</span>: <span class=\"yaml-value\">type=file;file_path=my_prv_key.pem</span></span><br><span class=\"yaml-commented-line\"># ======================================================================================================================</span><br><span class=\"yaml-commented-line\">#                                        == Secure Binary X Commands Settings ==                                        </span><br><span class=\"yaml-commented-line\"># ======================================================================================================================</span><br><span class=\"yaml-commented-line\"># -----------------------------------------===== SBx Commands [Required] =====------------------------------------------</span><br><span class=\"yaml-commented-line\"># Description: Secure Binary X commands block, list of all possible options - Modify it according to your application</span><br><span class=\"diff-added\"><span class=\"yaml-key\">commands</span>: <span class=\"yaml-commented-line\"># [Required], SBx.1 Commands, Secure Binary X commands block, list of all possible options - Modify it according to your application</span></span><br><span class=\"diff-added\"><span class=\"yaml-key\">  - </span>erase:</span><br><span class=\"diff-added\"><span class=\"yaml-key\">      address</span>: <span class=\"yaml-value\">0</span></span><br><span class=\"diff-added\"><span class=\"yaml-key\">      size</span>: <span class=\"yaml-value\">0x800</span></span><br><span class=\"diff-removed\"><span class=\"yaml-key\">commands</span>:</span><br><span class=\"diff-removed\"><span class=\"yaml-key\">  -</span></span><br>  <span class=\"yaml-commented-line\"># ====================================================================================================================</span><br>  <span class=\"yaml-commented-line\">#                                          == List of possible 5 options. ==                                          </span><br>  <span class=\"yaml-commented-line\">#                                  Options [erase, load, execute, programIFR, reset]                                  </span><br>  <span class=\"yaml-commented-line\"># ====================================================================================================================</span><br><br><span class=\"diff-added\"><span class=\"yaml-key\">  - </span>load:</span><br>  <span class=\"yaml-commented-line\">#  =========================== [Example of possible configuration: #0 , erase if not used] ============================</span><br>    <span class=\"yaml-commented-line\"># -------------------------------------------===== Erase [Required] =====-------------------------------------------</span><br>    <span class=\"yaml-commented-line\"># Description: Performs a flash erase of the given address range. The erase will be rounded up to the sector size.</span><br><span class=\"diff-removed\"><span class=\"yaml-key\">    erase</span>: <span style=\"background-color: #FFFF00; border-radius: 5px; padding: 2px 6px; margin-left: 5px; font-size:\n",
       "0.8em;\">Erase flash before programming</span></span><br>      <span class=\"yaml-commented-line\"># -----------------------------------------===== Address [Required] =====-----------------------------------------</span><br>      <span class=\"yaml-commented-line\"># Description: Address of memory block to be erased.</span><br><span class=\"yaml-key\">      address</span>: <span class=\"yaml-value\">0</span><br><span class=\"diff-added\"><span class=\"yaml-key\">      file</span>: <span class=\"yaml-value\">../workspace/mb_xip_signed_0_0x800.bin</span></span><br>      <span class=\"yaml-commented-line\"># ------------------------------------------===== Size [Required] =====-------------------------------------------</span><br>      <span class=\"yaml-commented-line\"># Description: Size of memory block to be erased.</span><br><span class=\"diff-removed\"><span class=\"yaml-key\">      size</span>: <span class=\"yaml-value\">4096</span></span><br>      <span class=\"yaml-commented-line\"># ----------------------------------------===== Memory ID [Optional] =====----------------------------------------</span><br>      <span class=\"yaml-commented-line\"># Description: ID of memory block to be erased.</span><br><span class=\"diff-removed\"><span class=\"yaml-key\">      memoryId</span>: <span class=\"yaml-value\">0</span></span><br><br><span class=\"diff-added\"><span class=\"yaml-key\">  - </span>erase:</span><br>  <span class=\"yaml-commented-line\">#  =========================== [Example of possible configuration: #1 , erase if not used] ============================</span><br>    <span class=\"yaml-commented-line\"># -------------------------------------------===== Load [Required] =====--------------------------------------------</span><br>    <span class=\"yaml-commented-line\"># Description: If set, then the data to write immediately follows the range header. The length field contains the</span><br>    <span class=\"yaml-commented-line\"># actual data length</span><br><span class=\"diff-removed\"><span class=\"yaml-key\">    load</span>: <span style=\"background-color: #FFFF00; border-radius: 5px; padding: 2px 6px; margin-left: 5px; font-size:\n",
       "0.8em;\">Program the image</span></span><br>      <span class=\"yaml-commented-line\"># -----------------------------------------===== Address [Required] =====-----------------------------------------</span><br>      <span class=\"yaml-commented-line\"># Description: Address of memory block to be loaded.</span><br><span class=\"diff-removed\"><span class=\"yaml-key\">      address</span>: <span class=\"yaml-value\">0</span></span><br><span class=\"diff-added\"><span class=\"yaml-key\">      address</span>: <span class=\"yaml-value\">0xC00</span></span><br><span class=\"diff-added\"><span class=\"yaml-key\">      size</span>: <span class=\"yaml-value\">0x800</span></span><br>      <span class=\"yaml-commented-line\"># ----------------------------------------===== Memory ID [Optional] =====----------------------------------------</span><br>      <span class=\"yaml-commented-line\"># Description: ID of memory block to be loaded.</span><br><span class=\"diff-removed\"><span class=\"yaml-key\">      memoryId</span>: <span class=\"yaml-value\">0</span></span><br>      <span class=\"yaml-commented-line\"># --------------------------------------===== Binary file. [Optional] =====---------------------------------------</span><br>      <span class=\"yaml-commented-line\"># Description: Binary file to be loaded.</span><br><span class=\"diff-removed\"><span class=\"yaml-key\">      file</span>: <span class=\"yaml-value\">my_binary.bin</span></span><br>      <span class=\"yaml-commented-line\"># -------------------------------------===== Binary values. [Optional] =====--------------------------------------</span><br>      <span class=\"yaml-commented-line\"># Description: Binary values delimited by comma to be loaded.</span><br><span class=\"diff-removed\"><span class=\"yaml-key\">      values</span>: <span class=\"yaml-value\">0x1234, 0x5678, 0, 12345678</span></span><br><br><span class=\"diff-added\"><span class=\"yaml-key\">  - </span>load:</span><br>  <span class=\"yaml-commented-line\">#  =========================== [Example of possible configuration: #2 , erase if not used] ============================</span><br>    <span class=\"yaml-commented-line\"># ------------------------------------------===== Execute [Required] =====------------------------------------------</span><br>    <span class=\"yaml-commented-line\"># Description: Address is the jump-to address. No further processing of SB after jump, ROM do not expect to return.</span><br><span class=\"diff-removed\"><span class=\"yaml-key\">    execute</span>:</span><br>      <span class=\"yaml-commented-line\"># -----------------------------------------===== Address [Required] =====-----------------------------------------</span><br>      <span class=\"yaml-commented-line\"># Description: Jump-to address to start execute code.</span><br><span class=\"diff-removed\"><span class=\"yaml-key\">      address</span>: <span class=\"yaml-value\">0</span></span><br><span class=\"diff-added\"><span class=\"yaml-key\">      address</span>: <span class=\"yaml-value\">0x0c00</span></span><br><span class=\"diff-added\"><span class=\"yaml-key\">      file</span>: <span class=\"yaml-value\">../workspace/mb_xip_signed_0xC00.bin</span></span><br><br><span class=\"diff-added\"><span class=\"yaml-key\">  - </span>reset: <span class=\"yaml-value\">{}</span></span><br>  <span class=\"yaml-commented-line\">#  =========================== [Example of possible configuration: #3 , erase if not used] ============================</span><br>    <span class=\"yaml-commented-line\"># ----------------------------------------===== Program IFR [Required] =====----------------------------------------</span><br>    <span class=\"yaml-commented-line\"># Description: The startAddress will be the address into the IFR region, length will be in number of bytes to write</span><br>    <span class=\"yaml-commented-line\"># to IFR region. The data to write to IFR region at the given address will immediately follow the header</span><br><span class=\"diff-removed\"><span class=\"yaml-key\">    programIFR</span>:</span><br>      <span class=\"yaml-commented-line\"># -------------------------------===== Address (IFR region index) [Required] =====--------------------------------</span><br>      <span class=\"yaml-commented-line\"># Description: Index of IFR region to be programmed.</span><br><span class=\"diff-removed\"><span class=\"yaml-key\">      address</span>: <span class=\"yaml-value\">0</span></span><br>      <span class=\"yaml-commented-line\"># ---------------------------------------===== Binary file [Optional] =====---------------------------------------</span><br>      <span class=\"yaml-commented-line\"># Description: Binary file to be programmed.</span><br><span class=\"diff-removed\"><span class=\"yaml-key\">      file</span>: <span class=\"yaml-value\">my_binary.bin</span></span><br>      <span class=\"yaml-commented-line\"># --------------------------------------===== Binary value [Optional] =====---------------------------------------</span><br>      <span class=\"yaml-commented-line\"># Description: Binary value to be programmed, at least 4 bytes. Value will be converted to binary little endian</span><br>      <span class=\"yaml-commented-line\"># format.</span><br><span class=\"diff-removed\"><span class=\"yaml-key\">      value</span>: <span class=\"yaml-value\">'0xB38AA899'</span></span><br>      <span class=\"yaml-commented-line\"># -------------------------------------===== Binary values. [Optional] =====--------------------------------------</span><br>      <span class=\"yaml-commented-line\"># Description: 32-bit binary values delimited by comma to be programmed.</span><br><span class=\"diff-removed\"><span class=\"yaml-key\">      values</span>: <span class=\"yaml-value\">0x1234, 0x5678, 0, 12345678</span></span><br><br>  <span class=\"yaml-commented-line\">#  =========================== [Example of possible configuration: #4 , erase if not used] ============================</span><br>    <span class=\"yaml-commented-line\"># -------------------------------------------===== Reset [Required] =====-------------------------------------------</span><br>    <span class=\"yaml-commented-line\"># Description: Resets the target</span><br><span class=\"diff-removed\"><span class=\"yaml-key\">    reset</span>: <span class=\"yaml-value\">{}</span> <span style=\"background-color: #FFFF00; border-radius: 5px; padding: 2px 6px;\n",
       "margin-left: 5px; font-size: 0.8em;\">Reset the device after programming</span></span><br><span class=\"diff-removed\"></span></pre></div>\n",
       "          <div id=\"userConfigView_e03e1f337252c9675b4a7191671c95a0\" class=\"yaml-diff\" style=\"display:none;\"><pre class=\"yaml-diff\"><span class=\"yaml-commented-line\"># Copyright 2023-2024 NXP</span><br><span class=\"yaml-commented-line\">#</span><br><span class=\"yaml-commented-line\"># SPDX-License-Identifier: BSD-3-Clause</span><br><span class=\"yaml-commented-line\"># ==============================  Secure Binary X Configuration template for mwct20d2.  ===============================</span><br><br><span class=\"yaml-commented-line\"># ======================================================================================================================</span><br><span class=\"yaml-commented-line\">#                                                 == General Options ==</span><br><span class=\"yaml-commented-line\"># ======================================================================================================================</span><br><span class=\"yaml-commented-line\"># -------------------------------------===== The chip family name [Required] =====--------------------------------------</span><br><span class=\"yaml-commented-line\"># Description: NXP chip family identifier.</span><br><span class=\"yaml-commented-line\"># Possible options: <mc56f81866, mc56f81868, mwct20d2, mwct20d2a></span><br><span class=\"yaml-key\">family</span>: <span class=\"yaml-value\">mwct20d2</span><br><span class=\"yaml-commented-line\"># -----------------------------------------===== MCU revision [Optional] =====------------------------------------------</span><br><span class=\"yaml-commented-line\"># Description: Revision of silicon. The 'latest' name, means most current revision.</span><br><span class=\"yaml-commented-line\"># Possible options: <b1, latest></span><br><span class=\"yaml-key\">revision</span>: <span class=\"yaml-value\">latest</span><br><span class=\"yaml-commented-line\"># ======================================================================================================================</span><br><span class=\"yaml-commented-line\">#                                                  == Basic Settings ==</span><br><span class=\"yaml-commented-line\"># ======================================================================================================================</span><br><span class=\"yaml-commented-line\"># ---------------------------------------===== Firmware version. [Optional] =====---------------------------------------</span><br><span class=\"yaml-commented-line\"># Description: Value compared with Secure_FW_Version monotonic counter value stored in protected memory (MCU specific).</span><br><span class=\"yaml-commented-line\"># If value is lower than value in protected memory, then is image rejected (rollback protection).</span><br><span class=\"yaml-key\">firmwareVersion</span>: <span class=\"yaml-value\">0</span><br><span class=\"yaml-commented-line\"># -----------------------------------------===== SBx filename [Required] =====------------------------------------------</span><br><span class=\"yaml-commented-line\"># Description: Generated SBx container filename.</span><br><span class=\"yaml-key\">containerOutputFile</span>: <span class=\"yaml-value\">../workspace/oem_open.sbx</span> <span style=\"background-color: #FFFF00; border-\n",
       "radius: 5px; padding: 2px 6px; margin-left: 5px; font-size: 0.8em;\">Add path to the output file for the container</span><br><span class=\"yaml-commented-line\"># ======================================================================================================================</span><br><span class=\"yaml-commented-line\">#                                             == Secure Binary X Settings ==</span><br><span class=\"yaml-commented-line\"># ======================================================================================================================</span><br><span class=\"yaml-commented-line\"># ------------------------------------------===== image type [Optional] =====-------------------------------------------</span><br><span class=\"yaml-commented-line\"># Description: SecureBinaryXType</span><br><span class=\"yaml-commented-line\"># Possible options: <NXP_PROVISIONING, OEM_PROVISIONING, OEM></span><br><span class=\"yaml-key\">image_type</span>: <span class=\"yaml-value\">OEM_PROVISIONING</span> <span style=\"background-color: #FFFF00; border-radius: 5px; padding:\n",
       "2px 6px; margin-left: 5px; font-size: 0.8em;\">Set to OEM_PROVISIONING for initial provisioning</span><br><span class=\"yaml-commented-line\"># ------------------------------------------===== Description [Optional] =====------------------------------------------</span><br><span class=\"yaml-commented-line\"># Description: Description up to 16 characters, longer will be truncated. Stored in SBx manifest.</span><br><span class=\"yaml-key\">description</span>: <span class=\"yaml-value\">This is description of generated SB file.</span><br><span class=\"yaml-commented-line\"># ======================================================================================================================</span><br><span class=\"yaml-commented-line\">#                                        == Secure Binary X Commands Settings ==</span><br><span class=\"yaml-commented-line\"># ======================================================================================================================</span><br><span class=\"yaml-commented-line\"># -----------------------------------------===== SBx Commands [Required] =====------------------------------------------</span><br><span class=\"yaml-commented-line\"># Description: Secure Binary X commands block, list of all possible options - Modify it according to your application</span><br><span class=\"yaml-key\">commands</span>: <span class=\"yaml-commented-line\"># [Required], SBx.1 Commands, Secure Binary X commands block, list of all possible options - Modify it according to your application</span><br><span class=\"yaml-key\">  - </span>erase: <span style=\"background-color: #FFFF00; border-radius: 5px; padding: 2px 6px; margin-left: 5px; font-size:\n",
       "0.8em;\">Erase flash before programming</span><br><span class=\"yaml-key\">      address</span>: <span class=\"yaml-value\">0</span><br><span class=\"yaml-key\">      size</span>: <span class=\"yaml-value\">0x800</span><br><br><span class=\"yaml-key\">  - </span>load: <span style=\"background-color: #FFFF00; border-radius: 5px; padding: 2px 6px; margin-left: 5px; font-size:\n",
       "0.8em;\">Program the image</span><br><span class=\"yaml-key\">      address</span>: <span class=\"yaml-value\">0</span><br><span class=\"yaml-key\">      file</span>: <span class=\"yaml-value\">../workspace/mb_xip_signed_0_0x800.bin</span><br><br><span class=\"yaml-key\">  - </span>erase: <span style=\"background-color: #FFFF00; border-radius: 5px; padding: 2px 6px; margin-left: 5px; font-size:\n",
       "0.8em;\">Erase flash before programming</span><br><span class=\"yaml-key\">      address</span>: <span class=\"yaml-value\">0xC00</span><br><span class=\"yaml-key\">      size</span>: <span class=\"yaml-value\">0x800</span><br><br><span class=\"yaml-key\">  - </span>load: <span style=\"background-color: #FFFF00; border-radius: 5px; padding: 2px 6px; margin-left: 5px; font-size:\n",
       "0.8em;\">Program the image</span><br><span class=\"yaml-key\">      address</span>: <span class=\"yaml-value\">0x0c00</span><br><span class=\"yaml-key\">      file</span>: <span class=\"yaml-value\">../workspace/mb_xip_signed_0xC00.bin</span><br><br><span class=\"yaml-key\">  - </span>reset: <span class=\"yaml-value\">{}</span> <span style=\"background-color: #FFFF00; border-radius: 5px; padding: 2px 6px;\n",
       "margin-left: 5px; font-size: 0.8em;\">Reset the device after programming</span><br></pre></div>\n",
       "        </div>\n",
       "        "
      ],
      "text/plain": [
       "<IPython.core.display.HTML object>"
      ]
     },
     "execution_count": 19,
     "metadata": {},
     "output_type": "execute_result"
    }
   ],
   "source": [
    "YamlDiffWidget(\"inputs/mc56_devhsm_oem_provisioning.diffc\").html"
   ]
  },
  {
   "cell_type": "code",
   "execution_count": null,
   "metadata": {
    "tags": [
     "hide-output"
    ]
   },
   "outputs": [
    {
     "name": "stdout",
     "output_type": "stream",
     "text": [
      "nxpdevhsm  generate -c inputs/oem_provisioning.yaml -p com89 \n",
      "\u001b[33mWARNING:spsdk.utils.misc:The key source is not specified, the random value is used in size of 16 B. (890ms since start, misc.py:533)\u001b[39m\n",
      " 1: Initial target reset is disabled \n",
      " 2: Generating OEM master share.\n",
      " 3: Creating SBx header.\n",
      " 4: Created unencrypted SBx data\n",
      " 5: Encrypting SBx data on device\n",
      " 5.1: Calculating SHA-256 hashes of encrypted data.\n",
      " 5.2: Updating SBx header with current data.\n",
      " 6: Creating SBx signature on device.\n",
      " 7: Composing final SBx file.\n",
      " 8: Resetting the target device - device will be in ISP mode.\n",
      "Final SB file has been written: workspace/oem_open.sbx\n"
     ]
    }
   ],
   "source": [
    "SBX_WORKSPACE = WORKSPACE + \"SBX/\"\n",
    "SBX_CONFIG = DATA + \"oem_provisioning.yaml\"\n",
    "SBX_FILE = WORKSPACE + \"oem_open.sbx\"\n",
    "OEM_SHARE_INPUT = SBX_WORKSPACE + \"OEM_SHARE_INPUT.BIN\"\n",
    "\n",
    "%! nxpdevhsm $VERBOSITY generate -c $SBX_CONFIG -p $COM_PORT"
   ]
  },
  {
   "cell_type": "code",
   "execution_count": 21,
   "metadata": {},
   "outputs": [
    {
     "name": "stdout",
     "output_type": "stream",
     "text": [
      "blhost -p com89 receive-sb-file inputs/workspace/oem_open.sbx \n",
      "Sending SB file\n",
      "Response status = 10119 (0x2787) ROM Loader: Pending Jump Command.\n"
     ]
    }
   ],
   "source": [
    "%! blhost -p $COM_PORT receive-sb-file $SBX_FILE"
   ]
  },
  {
   "attachments": {},
   "cell_type": "markdown",
   "metadata": {},
   "source": [
    "### 4.2 OEM in-field update\n",
    "\n",
    "To create a secure binary container that might be used for in-field software update we use \"OEM\" type in SBx configuration file. We also have to specify private key or signature provider that will be used for signing the container."
   ]
  },
  {
   "cell_type": "code",
   "execution_count": 22,
   "metadata": {},
   "outputs": [
    {
     "name": "stdout",
     "output_type": "stream",
     "text": [
      "nxpdevhsm -v get-template -f mwct20d2 -o workspace/devhsm_template.yaml --force \n",
      "The DevHsm template for mwct20d2 has been saved into workspace/devhsm_template.yaml YAML file\n"
     ]
    },
    {
     "data": {
      "text/html": [
       "\n",
       "        \n",
       "        <style>\n",
       "            .yaml-diff { font-family: monospace; background-color: #f0f0f0; padding: 1em; border: 1px solid #c0c0c0; }\n",
       "            .yaml-key { color: #0000CC; font-weight: bold; }\n",
       "            .yaml-value { color: #006600; }\n",
       "            .yaml-commented-line { color: #008800; }\n",
       "            .yaml-list-item { color: #660066; }\n",
       "            .diff-removed { background-color: #ffaaaa; }\n",
       "            .diff-added { background-color: #aaffaa; }\n",
       "            .yaml-comment {\n",
       "                background-color: #FF8C00;\n",
       "                color: #000000;\n",
       "                border-radius: 50%;\n",
       "                padding: 0 0.3em;\n",
       "                margin-left: 0.5em;\n",
       "                font-size: 0.8em;\n",
       "                cursor: help;\n",
       "                font-weight: bold;\n",
       "                text-shadow: 1px 1px 1px rgba(255, 255, 255, 0.7);\n",
       "            }\n",
       "            #toggleButton_17365bdbcf734daaeb9401f73e08fd7b {\n",
       "                background-color: #4CAF50;\n",
       "                border: none;\n",
       "                color: white;\n",
       "                padding: 10px 20px;\n",
       "                text-align: center;\n",
       "                text-decoration: none;\n",
       "                display: inline-block;\n",
       "                font-size: 16px;\n",
       "                margin: 4px 2px;\n",
       "                cursor: pointer;\n",
       "            }\n",
       "        </style>\n",
       "        \n",
       "        \n",
       "        <script>\n",
       "        function toggleView_17365bdbcf734daaeb9401f73e08fd7b() {\n",
       "            var diffView = document.getElementById('diffView_17365bdbcf734daaeb9401f73e08fd7b');\n",
       "            var userConfigView = document.getElementById('userConfigView_17365bdbcf734daaeb9401f73e08fd7b');\n",
       "            var button = document.getElementById('toggleButton_17365bdbcf734daaeb9401f73e08fd7b');\n",
       "\n",
       "            if (diffView.style.display === 'none' && userConfigView.style.display === 'none') {\n",
       "                diffView.style.display = 'block';\n",
       "                userConfigView.style.display = 'none';\n",
       "                button.textContent = 'Show User Config';\n",
       "            } else if (diffView.style.display === 'block') {\n",
       "                diffView.style.display = 'none';\n",
       "                userConfigView.style.display = 'block';\n",
       "                button.textContent = 'Hide';\n",
       "            } else {\n",
       "                diffView.style.display = 'none';\n",
       "                userConfigView.style.display = 'none';\n",
       "                button.textContent = 'Show Diff';\n",
       "            }\n",
       "        }\n",
       "        </script>\n",
       "        \n",
       "        <div class=\"yaml-diff-container\">\n",
       "          <h3>Configuration Differences</h3>\n",
       "          <button onclick=\"toggleView_17365bdbcf734daaeb9401f73e08fd7b()\" id=\"toggleButton_17365bdbcf734daaeb9401f73e08fd7b\">Show Diff</button>\n",
       "          \n",
       "        <a href=\"data:text/plain;base64,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\" download=\"user_config.yaml\">\n",
       "            <button style=\"background-color: #4CAF50; border: none; color: white; padding: 10px 20px; text-align: center; text-decoration: none; display: inline-block; font-size: 16px; margin: 4px 2px; cursor: pointer;\">\n",
       "                Download Config\n",
       "            </button>\n",
       "        </a>\n",
       "        \n",
       "          <div id=\"diffView_17365bdbcf734daaeb9401f73e08fd7b\" class=\"yaml-diff\" style=\"display:none;\"><pre class=\"yaml-diff\"><span class=\"yaml-commented-line\"># ===============================  Secure Binary X Configuration template for mwct20d2.  ===============================</span><br><br><span class=\"yaml-commented-line\"># ======================================================================================================================</span><br><span class=\"yaml-commented-line\">#                                                 == General Options ==                                                 </span><br><span class=\"yaml-commented-line\"># ======================================================================================================================</span><br><span class=\"yaml-commented-line\"># -------------------------------------===== The chip family name [Required] =====--------------------------------------</span><br><span class=\"yaml-commented-line\"># Description: NXP chip family identifier.</span><br><span class=\"yaml-commented-line\"># Possible options: <mc56f81866, mc56f81868, mwct20d2, mwct20d2a></span><br><span class=\"yaml-key\">family</span>: <span class=\"yaml-value\">mwct20d2</span><br><span class=\"yaml-commented-line\"># -----------------------------------------===== MCU revision [Optional] =====------------------------------------------</span><br><span class=\"yaml-commented-line\"># Description: Revision of silicon. The 'latest' name, means most current revision.</span><br><span class=\"yaml-commented-line\"># Possible options: <b1, latest></span><br><span class=\"yaml-key\">revision</span>: <span class=\"yaml-value\">latest</span><br><span class=\"yaml-commented-line\"># ======================================================================================================================</span><br><span class=\"yaml-commented-line\">#                                                  == Basic Settings ==                                                 </span><br><span class=\"yaml-commented-line\"># ======================================================================================================================</span><br><span class=\"yaml-commented-line\"># ---------------------------------------===== Firmware version. [Optional] =====---------------------------------------</span><br><span class=\"yaml-commented-line\"># Description: Value compared with Secure_FW_Version monotonic counter value stored in protected memory (MCU specific).</span><br><span class=\"yaml-commented-line\"># If value is lower than value in protected memory, then is image rejected (rollback protection).</span><br><span class=\"yaml-key\">firmwareVersion</span>: <span class=\"yaml-value\">0</span><br><span class=\"yaml-commented-line\"># -----------------------------------------===== SBx filename [Required] =====------------------------------------------</span><br><span class=\"yaml-commented-line\"># Description: Generated SBx container filename.</span><br><span class=\"diff-removed\"><span class=\"yaml-key\">containerOutputFile</span>: <span class=\"yaml-value\">my_new.sbx</span> <span style=\"background-color: #FFFF00; border-radius: 5px;\n",
       "padding: 2px 6px; margin-left: 5px; font-size: 0.8em;\">Add path to the output file for the container</span></span><br><span class=\"diff-added\"><span class=\"yaml-key\">containerOutputFile</span>: <span class=\"yaml-value\">workspace/my_new.sbx</span></span><br><span class=\"yaml-commented-line\"># ======================================================================================================================</span><br><span class=\"yaml-commented-line\">#                                             == Secure Binary X Settings ==                                            </span><br><span class=\"yaml-commented-line\"># ======================================================================================================================</span><br><span class=\"yaml-commented-line\"># ------------------------------------------===== image type [Optional] =====-------------------------------------------</span><br><span class=\"yaml-commented-line\"># Description: SecureBinaryXType</span><br><span class=\"yaml-commented-line\"># Possible options: <NXP_PROVISIONING, OEM_PROVISIONING, OEM></span><br><span class=\"diff-removed\"><span class=\"yaml-key\">image_type</span>: <span class=\"yaml-value\">OEM_PROVISIONING</span> <span style=\"background-color: #FFFF00; border-radius: 5px; padding:\n",
       "2px 6px; margin-left: 5px; font-size: 0.8em;\">Set to OEM for in-field provisioning. SB is signed by the OEM keys</span></span><br><span class=\"diff-added\"><span class=\"yaml-key\">image_type</span>: <span class=\"yaml-value\">OEM</span></span><br><span class=\"yaml-commented-line\"># ------------------------------------------===== Description [Optional] =====------------------------------------------</span><br><span class=\"yaml-commented-line\"># Description: Description up to 16 characters, longer will be truncated. Stored in SBx manifest.</span><br><span class=\"yaml-key\">description</span>: <span class=\"yaml-value\">This is description of generated SB file.</span><br><span class=\"diff-added\"><span class=\"yaml-key\">signingCertificatePrivateKeyFile</span>: <span class=\"yaml-value\">ec_pk_secp256r1_sign_cert.pem</span></span><br><span class=\"yaml-commented-line\"># ======================================================================================================================</span><br><span class=\"yaml-commented-line\">#                                               == Certificate Settings ==                                              </span><br><span class=\"yaml-commented-line\"># ======================================================================================================================</span><br><span class=\"yaml-commented-line\"># ---------------------------===== ISK Certificate private key [Conditionally required] =====---------------------------</span><br><span class=\"yaml-commented-line\"># Description: ISK Certificate private key used to sign certificate. It can be replaced by signProvider key. Only valid</span><br><span class=\"yaml-commented-line\"># for OEM and NXP_PROVISIONING image types</span><br><span class=\"diff-removed\"><span class=\"yaml-key\">signingCertificatePrivateKeyFile</span>: <span class=\"yaml-value\">isk_prv_key.pem</span> <span style=\"background-color: #FFFF00; border-\n",
       "radius: 5px; padding: 2px 6px; margin-left: 5px; font-size: 0.8em;\">Key is not required for OEM_PROVISIONING</span></span><br><span class=\"yaml-commented-line\"># -------------------------------===== Signature Provider [Conditionally required] =====--------------------------------</span><br><span class=\"yaml-commented-line\"># Description: Signature provider configuration in format 'type=<sp_type>;<key1>=<value1>;<key2>=<value2>'.</span><br><span class=\"diff-removed\"><span class=\"yaml-key\">signProvider</span>: <span class=\"yaml-value\">type=file;file_path=my_prv_key.pem</span></span><br><span class=\"yaml-commented-line\"># ======================================================================================================================</span><br><span class=\"yaml-commented-line\">#                                        == Secure Binary X Commands Settings ==                                        </span><br><span class=\"yaml-commented-line\"># ======================================================================================================================</span><br><span class=\"yaml-commented-line\"># -----------------------------------------===== SBx Commands [Required] =====------------------------------------------</span><br><span class=\"yaml-commented-line\"># Description: Secure Binary X commands block, list of all possible options - Modify it according to your application</span><br><span class=\"diff-added\"><span class=\"yaml-key\">commands</span>: <span class=\"yaml-commented-line\"># [Required], SBx.1 Commands, Secure Binary X commands block, list of all possible options - Modify it according to your application</span></span><br><span class=\"diff-added\"><span class=\"yaml-key\">  - </span>erase:</span><br><span class=\"diff-added\"><span class=\"yaml-key\">      address</span>: <span class=\"yaml-value\">0</span></span><br><span class=\"diff-added\"><span class=\"yaml-key\">      size</span>: <span class=\"yaml-value\">0x800</span></span><br><span class=\"diff-removed\"><span class=\"yaml-key\">commands</span>:</span><br><span class=\"diff-removed\"><span class=\"yaml-key\">  -</span></span><br>  <span class=\"yaml-commented-line\"># ====================================================================================================================</span><br>  <span class=\"yaml-commented-line\">#                                          == List of possible 5 options. ==                                          </span><br>  <span class=\"yaml-commented-line\">#                                  Options [erase, load, execute, programIFR, reset]                                  </span><br>  <span class=\"yaml-commented-line\"># ====================================================================================================================</span><br><br><span class=\"diff-added\"><span class=\"yaml-key\">  - </span>load:</span><br>  <span class=\"yaml-commented-line\">#  =========================== [Example of possible configuration: #0 , erase if not used] ============================</span><br>    <span class=\"yaml-commented-line\"># -------------------------------------------===== Erase [Required] =====-------------------------------------------</span><br>    <span class=\"yaml-commented-line\"># Description: Performs a flash erase of the given address range. The erase will be rounded up to the sector size.</span><br><span class=\"diff-removed\"><span class=\"yaml-key\">    erase</span>: <span style=\"background-color: #FFFF00; border-radius: 5px; padding: 2px 6px; margin-left: 5px; font-size:\n",
       "0.8em;\">Erase flash before programming</span></span><br>      <span class=\"yaml-commented-line\"># -----------------------------------------===== Address [Required] =====-----------------------------------------</span><br>      <span class=\"yaml-commented-line\"># Description: Address of memory block to be erased.</span><br><span class=\"yaml-key\">      address</span>: <span class=\"yaml-value\">0</span><br><span class=\"diff-added\"><span class=\"yaml-key\">      file</span>: <span class=\"yaml-value\">mb_xip_signed_0_0x800.bin</span></span><br>      <span class=\"yaml-commented-line\"># ------------------------------------------===== Size [Required] =====-------------------------------------------</span><br>      <span class=\"yaml-commented-line\"># Description: Size of memory block to be erased.</span><br><span class=\"diff-removed\"><span class=\"yaml-key\">      size</span>: <span class=\"yaml-value\">4096</span></span><br>      <span class=\"yaml-commented-line\"># ----------------------------------------===== Memory ID [Optional] =====----------------------------------------</span><br>      <span class=\"yaml-commented-line\"># Description: ID of memory block to be erased.</span><br><span class=\"diff-removed\"><span class=\"yaml-key\">      memoryId</span>: <span class=\"yaml-value\">0</span></span><br><br><span class=\"diff-added\"><span class=\"yaml-key\">  - </span>erase:</span><br>  <span class=\"yaml-commented-line\">#  =========================== [Example of possible configuration: #1 , erase if not used] ============================</span><br>    <span class=\"yaml-commented-line\"># -------------------------------------------===== Load [Required] =====--------------------------------------------</span><br>    <span class=\"yaml-commented-line\"># Description: If set, then the data to write immediately follows the range header. The length field contains the</span><br>    <span class=\"yaml-commented-line\"># actual data length</span><br><span class=\"diff-removed\"><span class=\"yaml-key\">    load</span>: <span style=\"background-color: #FFFF00; border-radius: 5px; padding: 2px 6px; margin-left: 5px; font-size:\n",
       "0.8em;\">Program the image</span></span><br>      <span class=\"yaml-commented-line\"># -----------------------------------------===== Address [Required] =====-----------------------------------------</span><br>      <span class=\"yaml-commented-line\"># Description: Address of memory block to be loaded.</span><br><span class=\"diff-removed\"><span class=\"yaml-key\">      address</span>: <span class=\"yaml-value\">0</span></span><br><span class=\"diff-added\"><span class=\"yaml-key\">      address</span>: <span class=\"yaml-value\">0xC00</span></span><br><span class=\"diff-added\"><span class=\"yaml-key\">      size</span>: <span class=\"yaml-value\">0x800</span></span><br>      <span class=\"yaml-commented-line\"># ----------------------------------------===== Memory ID [Optional] =====----------------------------------------</span><br>      <span class=\"yaml-commented-line\"># Description: ID of memory block to be loaded.</span><br><span class=\"diff-removed\"><span class=\"yaml-key\">      memoryId</span>: <span class=\"yaml-value\">0</span></span><br>      <span class=\"yaml-commented-line\"># --------------------------------------===== Binary file. [Optional] =====---------------------------------------</span><br>      <span class=\"yaml-commented-line\"># Description: Binary file to be loaded.</span><br><span class=\"diff-removed\"><span class=\"yaml-key\">      file</span>: <span class=\"yaml-value\">my_binary.bin</span></span><br>      <span class=\"yaml-commented-line\"># -------------------------------------===== Binary values. [Optional] =====--------------------------------------</span><br>      <span class=\"yaml-commented-line\"># Description: Binary values delimited by comma to be loaded.</span><br><span class=\"diff-removed\"><span class=\"yaml-key\">      values</span>: <span class=\"yaml-value\">0x1234, 0x5678, 0, 12345678</span></span><br><br><span class=\"diff-added\"><span class=\"yaml-key\">  - </span>load:</span><br>  <span class=\"yaml-commented-line\">#  =========================== [Example of possible configuration: #2 , erase if not used] ============================</span><br>    <span class=\"yaml-commented-line\"># ------------------------------------------===== Execute [Required] =====------------------------------------------</span><br>    <span class=\"yaml-commented-line\"># Description: Address is the jump-to address. No further processing of SB after jump, ROM do not expect to return.</span><br><span class=\"diff-removed\"><span class=\"yaml-key\">    execute</span>:</span><br>      <span class=\"yaml-commented-line\"># -----------------------------------------===== Address [Required] =====-----------------------------------------</span><br>      <span class=\"yaml-commented-line\"># Description: Jump-to address to start execute code.</span><br><span class=\"diff-removed\"><span class=\"yaml-key\">      address</span>: <span class=\"yaml-value\">0</span></span><br><span class=\"diff-added\"><span class=\"yaml-key\">      address</span>: <span class=\"yaml-value\">0x0c00</span></span><br><span class=\"diff-added\"><span class=\"yaml-key\">      file</span>: <span class=\"yaml-value\">mb_xip_signed_0xC00.bin</span></span><br><br><span class=\"diff-added\"><span class=\"yaml-key\">  - </span>reset: <span class=\"yaml-value\">{}</span></span><br>  <span class=\"yaml-commented-line\">#  =========================== [Example of possible configuration: #3 , erase if not used] ============================</span><br>    <span class=\"yaml-commented-line\"># ----------------------------------------===== Program IFR [Required] =====----------------------------------------</span><br>    <span class=\"yaml-commented-line\"># Description: The startAddress will be the address into the IFR region, length will be in number of bytes to write</span><br>    <span class=\"yaml-commented-line\"># to IFR region. The data to write to IFR region at the given address will immediately follow the header</span><br><span class=\"diff-removed\"><span class=\"yaml-key\">    programIFR</span>:</span><br>      <span class=\"yaml-commented-line\"># -------------------------------===== Address (IFR region index) [Required] =====--------------------------------</span><br>      <span class=\"yaml-commented-line\"># Description: Index of IFR region to be programmed.</span><br><span class=\"diff-removed\"><span class=\"yaml-key\">      address</span>: <span class=\"yaml-value\">0</span></span><br>      <span class=\"yaml-commented-line\"># ---------------------------------------===== Binary file [Optional] =====---------------------------------------</span><br>      <span class=\"yaml-commented-line\"># Description: Binary file to be programmed.</span><br><span class=\"diff-removed\"><span class=\"yaml-key\">      file</span>: <span class=\"yaml-value\">my_binary.bin</span></span><br>      <span class=\"yaml-commented-line\"># --------------------------------------===== Binary value [Optional] =====---------------------------------------</span><br>      <span class=\"yaml-commented-line\"># Description: Binary value to be programmed, at least 4 bytes. Value will be converted to binary little endian</span><br>      <span class=\"yaml-commented-line\"># format.</span><br><span class=\"diff-removed\"><span class=\"yaml-key\">      value</span>: <span class=\"yaml-value\">'0xB38AA899'</span></span><br>      <span class=\"yaml-commented-line\"># -------------------------------------===== Binary values. [Optional] =====--------------------------------------</span><br>      <span class=\"yaml-commented-line\"># Description: 32-bit binary values delimited by comma to be programmed.</span><br><span class=\"diff-removed\"><span class=\"yaml-key\">      values</span>: <span class=\"yaml-value\">0x1234, 0x5678, 0, 12345678</span></span><br><br>  <span class=\"yaml-commented-line\">#  =========================== [Example of possible configuration: #4 , erase if not used] ============================</span><br>    <span class=\"yaml-commented-line\"># -------------------------------------------===== Reset [Required] =====-------------------------------------------</span><br>    <span class=\"yaml-commented-line\"># Description: Resets the target</span><br><span class=\"diff-removed\"><span class=\"yaml-key\">    reset</span>: <span class=\"yaml-value\">{}</span> <span style=\"background-color: #FFFF00; border-radius: 5px; padding: 2px 6px;\n",
       "margin-left: 5px; font-size: 0.8em;\">Reset the device after programming</span></span><br><span class=\"diff-removed\"></span></pre></div>\n",
       "          <div id=\"userConfigView_17365bdbcf734daaeb9401f73e08fd7b\" class=\"yaml-diff\" style=\"display:none;\"><pre class=\"yaml-diff\"><span class=\"yaml-commented-line\"># Copyright 2023-2024 NXP</span><br><span class=\"yaml-commented-line\">#</span><br><span class=\"yaml-commented-line\"># SPDX-License-Identifier: BSD-3-Clause</span><br><span class=\"yaml-commented-line\"># ==============================  Secure Binary X Configuration template for mwct20d2.  ===============================</span><br><br><span class=\"yaml-commented-line\"># ======================================================================================================================</span><br><span class=\"yaml-commented-line\">#                                                 == General Options ==</span><br><span class=\"yaml-commented-line\"># ======================================================================================================================</span><br><span class=\"yaml-commented-line\"># -------------------------------------===== The chip family name [Required] =====--------------------------------------</span><br><span class=\"yaml-commented-line\"># Description: NXP chip family identifier.</span><br><span class=\"yaml-commented-line\"># Possible options: <mc56f81866, mc56f81868, mwct20d2, mwct20d2a></span><br><span class=\"yaml-key\">family</span>: <span class=\"yaml-value\">mwct20d2</span><br><span class=\"yaml-commented-line\"># -----------------------------------------===== MCU revision [Optional] =====------------------------------------------</span><br><span class=\"yaml-commented-line\"># Description: Revision of silicon. The 'latest' name, means most current revision.</span><br><span class=\"yaml-commented-line\"># Possible options: <b1, latest></span><br><span class=\"yaml-key\">revision</span>: <span class=\"yaml-value\">latest</span><br><span class=\"yaml-commented-line\"># ======================================================================================================================</span><br><span class=\"yaml-commented-line\">#                                                  == Basic Settings ==</span><br><span class=\"yaml-commented-line\"># ======================================================================================================================</span><br><span class=\"yaml-commented-line\"># ---------------------------------------===== Firmware version. [Optional] =====---------------------------------------</span><br><span class=\"yaml-commented-line\"># Description: Value compared with Secure_FW_Version monotonic counter value stored in protected memory (MCU specific).</span><br><span class=\"yaml-commented-line\"># If value is lower than value in protected memory, then is image rejected (rollback protection).</span><br><span class=\"yaml-key\">firmwareVersion</span>: <span class=\"yaml-value\">0</span><br><span class=\"yaml-commented-line\"># -----------------------------------------===== SBx filename [Required] =====------------------------------------------</span><br><span class=\"yaml-commented-line\"># Description: Generated SBx container filename.</span><br><span class=\"yaml-key\">containerOutputFile</span>: <span class=\"yaml-value\">workspace/my_new.sbx</span> <span style=\"background-color: #FFFF00; border-radius:\n",
       "5px; padding: 2px 6px; margin-left: 5px; font-size: 0.8em;\">Add path to the output file for the container</span><br><span class=\"yaml-commented-line\"># ======================================================================================================================</span><br><span class=\"yaml-commented-line\">#                                             == Secure Binary X Settings ==</span><br><span class=\"yaml-commented-line\"># ======================================================================================================================</span><br><span class=\"yaml-commented-line\"># ------------------------------------------===== image type [Optional] =====-------------------------------------------</span><br><span class=\"yaml-commented-line\"># Description: SecureBinaryXType</span><br><span class=\"yaml-commented-line\"># Possible options: <NXP_PROVISIONING, OEM_PROVISIONING, OEM></span><br><span class=\"yaml-key\">image_type</span>: <span class=\"yaml-value\">OEM</span> <span style=\"background-color: #FFFF00; border-radius: 5px; padding: 2px 6px;\n",
       "margin-left: 5px; font-size: 0.8em;\">Set to OEM for in-field provisioning. SB is signed by the OEM keys</span><br><span class=\"yaml-commented-line\"># ------------------------------------------===== Description [Optional] =====------------------------------------------</span><br><span class=\"yaml-commented-line\"># Description: Description up to 16 characters, longer will be truncated. Stored in SBx manifest.</span><br><span class=\"yaml-key\">description</span>: <span class=\"yaml-value\">This is description of generated SB file.</span><br><span class=\"yaml-key\">signingCertificatePrivateKeyFile</span>: <span class=\"yaml-value\">ec_pk_secp256r1_sign_cert.pem</span> <span style=\"background-color:\n",
       "#FFFF00; border-radius: 5px; padding: 2px 6px; margin-left: 5px; font-size: 0.8em;\">Key is not required for OEM_PROVISIONING</span><br><span class=\"yaml-commented-line\"># ======================================================================================================================</span><br><span class=\"yaml-commented-line\">#                                        == Secure Binary X Commands Settings ==</span><br><span class=\"yaml-commented-line\"># ======================================================================================================================</span><br><span class=\"yaml-commented-line\"># -----------------------------------------===== SBx Commands [Required] =====------------------------------------------</span><br><span class=\"yaml-commented-line\"># Description: Secure Binary X commands block, list of all possible options - Modify it according to your application</span><br><span class=\"yaml-key\">commands</span>: <span class=\"yaml-commented-line\"># [Required], SBx.1 Commands, Secure Binary X commands block, list of all possible options - Modify it according to your application</span><br><span class=\"yaml-key\">  - </span>erase: <span style=\"background-color: #FFFF00; border-radius: 5px; padding: 2px 6px; margin-left: 5px; font-size:\n",
       "0.8em;\">Erase flash before programming</span><br><span class=\"yaml-key\">      address</span>: <span class=\"yaml-value\">0</span><br><span class=\"yaml-key\">      size</span>: <span class=\"yaml-value\">0x800</span><br><br><span class=\"yaml-key\">  - </span>load: <span style=\"background-color: #FFFF00; border-radius: 5px; padding: 2px 6px; margin-left: 5px; font-size:\n",
       "0.8em;\">Program the image</span><br><span class=\"yaml-key\">      address</span>: <span class=\"yaml-value\">0</span><br><span class=\"yaml-key\">      file</span>: <span class=\"yaml-value\">mb_xip_signed_0_0x800.bin</span><br><br><span class=\"yaml-key\">  - </span>erase: <span style=\"background-color: #FFFF00; border-radius: 5px; padding: 2px 6px; margin-left: 5px; font-size:\n",
       "0.8em;\">Erase flash before programming</span><br><span class=\"yaml-key\">      address</span>: <span class=\"yaml-value\">0xC00</span><br><span class=\"yaml-key\">      size</span>: <span class=\"yaml-value\">0x800</span><br><br><span class=\"yaml-key\">  - </span>load: <span style=\"background-color: #FFFF00; border-radius: 5px; padding: 2px 6px; margin-left: 5px; font-size:\n",
       "0.8em;\">Program the image</span><br><span class=\"yaml-key\">      address</span>: <span class=\"yaml-value\">0x0c00</span><br><span class=\"yaml-key\">      file</span>: <span class=\"yaml-value\">mb_xip_signed_0xC00.bin</span><br><br><span class=\"yaml-key\">  - </span>reset: <span class=\"yaml-value\">{}</span> <span style=\"background-color: #FFFF00; border-radius: 5px; padding: 2px 6px;\n",
       "margin-left: 5px; font-size: 0.8em;\">Reset the device after programming</span><br></pre></div>\n",
       "        </div>\n",
       "        "
      ],
      "text/plain": [
       "<IPython.core.display.HTML object>"
      ]
     },
     "execution_count": 22,
     "metadata": {},
     "output_type": "execute_result"
    }
   ],
   "source": [
    "YamlDiffWidget(\"inputs/mc56_devhsm_oem.diffc\").html"
   ]
  },
  {
   "cell_type": "code",
   "execution_count": 23,
   "metadata": {
    "tags": [
     "hide-output"
    ]
   },
   "outputs": [
    {
     "name": "stdout",
     "output_type": "stream",
     "text": [
      "nxpdevhsm  generate -c inputs/oem_provisioning.yaml -p com89 \n",
      "\u001b[33mWARNING:spsdk.utils.misc:The key source is not specified, the random value is used in size of 16 B. (914ms since start, misc.py:533)\u001b[39m\n",
      " 1: Initial target reset is disabled \n",
      " 2: Generating OEM master share.\n",
      " 3: Creating SBx header.\n",
      " 4: Created unencrypted SBx data\n",
      " 5: Encrypting SBx data on device\n",
      " 5.1: Calculating SHA-256 hashes of encrypted data.\n",
      " 5.2: Updating SBx header with current data.\n",
      " 6: Creating SBx signature on device.\n",
      " 7: Composing final SBx file.\n",
      " 8: Resetting the target device - device will be in ISP mode.\n",
      "Final SB file has been written: workspace/oem_open.sbx\n"
     ]
    }
   ],
   "source": [
    "SBX_FILE = WORKSPACE + \"oem_open.sbx\"\n",
    "OEM_SHARE_INPUT = WORKSPACE + \"OEM_SHARE_INPUT.BIN\"\n",
    "\n",
    "%! nxpdevhsm $VERBOSITY generate -c $SBX_CONFIG -p $COM_PORT\n",
    "\n",
    "# NOTE: By default device is reset after nxpdevhsm operation, if you don't want this behavior add --no-final-reset option"
   ]
  },
  {
   "cell_type": "code",
   "execution_count": 24,
   "metadata": {},
   "outputs": [
    {
     "name": "stdout",
     "output_type": "stream",
     "text": [
      "blhost -p com89 receive-sb-file workspace/oem_open.sbx \n",
      "Sending SB file\n",
      "Response status = 10119 (0x2787) ROM Loader: Pending Jump Command.\n"
     ]
    }
   ],
   "source": [
    "%! blhost -p $COM_PORT receive-sb-file $SBX_FILE"
   ]
  }
 ],
 "metadata": {
  "kernelspec": {
   "display_name": "venv312",
   "language": "python",
   "name": "python3"
  },
  "language_info": {
   "codemirror_mode": {
    "name": "ipython",
    "version": 3
   },
   "file_extension": ".py",
   "mimetype": "text/x-python",
   "name": "python",
   "nbconvert_exporter": "python",
   "pygments_lexer": "ipython3",
   "version": "3.12.4"
  },
  "orig_nbformat": 4
 },
 "nbformat": 4,
 "nbformat_minor": 2
}
