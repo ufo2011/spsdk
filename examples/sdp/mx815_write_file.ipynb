{
 "cells": [
  {
   "attachments": {},
   "cell_type": "markdown",
   "metadata": {},
   "source": [
    "# Write File with SDPS Host\n",
    "\n",
    "SDPS Host is a utility for communication with ROM on i.MX targets using SDPS protocol (i.MX8/9)."
   ]
  },
  {
   "cell_type": "code",
   "execution_count": null,
   "metadata": {},
   "outputs": [],
   "source": [
    "# -*- coding: UTF-8 -*-\n",
    "#\n",
    "# Copyright 2020-2024 NXP\n",
    "#\n",
    "# SPDX-License-Identifier: BSD-3-Clause\n",
    "\n",
    "import os\n",
    "\n",
    "from spsdk.sdp.interfaces.usb import SdpUSBInterface\n",
    "from spsdk.sdp.sdps import SDPS\n",
    "\n",
    "DATA_DIR = os.path.join(\"..\", \"_data\")\n",
    "\n",
    "\n",
    "def program_device() -> None:\n",
    "    \"\"\"\n",
    "    Write app to MX815 device using SDPS\n",
    "    \"\"\"\n",
    "    device_name = \"MX815\"\n",
    "    interfaces = SdpUSBInterface.scan(device_id=device_name)\n",
    "    if interfaces:\n",
    "        with SDPS(interfaces[0], device_name) as sdps:\n",
    "            with open(f\"{DATA_DIR}/test_m815s.bin\", \"rb\") as f:\n",
    "                data = f.read()\n",
    "                sdps.write_file(data)\n",
    "\n",
    "\n",
    "program_device()"
   ]
  }
 ],
 "metadata": {
  "kernelspec": {
   "display_name": "venv",
   "language": "python",
   "name": "python3"
  },
  "language_info": {
   "name": "python",
   "version": "3.11.0 (main, Oct 24 2022, 18:26:48) [MSC v.1933 64 bit (AMD64)]"
  },
  "orig_nbformat": 4,
  "vscode": {
   "interpreter": {
    "hash": "9ae905cdb03b2bea9f2883acc56fb3ee9783b3cfb8f9c98bd74d46626fd8ede9"
   }
  }
 },
 "nbformat": 4,
 "nbformat_minor": 2
}
