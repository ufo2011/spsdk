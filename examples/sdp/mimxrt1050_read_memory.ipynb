{
 "cells": [
  {
   "attachments": {},
   "cell_type": "markdown",
   "metadata": {},
   "source": [
    "# Read Memory with SDP Host\n",
    "\n",
    "The SDP (Serial Downloader Protocol) used by NXP is a communication protocol designed for programming and debugging NXP microcontrollers via a serial interface. It facilitates the downloading of firmware to the microcontroller's memory. The protocol typically operates over UART (Universal Asynchronous Receiver-Transmitter) or USB (Universal Serial Bus) and allows for commands to be sent from a host computer to the microcontroller. \n",
    "\n",
    "SDP is particularly useful in development and production environments for flashing firmware onto devices efficiently and reliably.\n",
    "\n",
    "> **Note**: Customers have the opportunity to develop their own plugins to extend the functionality of SDP Host.This flexibility enables users to implement unique communication interface. For more info about plugins, read the [SPSDK plugins documentation](../plugins/README.md)  ."
   ]
  },
  {
   "cell_type": "markdown",
   "metadata": {},
   "source": [
    "## 1. Prerequisites\n",
    "- SPSDK is needed with examples extension. `pip install spsdk[examples]` (Please refer to the [installation](../_knowledge_base/installation_guide.rst) documentation.)\n",
    "- Connect your preferred board via UART interface. In this example we will be using `mimxrt1050-evk` connected via UART\n",
    "\n",
    "  <img src=\"../_data/img/boards/mimxrt1050-evk.png\" alt=\"mimxrt1050-evk\" height=\"300\">"
   ]
  },
  {
   "cell_type": "code",
   "execution_count": 12,
   "metadata": {
    "tags": [
     "remove-cell"
    ]
   },
   "outputs": [
    {
     "name": "stdout",
     "output_type": "stream",
     "text": [
      "env: JUPYTER_SPSDK=1\n",
      "Created `%!` as an alias for `%execute`.\n"
     ]
    }
   ],
   "source": [
    "# Initialization cell\n",
    "# This env variable sets colored logger output to STDOUT\n",
    "%env JUPYTER_SPSDK=1\n",
    "# Set a magic for command execution and echo\n",
    "%alias execute echo %l && %l\n",
    "%alias_magic ! execute"
   ]
  },
  {
   "cell_type": "markdown",
   "metadata": {},
   "source": [
    "## 2. Read Memory via API"
   ]
  },
  {
   "cell_type": "code",
   "execution_count": null,
   "metadata": {
        "execute_cell": false
   },
   "outputs": [
    {
     "name": "stdout",
     "output_type": "stream",
     "text": [
      "Read data: 89232389\n"
     ]
    }
   ],
   "source": [
    "#!/usr/bin/env python\n",
    "# -*- coding: UTF-8 -*-\n",
    "#\n",
    "# Copyright 2019-2024 NXP\n",
    "#\n",
    "# SPDX-License-Identifier: BSD-3-Clause\n",
    "\n",
    "from typing import Optional\n",
    "\n",
    "from spsdk.sdp.interfaces.uart import SdpUARTInterface\n",
    "from spsdk.sdp.sdp import SDP\n",
    "\n",
    "\n",
    "def read_memory(address: int, length: int, port: Optional[str] = None) -> Optional[bytes]:\n",
    "    \"\"\"Read memory using USB interface.\n",
    "\n",
    "    To see all available device names (and their respective VID:PID):\n",
    "      spsdk/sdp/interfaces/usb.py -> USB_DEVICES\n",
    "    If device_name is not specified, function will use first available SDP device.\n",
    "\n",
    "    :param address: The address in target memory\n",
    "    :param length: Count of bytes to read\n",
    "    :param device_name: i.MX-RT device name or VID:PID\n",
    "    :return: bytes or None\n",
    "    \"\"\"\n",
    "    interfaces = SdpUARTInterface.scan(port=port)\n",
    "    if interfaces:\n",
    "        with SDP(interfaces[0]) as sdp:\n",
    "            return sdp.read(address, length, 8)\n",
    "    return None\n",
    "\n",
    "\n",
    "DATA = read_memory(0, 4)\n",
    "print(\"Read data:\", DATA.hex())"
   ]
  },
  {
   "cell_type": "markdown",
   "metadata": {},
   "source": [
    "## 3. Read Memory via CLI"
   ]
  },
  {
   "cell_type": "code",
   "execution_count": null,
   "metadata": {},
   "outputs": [
    {
     "name": "stdout",
     "output_type": "stream",
     "text": [
      "Read data:\n",
      "sdphost -p COM64 read-register 0 32 \n",
      "89 23 23 89\n",
      "Status (HAB mode) = 1450735702 (0x56787856) Hab Is Disabled (Unlocked).\n"
     ]
    }
   ],
   "source": [
    "#!/usr/bin/env python\n",
    "# -*- coding: UTF-8 -*-\n",
    "#\n",
    "# Copyright 2024 NXP\n",
    "#\n",
    "# SPDX-License-Identifier: BSD-3-Clause\n",
    "UART_CONNECTION = \"-p COM64\"\n",
    "\n",
    "print(\"Read data:\")\n",
    "%! sdphost $UART_CONNECTION read-register 0 32"
   ]
  }
 ],
 "metadata": {
  "kernelspec": {
   "display_name": ".venv",
   "language": "python",
   "name": "python3"
  },
  "language_info": {
   "codemirror_mode": {
    "name": "ipython",
    "version": 3
   },
   "file_extension": ".py",
   "mimetype": "text/x-python",
   "name": "python",
   "nbconvert_exporter": "python",
   "pygments_lexer": "ipython3",
   "version": "3.12.3"
  }
 },
 "nbformat": 4,
 "nbformat_minor": 2
}
