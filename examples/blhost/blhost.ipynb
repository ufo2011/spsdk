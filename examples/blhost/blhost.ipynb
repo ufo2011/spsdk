{
 "cells": [
  {
   "attachments": {},
   "cell_type": "markdown",
   "metadata": {},
   "source": [
    "# Blhost (MBoot)\n",
    "Blhost is a tool that facilitates communication with the bootloader. It allows users to perform various operations such as programming firmware or configuring the bootloader settings. Blhost is typically used in development and debugging processes to interact with the bootloader on a target device.\n",
    "\n",
    "\n",
    "The blhost provides several communication interfaces for interacting with NXP microcontrollers. The available communication interfaces are:\n",
    " - UART (Universal Asynchronous Receiver-Transmitter): This is the most common communication interface used with the blhost utility. It allows you to communicate with the target microcontroller over a serial connection, such as a USB-to-UART adapter or the on-board UART interface of the microcontroller.\n",
    " - USB HID (Human Interface Device): The blhost utility can also communicate with the target microcontroller over a USB HID interface. This is useful when the microcontroller has a built-in USB HID interface, which can be used for communication without the need for a separate UART interface.\n",
    " - SPI (Serial Peripheral Interface): Some NXP microcontrollers support communication with the blhost utility over an SPI interface. This can be useful in scenarios where UART or USB are not available or convenient.\n",
    " - I2C (Inter-Integrated Circuit): Similar to SPI, the blhost utility can also communicate with the target microcontroller over an I2C interface.\n",
    " - CAN: Widely used communication protocol in the automotive and industrial sectors, and it is also supported by many NXP microcontrollers.\n",
    " - Buspal: Utility provided by NXP that allows you to communicate with and control various bus interfaces on NXP microcontrollers.\n",
    "\n",
    " For more information about the available configuration options for the communication interface, you can refer to the help message provided by the blhost utility. To access the help message, run the command\n",
    "`blhost --help`.\n",
    "\n",
    "The specific communication interfaces supported by the blhost utility may vary depending on the NXP microcontroller you are using. \n",
    "It's important to consult the documentation for your target microcontroller to determine which communication interfaces are available and how to configure them for use with the blhost utility.\n",
    "The supported communication interfaces can be also listed with command `spsdk utils family-info`"
   ]
  },
  {
   "cell_type": "markdown",
   "metadata": {},
   "source": [
    "## 1. Prerequisites\n",
    "  - SPSDK is needed with examples extension. `pip install spsdk[examples]` (Please refer to the [installation](../_knowledge_base/installation_guide.rst) documentation.)\n",
    "  - Connect your preferred board via USB interface. In this example we will be using `lpc55s69`\n",
    "\n",
    "  <img src=\"../_data/img/boards/lpc55s69.png\" alt=\"lpc55s69\" height=\"300\">"
   ]
  },
  {
   "cell_type": "code",
   "execution_count": null,
   "metadata": {
    "tags": [
     "remove-cell"
    ]
   },
   "outputs": [
    {
     "name": "stdout",
     "output_type": "stream",
     "text": [
      "env: JUPYTER_SPSDK=1\n",
      "Created `%!` as an alias for `%execute`.\n"
     ]
    }
   ],
   "source": [
    "# Initialization cell\n",
    "# This env variable sets colored logger output to STDOUT\n",
    "%env JUPYTER_SPSDK=1\n",
    "# Set a magic for command execution and echo\n",
    "%alias execute echo %l && %l\n",
    "%alias_magic ! execute"
   ]
  },
  {
   "cell_type": "markdown",
   "metadata": {},
   "source": [
    "## 2. Blhost API\n",
    "\n",
    "The blhost Python API provides a convenient way to integrate the functionality of the blhost utility into your Python-based applications. It abstracts the low-level details of the communication protocols and allows you to interact with the target microcontroller using a simple and intuitive Python interface."
   ]
  },
  {
   "cell_type": "code",
   "execution_count": 3,
   "metadata": {},
   "outputs": [
    {
     "name": "stdout",
     "output_type": "stream",
     "text": [
      "Current Version = K3.0.0\n",
      "Available Peripherals = UART, I2C-Slave, SPI-Slave, USB-HID\n",
      "Flash Start Address = 0x00000000\n",
      "Flash Size = 631.5 kiB\n",
      "Flash Sector Size = 32.0 kiB\n",
      "Available Commands = ['FlashEraseAll', 'FlashEraseRegion', 'ReadMemory', 'WriteMemory', 'GetProperty', 'ReceiveSBFile', 'Execute', 'Reset', 'SetProperty', 'ConfigureMemory', 'KeyProvisioning']\n",
      "CRC Check Status = AppCrcCheckInvalid\n",
      "Verify Writes = ON\n",
      "Max Packet Size = 56 B\n",
      "Reserved Regions =\n",
      "    Region 0: 0x14000000 - 0x14005FFF; Total Size: 24.0 kiB\n",
      "    Region 1: 0x04000000 - 0x04007FFF; Total Size: 32.0 kiB\n",
      "    Region 2: 0x30000000 - 0x30005FFF; Total Size: 24.0 kiB\n",
      "    Region 3: 0x20000000 - 0x20005FFF; Total Size: 24.0 kiB\n",
      "RAM Start Address = 0x20000000\n",
      "RAM Size = 256.0 kiB\n",
      "System Device Identification = 0x501000C5\n",
      "Security State = UNSECURE\n",
      "Unique Device Identification = 0C 10 23 41 7B 56 3A 50 BC 86 60 C7 BD 9E 22 67\n",
      "Target Version = T1.1.4\n",
      "Flash Page Size = 512 B\n",
      "Irq Notifier Pin = IRQ Port[0], Pin[0] is disabled\n",
      "PFR Keystore Update Opt = KEY_PROVISIONING\n"
     ]
    }
   ],
   "source": [
    "#!/usr/bin/env python\n",
    "# -*- coding: UTF-8 -*-\n",
    "#\n",
    "# Copyright 2019-2023 NXP\n",
    "#\n",
    "# SPDX-License-Identifier: BSD-3-Clause\n",
    "\n",
    "from spsdk.exceptions import SPSDKError\n",
    "from spsdk.mboot.interfaces.usb import MbootUSBInterface\n",
    "from spsdk.mboot.mcuboot import McuBoot\n",
    "\n",
    "interfaces = MbootUSBInterface.scan()\n",
    "if not interfaces:\n",
    "    raise SPSDKError(\"No USB interfaces found\")\n",
    "interface = interfaces[0]\n",
    "\n",
    "with McuBoot(interface) as mb:\n",
    "    property_list = mb.get_property_list()\n",
    "\n",
    "for prop in property_list:\n",
    "    print(prop)"
   ]
  },
  {
   "cell_type": "markdown",
   "metadata": {},
   "source": [
    "## 3. Blhost CLI\n",
    "\n",
    "The blhost Python CLI provides a user-friendly and cross-platform interface for interacting with NXP microcontrollers. It abstracts the low-level details of the communication protocols and presents a consistent command-line experience, making it easy for developers to integrate the blhost functionality into their workflows."
   ]
  },
  {
   "cell_type": "code",
   "execution_count": 7,
   "metadata": {},
   "outputs": [
    {
     "name": "stdout",
     "output_type": "stream",
     "text": [
      "Current bootloader version:\n",
      "blhost -u 0x1fc9:0x0021 get-property 1 \n",
      "Response status = 0 (0x0) Success.\n",
      "Response word 1 = 1258487808 (0x4b030000)\n",
      "Current Version = K3.0.0\n",
      "List of memories:\n",
      "blhost -u 0x1fc9:0x0021 list-memory \n",
      "Internal Flash:\n",
      "    Region 0: 0x00000000 - 0x0009DDFF; Total Size: 631.5 kiB Sector size: 32.0 kiB\n",
      "    Region 1: 0x0009DE00 - 0x0009FFFF; Total Size: 8.5 kiB Sector size: 32.0 kiB\n",
      "Internal RAM:\n",
      "    Region 0: 0x20000000 - 0x2003FFFF; Total Size: 256.0 kiB\n",
      "    Region 1: 0x30000000 - 0x3003FFFF; Total Size: 256.0 kiB\n",
      "External Memories:\n",
      "SPI-MEM:\n",
      "  Not Configured\n"
     ]
    }
   ],
   "source": [
    "#!/usr/bin/env python\n",
    "# -*- coding: UTF-8 -*-\n",
    "#\n",
    "# Copyright 2024 NXP\n",
    "#\n",
    "# SPDX-License-Identifier: BSD-3-Clause\n",
    "VID_PID = \"0x1fc9:0x0021\"\n",
    "\n",
    "print(\"Current bootloader version:\")\n",
    "%! blhost -u $VID_PID get-property 1\n",
    "\n",
    "print(\"List of memories:\")\n",
    "%! blhost -u $VID_PID list-memory"
   ]
  }
 ],
 "metadata": {
  "kernelspec": {
   "display_name": "venv_new",
   "language": "python",
   "name": "python3"
  },
  "language_info": {
   "codemirror_mode": {
    "name": "ipython",
    "version": 3
   },
   "file_extension": ".py",
   "mimetype": "text/x-python",
   "name": "python",
   "nbconvert_exporter": "python",
   "pygments_lexer": "ipython3",
   "version": "3.10.6"
  }
 },
 "nbformat": 4,
 "nbformat_minor": 2
}
