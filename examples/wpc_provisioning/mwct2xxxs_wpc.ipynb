{
 "cells": [
  {
   "cell_type": "markdown",
   "metadata": {},
   "source": [
    "# WPC provisioning for MWCT2xxxS using EL2GO and MBoot"
   ]
  },
  {
   "cell_type": "markdown",
   "metadata": {},
   "source": [
    "WPC provisioning serves to generate WPC Certificate Chain and insert said chain into the target.  \n",
    "WPC Certificate Chain is a crucial component of WPC Qi Authentication process for wireless power transfer."
   ]
  },
  {
   "cell_type": "markdown",
   "metadata": {},
   "source": [
    "## 1. Prerequisites\n",
    "1. MWCT2xxxA Board\n",
    "2. NXP HSE firmware\n",
    "3. NXP WPC Provisioning firmware\n",
    "4. EL2GO account with access to WPC Service\n",
    "\n",
    "If you don't have all of the prerequisites above, you may take a look into [wpc_model](./wpc_model.ipynb) notebook.  \n",
    "This notebook doesn't use real HW nor EL2GO, but rather device model and EL2GO mock-up &#x1F60A;"
   ]
  },
  {
   "cell_type": "markdown",
   "metadata": {},
   "source": [
    "## 2. Target board preparation\n",
    "1. Flash HSE firmware using available debugger\n",
    "2. Flash WPC Provisioning firmware using available debugger\n",
    "3. Connect UART interface to PC\n",
    "4. Verify firmwares were flashed correctly and running using `nxpdevscan --port`"
   ]
  },
  {
   "cell_type": "code",
   "execution_count": 1,
   "metadata": {},
   "outputs": [
    {
     "name": "stdout",
     "output_type": "stream",
     "text": [
      "env: JUPYTER_SPSDK=1\n",
      "Created `%!` as an alias for `%execute`.\n"
     ]
    }
   ],
   "source": [
    "# setup this jupyter notebook\n",
    "%env JUPYTER_SPSDK=1\n",
    "%alias execute echo %l && %l\n",
    "%alias_magic ! execute"
   ]
  },
  {
   "cell_type": "code",
   "execution_count": 2,
   "metadata": {},
   "outputs": [
    {
     "name": "stdout",
     "output_type": "stream",
     "text": [
      "nxpdevscan --port \n",
      "-------- Connected NXP UART Devices --------\n",
      "\n",
      "Port: COM7\n",
      "Type: mboot device\n",
      "\n"
     ]
    }
   ],
   "source": [
    "%! nxpdevscan --port"
   ]
  },
  {
   "cell_type": "markdown",
   "metadata": {},
   "source": [
    "## 3. NXPWPC application setup\n",
    "NXPWPC is the SPSDK command-line application facilitating communication between WPC Service and WPC Target.  \n",
    "Out-of-the-box SPSDK provides one Service adapter using EL2GO and one Target adapter using MBoot.  \n",
    "This application provides a subcommand `insert-cert` for launching the WPC Provisioning process and `get-template` for user-friendly configuration of NXPwPC app.  "
   ]
  },
  {
   "cell_type": "code",
   "execution_count": 3,
   "metadata": {},
   "outputs": [
    {
     "name": "stdout",
     "output_type": "stream",
     "text": [
      "nxpwpc get-template --service-type el2go --target-type mboot --family mwct2d17s --output config.yaml \n",
      "Creating config.yaml template file.\n"
     ]
    }
   ],
   "source": [
    "# This command will generate a configuration file template which you then may customize to your own environment\n",
    "%! nxpwpc get-template --service-type el2go --target-type mboot --family mwct2d17s --output config.yaml"
   ]
  },
  {
   "cell_type": "markdown",
   "metadata": {},
   "source": [
    "Within the `config.yaml` file please change to following:\n",
    "1. `service_parameters` (configuration for WPC Service adapter)\n",
    "    1. `url`: point to EL2GO instance you're registered in\n",
    "    2. `qi_id`: your Qi ID registered with WPC\n",
    "    3. `auth_key`: your API key obtained from EL2GO\n",
    "2. `target_parameters` (configuration for WPC Target adapter)\n",
    "    1. `port`: com port of your target (see output of the `nxpdevscan` command earlier)\n",
    "\n",
    "Once the changes are done, you may run the WPC Provisioning using `nxpwpc insert-cert` command."
   ]
  },
  {
   "cell_type": "markdown",
   "metadata": {},
   "source": [
    "## 4. Running the WPC Provisioning"
   ]
  },
  {
   "cell_type": "code",
   "execution_count": 4,
   "metadata": {},
   "outputs": [
    {
     "name": "stdout",
     "output_type": "stream",
     "text": [
      "nxpwpc --verbose insert-cert --config config.yaml \n",
      "\u001b[37m\u001b[1mINFO:spsdk.wpc.utils:Getting WPC ID\u001b[39m\u001b[0m\n",
      "\u001b[37m\u001b[1mINFO:spsdk.wpc.target_mboot:Reading low level WPC ID\u001b[39m\u001b[0m\n",
      "\u001b[37m\u001b[1mINFO:spsdk.mboot.mcuboot:Connect: identifier='uart', device=com7\u001b[39m\u001b[0m\n",
      "\u001b[37m\u001b[1mINFO:spsdk.mboot.mcuboot:CMD: ReadMemory(address=0x20000000, length=136, mem_id=0)\u001b[39m\u001b[0m\n",
      "\u001b[37m\u001b[1mINFO:spsdk.mboot.mcuboot:CMD: Status: 0 (0x0) Success.\u001b[39m\u001b[0m\n",
      "\u001b[37m\u001b[1mINFO:spsdk.mboot.mcuboot:CMD: Successfully Received 136 from 136 Bytes\u001b[39m\u001b[0m\n",
      "\u001b[37m\u001b[1mINFO:spsdk.mboot.mcuboot:Closing: identifier='uart', device=com7\u001b[39m\u001b[0m\n",
      "\u001b[37m\u001b[1mINFO:spsdk.wpc.utils:Computing CSR\u001b[39m\u001b[0m\n",
      "\u001b[37m\u001b[1mINFO:spsdk.wpc.target_mboot:Signing CSR-TBS data\u001b[39m\u001b[0m\n",
      "\u001b[37m\u001b[1mINFO:spsdk.mboot.mcuboot:Connect: identifier='uart', device=com7\u001b[39m\u001b[0m\n",
      "\u001b[37m\u001b[1mINFO:spsdk.mboot.mcuboot:CMD: WriteMemory(address=0x20000100, length=127, mem_id=0)\u001b[39m\u001b[0m\n",
      "\u001b[37m\u001b[1mINFO:spsdk.mboot.mcuboot:CMD: GetProperty(MaxPacketSize, index=0)\u001b[39m\u001b[0m\n",
      "\u001b[37m\u001b[1mINFO:spsdk.mboot.mcuboot:CMD: Status: 0 (0x0) Success.\u001b[39m\u001b[0m\n",
      "\u001b[37m\u001b[1mINFO:spsdk.mboot.mcuboot:CMD: Max Packet Size = 32\u001b[39m\u001b[0m\n",
      "\u001b[37m\u001b[1mINFO:spsdk.mboot.mcuboot:CMD: Status: 0 (0x0) Success.\u001b[39m\u001b[0m\n",
      "\u001b[37m\u001b[1mINFO:spsdk.mboot.mcuboot:CMD: Successfully Send 127 out of 127 Bytes\u001b[39m\u001b[0m\n",
      "\u001b[37m\u001b[1mINFO:spsdk.mboot.mcuboot:CMD: [TrustProvisioning] WPC SIGN CSR-TBS DATA\u001b[39m\u001b[0m\n",
      "\u001b[37m\u001b[1mINFO:spsdk.mboot.mcuboot:CMD: Status: 0 (0x0) Success.\u001b[39m\u001b[0m\n",
      "\u001b[37m\u001b[1mINFO:spsdk.mboot.mcuboot:CMD: ReadMemory(address=0x20000300, length=64, mem_id=0)\u001b[39m\u001b[0m\n",
      "\u001b[37m\u001b[1mINFO:spsdk.mboot.mcuboot:CMD: Status: 0 (0x0) Success.\u001b[39m\u001b[0m\n",
      "\u001b[37m\u001b[1mINFO:spsdk.mboot.mcuboot:CMD: Successfully Received 64 from 64 Bytes\u001b[39m\u001b[0m\n",
      "\u001b[37m\u001b[1mINFO:spsdk.mboot.mcuboot:Closing: identifier='uart', device=com7\u001b[39m\u001b[0m\n",
      "\u001b[37m\u001b[1mINFO:spsdk.wpc.service_el2go:Handling url: https://api.qa.sb.edgelock2go.com/api/v1/wpc/product-unit-certificate/123456/request-puc\u001b[39m\u001b[0m\n",
      "\u001b[37m\u001b[1mINFO:spsdk.wpc.service_el2go:Service response:\n",
      "{\n",
      "  \"pucId\": 467,\n",
      "  \"qiId\": \"123456\",\n",
      "  \"pucType\": {\n",
      "    \"type\": \"CSR\",\n",
      "    \"certificate\": \"-----BEGIN CERTIFICATE-----\\r\\nMIIBQjCB6qADAgECAghtMqtwP2OshjAKBggqhkjOPQQDAjASMRAwDgYDVQQDDAcx\\r\\nMjM0LTU2MCAXDTIzMTAwOTExMjcwMFoYDzk5OTkxMjMxMjI1OTAwWjARMQ8wDQYD\\r\\nVQQDDAYxMjM0NTYwWTATBgcqhkjOPQIBBggqhkjOPQMBBwNCAAQjFX4cT7dzhPA4\\r\\npzW4q81KRHfGE3P/5igKDK/3EyJpbyAjBYFzuWRdqN9eoG5F0j4rWWDa53HXWMf3\\r\\nun5Md8QhoykwJzAMBgNVHRMBAf8EAjAAMBcGBWeBFAECAQH/BAsECQHiQAAAAAAA\\r\\nJDAKBggqhkjOPQQDAgNHADBEAiASSdnczPhp6a9qsdvzxCVYAle3l3YjQLjaVkdP\\r\\nlpRJ+AIgMw+IlyWGhM2enZqKWwx2SbuKwAJUMHaoOpetXbe1rag=\\r\\n-----END CERTIFICATE-----\\r\\n\",\n",
      "    \"productManufacturingCertificate\": \"-----BEGIN CERTIFICATE-----\\nMIIBmzCCAUCgAwIBAgIQVpDHMGXs+bktXfJHuYNuxjAKBggqhkjOPQQDAjASMRAw\\nDgYDVQQDDAdUU1ROWFAxMCAXDTIzMTAwOTA4MjY1OFoYDzk5OTkxMjMxMjM1OTU5\\nWjASMRAwDgYDVQQDDAcxMjM0LTU2MFkwEwYHKoZIzj0CAQYIKoZIzj0DAQcDQgAE\\ngWFjq/rMoaiMoJDTuFNnbSFCvGiy5hgnro+HIRJ8Edt0aS+ACSFauAOPZfD6qbGs\\nN4Ct2fOOCkkEHGXX4Y4RJ6N2MHQwHQYDVR0OBBYEFA2zUdkY5z25gwWHffRGbQM0\\nvX6IMB8GA1UdIwQYMBaAFGF/xNC4LZ3iBoGqNzAhEkBNF8zoMBIGA1UdEwEB/wQI\\nMAYBAf8CAQAwDgYDVR0PAQH/BAQDAgEGMA4GBWeBFAEBAQH/BAIAATAKBggqhkjO\\nPQQDAgNJADBGAiEAxyH3ySQLZPy0AK+ZzXKxEm08xa+x2vaW7KBQEkvu+JkCIQD3\\nhX4e0cj5voiYhzkMfzpqZtTRuWDV7GxxuMuVmDawuA==\\n-----END CERTIFICATE-----\\n\",\n",
      "    \"rootCaHash\": \"868B0065CCDFEA934F71B1F034341826979D769289E92F8525944D5D2FB6EB1E\",\n",
      "    \"referenceId\": null\n",
      "  }\n",
      "}\u001b[39m\u001b[0m\n",
      "\u001b[37m\u001b[1mINFO:spsdk.wpc.target_mboot:Inserting WPC certificate\u001b[39m\u001b[0m\n",
      "\u001b[37m\u001b[1mINFO:spsdk.mboot.mcuboot:Connect: identifier='uart', device=com7\u001b[39m\u001b[0m\n",
      "\u001b[37m\u001b[1mINFO:spsdk.mboot.mcuboot:CMD: WriteMemory(address=0x20000400, length=775, mem_id=0)\u001b[39m\u001b[0m\n",
      "\u001b[37m\u001b[1mINFO:spsdk.mboot.mcuboot:CMD: GetProperty(MaxPacketSize, index=0)\u001b[39m\u001b[0m\n",
      "\u001b[37m\u001b[1mINFO:spsdk.mboot.mcuboot:CMD: Status: 0 (0x0) Success.\u001b[39m\u001b[0m\n",
      "\u001b[37m\u001b[1mINFO:spsdk.mboot.mcuboot:CMD: Max Packet Size = 32\u001b[39m\u001b[0m\n",
      "\u001b[37m\u001b[1mINFO:spsdk.mboot.mcuboot:CMD: Status: 0 (0x0) Success.\u001b[39m\u001b[0m\n",
      "\u001b[37m\u001b[1mINFO:spsdk.mboot.mcuboot:CMD: Successfully Send 775 out of 775 Bytes\u001b[39m\u001b[0m\n",
      "\u001b[37m\u001b[1mINFO:spsdk.mboot.mcuboot:CMD: [TrustProvisioning] WPC INSERT CERT\u001b[39m\u001b[0m\n",
      "\u001b[37m\u001b[1mINFO:spsdk.mboot.mcuboot:CMD: Status: 0 (0x0) Success.\u001b[39m\u001b[0m\n",
      "\u001b[37m\u001b[1mINFO:spsdk.mboot.mcuboot:Closing: identifier='uart', device=com7\u001b[39m\u001b[0m\n",
      "Inserting WPC certificate finished successfully.\n"
     ]
    }
   ],
   "source": [
    "%! nxpwpc --verbose insert-cert --config config.yaml"
   ]
  },
  {
   "cell_type": "markdown",
   "metadata": {},
   "source": [
    "> NOTE:\n",
    "If you don't want to use config file, you may specify all required settings via command line.  \n",
    "Or you may use command line options to override settings in the config file."
   ]
  },
  {
   "cell_type": "code",
   "execution_count": 5,
   "metadata": {
    "execute_cell": false
   },
   "outputs": [
    {
     "name": "stdout",
     "output_type": "stream",
     "text": [
      "nxpwpc insert-cert --help \n",
      "Usage: nxpwpc insert-cert [OPTIONS]\n",
      "\n",
      "  Perform full WPC Cert chain flow.\n",
      "\n",
      "    - Retrieve WPC ID from the target\n",
      "    - Generate WPC cert chain on service\n",
      "    - Insert WPC certificate into the target.\n",
      "\n",
      "  Parameters for target and service may be passed using \"-tp\" or \"-sp\" options\n",
      "  respectively, or via a config file (\"-c\"). The config file template can be\n",
      "  generated using \"get-template\" command.\n",
      "\n",
      "Options:\n",
      "  -st, --service-type [el2go]     Name of the WPC service type.\n",
      "  -sp, --service-parameters TEXT  'key=value' to set/override a service\n",
      "                                  adapter setting. Can be used multiple times.\n",
      "  -tt, --target-type [model|mboot]\n",
      "                                  Name of the MCU target type.\n",
      "  -tp, --target-parameters TEXT   'key=value' to set/override a service\n",
      "                                  adapter setting. Can be used multiple times.\n",
      "  -c, --config FILE               Path to the YAML/JSON configuration file.\n",
      "  -s, --save-debug-data           Save the data being transferred (for\n",
      "                                  debugging purposes).\n",
      "  --help                          Show this message and exit.\n"
     ]
    }
   ],
   "source": [
    "%! nxpwpc insert-cert --help"
   ]
  }
 ],
 "metadata": {
  "kernelspec": {
   "display_name": "venv",
   "language": "python",
   "name": "python3"
  },
  "language_info": {
   "codemirror_mode": {
    "name": "ipython",
    "version": 3
   },
   "file_extension": ".py",
   "mimetype": "text/x-python",
   "name": "python",
   "nbconvert_exporter": "python",
   "pygments_lexer": "ipython3",
   "version": "3.10.9"
  }
 },
 "nbformat": 4,
 "nbformat_minor": 2
}
