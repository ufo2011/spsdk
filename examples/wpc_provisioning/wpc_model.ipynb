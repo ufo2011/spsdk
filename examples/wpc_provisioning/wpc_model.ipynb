{
 "cells": [
  {
   "cell_type": "markdown",
   "metadata": {},
   "source": [
    "# WPC provisioning for MWCT2xxxS using models\n",
    "\n",
    "This Notebook should give a rough idea what to expect WPC Provisioning in production.  \n",
    "Both WPC Target WPC Service are replaced by model and mock-up respectively.  \n",
    "Nonetheless you may still use `nxpwpc` application to interact with these models. `NXPWPC` allows to use different types of Targets/Services.  \n",
    "You may even create your own (more in [custom_wpc_service_plugin](./custom_wpc_service_plugin.ipynb) notebook) "
   ]
  },
  {
   "cell_type": "markdown",
   "metadata": {},
   "source": [
    "## 1. Model preparation\n",
    "\n",
    "SPSDK ships scripts (located in: <repo_root>/tools/wpc) that will set up models for you.  \n",
    "Unfortunately, these scripts can't run within a Jupyter Notebook. So please open new shell and activate virtual environment with SPSDK already installed. (Instructions on how to install SPSDK are available [here](https://spsdk.readthedocs.io/en/latest/usage/installation.html))  \n",
    "Please make sure to install the `examples` extras: ```pip install spsdk[examples]```\n",
    "\n",
    "### 1.1 WPC Service model setup\n",
    "Assuming your shell is open in the root of the SPSDK repository, run:\n",
    "```\n",
    "$ python tools/wpc/setup_service_models.py\n",
    "```\n",
    "Follow the prompts, you may create multiple models at the same time\n",
    "\n",
    "### 1.2 WPC Target model setup\n",
    "```\n",
    "$ python tools/wpc/setup_target_models.py\n",
    "```\n",
    "Follow the prompts, you may crete multiple models at the same time\n",
    "\n",
    "### 1.3 Running EdgeLock2GO mock-up aka FakeLock2GO\n",
    "```\n",
    "$ python tools/wpc/fl2go.py <path/to/service/model/from/1.1>\n",
    "```"
   ]
  },
  {
   "cell_type": "markdown",
   "metadata": {},
   "source": [
    "## 2 NXPWPC setup\n",
    "The easiest way how to use `nxpwpc` application is via configuration file.  \n",
    "To create a configuration file template use `nxpwpc get-template`  \n",
    "> NOTE: There's an already [existing config file](./model_config.yaml) prepared for you, but feel free to create your own."
   ]
  },
  {
   "cell_type": "code",
   "execution_count": null,
   "metadata": {
    "tags": [
     "remove-cell"
    ]
   },
   "outputs": [
    {
     "name": "stdout",
     "output_type": "stream",
     "text": [
      "env: JUPYTER_SPSDK=1\n",
      "Created `%!` as an alias for `%execute`.\n"
     ]
    }
   ],
   "source": [
    "# setup this notebook\n",
    "# This env variable sets colored logger output to STDOUT\n",
    "# Execute this cell to enable execution of the ! line magic\n",
    "%env JUPYTER_SPSDK=1\n",
    "%alias execute echo %l && %l\n",
    "%alias_magic ! execute"
   ]
  },
  {
   "cell_type": "code",
   "execution_count": 6,
   "metadata": {},
   "outputs": [
    {
     "name": "stdout",
     "output_type": "stream",
     "text": [
      "nxpwpc get-template --service-type el2go --target-type model --family mwct2d17s --output custom_config.yaml \n",
      "Creating custom_config.yaml template file.\n"
     ]
    }
   ],
   "source": [
    "%! nxpwpc get-template --service-type el2go --target-type model --family mwct2d17s --output custom_config.yaml --force"
   ]
  },
  {
   "cell_type": "markdown",
   "metadata": {},
   "source": [
    "\n",
    "Notes on configuration file:\n",
    "* `url`: you can see it in shell after step 1.3\n",
    "* `qi_id`: number you provided during step 1.1 (also it's a name of a directory created in step 1.1)\n",
    "* `auth_key`: each Service model comes with few randomly generated tokes, you may choose any of them. For [example](./service_model/2/config.yaml)\n",
    "* `model_dir`: path to device model, for example `target_model/dev2`"
   ]
  },
  {
   "cell_type": "markdown",
   "metadata": {},
   "source": [
    "## 3 Running WPC Provisioning\n",
    "To run the whole WPC provisioning process use `nxpwpc insert-cert` command.  \n",
    "When the operation successfully ends, you'll find WPC Certificate Chain binary in the models directory.  \n",
    "Apart from the chain, you'll also find parsed Manufacturer certificate and Product certificate there. "
   ]
  },
  {
   "cell_type": "code",
   "execution_count": 9,
   "metadata": {},
   "outputs": [
    {
     "name": "stdout",
     "output_type": "stream",
     "text": [
      "nxpwpc --verbose insert-cert --config model_config.yaml \n",
      "\u001b[37m\u001b[1mINFO:spsdk.wpc.utils:Getting WPC ID\u001b[39m\u001b[0m\n",
      "\u001b[37m\u001b[1mINFO:spsdk.wpc.target_model:Reading low level WPC ID\u001b[39m\u001b[0m\n",
      "\u001b[37m\u001b[1mINFO:spsdk.wpc.utils:Computing CSR\u001b[39m\u001b[0m\n",
      "\u001b[37m\u001b[1mINFO:spsdk.wpc.target_model:Signing CSR-TBS data\u001b[39m\u001b[0m\n",
      "\u001b[37m\u001b[1mINFO:spsdk.wpc.service_el2go:Handling url: http://localhost:5000/api/v1/wpc/product-unit-certificate/000002/request-puc\u001b[39m\u001b[0m\n",
      "\u001b[37m\u001b[1mINFO:spsdk.wpc.service_el2go:Service response:\n",
      "{\n",
      "  \"pucType\": {\n",
      "    \"certificate\": \"-----BEGIN CERTIFICATE-----\\nMIIBVDCB+6ADAgECAhQPkm/TT55H90lhhSgaN8XLYT92jDAKBggqhkjOPQQDAjAS\\nMRAwDgYDVQQDDAdDQUNBLTJCMCAXDTAwMDEwMTAwMDAwMFoYDzk5OTkxMjMxMDAw\\nMDAwWjAkMSIwIAYDVQQDDBkwMDAwMDItZXh0cmEtdGV4dC10by1jZXJ0MFkwEwYH\\nKoZIzj0CAQYIKoZIzj0DAQcDQgAEYveHr2SRGQFsSCiTKyrB0PubMt+AMmht9J2Z\\nhluAuXzpbldJc3ba/7r625f6U+vjwj2sgcEUlAw4mMxv+clOjKMbMBkwFwYFZ4EU\\nAQIBAf8ECwQJANlzV0+UGeW0MAoGCCqGSM49BAMCA0gAMEUCIQC8jQ9yBV7O7msj\\n0mTlR8hJoP+jIn/as8JiI/+Ef85pEwIgWNgcoF/CVGLaQg9dY0uehr4sqjbERMSR\\nKfEToFPzDPw=\\n-----END CERTIFICATE-----\\n\",\n",
      "    \"productManufacturingCertificate\": \"-----BEGIN CERTIFICATE-----\\nMIIBOzCB46ADAgECAhQ0C5YkehLweBy9I3ahJRULd27B1DAKBggqhkjOPQQDAjAR\\nMQ8wDQYDVQQDDAZXUENDQTEwIBcNMDAwMTAxMDAwMDAwWhgPOTk5OTEyMzEwMDAw\\nMDBaMBIxEDAOBgNVBAMMB0NBQ0EtMkIwWTATBgcqhkjOPQIBBggqhkjOPQMBBwNC\\nAARCANU74V7Kk4VaUMrSXZvOqClKfkxmsgyGCyMVbqIX+hei3xU6etHajRJiHBVM\\nOe0qP8jAu0D0309s4OdyzUu/oxYwFDASBgVngRQBAQEB/wQGBAQAAAAMMAoGCCqG\\nSM49BAMCA0cAMEQCIEa3MiXOWjDlRqHXOu+EVFF4/TbRC+ElxRyvvdW7FhCPAiBT\\nYR3P0G1l9uM2/zkK6yej3GZp4N13WlSy+jJJ4Hhy/Q==\\n-----END CERTIFICATE-----\\n\",\n",
      "    \"rootCaHash\": \"6e291e88abca2a0abb535aba69e44d2494a27720088cf98c80b7d7d14aeac47d\"\n",
      "  }\n",
      "}\u001b[39m\u001b[0m\n",
      "\u001b[37m\u001b[1mINFO:spsdk.wpc.target_model:Inserting WPC certificate\u001b[39m\u001b[0m\n",
      "Inserting WPC certificate finished successfully.\n"
     ]
    }
   ],
   "source": [
    "%! nxpwpc --verbose insert-cert --config model_config.yaml"
   ]
  }
 ],
 "metadata": {
  "kernelspec": {
   "display_name": "venv",
   "language": "python",
   "name": "python3"
  },
  "language_info": {
   "codemirror_mode": {
    "name": "ipython",
    "version": 3
   },
   "file_extension": ".py",
   "mimetype": "text/x-python",
   "name": "python",
   "nbconvert_exporter": "python",
   "pygments_lexer": "ipython3",
   "version": "3.10.9"
  }
 },
 "nbformat": 4,
 "nbformat_minor": 2
}
