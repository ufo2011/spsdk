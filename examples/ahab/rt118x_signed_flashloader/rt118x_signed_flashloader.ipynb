{
 "cells": [
  {
   "attachments": {},
   "cell_type": "markdown",
   "metadata": {},
   "source": [
    "# i.MXRT118x Signed Flashloader\n",
    "This is example how to create signed flashloader for i.MXRT118x device with EdgeLock firmware included. The aim of this Jupyter notebook is show how to easily create AHAB container with flashloader application from NXP SDK to be loaded with serial downloader mode.\n",
    "The process could be split to several steps.\n",
    "\n",
    "## 1. Prerequisites\n",
    "- SPSDK is needed with examples extension. `pip install spsdk[examples]` (Please refer to the [installation](../../_knowledge_base/installation_guide.rst) documentation.)\n",
    "\n",
    "- This example uses RT1180 EVK board\n",
    "\n",
    "- Obtain an ELE firmware (mxrt1180b0-ahab-container.img) and put it into the inputs folder. Firmware can be obtained from the SDK package \n",
    "  \n",
    "### 1.1 Compile the flashloader application\n",
    "As a first step is needed to compile flashloader application itself from NXP SDK. \n",
    "  - Download the NXP MCUXpresso SDK from NXP web site [https://mcuxpresso.nxp.com](https://mcuxpresso.nxp.com/)\n",
    "  - Open the flashloader application in your favorite IDE. (Regular path to application: {SDK_root}\\boards\\evkmimxrt1180\\bootloader_examples\\flashloader\\cm33)\n",
    "  - Compile the flashloader and generate the binary output (In our example we use precompiled flashloader_cm33_exe.bin)\n",
    "\n",
    "### 1.2 Prepare the AHAB configuration file\n",
    "Run this code to initialize members for this example"
   ]
  },
  {
   "cell_type": "code",
   "execution_count": 1,
   "metadata": {
    "tags": [
     "remove-cell"
    ]
   },
   "outputs": [
    {
     "name": "stdout",
     "output_type": "stream",
     "text": [
      "env: JUPYTER_SPSDK=1\n",
      "Created `%!` as an alias for `%execute`.\n"
     ]
    }
   ],
   "source": [
    "import os\n",
    "\n",
    "from spsdk.utils.jupyter_utils import YamlDiffWidget\n",
    "\n",
    "# This env variable sets colored logger output to STDOUT\n",
    "%env JUPYTER_SPSDK=1\n",
    "# Set a magic for command execution and echo\n",
    "%alias execute echo %l && %l\n",
    "%alias_magic ! execute"
   ]
  },
  {
   "cell_type": "code",
   "execution_count": 2,
   "metadata": {},
   "outputs": [],
   "source": [
    "WORKSPACE = \"workspace/\"  # change this to path to your workspace\n",
    "VERBOSITY = (\n",
    "    \"-v\"  # verbosity of commands, might be -v or -vv for debug or blank for no additional info\n",
    ")\n",
    "\n",
    "BIMG_TEMPLATES_PATH = WORKSPACE + \"bootable_image_templates\"  # Bootable image templates folder\n",
    "FLSHLDR_EXE_PATH = (\n",
    "    \"inputs/flashloader_cm33_exe.bin\"  # Input compiled flashloader executable in binary format\n",
    ")\n",
    "AHAB_CONFIG = \"inputs/flashloader_cm33_cfg.yaml\"  # Prepared AHAB configuration file\n",
    "AHAB_FILE = (\n",
    "    WORKSPACE + \"flashloader_cm33_ahab.bin\"\n",
    ")  # File name of created signed AHAB container with flashloader and EdgeLockEnclave firmware\n",
    "BOOTIMG_CONFIG = (\n",
    "    \"inputs/bootimg_rt118x_serial_downloader.yaml\"  # Prepared Bootable image configuration file\n",
    ")\n",
    "FLASHLOADER = WORKSPACE + \"flashloader.bin\"  # Final Bootable flashloader"
   ]
  },
  {
   "cell_type": "markdown",
   "metadata": {},
   "source": [
    "## 2. Prepare AHAB configuration YAML file\n",
    "\n",
    "Modify the template to configuration file used to create AHAB flashloader as a serial downloader mode\n"
   ]
  },
  {
   "cell_type": "code",
   "execution_count": 3,
   "metadata": {
    "tags": [
     "remove-input"
    ]
   },
   "outputs": [
    {
     "name": "stdout",
     "output_type": "stream",
     "text": [
      "nxpimage ahab get-template -f mimxrt1189 -o workspace/ahab_template.yaml --force \n",
      "Creating workspace/ahab_template.yaml template file.\n"
     ]
    },
    {
     "data": {
      "text/html": [
       "\n",
       "            \n",
       "            <style>\n",
       "                .yaml-diff { font-family: monospace; background-color: #f0f0f0; padding: 1em; border: 1px solid #c0c0c0; }\n",
       "                .yaml-key { color: #0000CC; font-weight: bold; }\n",
       "                .yaml-value { color: #006600; }\n",
       "                .yaml-commented-line { color: #008800; }\n",
       "                .yaml-list-item { color: #660066; }\n",
       "                .diff-removed { background-color: #ffaaaa; }\n",
       "                .diff-added { background-color: #aaffaa; }\n",
       "                .yaml-comment {\n",
       "                    background-color: #FF8C00;\n",
       "                    color: #000000;\n",
       "                    border-radius: 50%;\n",
       "                    padding: 0 0.3em;\n",
       "                    margin-left: 0.5em;\n",
       "                    font-size: 0.8em;\n",
       "                    cursor: help;\n",
       "                    font-weight: bold;\n",
       "                    text-shadow: 1px 1px 1px rgba(255, 255, 255, 0.7);\n",
       "                }\n",
       "                #toggleButton_7c206d3206e6eaab36bfa92a228ec743 {\n",
       "                    background-color: #4CAF50;\n",
       "                    border: none;\n",
       "                    color: white;\n",
       "                    padding: 10px 20px;\n",
       "                    text-align: center;\n",
       "                    text-decoration: none;\n",
       "                    display: inline-block;\n",
       "                    font-size: 16px;\n",
       "                    margin: 4px 2px;\n",
       "                    cursor: pointer;\n",
       "                }\n",
       "            </style>\n",
       "            \n",
       "            \n",
       "            <script>\n",
       "            function toggleView_7c206d3206e6eaab36bfa92a228ec743() {\n",
       "                var diffView = document.getElementById('diffView_7c206d3206e6eaab36bfa92a228ec743');\n",
       "                var userConfigView = document.getElementById('userConfigView_7c206d3206e6eaab36bfa92a228ec743');\n",
       "                var button = document.getElementById('toggleButton_7c206d3206e6eaab36bfa92a228ec743');\n",
       "\n",
       "                if (diffView.style.display === 'none' && userConfigView.style.display === 'none') {\n",
       "                    diffView.style.display = 'block';\n",
       "                    userConfigView.style.display = 'none';\n",
       "                    button.textContent = 'Show User Config';\n",
       "                } else if (diffView.style.display === 'block') {\n",
       "                    diffView.style.display = 'none';\n",
       "                    userConfigView.style.display = 'block';\n",
       "                    button.textContent = 'Hide';\n",
       "                } else {\n",
       "                    diffView.style.display = 'none';\n",
       "                    userConfigView.style.display = 'none';\n",
       "                    button.textContent = 'Show Diff';\n",
       "                }\n",
       "            }\n",
       "            </script>\n",
       "            \n",
       "            <div class=\"yaml-diff-container\">\n",
       "            <h3>Configuration Differences</h3>\n",
       "            <button onclick=\"toggleView_7c206d3206e6eaab36bfa92a228ec743()\" id=\"toggleButton_7c206d3206e6eaab36bfa92a228ec743\">Show Diff</button>\n",
       "            \n",
       "            <a href=\"data:text/plain;base64,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\" download=\"user_config.yaml\">\n",
       "                <button style=\"background-color: #4CAF50; border: none; color: white; padding: 10px 20px; text-align: center; text-decoration: none; display: inline-block; font-size: 16px; margin: 4px 2px; cursor: pointer;\">\n",
       "                    Download Config\n",
       "                </button>\n",
       "            </a>\n",
       "            \n",
       "            <div id=\"diffView_7c206d3206e6eaab36bfa92a228ec743\" class=\"yaml-diff\" style=\"display:none;\"><pre class=\"yaml-diff\"><span class=\"yaml-commented-line\"># =======================  Advanced High-Assurance Boot Configuration template for mimxrt1189.  ========================</span><br><br><span class=\"yaml-commented-line\"># ======================================================================================================================</span><br><span class=\"yaml-commented-line\">#                                                 == General Options ==                                                 </span><br><span class=\"yaml-commented-line\"># ======================================================================================================================</span><br><span class=\"yaml-commented-line\"># -------------------------------------===== The chip family name [Required] =====--------------------------------------</span><br><span class=\"yaml-commented-line\"># Description: NXP chip family identifier.</span><br><span class=\"yaml-commented-line\"># Possible options: <mimx8ulp, mimx9131, mimx9352, mimx9596, mimxrt1181, mimxrt1182, mimxrt1187, mimxrt1189></span><br><span class=\"yaml-key\">family</span>: <span class=\"yaml-value\">mimxrt1189</span><br><span class=\"yaml-commented-line\"># -----------------------------------------===== MCU revision [Optional] =====------------------------------------------</span><br><span class=\"yaml-commented-line\"># Description: Revision of silicon. The 'latest' name, means most current revision.</span><br><span class=\"yaml-commented-line\"># Possible options: <a0, b0, latest></span><br><span class=\"yaml-key\">revision</span>: <span class=\"yaml-value\">latest</span><br><span class=\"yaml-commented-line\"># -----------------------------------------===== Target memory [Optional] =====-----------------------------------------</span><br><span class=\"yaml-commented-line\"># Description: Target memory for AHAB container</span><br><span class=\"yaml-commented-line\"># Possible options: <serial_downloader, standard, nand_2k, nand_4k></span><br><span class=\"diff-removed\"><span class=\"yaml-key\">target_memory</span>: <span class=\"yaml-value\">standard</span> <span style=\"background-color: #FFFF00; border-radius: 5px; padding: 2px\n",
       "6px; margin-left: 5px; font-size: 0.8em;\">Change the target memory to serial downloader</span></span><br><span class=\"diff-added\"><span class=\"yaml-key\">target_memory</span>: <span class=\"yaml-value\">serial_downloader</span></span><br><span class=\"yaml-commented-line\"># ---------------------------------------===== Output file name [Required] =====----------------------------------------</span><br><span class=\"yaml-commented-line\"># Description: Output AHAB file name</span><br><span class=\"diff-removed\"><span class=\"yaml-key\">output</span>: <span class=\"yaml-value\">generated_ahab.bin</span> <span style=\"background-color: #FFFF00; border-radius: 5px; padding:\n",
       "2px 6px; margin-left: 5px; font-size: 0.8em;\">Change the output file name</span></span><br><span class=\"diff-added\"><span class=\"yaml-key\">output</span>: <span class=\"yaml-value\">../workspace/flashloader_cm33_ahab.bin</span></span><br><span class=\"yaml-commented-line\"># ------------------------------===== List of containers present in AHAB [Required] =====-------------------------------</span><br><span class=\"yaml-commented-line\"># Description: The order of containers in the list defines the order in AHAB.</span><br><span class=\"yaml-key\">containers</span>:<br><span class=\"yaml-key\">  -</span><br>  <span class=\"yaml-commented-line\"># ====================================================================================================================</span><br>  <span class=\"yaml-commented-line\">#                                          == List of possible 2 options. ==                                          </span><br>  <span class=\"yaml-commented-line\">#                                        Options [binary_container, container]                                        </span><br>  <span class=\"yaml-commented-line\"># ====================================================================================================================</span><br><span class=\"diff-removed\"></span><br>  <span class=\"yaml-commented-line\">#  =========================== [Example of possible configuration: #0 , erase if not used] ============================</span><br>    <span class=\"yaml-commented-line\"># -----------------------------------===== Binary AHAB container [Required] =====-----------------------------------</span><br>    <span class=\"yaml-commented-line\"># Description: Binary Container format to add to AHAB image, Typically it could be used to add ELE Firmware.</span><br><span class=\"diff-removed\"><span class=\"yaml-key\">    binary_container</span>: <span style=\"background-color: #FFFF00; border-radius: 5px; padding: 2px 6px; margin-left: 5px; font-size:\n",
       "0.8em;\">In this example we don't use ELE firmware, but in case that it will be necessary Define the path to the EdgeLock Enclave Firmware container (And clean\n",
       "up the comments about possible options of container definitions)\"</span></span><br>      <span class=\"yaml-commented-line\"># -----------------------------===== The AHAB container binary file [Required] =====------------------------------</span><br>      <span class=\"yaml-commented-line\"># Description: The binary file that contains AHAB \"my_binary_container.bin</span><br><span class=\"diff-removed\"><span class=\"yaml-key\">      path</span>: <span class=\"yaml-value\">my_ahab_container.bin</span></span><br><span class=\"diff-removed\"></span><br>  <span class=\"yaml-commented-line\">#  =========================== [Example of possible configuration: #1 , erase if not used] ============================</span><br>    <span class=\"yaml-commented-line\"># --------------------------------------===== AHAB Container [Required] =====---------------------------------------</span><br>    <span class=\"yaml-commented-line\"># Description: Configurable Container format to add to AHAB image. This allow to configure all aspects of the AHAB</span><br>    <span class=\"yaml-commented-line\"># container.</span><br><span class=\"yaml-key\">    container</span>:<br>      <span class=\"yaml-commented-line\"># --------------------------------===== Super Root Key (SRK) set [Required] =====---------------------------------</span><br>      <span class=\"yaml-commented-line\"># Description: Defines which set is used to authenticate the container.</span><br>      <span class=\"yaml-commented-line\"># Possible options: <none, oem, nxp></span><br><span class=\"diff-removed\"><span class=\"yaml-key\">      srk_set</span>: <span class=\"yaml-value\">none</span> <span style=\"background-color: #FFFF00; border-radius: 5px; padding: 2px 6px;\n",
       "margin-left: 5px; font-size: 0.8em;\">Change srk_set to OEM to sign the image with OEM SRK</span></span><br><span class=\"diff-added\"><span class=\"yaml-key\">      srk_set</span>: <span class=\"yaml-value\">oem</span></span><br>      <span class=\"yaml-commented-line\"># ---------------------------------===== Used SRK [Conditionally required] =====----------------------------------</span><br>      <span class=\"yaml-commented-line\"># Description: Which key from SRK set is being used.</span><br><span class=\"yaml-key\">      used_srk_id</span>: <span class=\"yaml-value\">0</span><br>      <span class=\"yaml-commented-line\"># -------------------------------------===== SRK revoke mask [Optional] =====-------------------------------------</span><br>      <span class=\"yaml-commented-line\"># Description: Bit-mask to indicate which SRKs to revoke. Bit set to 1 means revoke key. Bit 0 = revoke SRK_0, bit</span><br>      <span class=\"yaml-commented-line\"># 1 = revoke SRK_1 etc. Example of revocation SRK_0 and SRK_1 - the value should be 0x03</span><br><span class=\"diff-removed\"><span class=\"yaml-key\">      srk_revoke_mask</span>: <span class=\"yaml-value\">'0x00'</span></span><br><span class=\"diff-added\"><span class=\"yaml-key\">      srk_revoke_mask</span>: <span class=\"yaml-value\">\"0x00\"</span></span><br>      <span class=\"yaml-commented-line\"># ----------------------------------===== GDET runtime behavior [Optional] =====----------------------------------</span><br>      <span class=\"yaml-commented-line\"># Description: This option defines runtime behavior of Glitch detector. Not supported by all devices and their ELE</span><br>      <span class=\"yaml-commented-line\"># firmware.</span><br>      <span class=\"yaml-commented-line\">#  - disabled:       GDET is disabled after the first OEM container has been authenticated (default behavior)</span><br>      <span class=\"yaml-commented-line\">#  - enabled_eleapi: Automatically enable GDET during all ELE API calls</span><br>      <span class=\"yaml-commented-line\">#  - enabled:        Leave GDET enabled</span><br>      <span class=\"yaml-commented-line\"># Possible options: <disabled, enabled_eleapi, enabled></span><br><span class=\"diff-removed\"><span class=\"yaml-key\">      gdet_runtime_behavior</span>: <span class=\"yaml-value\">disabled</span> <span style=\"background-color: #FFFF00; border-radius: 5px;\n",
       "padding: 2px 6px; margin-left: 5px; font-size: 0.8em;\">This might be deleted, it is not used on RT1180</span></span><br>      <span class=\"yaml-commented-line\"># --------------------------------------===== Fuse version [Optional] =====---------------------------------------</span><br>      <span class=\"yaml-commented-line\"># Description: The value must be equal or greater than the version stored in fuses to allow loading this</span><br>      <span class=\"yaml-commented-line\"># container.</span><br><span class=\"yaml-key\">      fuse_version</span>: <span class=\"yaml-value\">0</span><br>      <span class=\"yaml-commented-line\"># ------------------------------------===== Software version [Optional] =====-------------------------------------</span><br>      <span class=\"yaml-commented-line\"># Description: Number used by Privileged Host Boot Companion (PHBC) to select between multiple images with same</span><br>      <span class=\"yaml-commented-line\"># Fuse version field.</span><br><span class=\"yaml-key\">      sw_version</span>: <span class=\"yaml-value\">0</span><br>      <span class=\"yaml-commented-line\"># -------------------------------===== AHAB container signing key [Optional] =====--------------------------------</span><br>      <span class=\"yaml-commented-line\"># Description: Private key used for sign the container header. Header can be signed by SRK. The referenced SRK</span><br>      <span class=\"yaml-commented-line\"># must not have been revoked.</span><br><span class=\"diff-added\"><span class=\"yaml-key\">      signing_key</span>: <span class=\"yaml-value\">../../_data/keys/ecc256/srk0_ecc256.pem</span></span><br><span class=\"diff-removed\"><span class=\"yaml-key\">      signing_key</span>: <span class=\"yaml-value\">my_signing_key.pem</span> <span style=\"background-color: #FFFF00; border-radius: 5px;\n",
       "padding: 2px 6px; margin-left: 5px; font-size: 0.8em;\">Path to signing key</span></span><br>      <span class=\"yaml-commented-line\"># -----------------------------------===== Signature Provider [Optional] =====------------------------------------</span><br>      <span class=\"yaml-commented-line\"># Description: Signature provider configuration in format 'type=<identifier>;<key1>=<value1>;<key2>=<value2>'. The</span><br>      <span class=\"yaml-commented-line\"># signature provider could be used instead of definition of 'signing_key'.</span><br><span class=\"diff-removed\"><span class=\"yaml-key\">      signature_provider</span>: <span class=\"yaml-value\">type=file;file_path=my_prv_key.pem</span></span><br><br>      <span class=\"yaml-commented-line\"># ================================================================================================================</span><br>      <span class=\"yaml-commented-line\">#                     == Configuration of AHAB Container images (array of multiple images) ==                     </span><br>      <span class=\"yaml-commented-line\"># ================================================================================================================</span><br>      <span class=\"yaml-commented-line\"># ---------------------------------------===== Image array [Required] =====---------------------------------------</span><br>      <span class=\"yaml-commented-line\"># Description: Array of image entries.</span><br><span class=\"yaml-key\">      images</span>:<br><span class=\"yaml-key\">        -</span><br>          <span class=\"yaml-commented-line\"># -------------------------------------===== Image path [Optional] =====--------------------------------------</span><br>          <span class=\"yaml-commented-line\"># Description: Path to image binary (absolute/relative). In case that only Image Array entry without any data</span><br>          <span class=\"yaml-commented-line\"># image is needed, Just do not use the image path. In case that the image size in container should be aligned</span><br>          <span class=\"yaml-commented-line\"># differently then SPSDK do (4 bytes for ELE images, 1 byte otherwise), there is hidden option</span><br>          <span class=\"yaml-commented-line\"># 'image_size_alignment' where could be override image size by any custom value.</span><br><span class=\"diff-removed\"><span class=\"yaml-key\">          image_path</span>: <span class=\"yaml-value\">my_image.bin</span> <span style=\"background-color: #FFFF00; border-radius: 5px;\n",
       "padding: 2px 6px; margin-left: 5px; font-size: 0.8em;\">Define the image executable (compiled flashloader binary).</span></span><br><span class=\"diff-added\"><span class=\"yaml-key\">          image_path</span>: <span class=\"yaml-value\">inputs/flashloader_cm33_exe.bin</span></span><br>          <span class=\"yaml-commented-line\"># ---------------------------===== Image offset in AHAB container [Optional] =====----------------------------</span><br>          <span class=\"yaml-commented-line\"># Description: Offset in bytes from start of container header to beginning of the image. Zero value means</span><br>          <span class=\"yaml-commented-line\"># automatic placing the image with proper alignment after previous one, this is recommended for</span><br>          <span class=\"yaml-commented-line\"># serial_downloader mode. In case of XiP type of AHAB image, the load_address and entry_point must correspond</span><br>          <span class=\"yaml-commented-line\"># to this values. Example of setting of load_address - AHAB_IMAGE_ADDRESS+IMAGE_OFFSET=LOAD_ADDRESS. The</span><br>          <span class=\"yaml-commented-line\"># Booting core images must be located after the other ones</span><br><span class=\"yaml-key\">          image_offset</span>: <span class=\"yaml-value\">0</span> <span style=\"background-color: #FFFF00; border-radius: 5px; padding: 2px\n",
       "6px; margin-left: 5px; font-size: 0.8em;\">The image offset doesn't matter in serial downloader mode, it's updated automatically if left as 0.</span><br>          <span class=\"yaml-commented-line\"># ------------------------------===== Image destination address [Required] =====------------------------------</span><br>          <span class=\"yaml-commented-line\"># Description: Address the image is written to in memory (absolute address in system memory).</span><br><span class=\"diff-removed\"><span class=\"yaml-key\">          load_address</span>: <span class=\"yaml-value\">'0x1FFC_0000'</span> <span style=\"background-color: #FFFF00; border-radius: 5px;\n",
       "padding: 2px 6px; margin-left: 5px; font-size: 0.8em;\">he most important are 'load_address' and 'entry_point' fields that must be sets on same value as is\n",
       "defined linker file for the application start of the application. In case of i.MXRT118x the linker load address is 0x304a0000</span></span><br><span class=\"diff-added\"><span class=\"yaml-key\">          load_address</span>: <span class=\"yaml-value\">'0x304a0000'</span></span><br>          <span class=\"yaml-commented-line\"># ----------------------------------===== Image entry point [Required] =====----------------------------------</span><br>          <span class=\"yaml-commented-line\"># Description: Image entry point (absolute address). Valid only for executable image types.</span><br><span class=\"diff-removed\"><span class=\"yaml-key\">          entry_point</span>: <span class=\"yaml-value\">'0x1FFC_0000'</span></span><br><span class=\"diff-added\"><span class=\"yaml-key\">          entry_point</span>: <span class=\"yaml-value\">'0x304a0000'</span></span><br>          <span class=\"yaml-commented-line\"># -------------------------------------===== Image type [Required] =====--------------------------------------</span><br>          <span class=\"yaml-commented-line\"># Description: Kind of image.</span><br>          <span class=\"yaml-commented-line\"># Possible options: <executable, data, provisioning_image, provisioning_data, ele></span><br><span class=\"yaml-key\">          image_type</span>: <span class=\"yaml-value\">executable</span><br>          <span class=\"yaml-commented-line\"># ---------------------------------------===== Core ID [Required] =====---------------------------------------</span><br>          <span class=\"yaml-commented-line\"># Description: Defines the core the image is dedicated for. Not all cores are supported for all families.</span><br>          <span class=\"yaml-commented-line\"># Possible options: <cortex-m33, cortex-m7, ele></span><br><span class=\"yaml-key\">          core_id</span>: <span class=\"yaml-value\">cortex-m33</span><br>          <span class=\"yaml-commented-line\"># ----------------------------------===== Image encryption [Required] =====-----------------------------------</span><br>          <span class=\"yaml-commented-line\"># Description: Determines, whether image is encrypted or not.</span><br><span class=\"yaml-key\">          is_encrypted</span>: <span class=\"yaml-value\">false</span><br>          <span class=\"yaml-commented-line\"># -------------------------------------===== Boot flags [Optional] =====--------------------------------------</span><br>          <span class=\"yaml-commented-line\"># Description: Boot flags controlling SCFW boot.</span><br><span class=\"diff-removed\"><span class=\"yaml-key\">          boot_flags</span>: <span class=\"yaml-value\">0</span> <span style=\"background-color: #FFFF00; border-radius: 5px; padding: 2px\n",
       "6px; margin-left: 5px; font-size: 0.8em;\">This might be removed</span></span><br>          <span class=\"yaml-commented-line\"># ------------------------------------===== Start CPU ID [Optional] =====-------------------------------------</span><br>          <span class=\"yaml-commented-line\"># Description: Resource ID of CPU to be started</span><br><span class=\"diff-removed\"><span class=\"yaml-key\">          meta_data_start_cpu_id</span>: <span class=\"yaml-value\">0</span> <span style=\"background-color: #FFFF00; border-radius: 5px;\n",
       "padding: 2px 6px; margin-left: 5px; font-size: 0.8em;\">This might be removed</span></span><br>          <span class=\"yaml-commented-line\"># ------------------------------===== CPU memory unit start ID [Optional] =====-------------------------------</span><br>          <span class=\"yaml-commented-line\"># Description: Resource ID of the MU associated with the CPU</span><br><span class=\"diff-removed\"><span class=\"yaml-key\">          meta_data_mu_cpu_id</span>: <span class=\"yaml-value\">0</span> <span style=\"background-color: #FFFF00; border-radius: 5px;\n",
       "padding: 2px 6px; margin-left: 5px; font-size: 0.8em;\">This might be removed</span></span><br>          <span class=\"yaml-commented-line\"># ---------------------------------===== Start partition ID [Optional] =====----------------------------------</span><br>          <span class=\"yaml-commented-line\"># Description: Partition ID of the partition to start</span><br><span class=\"diff-removed\"><span class=\"yaml-key\">          meta_data_start_partition_id</span>: <span class=\"yaml-value\">0</span> <span style=\"background-color: #FFFF00; border-radius:\n",
       "5px; padding: 2px 6px; margin-left: 5px; font-size: 0.8em;\">This might be removed</span></span><br>          <span class=\"yaml-commented-line\"># ----------------------------------===== Images HASH type [Optional] =====-----------------------------------</span><br>          <span class=\"yaml-commented-line\"># Description: HASH type of image.</span><br>          <span class=\"yaml-commented-line\"># Possible options: <sha256, sha384, sha512, sm3></span><br><span class=\"yaml-key\">          hash_type</span>: <span class=\"yaml-value\">sha512</span><br><br>      <span class=\"yaml-commented-line\"># ================================================================================================================</span><br>      <span class=\"yaml-commented-line\">#                                      == Configuration of AHAB SRK table ==                                      </span><br>      <span class=\"yaml-commented-line\"># ================================================================================================================</span><br>      <span class=\"yaml-commented-line\"># ---------------------------------===== SRK Table [Conditionally required] =====---------------------------------</span><br>      <span class=\"yaml-commented-line\"># Description: SRK (Super Root key) table definition.</span><br><span class=\"yaml-key\">      srk_table</span>:<br>        <span class=\"yaml-commented-line\"># ----------------------------------------===== CA Flag [Optional] =====----------------------------------------</span><br>        <span class=\"yaml-commented-line\"># Description: CA Flag is used by HAB to indicate if the SRK is allowed to sign other keys</span><br><span class=\"yaml-key\">        flag_ca</span>: <span class=\"yaml-value\">false</span><br>        <span class=\"yaml-commented-line\"># ------------------------------===== Super Root Key (SRK) table [Required] =====-------------------------------</span><br>        <span class=\"yaml-commented-line\"># Description: Table containing the used SRK records. All SRKs must be of the same type. Supported signing</span><br>        <span class=\"yaml-commented-line\"># algorithms are: RSA-PSS, ECDSA, Dilithium or SM2. Supported hash algorithms: sha256, sha384, sha512, sha3_256,</span><br>        <span class=\"yaml-commented-line\"># sha3_384, sha3_512, sm3. Supported key sizes/curves: prime256v1, sec384r1, sec512r1, rsa2048, rsa4096,</span><br>        <span class=\"yaml-commented-line\"># dilithium3, sm2. Certificate may be of Certificate Authority. Dilithium algorithms are supported just in new</span><br>        <span class=\"yaml-commented-line\"># type of AHAB container</span><br><span class=\"yaml-key\">        srk_array</span>: <span style=\"background-color: #FFFF00; border-radius: 5px; padding: 2px 6px; margin-left: 5px; font-size:\n",
       "0.8em;\">Define the SRK (Super Root Keys) record. In our case the local pregenerated public keys</span><br><span class=\"diff-removed\"><span class=\"yaml-key\">          - </span>my_srk_public_key0.pub</span><br><span class=\"diff-removed\"><span class=\"yaml-key\">          - </span>my_srk_public_key1.pub</span><br><span class=\"diff-removed\"><span class=\"yaml-key\">          - </span>my_srk_public_key2.pub</span><br><span class=\"diff-removed\"><span class=\"yaml-key\">          - </span>my_srk_public_key3.pub</span><br><span class=\"diff-added\"><span class=\"yaml-key\">          - </span>../../_data/keys/ecc256/srk0_ecc256.pub</span><br><span class=\"diff-added\"><span class=\"yaml-key\">          - </span>../../_data/keys/ecc256/srk1_ecc256.pub</span><br><span class=\"diff-added\"><span class=\"yaml-key\">          - </span>../../_data/keys/ecc256/srk2_ecc256.pub</span><br><span class=\"diff-added\"><span class=\"yaml-key\">          - </span>../../_data/keys/ecc256/srk3_ecc256.pub</span><br><br>      <span class=\"yaml-commented-line\"># ================================================================================================================</span><br>      <span class=\"yaml-commented-line\">#         == Optional configuration of AHAB Container Encryption blob (if not used, erase the section) ==         </span><br>      <span class=\"yaml-commented-line\"># ================================================================================================================</span><br>      <span class=\"yaml-commented-line\"># -------------------------------------===== Encryption blob [Optional] =====-------------------------------------</span><br>      <span class=\"yaml-commented-line\"># Description: Encryption blob container definition</span><br><span class=\"diff-removed\"><span class=\"yaml-key\">      blob</span>: <span style=\"background-color: #FFFF00; border-radius: 5px; padding: 2px 6px; margin-left: 5px; font-size: 0.8em;\">And\n",
       "finally remove unused parts for AHAB Certificate and Encryption blob</span></span><br>        <span class=\"yaml-commented-line\"># ------------------------------------===== Key identifier [Required] =====-------------------------------------</span><br>        <span class=\"yaml-commented-line\"># Description: The key identifier that has been used to generate DEK keyblob.</span><br><span class=\"diff-removed\"><span class=\"yaml-key\">        key_identifier</span>: <span class=\"yaml-value\">0</span></span><br>        <span class=\"yaml-commented-line\"># -------------------------------------===== DEK key size [Required] =====--------------------------------------</span><br>        <span class=\"yaml-commented-line\"># Description: Data Encryption key size. Used for AES CBC-MAC (128/192/256 size)</span><br>        <span class=\"yaml-commented-line\"># Possible options: <128, 192, 256></span><br><span class=\"diff-removed\"><span class=\"yaml-key\">        dek_key_size</span>: <span class=\"yaml-value\">128</span></span><br>        <span class=\"yaml-commented-line\"># ----------------------------------------===== DEK key [Required] =====----------------------------------------</span><br>        <span class=\"yaml-commented-line\"># Description: Data Encryption key. Used for AES CBC-MAC (128/192/256 size). The HEX format is accepted</span><br><span class=\"diff-removed\"><span class=\"yaml-key\">        dek_key</span>: <span class=\"yaml-value\">my_dek_key.txt</span></span><br>        <span class=\"yaml-commented-line\"># --------------------------------------===== DEK keyblob [Optional] =====--------------------------------------</span><br>        <span class=\"yaml-commented-line\"># Description: Wrapped Data Encryption key. Used for AES CBC-MAC (128/192/256 size). The HEX format is accepted.</span><br>        <span class=\"yaml-commented-line\"># If NOT used, the empty keyblob is inserted into container and need to be updated later.</span><br><span class=\"diff-removed\"><span class=\"yaml-key\">        dek_keyblob</span>: <span class=\"yaml-value\">my_wrapped_key.txt</span> <span style=\"background-color: #FFFF00; border-radius:\n",
       "5px; padding: 2px 6px; margin-left: 5px; font-size: 0.8em;\">And finally remove unused parts for AHAB Certificate and Encryption blob</span></span><br><span class=\"diff-removed\"></span></pre></div>\n",
       "            <div id=\"userConfigView_7c206d3206e6eaab36bfa92a228ec743\" class=\"yaml-diff\" style=\"display:none;\"><pre class=\"yaml-diff\"><span class=\"yaml-commented-line\"># Copyright 2024 NXP</span><br><span class=\"yaml-commented-line\">#</span><br><span class=\"yaml-commented-line\"># SPDX-License-Identifier: BSD-3-Clause</span><br><span class=\"yaml-commented-line\"># ==============================================  AHAB converted config.  ==============================================</span><br><br><span class=\"yaml-commented-line\"># ======================================================================================================================</span><br><span class=\"yaml-commented-line\">#                                                 == General Options ==</span><br><span class=\"yaml-commented-line\"># ======================================================================================================================</span><br><span class=\"yaml-commented-line\"># -------------------------------------===== The chip family name [Required] =====--------------------------------------</span><br><span class=\"yaml-commented-line\"># Description: NXP chip family identifier.</span><br><span class=\"yaml-commented-line\"># Possible options: <mimx8ulp, mimx9131, mimx9352, mimx9596, mimxrt1181, mimxrt1182, mimxrt1187, mimxrt1189></span><br><span class=\"yaml-key\">family</span>: <span class=\"yaml-value\">mimxrt1189</span><br><span class=\"yaml-commented-line\"># -----------------------------------------===== MCU revision [Optional] =====------------------------------------------</span><br><span class=\"yaml-commented-line\"># Description: Revision of silicon. The 'latest' name, means most current revision.</span><br><span class=\"yaml-commented-line\"># Possible options: <a0, b0, latest></span><br><span class=\"yaml-key\">revision</span>: <span class=\"yaml-value\">latest</span><br><span class=\"yaml-commented-line\"># -----------------------------------------===== Target memory [Optional] =====-----------------------------------------</span><br><span class=\"yaml-commented-line\"># Description: Target memory for AHAB container</span><br><span class=\"yaml-commented-line\"># Possible options: <serial_downloader, standard, nand_2k, nand_4k></span><br><span class=\"yaml-key\">target_memory</span>: <span class=\"yaml-value\">serial_downloader</span> <span style=\"background-color: #FFFF00; border-radius: 5px;\n",
       "padding: 2px 6px; margin-left: 5px; font-size: 0.8em;\">Change the target memory to serial downloader</span><br><span class=\"yaml-commented-line\"># ---------------------------------------===== Output file name [Required] =====----------------------------------------</span><br><span class=\"yaml-commented-line\"># Description: Output AHAB file name</span><br><span class=\"yaml-key\">output</span>: <span class=\"yaml-value\">../workspace/flashloader_cm33_ahab.bin</span> <span style=\"background-color: #FFFF00; border-\n",
       "radius: 5px; padding: 2px 6px; margin-left: 5px; font-size: 0.8em;\">Change the output file name</span><br><span class=\"yaml-commented-line\"># ------------------------------===== List of containers present in AHAB [Required] =====-------------------------------</span><br><span class=\"yaml-commented-line\"># Description: The order of containers in the list defines the order in AHAB.</span><br><span class=\"yaml-key\">containers</span>:<br>  <span class=\"yaml-commented-line\"># -</span><br>  <span class=\"yaml-commented-line\">#   # -----------------------------------===== Binary AHAB container [Required] =====-----------------------------------</span><br>  <span class=\"yaml-commented-line\">#   # Description: Binary Container format to add to AHAB image, Typically it could be used to add ELE Firmware.</span><br>  <span class=\"yaml-commented-line\">#   binary_container:</span><br>  <span class=\"yaml-commented-line\">#     # -----------------------------===== The AHAB container binary file [Required] =====------------------------------</span><br>  <span class=\"yaml-commented-line\">#     # Description: The binary file that contains AHAB \"my_binary_container.bin</span><br>  <span class=\"yaml-commented-line\">#     path: mxrt1180b0-ahab-container.img</span><br><span class=\"yaml-key\">  -</span><br>    <span class=\"yaml-commented-line\"># --------------------------------------===== AHAB Container [Required] =====---------------------------------------</span><br>    <span class=\"yaml-commented-line\"># Description: Configurable Container format to add to AHAB image. This allow to configure all aspects of the AHAB</span><br>    <span class=\"yaml-commented-line\"># container.</span><br><span class=\"yaml-key\">    container</span>:<br>      <span class=\"yaml-commented-line\"># --------------------------------===== Super Root Key (SRK) set [Required] =====---------------------------------</span><br>      <span class=\"yaml-commented-line\"># Description: Defines which set is used to authenticate the container.</span><br>      <span class=\"yaml-commented-line\"># Possible options: <none, oem, nxp></span><br><span class=\"yaml-key\">      srk_set</span>: <span class=\"yaml-value\">oem</span> <span style=\"background-color: #FFFF00; border-radius: 5px; padding: 2px 6px;\n",
       "margin-left: 5px; font-size: 0.8em;\">Change srk_set to OEM to sign the image with OEM SRK</span><br>      <span class=\"yaml-commented-line\"># ---------------------------------===== Used SRK [Conditionally required] =====----------------------------------</span><br>      <span class=\"yaml-commented-line\"># Description: Which key from SRK set is being used.</span><br><span class=\"yaml-key\">      used_srk_id</span>: <span class=\"yaml-value\">0</span><br>      <span class=\"yaml-commented-line\"># -------------------------------------===== SRK revoke mask [Optional] =====-------------------------------------</span><br>      <span class=\"yaml-commented-line\"># Description: Bit-mask to indicate which SRKs to revoke. Bit set to 1 means revoke key. Bit 0 = revoke SRK_0, bit</span><br>      <span class=\"yaml-commented-line\"># 1 = revoke SRK_1 etc. Example of revocation SRK_0 and SRK_1 - the value should be 0x03</span><br><span class=\"yaml-key\">      srk_revoke_mask</span>: <span class=\"yaml-value\">\"0x00\"</span><br>      <span class=\"yaml-commented-line\"># --------------------------------------===== Fuse version [Optional] =====---------------------------------------</span><br>      <span class=\"yaml-commented-line\"># Description: The value must be equal or greater than the version stored in fuses to allow loading this</span><br>      <span class=\"yaml-commented-line\"># container.</span><br><span class=\"yaml-key\">      fuse_version</span>: <span class=\"yaml-value\">0</span><br>      <span class=\"yaml-commented-line\"># ------------------------------------===== Software version [Optional] =====-------------------------------------</span><br>      <span class=\"yaml-commented-line\"># Description: Number used by Privileged Host Boot Companion (PHBC) to select between multiple images with same</span><br>      <span class=\"yaml-commented-line\"># Fuse version field.</span><br><span class=\"yaml-key\">      sw_version</span>: <span class=\"yaml-value\">0</span><br>      <span class=\"yaml-commented-line\"># -------------------------------===== AHAB container signing key [Optional] =====--------------------------------</span><br>      <span class=\"yaml-commented-line\"># Description: Private key used for sign the container header. Header can be signed by SRK. The referenced SRK</span><br>      <span class=\"yaml-commented-line\"># must not have been revoked.</span><br><span class=\"yaml-key\">      signing_key</span>: <span class=\"yaml-value\">../../_data/keys/ecc256/srk0_ecc256.pem</span> <span style=\"background-color: #FFFF00;\n",
       "border-radius: 5px; padding: 2px 6px; margin-left: 5px; font-size: 0.8em;\">Path to signing key</span><br><br>      <span class=\"yaml-commented-line\"># ================================================================================================================</span><br>      <span class=\"yaml-commented-line\">#                     == Configuration of AHAB Container images (array of multiple images) ==</span><br>      <span class=\"yaml-commented-line\"># ================================================================================================================</span><br>      <span class=\"yaml-commented-line\"># ---------------------------------------===== Image array [Required] =====---------------------------------------</span><br>      <span class=\"yaml-commented-line\"># Description: Array of image entries.</span><br><span class=\"yaml-key\">      images</span>:<br><span class=\"yaml-key\">        -</span><br>          <span class=\"yaml-commented-line\"># -------------------------------------===== Image path [Optional] =====--------------------------------------</span><br>          <span class=\"yaml-commented-line\"># Description: Path to image binary (absolute/relative). In case that only Image Array entry without any data</span><br>          <span class=\"yaml-commented-line\"># image is needed, Just do not use the image path. In case that the image size in container should be aligned</span><br>          <span class=\"yaml-commented-line\"># differently then SPSDK do (4 bytes for ELE images, 1 byte otherwise), there is hidden option</span><br>          <span class=\"yaml-commented-line\"># 'image_size_alignment' where could be override image size by any custom value.</span><br><span class=\"yaml-key\">          image_path</span>: <span class=\"yaml-value\">inputs/flashloader_cm33_exe.bin</span> <span style=\"background-color: #FFFF00;\n",
       "border-radius: 5px; padding: 2px 6px; margin-left: 5px; font-size: 0.8em;\">Define the image executable (compiled flashloader binary).</span><br>          <span class=\"yaml-commented-line\"># ---------------------------===== Image offset in AHAB container [Optional] =====----------------------------</span><br>          <span class=\"yaml-commented-line\"># Description: Offset in bytes from start of container header to beginning of the image. Zero value means</span><br>          <span class=\"yaml-commented-line\"># automatic placing the image with proper alignment after previous one, this is recommended for</span><br>          <span class=\"yaml-commented-line\"># serial_downloader mode. In case of XiP type of AHAB image, the load_address and entry_point must correspond</span><br>          <span class=\"yaml-commented-line\"># to this values. Example of setting of load_address - AHAB_IMAGE_ADDRESS+IMAGE_OFFSET=LOAD_ADDRESS. The</span><br>          <span class=\"yaml-commented-line\"># Booting core images must be located after the other ones</span><br><span class=\"yaml-key\">          image_offset</span>: <span class=\"yaml-value\">0</span> <span style=\"background-color: #FFFF00; border-radius: 5px; padding: 2px\n",
       "6px; margin-left: 5px; font-size: 0.8em;\">The image offset doesn't matter in serial downloader mode, it's updated automatically if left as 0.</span><br>          <span class=\"yaml-commented-line\"># ------------------------------===== Image destination address [Required] =====------------------------------</span><br>          <span class=\"yaml-commented-line\"># Description: Address the image is written to in memory (absolute address in system memory).</span><br><span class=\"yaml-key\">          load_address</span>: <span class=\"yaml-value\">'0x304a0000'</span> <span style=\"background-color: #FFFF00; border-radius: 5px;\n",
       "padding: 2px 6px; margin-left: 5px; font-size: 0.8em;\">he most important are 'load_address' and 'entry_point' fields that must be sets on same value as is\n",
       "defined linker file for the application start of the application. In case of i.MXRT118x the linker load address is 0x304a0000</span><br>          <span class=\"yaml-commented-line\"># ----------------------------------===== Image entry point [Required] =====----------------------------------</span><br>          <span class=\"yaml-commented-line\"># Description: Image entry point (absolute address). Valid only for executable image types.</span><br><span class=\"yaml-key\">          entry_point</span>: <span class=\"yaml-value\">'0x304a0000'</span><br>          <span class=\"yaml-commented-line\"># -------------------------------------===== Image type [Required] =====--------------------------------------</span><br>          <span class=\"yaml-commented-line\"># Description: Kind of image.</span><br>          <span class=\"yaml-commented-line\"># Possible options: <executable, data, provisioning_image, provisioning_data, ele></span><br><span class=\"yaml-key\">          image_type</span>: <span class=\"yaml-value\">executable</span><br>          <span class=\"yaml-commented-line\"># ---------------------------------------===== Core ID [Required] =====---------------------------------------</span><br>          <span class=\"yaml-commented-line\"># Description: Defines the core the image is dedicated for. Not all cores are supported for all families.</span><br>          <span class=\"yaml-commented-line\"># Possible options: <cortex-m33, cortex-m7, ele></span><br><span class=\"yaml-key\">          core_id</span>: <span class=\"yaml-value\">cortex-m33</span><br>          <span class=\"yaml-commented-line\"># ----------------------------------===== Image encryption [Required] =====-----------------------------------</span><br>          <span class=\"yaml-commented-line\"># Description: Determines, whether image is encrypted or not.</span><br><span class=\"yaml-key\">          is_encrypted</span>: <span class=\"yaml-value\">false</span><br>          <span class=\"yaml-commented-line\"># ----------------------------------===== Images HASH type [Optional] =====-----------------------------------</span><br>          <span class=\"yaml-commented-line\"># Description: HASH type of image.</span><br>          <span class=\"yaml-commented-line\"># Possible options: <sha256, sha384, sha512, sm3></span><br><span class=\"yaml-key\">          hash_type</span>: <span class=\"yaml-value\">sha512</span><br><br>      <span class=\"yaml-commented-line\"># ================================================================================================================</span><br>      <span class=\"yaml-commented-line\">#                                      == Configuration of AHAB SRK table ==</span><br>      <span class=\"yaml-commented-line\"># ================================================================================================================</span><br>      <span class=\"yaml-commented-line\"># ---------------------------------===== SRK Table [Conditionally required] =====---------------------------------</span><br>      <span class=\"yaml-commented-line\"># Description: SRK (Super Root key) table definition.</span><br><span class=\"yaml-key\">      srk_table</span>:<br>        <span class=\"yaml-commented-line\"># ----------------------------------------===== CA Flag [Optional] =====----------------------------------------</span><br>        <span class=\"yaml-commented-line\"># Description: CA Flag is used by HAB to indicate if the SRK is allowed to sign other keys</span><br><span class=\"yaml-key\">        flag_ca</span>: <span class=\"yaml-value\">false</span><br>        <span class=\"yaml-commented-line\"># ------------------------------===== Super Root Key (SRK) table [Required] =====-------------------------------</span><br>        <span class=\"yaml-commented-line\"># Description: Table containing the used SRK records. All SRKs must be of the same type. Supported signing</span><br>        <span class=\"yaml-commented-line\"># algorithms are: RSA-PSS, ECDSA, Dilithium or SM2. Supported hash algorithms: sha256, sha384, sha512, sha3_256,</span><br>        <span class=\"yaml-commented-line\"># sha3_384, sha3_512, sm3. Supported key sizes/curves: prime256v1, sec384r1, sec512r1, rsa2048, rsa4096,</span><br>        <span class=\"yaml-commented-line\"># dilithium3, sm2. Certificate may be of Certificate Authority. Dilithium algorithms are supported just in new</span><br>        <span class=\"yaml-commented-line\"># type of AHAB container</span><br><span class=\"yaml-key\">        srk_array</span>: <span style=\"background-color: #FFFF00; border-radius: 5px; padding: 2px 6px; margin-left: 5px; font-size:\n",
       "0.8em;\">Define the SRK (Super Root Keys) record. In our case the local pregenerated public keys</span><br><span class=\"yaml-key\">          - </span>../../_data/keys/ecc256/srk0_ecc256.pub<br><span class=\"yaml-key\">          - </span>../../_data/keys/ecc256/srk1_ecc256.pub<br><span class=\"yaml-key\">          - </span>../../_data/keys/ecc256/srk2_ecc256.pub<br><span class=\"yaml-key\">          - </span>../../_data/keys/ecc256/srk3_ecc256.pub<br></pre></div>\n",
       "            </div>\n",
       "            "
      ],
      "text/plain": [
       "<IPython.core.display.HTML object>"
      ]
     },
     "execution_count": 3,
     "metadata": {},
     "output_type": "execute_result"
    }
   ],
   "source": [
    "YamlDiffWidget(\"inputs/rt118x_signed_flashloader.diffc\").html"
   ]
  },
  {
   "attachments": {},
   "cell_type": "markdown",
   "metadata": {},
   "source": [
    "## 3. Export the AHAB container\n",
    "To export the AHAB container, SPSDK provides a dedicated tool called 'nxpimage' with a specific sub-command group named 'ahab'. This tool is designed to efficiently handle the creation and management of AHAB containers, offering a streamlined process for developers working with NXP's Advanced High-Assurance Boot (AHAB) technology.\n"
   ]
  },
  {
   "cell_type": "code",
   "execution_count": 4,
   "metadata": {},
   "outputs": [
    {
     "name": "stdout",
     "output_type": "stream",
     "text": [
      "nxpimage -v ahab export -c inputs/flashloader_cm33_cfg.yaml \n",
      "\u001b[37m\u001b[1mINFO:spsdk.apps.nxpimage:Created AHAB Image:\n",
      "Name:      AHAB Image\n",
      "Starts:    0x0\n",
      "Ends:      0x177ff\n",
      "Size:      Size: 94.0 kiB; 96,256 B\n",
      "Alignment: 8 B\n",
      "Execution Start Address: Not defined\n",
      "Pattern:zeros\n",
      "AHAB Image for mimxrt1189_b0\n",
      "\u001b[39m\u001b[0m\n",
      "\u001b[37m\u001b[1mINFO:spsdk.apps.nxpimage:Created AHAB Image memory map:\n",
      "\n",
      "\u001b[90m+==0x0000_0000= AHAB Image =======================+\n",
      "\u001b[90m|            Size: 94.0 kiB; 96,256 B             |\n",
      "\u001b[90m|          AHAB Image for mimxrt1189_b0           |\n",
      "\u001b[90m|                 Pattern: zeros                  |\n",
      "\u001b[90m|\u001b[34m+==0x0000_0000= AHAB Containers ================+\u001b[90m|\n",
      "\u001b[90m|\u001b[34m|            Size: 8.0 kiB; 8,192 B             |\u001b[90m|\n",
      "\u001b[90m|\u001b[34m|             AHAB Containers block             |\u001b[90m|\n",
      "\u001b[90m|\u001b[34m|                Pattern: zeros                 |\u001b[90m|\n",
      "\u001b[90m|\u001b[34m|\u001b[90m+==0x0000_0000= AHAB Container 0 =============+\u001b[34m|\u001b[90m|\n",
      "\u001b[90m|\u001b[34m|\u001b[90m|                 Size: 544 B                 |\u001b[34m|\u001b[90m|\n",
      "\u001b[90m|\u001b[34m|\u001b[90m|       AHAB Container for oem_SWver:0        |\u001b[34m|\u001b[90m|\n",
      "\u001b[90m|\u001b[34m|\u001b[90m+==0x0000_021f================================+\u001b[34m|\u001b[90m|\n",
      "\u001b[90m|\u001b[34m+==0x0000_1fff==================================+\u001b[90m|\n",
      "\u001b[90m|\u001b[32m+==0x0000_2000= Container 0 AHAB Data Image 0 ==+\u001b[90m|\n",
      "\u001b[90m|\u001b[32m|           Size: 86.0 kiB; 88,064 B            |\u001b[90m|\n",
      "\u001b[90m|\u001b[32m|    AHAB data block for cortex-m33 core and    |\u001b[90m|\n",
      "\u001b[90m|\u001b[32m|            executable Image Type.             |\u001b[90m|\n",
      "\u001b[90m|\u001b[32m+==0x0001_77ff==================================+\u001b[90m|\n",
      "\u001b[90m+==0x0001_77ff====================================+\n",
      "\u001b[39m\u001b[39m\u001b[0m\n",
      "Success. (AHAB: workspace/flashloader_cm33_ahab.bin created.)\n",
      "Generated file containing SRK hash: workspace/flashloader_cm33_ahab_oem0_srk0_hash.txt\n",
      "\u001b[37m\u001b[1mINFO:spsdk.image.ahab.utils:\n",
      "Fuses info:\n",
      "\n",
      " --== Grouped register name: SRKH ==-- \n",
      "OTP ID: 128, Value: 0x74c72ccb\n",
      "OTP ID: 129, Value: 0x92ecdcb2\n",
      "OTP ID: 130, Value: 0xa0ec40c8\n",
      "OTP ID: 131, Value: 0xf8786b64\n",
      "OTP ID: 132, Value: 0x3a1d66d3\n",
      "OTP ID: 133, Value: 0x5a26ed43\n",
      "OTP ID: 134, Value: 0xac130a49\n",
      "OTP ID: 135, Value: 0xa195ea7\n",
      "\u001b[39m\u001b[0m\n",
      "Generated script for writing fuses for container 0: workspace/flashloader_cm33_ahab_oem0_srk0_hash_blhost.bcf\n"
     ]
    }
   ],
   "source": [
    "# Export AHAB container using nxpimage\n",
    "%! nxpimage $VERBOSITY ahab export -c $AHAB_CONFIG\n",
    "\n",
    "assert os.path.exists(AHAB_CONFIG)"
   ]
  },
  {
   "cell_type": "markdown",
   "metadata": {},
   "source": [
    "\n",
    "\n",
    "## 4. Create a Bootable Image\n",
    "To properly load the created flashloader over serial downloader mode, a bootable image must be created. In the case of serial downloader, the bootable image is composed of an optional XMCD block (up to 1KB, 0x400B) and the AHAB image itself."
   ]
  },
  {
   "cell_type": "code",
   "execution_count": 5,
   "metadata": {
    "tags": [
     "remove-input"
    ]
   },
   "outputs": [
    {
     "name": "stdout",
     "output_type": "stream",
     "text": [
      "nxpimage bootable-image get-templates -f mimxrt1189 -o workspace/bootable_image_templates --force \n",
      "Creating workspace/bootable_image_templates/bootimg_mimxrt1189_serial_downloader.yaml template file.\n",
      "Creating workspace/bootable_image_templates/bootimg_mimxrt1189_flexspi_nor.yaml template file.\n",
      "Creating workspace/bootable_image_templates/bootimg_mimxrt1189_flexspi_nand.yaml template file.\n",
      "Creating workspace/bootable_image_templates/bootimg_mimxrt1189_semc_nand.yaml template file.\n",
      "Creating workspace/bootable_image_templates/bootimg_mimxrt1189_emmc.yaml template file.\n",
      "Creating workspace/bootable_image_templates/bootimg_mimxrt1189_sd.yaml template file.\n"
     ]
    },
    {
     "data": {
      "text/html": [
       "\n",
       "            \n",
       "            <style>\n",
       "                .yaml-diff { font-family: monospace; background-color: #f0f0f0; padding: 1em; border: 1px solid #c0c0c0; }\n",
       "                .yaml-key { color: #0000CC; font-weight: bold; }\n",
       "                .yaml-value { color: #006600; }\n",
       "                .yaml-commented-line { color: #008800; }\n",
       "                .yaml-list-item { color: #660066; }\n",
       "                .diff-removed { background-color: #ffaaaa; }\n",
       "                .diff-added { background-color: #aaffaa; }\n",
       "                .yaml-comment {\n",
       "                    background-color: #FF8C00;\n",
       "                    color: #000000;\n",
       "                    border-radius: 50%;\n",
       "                    padding: 0 0.3em;\n",
       "                    margin-left: 0.5em;\n",
       "                    font-size: 0.8em;\n",
       "                    cursor: help;\n",
       "                    font-weight: bold;\n",
       "                    text-shadow: 1px 1px 1px rgba(255, 255, 255, 0.7);\n",
       "                }\n",
       "                #toggleButton_d26ef9b6a5c9eb3112f80ecddae08438 {\n",
       "                    background-color: #4CAF50;\n",
       "                    border: none;\n",
       "                    color: white;\n",
       "                    padding: 10px 20px;\n",
       "                    text-align: center;\n",
       "                    text-decoration: none;\n",
       "                    display: inline-block;\n",
       "                    font-size: 16px;\n",
       "                    margin: 4px 2px;\n",
       "                    cursor: pointer;\n",
       "                }\n",
       "            </style>\n",
       "            \n",
       "            \n",
       "            <script>\n",
       "            function toggleView_d26ef9b6a5c9eb3112f80ecddae08438() {\n",
       "                var diffView = document.getElementById('diffView_d26ef9b6a5c9eb3112f80ecddae08438');\n",
       "                var userConfigView = document.getElementById('userConfigView_d26ef9b6a5c9eb3112f80ecddae08438');\n",
       "                var button = document.getElementById('toggleButton_d26ef9b6a5c9eb3112f80ecddae08438');\n",
       "\n",
       "                if (diffView.style.display === 'none' && userConfigView.style.display === 'none') {\n",
       "                    diffView.style.display = 'block';\n",
       "                    userConfigView.style.display = 'none';\n",
       "                    button.textContent = 'Show User Config';\n",
       "                } else if (diffView.style.display === 'block') {\n",
       "                    diffView.style.display = 'none';\n",
       "                    userConfigView.style.display = 'block';\n",
       "                    button.textContent = 'Hide';\n",
       "                } else {\n",
       "                    diffView.style.display = 'none';\n",
       "                    userConfigView.style.display = 'none';\n",
       "                    button.textContent = 'Show Diff';\n",
       "                }\n",
       "            }\n",
       "            </script>\n",
       "            \n",
       "            <div class=\"yaml-diff-container\">\n",
       "            <h3>Configuration Differences</h3>\n",
       "            <button onclick=\"toggleView_d26ef9b6a5c9eb3112f80ecddae08438()\" id=\"toggleButton_d26ef9b6a5c9eb3112f80ecddae08438\">Show Diff</button>\n",
       "            \n",
       "            <a href=\"data:text/plain;base64,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\" download=\"user_config.yaml\">\n",
       "                <button style=\"background-color: #4CAF50; border: none; color: white; padding: 10px 20px; text-align: center; text-decoration: none; display: inline-block; font-size: 16px; margin: 4px 2px; cursor: pointer;\">\n",
       "                    Download Config\n",
       "                </button>\n",
       "            </a>\n",
       "            \n",
       "            <div id=\"diffView_d26ef9b6a5c9eb3112f80ecddae08438\" class=\"yaml-diff\" style=\"display:none;\"><pre class=\"yaml-diff\"><span class=\"yaml-commented-line\"># ====================  Bootable Image Configuration template for mimxrt1189 / Serial downloader.  =====================</span><br><br><span class=\"yaml-commented-line\"># ======================================================================================================================</span><br><span class=\"yaml-commented-line\">#                                                 == General Options ==                                                 </span><br><span class=\"yaml-commented-line\"># ======================================================================================================================</span><br><span class=\"yaml-commented-line\"># -------------------------------------===== The chip family name [Required] =====--------------------------------------</span><br><span class=\"yaml-commented-line\"># Description: NXP chip family identifier.</span><br><span class=\"yaml-commented-line\"># Possible options: <k32w148, kw45b41z5, kw45b41z8, kw47b42z83, kw47b42z96, kw47b42z97, kw47b42zb2, kw47b42zb3,</span><br><span class=\"yaml-commented-line\"># kw47b42zb6, kw47b42zb7, kw47z42082, kw47z42092, kw47z420b2, kw47z420b3, lpc5502, lpc5504, lpc5506, lpc5512, lpc5514,</span><br><span class=\"yaml-commented-line\"># lpc5516, lpc5526, lpc5528, lpc5534, lpc5536, lpc55s04, lpc55s06, lpc55s14, lpc55s16, lpc55s26, lpc55s28, lpc55s36,</span><br><span class=\"yaml-commented-line\"># lpc55s66, lpc55s69, mc56f81646, mc56f81648, mc56f81666, mc56f81668, mc56f81746, mc56f81748, mc56f81766, mc56f81768,</span><br><span class=\"yaml-commented-line\"># mcxa132, mcxa133, mcxa142, mcxa143, mcxa144, mcxa145, mcxa146, mcxa152, mcxa153, mcxa154, mcxa155, mcxa156, mcxa165,</span><br><span class=\"yaml-commented-line\"># mcxa166, mcxa175, mcxa176, mcxa275, mcxa276, mcxn235, mcxn236, mcxn546, mcxn547, mcxn946, mcxn947, mcxw716a, mcxw716c,</span><br><span class=\"yaml-commented-line\"># mcxw727a, mcxw727c, mcxw727d, mimx8ulp, mimx9131, mimx9352, mimx9596, mimxrt1010, mimxrt1015, mimxrt1020, mimxrt1024,</span><br><span class=\"yaml-commented-line\"># mimxrt1040, mimxrt1043, mimxrt1046, mimxrt1050, mimxrt1060, mimxrt1064, mimxrt1165, mimxrt1166, mimxrt1171,</span><br><span class=\"yaml-commented-line\"># mimxrt1172, mimxrt1173, mimxrt1175, mimxrt1176, mimxrt1181, mimxrt1182, mimxrt1187, mimxrt1189, mimxrt533s,</span><br><span class=\"yaml-commented-line\"># mimxrt555s, mimxrt595s, mimxrt685s, mimxrt735s, mimxrt758s, mimxrt798s, mwct2012, mwct2012a, nhs52s04, rw610, rw612></span><br><span class=\"yaml-key\">family</span>: <span class=\"yaml-value\">mimxrt1189</span><br><span class=\"yaml-commented-line\"># -----------------------------------------===== MCU revision [Optional] =====------------------------------------------</span><br><span class=\"yaml-commented-line\"># Description: Revision of silicon. The 'latest' name, means most current revision.</span><br><span class=\"yaml-commented-line\"># Possible options: <a0, b0, latest></span><br><span class=\"yaml-key\">revision</span>: <span class=\"yaml-value\">latest</span><br><span class=\"yaml-commented-line\"># ------------------------------------------===== Memory type [Required] =====------------------------------------------</span><br><span class=\"yaml-commented-line\"># Description: Specify type of memory used by bootable image description.</span><br><span class=\"yaml-key\">memory_type</span>: <span class=\"yaml-value\">serial_downloader</span><br><span class=\"yaml-commented-line\"># ----------------------------------------===== Initial segment [Optional] =====----------------------------------------</span><br><span class=\"yaml-commented-line\"># Description: The segment name or the index of initial segment in exported image</span><br><span class=\"diff-removed\"><span class=\"yaml-key\">init_offset</span>: <span class=\"yaml-value\">0</span> <span style=\"background-color: #FFFF00; border-radius: 5px; padding: 2px 6px;\n",
       "margin-left: 5px; font-size: 0.8em;\">This might be removed</span></span><br><span class=\"yaml-commented-line\"># ======================================================================================================================</span><br><span class=\"yaml-commented-line\">#                                           == Bootable Segments definition ==                                          </span><br><span class=\"yaml-commented-line\"># ======================================================================================================================</span><br><span class=\"yaml-commented-line\"># ----------------------------------------===== XMCD block path [Optional] =====----------------------------------------</span><br><span class=\"yaml-commented-line\"># Description: External Memory Configuration Data Segment Image path. It could be used as pre-prepared binary form of</span><br><span class=\"yaml-commented-line\"># XMCD and also YAML configuration file for XMCD. In case that YAML configuration file is used, the Bootable image tool</span><br><span class=\"yaml-commented-line\"># build the XMCD itself.</span><br><span class=\"diff-removed\"><span class=\"yaml-key\">xmcd</span>: <span class=\"yaml-value\">xmcd.bin</span> <span style=\"background-color: #FFFF00; border-radius: 5px; padding: 2px 6px;\n",
       "margin-left: 5px; font-size: 0.8em;\">Remove XMCD block section from configuration file (no custom XMCD will be used)</span></span><br><span class=\"yaml-commented-line\"># ======================================================================================================================</span><br><span class=\"yaml-commented-line\">#                                          == Executable Segment definition ==                                          </span><br><span class=\"yaml-commented-line\"># ======================================================================================================================</span><br><span class=\"yaml-commented-line\"># ----------------------------------------===== AHAB container [Optional] =====-----------------------------------------</span><br><span class=\"yaml-commented-line\"># Description: AHAB container image path. It could be used as pre-prepared binary form of AHAB and also YAML</span><br><span class=\"yaml-commented-line\"># configuration file for AHAB. In case that YAML configuration file is used, the Bootable image tool build the AHAB</span><br><span class=\"yaml-commented-line\"># itself.</span><br><span class=\"diff-removed\"><span class=\"yaml-key\">ahab_container</span>: <span class=\"yaml-value\">ahab_container.yaml</span> <span style=\"background-color: #FFFF00; border-radius: 5px;\n",
       "padding: 2px 6px; margin-left: 5px; font-size: 0.8em;\">Specify the path to the AHAB container generated in the previous step</span></span><br><span class=\"diff-added\"><span class=\"yaml-key\">ahab_container</span>: <span class=\"yaml-value\">../workspace/flashloader_cm33_ahab.bin</span></span><br></pre></div>\n",
       "            <div id=\"userConfigView_d26ef9b6a5c9eb3112f80ecddae08438\" class=\"yaml-diff\" style=\"display:none;\"><pre class=\"yaml-diff\"><span class=\"yaml-commented-line\"># Copyright 2024 NXP</span><br><span class=\"yaml-commented-line\">#</span><br><span class=\"yaml-commented-line\"># SPDX-License-Identifier: BSD-3-Clause</span><br><span class=\"yaml-commented-line\"># ================================  Bootable Image Configuration template for mimxrt1189.  =================================</span><br><br><span class=\"yaml-commented-line\"># ======================================================================================================================</span><br><span class=\"yaml-commented-line\">#                                                 == General Options ==</span><br><span class=\"yaml-commented-line\"># ======================================================================================================================</span><br><span class=\"yaml-commented-line\"># ------------------------------------------===== MCU family [Required] =====-------------------------------------------</span><br><span class=\"yaml-commented-line\"># Description: MCU family name.</span><br><span class=\"yaml-commented-line\"># Possible options: <lpc55s36, mimxrt1010, mimxrt1024, mimxrt1040, mimxrt1050, mimxrt1064, mimxrt1166, mimxrt1176, mimxrt1189, mimxrt595s, mimxrt685s, rw612></span><br><span class=\"yaml-key\">family</span>: <span class=\"yaml-value\">mimxrt1189</span><br><span class=\"yaml-commented-line\"># -------------------------------------===== Chip silicon revision [Optional] =====-------------------------------------</span><br><span class=\"yaml-commented-line\"># Description: If needed this could be used to specify silicon revision of device.</span><br><span class=\"yaml-commented-line\"># Possible options: <a0, b0, latest></span><br><span class=\"yaml-key\">revision</span>: <span class=\"yaml-value\">latest</span><br><span class=\"yaml-commented-line\"># ------------------------------------------===== Memory type [Required] =====------------------------------------------</span><br><span class=\"yaml-commented-line\"># Description: Specify type of memory used by bootable image description.</span><br><span class=\"yaml-commented-line\"># Possible options: <serial_downloader, flexspi_nor, flexspi_nand, semc_nand></span><br><span class=\"yaml-key\">memory_type</span>: <span class=\"yaml-value\">serial_downloader</span><br><span class=\"yaml-commented-line\"># ======================================================================================================================</span><br><span class=\"yaml-commented-line\">#                                          == Executable Segment definition ==</span><br><span class=\"yaml-commented-line\"># ======================================================================================================================</span><br><span class=\"yaml-commented-line\"># ----------------------------------------===== AHAB container [Required] =====-----------------------------------------</span><br><span class=\"yaml-commented-line\"># Description: AHAB container image path. It could be used as pre-prepared binary form of AHAB and also YAML</span><br><span class=\"yaml-commented-line\"># configuration file for AHAB. In case that YAML configuration file is used, the Bootable image tool build the AHAB</span><br><span class=\"yaml-commented-line\"># itself.</span><br><span class=\"yaml-key\">ahab_container</span>: <span class=\"yaml-value\">../workspace/flashloader_cm33_ahab.bin</span> <span style=\"background-color: #FFFF00;\n",
       "border-radius: 5px; padding: 2px 6px; margin-left: 5px; font-size: 0.8em;\">Specify the path to the AHAB container generated in the previous step</span><br></pre></div>\n",
       "            </div>\n",
       "            "
      ],
      "text/plain": [
       "<IPython.core.display.HTML object>"
      ]
     },
     "execution_count": 5,
     "metadata": {},
     "output_type": "execute_result"
    }
   ],
   "source": [
    "YamlDiffWidget(\"inputs/rt118x_signed_flashloader_bootable.diffc\").html"
   ]
  },
  {
   "attachments": {},
   "cell_type": "markdown",
   "metadata": {},
   "source": [
    "### 4.1 Export the final bootable image"
   ]
  },
  {
   "cell_type": "code",
   "execution_count": 6,
   "metadata": {},
   "outputs": [
    {
     "name": "stdout",
     "output_type": "stream",
     "text": [
      "nxpimage -v bootable-image merge -c inputs/bootimg_rt118x_serial_downloader.yaml -o workspace/flashloader.bin \n",
      "\u001b[37m\u001b[1mINFO:spsdk.apps.nxpimage:Created Bootable Image:\n",
      "Name:      Bootable Image for mimxrt1189\n",
      "Starts:    0x0\n",
      "Ends:      0x17bff\n",
      "Size:      Size: 95.0 kiB; 97,280 B\n",
      "Alignment: 1 B\n",
      "Execution Start Address: Not defined\n",
      "Pattern:zeros\n",
      "Memory type: MemoryType.SERIAL_DOWNLOADER\n",
      "Revision: latest\n",
      "\u001b[39m\u001b[0m\n",
      "\u001b[37m\u001b[1mINFO:spsdk.apps.nxpimage:Created Bootable Image memory map:\n",
      "\n",
      "\u001b[90m+==0x0000_0000= Bootable Image for mimxrt1189 ==+\n",
      "\u001b[90m|           Size: 95.0 kiB; 97,280 B            |\n",
      "\u001b[90m|   Memory type: MemoryType.SERIAL_DOWNLOADER   |\n",
      "\u001b[90m|               Revision: latest                |\n",
      "\u001b[90m|                Pattern: zeros                 |\n",
      "\u001b[90m|                 Gap: 1.0 kiB                  |\n",
      "\u001b[90m|\u001b[34m+==0x0000_0400= ahab_container ===============+\u001b[90m|\n",
      "\u001b[90m|\u001b[34m|          Size: 94.0 kiB; 96,256 B           |\u001b[90m|\n",
      "\u001b[90m|\u001b[34m+==0x0001_7bff================================+\u001b[90m|\n",
      "\u001b[90m+==0x0001_7bff==================================+\n",
      "\u001b[39m\u001b[39m\u001b[0m\n",
      "Success. (Bootable Image: workspace/flashloader.bin created) \n"
     ]
    }
   ],
   "source": [
    "# Export bootable image\n",
    "\n",
    "%! nxpimage $VERBOSITY bootable-image merge -c $BOOTIMG_CONFIG -o $FLASHLOADER\n",
    "\n",
    "assert os.path.exists(FLASHLOADER)"
   ]
  },
  {
   "cell_type": "markdown",
   "metadata": {},
   "source": [
    "## 5. Generated flashloader file load to i.MXRT118x\n",
    "As the final step, load the flashloader into the MCU and run it. The easiest way to do this is by using the 'blhost' application with the 'load-image' command.\n",
    "\n",
    "Ensure that the chip is in serial downloader mode!\n",
    "\n",
    "Here are two examples of how to do this over a Serial line or USB:\n",
    "- `blhost -p com1 load-image workspace/flashloader.bin`\n",
    "- `blhost -u 0x1fc9:0x014c load-image workspace/flashloader.bin`"
   ]
  }
 ],
 "metadata": {
  "kernelspec": {
   "display_name": "venv",
   "language": "python",
   "name": "python3"
  },
  "language_info": {
   "codemirror_mode": {
    "name": "ipython",
    "version": 3
   },
   "file_extension": ".py",
   "mimetype": "text/x-python",
   "name": "python",
   "nbconvert_exporter": "python",
   "pygments_lexer": "ipython3",
   "version": "3.11.1"
  }
 },
 "nbformat": 4,
 "nbformat_minor": 2
}
