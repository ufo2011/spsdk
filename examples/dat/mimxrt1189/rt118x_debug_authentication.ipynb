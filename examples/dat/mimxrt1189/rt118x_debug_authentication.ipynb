{
 "cells": [
  {
   "cell_type": "markdown",
   "metadata": {},
   "source": [
    "# i.MXRT118x Debug Authentication example\n",
    "I.MX RT118x offers the Debug Authentication Protocol (DAP) as a mechanism to authenticate the debugger (an external entity) which has the credentials approved by the product manufacturer before granting the debug access to the device. This example demonstrates process how to establish Debug Authentication protocol.\n",
    "\n",
    "The process could be split into following steps:"
   ]
  },
  {
   "cell_type": "markdown",
   "metadata": {},
   "source": [
    "## Introduction\n",
    "The fundamental principles of debugging, which require access to the system state and system information, conflict with the principles of security, which require the restriction of access to assets. Thus, many products disable debug access completely before deploying the product. To address these challenges, the chip offers a debug authentication protocol as a mechanism to authenticate the debugger (an external entity) has the credentials approved by the product manufacturer before granting debug access to the device.\n",
    "The debug authentication is a challenge-response scheme and assures that only the debugger in possession of the required debug credentials can successfully authenticate over the debug interface and access restricted parts of the device. "
   ]
  },
  {
   "cell_type": "markdown",
   "metadata": {},
   "source": [
    "The protocol is divided into steps as described below:\n",
    "1. The debugger initiates the Debug Mailbox message exchange by setting the CSW[RESYNCH_REQ] bit and\n",
    "CSW[CHIP_RESET_REQ] bit of DM-AP.\n",
    "2. The debugger waits (minimum 30 ms) for the devices to restart and enter debug mailbox request handling loop.\n",
    "3. The debugger sends Debug Authentication Start command (command code 10h) to the device.\n",
    "4. The device responds back with Debug Authentication Challenge (DAC) packet based on the debug access rights preconfigured in CMPA fields, which are collectively referred as Device Credential Constraints Configuration (DCFG_CC).\n",
    "The response packet also contains a 32 bytes random challenge vector.\n",
    "5. The debugger responds to the challenge with a Debug Authentication Response (DAR) message by using an\n",
    "appropriate debug certificate, matching the device identifier in the DAC. The DAR packet contains the debug access\n",
    "permission certificate, also referred as Debug Credential (DC), and a cryptographic signature binding the DC and the\n",
    "challenge vector provided in the DAC.\n",
    "6. The device on receiving the DAR, validates the contents by verifying the cryptographic signature of the message using\n",
    "the debugger's public key present in the embedded the Debug Credential (DC). On successful validation of DAR, the\n",
    "device enables access to the debug domains permitted in the DC"
   ]
  },
  {
   "cell_type": "markdown",
   "metadata": {},
   "source": [
    "![debug_authentication_flow](../img/debug_authentication_flow.png)"
   ]
  },
  {
   "cell_type": "markdown",
   "metadata": {},
   "source": [
    "## 1. Prerequisites\n",
    "- SPSDK is needed with examples extension. `pip install spsdk[examples]` (Please refer to the [installation](../../_knowledge_base/installation_guide.rst) documentation.)\n",
    "- The device must be properly configured to run signed application (example of run signed application is here: [AHAB Secure boot](../../ahab/rt118x_secure_boot/rt118x_secure_boot.ipynb))\n",
    "- The device life cycle must be moved to state OEM_CLOSED (see more detail also in [AHAB Secure boot](../../ahab/rt118x_secure_boot/rt118x_secure_boot.ipynb))\n",
    "- This example uses EVK-MIMXRT1189 board. This is example board configuration with external debugger. In our case we used Segger J-Link probe connected over sandard 20 pin JTAG connector.\n",
    "\n",
    "  <img src=\"../../_data/img/boards/rt1189-evk.png\" alt=\"rt1189-evk\" height=\"400\">\n",
    "\n",
    "### 1.1 Let's prepare the environment"
   ]
  },
  {
   "cell_type": "code",
   "execution_count": null,
   "metadata": {
    "tags": [
     "remove-cell"
    ]
   },
   "outputs": [
    {
     "name": "stdout",
     "output_type": "stream",
     "text": [
      "env: JUPYTER_SPSDK=1\n",
      "Created `%!` as an alias for `%execute`.\n"
     ]
    }
   ],
   "source": [
    "from spsdk.utils.jupyter_utils import YamlDiffWidget\n",
    "\n",
    "# This env variable sets colored logger output to STDOUT\n",
    "%env JUPYTER_SPSDK=1\n",
    "# Set a magic for command execution and echo\n",
    "%alias execute echo %l && %l\n",
    "%alias_magic ! execute"
   ]
  },
  {
   "cell_type": "code",
   "execution_count": null,
   "metadata": {},
   "outputs": [
    {
     "name": "stdout",
     "output_type": "stream",
     "text": [
      "env: JUPYTER_SPSDK=1\n",
      "Created `%!` as an alias for `%execute`.\n"
     ]
    }
   ],
   "source": [
    "WORKSPACE = \"workspace/\"  # change this to path to your workspace\n",
    "INPUTS = \"inputs/\"\n",
    "VERBOSITY = (\n",
    "    \"-v\"  # verbosity of commands, might be -v or -vv for debug or blank for no additional info\n",
    ")\n",
    "\n",
    "DAT_CONFIG = INPUTS + \"dat_config.yaml\"  # yaml file with configuration used in this example\n",
    "DC_CONFIG = (\n",
    "    INPUTS + \"dc_config.yaml\"\n",
    ")  # yaml file with configuration used in this example for debug credential file\n",
    "\n",
    "# DEBUGGER_PROBE = \"pyocd\" #onboard debugger on EVK-RT118x rev C\n",
    "DEBUGGER_PROBE = \"pyocd\"\n",
    "# Only one probe can be connected to the board.\n",
    "\n",
    "FAMILY = \"mimxrt1189\""
   ]
  },
  {
   "cell_type": "markdown",
   "metadata": {},
   "source": [
    "## 2. Generate RoT + Debug auth keys\n",
    "\n",
    "First we need to generate Root of Trust Keys (RoTKs)/Super Root Keys (SRKs) and Debug Credential Key (DCK). Use *nxpcrypto* app to generate secp256r1 keys (see [How-to-get-keys-using-nxpcrypto](../../crypto/keys.ipynb)).\n",
    "We will need by default create 4 RoTKs and 1 DCK.\n",
    "\n",
    "The notebook is using pre-generated keys just for that example purposes from folder `_data/keys/ecc256` in root of all SPSDK examples.\n",
    "\n",
    "## 3. Generate debug credential file including its configuration file\n",
    "\n",
    "First we need to prepare the configuration file for `debug credential file` export. Let's begin by creating a template configuration file using the `nxpdebugmbox dat dc get-template` command. To simplify this example, we have already prepared that configuration, which can be found in the [./inputs/dc_config.yaml](./inputs/dc_config.yaml) file. Below, we'll compare the differences between the template and our customized example to highlight the additions we've made.\n",
    "\n",
    "Note: As is mentioned in introduction, the DC file should be created by owner of RoT credentials.\n",
    "\n",
    "Note: Example how to get UUID for one device: Connect debug probe into the connector and read the UUID by `nxpdebugmbox -f mimxrt1189 tool get-uuid`"
   ]
  },
  {
   "cell_type": "code",
   "execution_count": 2,
   "metadata": {},
   "outputs": [
    {
     "name": "stdout",
     "output_type": "stream",
     "text": [
      "nxpdebugmbox -f mimxrt1189 dat dc get-template -o workspace/dc_config.yaml --force \n",
      "The Debug Credentials template for mimxrt1189 has been saved into workspace\\dc_config.yaml YAML file\n"
     ]
    },
    {
     "data": {
      "text/html": [
       "\n",
       "        \n",
       "        <style>\n",
       "            .yaml-diff { font-family: monospace; background-color: #f0f0f0; padding: 1em; border: 1px solid #c0c0c0; }\n",
       "            .yaml-key { color: #0000CC; font-weight: bold; }\n",
       "            .yaml-value { color: #006600; }\n",
       "            .yaml-commented-line { color: #008800; }\n",
       "            .yaml-list-item { color: #660066; }\n",
       "            .diff-removed { background-color: #ffaaaa; }\n",
       "            .diff-added { background-color: #aaffaa; }\n",
       "            .yaml-comment {\n",
       "                background-color: #FF8C00;\n",
       "                color: #000000;\n",
       "                border-radius: 50%;\n",
       "                padding: 0 0.3em;\n",
       "                margin-left: 0.5em;\n",
       "                font-size: 0.8em;\n",
       "                cursor: help;\n",
       "                font-weight: bold;\n",
       "                text-shadow: 1px 1px 1px rgba(255, 255, 255, 0.7);\n",
       "            }\n",
       "            #toggleButton_e7fee36e7375ce2e95dcb692dbb79cf2 {\n",
       "                background-color: #4CAF50;\n",
       "                border: none;\n",
       "                color: white;\n",
       "                padding: 10px 20px;\n",
       "                text-align: center;\n",
       "                text-decoration: none;\n",
       "                display: inline-block;\n",
       "                font-size: 16px;\n",
       "                margin: 4px 2px;\n",
       "                cursor: pointer;\n",
       "            }\n",
       "        </style>\n",
       "        \n",
       "        \n",
       "        <script>\n",
       "        function toggleView_e7fee36e7375ce2e95dcb692dbb79cf2() {\n",
       "            var diffView = document.getElementById('diffView_e7fee36e7375ce2e95dcb692dbb79cf2');\n",
       "            var userConfigView = document.getElementById('userConfigView_e7fee36e7375ce2e95dcb692dbb79cf2');\n",
       "            var button = document.getElementById('toggleButton_e7fee36e7375ce2e95dcb692dbb79cf2');\n",
       "\n",
       "            if (diffView.style.display === 'none' && userConfigView.style.display === 'none') {\n",
       "                diffView.style.display = 'block';\n",
       "                userConfigView.style.display = 'none';\n",
       "                button.textContent = 'Show User Config';\n",
       "            } else if (diffView.style.display === 'block') {\n",
       "                diffView.style.display = 'none';\n",
       "                userConfigView.style.display = 'block';\n",
       "                button.textContent = 'Hide';\n",
       "            } else {\n",
       "                diffView.style.display = 'none';\n",
       "                userConfigView.style.display = 'none';\n",
       "                button.textContent = 'Show Diff';\n",
       "            }\n",
       "        }\n",
       "        </script>\n",
       "        \n",
       "        <div class=\"yaml-diff-container\">\n",
       "          <h3>Configuration Differences</h3>\n",
       "          <button onclick=\"toggleView_e7fee36e7375ce2e95dcb692dbb79cf2()\" id=\"toggleButton_e7fee36e7375ce2e95dcb692dbb79cf2\">Show Diff</button>\n",
       "          \n",
       "        <a href=\"data:text/plain;base64,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\" download=\"user_config.yaml\">\n",
       "            <button style=\"background-color: #4CAF50; border: none; color: white; padding: 10px 20px; text-align: center; text-decoration: none; display: inline-block; font-size: 16px; margin: 4px 2px; cursor: pointer;\">\n",
       "                Download Config\n",
       "            </button>\n",
       "        </a>\n",
       "        \n",
       "          <div id=\"diffView_e7fee36e7375ce2e95dcb692dbb79cf2\" class=\"yaml-diff\" style=\"display:none;\"><pre class=\"yaml-diff\"><span class=\"yaml-commented-line\"># ==============================  Debug Credential file template for mimxrt1189 family.  ===============================</span><br><span class=\"diff-removed\"></span><br><br><span class=\"yaml-commented-line\"># -------------------------------------------------------- Note --------------------------------------------------------</span><br><br><span class=\"yaml-commented-line\"># Debug credential file has following binary structure:</span><br><span class=\"yaml-commented-line\">#  ============================================</span><br><span class=\"yaml-commented-line\">#  ============================================</span><br><span class=\"yaml-commented-line\">#  ===              Version                 ===</span><br><span class=\"yaml-commented-line\">#  ============================================</span><br><span class=\"yaml-commented-line\">#  ===             Soc Class                ===</span><br><span class=\"yaml-commented-line\">#  ============================================</span><br><span class=\"yaml-commented-line\">#  ===                UUID                  ===</span><br><span class=\"yaml-commented-line\">#  ============================================</span><br><span class=\"yaml-commented-line\">#  ===    RoT Meta SHA256 of following:     ===</span><br><span class=\"yaml-commented-line\">#  ===          RoT Key0 SHA256             ===</span><br><span class=\"yaml-commented-line\">#  ===          RoT Key1 SHA256             ===</span><br><span class=\"yaml-commented-line\">#  ===          RoT Key2 SHA256             ===</span><br><span class=\"yaml-commented-line\">#  ===          RoT Key3 SHA256             ===</span><br><span class=\"yaml-commented-line\">#  ============================================</span><br><span class=\"yaml-commented-line\">#  ===        Debugger Key DCK (Pub):       ===</span><br><span class=\"yaml-commented-line\">#  ===                                      ===</span><br><span class=\"yaml-commented-line\">#  ============================================</span><br><span class=\"yaml-commented-line\">#  ===              CC SOCU                 ===</span><br><span class=\"yaml-commented-line\">#  ============================================</span><br><span class=\"yaml-commented-line\">#  ===               CC VU                  ===</span><br><span class=\"yaml-commented-line\">#  ============================================</span><br><span class=\"yaml-commented-line\">#  ===                 CB                   ===</span><br><span class=\"yaml-commented-line\">#  ============================================</span><br><span class=\"yaml-commented-line\">#  ===            RoT Key (pub)             ===</span><br><span class=\"yaml-commented-line\">#  ===                                      ===</span><br><span class=\"yaml-commented-line\">#  ============================================</span><br><span class=\"yaml-commented-line\">#  ============================================</span><br><span class=\"yaml-commented-line\">#  ===       Signature of all block         ===</span><br><span class=\"yaml-commented-line\">#  ===  SHA256 of whole block => Sign(RoTK) ===</span><br><span class=\"yaml-commented-line\">#  ============================================</span><br><span class=\"yaml-commented-line\">#  ============================================</span><br><br><span class=\"diff-removed\"></span><br><span class=\"yaml-commented-line\">#  ============================================</span><br><span class=\"yaml-commented-line\">#  Debug Credential Signature</span><br><span class=\"yaml-commented-line\">#  ============================================</span><br><span class=\"yaml-commented-line\">#  There are two ways how sign the final DC data blob.</span><br><br><span class=\"yaml-commented-line\">#  1. In case that you is available private pair for rot_meta with index rot_id just use first simple style</span><br><span class=\"yaml-commented-line\">#  to use it by rotk key. As a second way to do same is use sign_provider (or signProvider - both are accepted) option</span><br><span class=\"yaml-commented-line\"># with 'type=file'.</span><br><br><span class=\"yaml-commented-line\">#  2. For case that Debug Credential files are generated in untrusted environment (without access to RoT private keys),</span><br><span class=\"yaml-commented-line\">#  there is option to use plugin (example how to create own plugin is in: ./SPSDK/examples/dat/hsm/). The plugin</span><br><span class=\"yaml-commented-line\">#  has simple interface that allows handle DC data blob into plugin with index of RoT meta public key to get back signed</span><br><span class=\"yaml-commented-line\">#  DC image.</span><br><br><span class=\"yaml-commented-line\">#  Those options are exclusive, so only one option could be used to sign the DC.</span><br><br><span class=\"diff-removed\"></span><br><span class=\"yaml-commented-line\"># ======================================================================================================================</span><br><span class=\"yaml-commented-line\">#                                                 == General Options ==                                                 </span><br><span class=\"yaml-commented-line\"># ======================================================================================================================</span><br><span class=\"yaml-commented-line\"># ------------------------------===== The chip family name [Conditionally required] =====-------------------------------</span><br><span class=\"yaml-commented-line\"># Description: NXP chip family identifier.</span><br><span class=\"yaml-commented-line\"># Possible options: <k32w148, kw45b41z5, kw45b41z8, lpc55s04, lpc55s06, lpc55s14, lpc55s16, lpc55s26, lpc55s28,</span><br><span class=\"yaml-commented-line\"># lpc55s36, lpc55s66, lpc55s69, mcxa132, mcxa133, mcxa142, mcxa143, mcxa144, mcxa145, mcxa146, mcxa152, mcxa153,</span><br><span class=\"yaml-commented-line\"># mcxa154, mcxa155, mcxa156, mcxn235, mcxn236, mcxn546, mcxn547, mcxn946, mcxn947, mcxw716a, mcxw716c, mimx8ulp,</span><br><span class=\"yaml-commented-line\"># mimx9131, mimx9352, mimx9596, mimxrt1181, mimxrt1182, mimxrt1187, mimxrt1189, mimxrt533s, mimxrt555s, mimxrt595s,</span><br><span class=\"yaml-commented-line\"># mimxrt685s, mimxrt798s, nhs52s04, rw610, rw612></span><br><span class=\"yaml-key\">family</span>: <span class=\"yaml-value\">mimxrt1189</span><br><span class=\"yaml-commented-line\"># -----------------------------------------===== MCU revision [Optional] =====------------------------------------------</span><br><span class=\"yaml-commented-line\"># Description: Revision of silicon. The 'latest' name, means most current revision.</span><br><span class=\"yaml-commented-line\"># Possible options: <a0, b0, latest></span><br><span class=\"yaml-key\">revision</span>: <span class=\"yaml-value\">latest</span><br><span class=\"yaml-commented-line\"># ======================================================================================================================</span><br><span class=\"yaml-commented-line\">#                                             == Debug Credential Content ==                                            </span><br><span class=\"yaml-commented-line\"># ======================================================================================================================</span><br><span class=\"yaml-commented-line\"># ------------------------------------------===== Device UUID [Required] =====------------------------------------------</span><br><span class=\"yaml-commented-line\"># Description: 128-bit IETF RFC4122 compliant non-sequential Universally Unique Identifier (UUID)</span><br><span class=\"yaml-key\">uuid</span>: <span class=\"yaml-value\">'00000000000000000000000000000000'</span> <span style=\"background-color: #FFFF00; border-radius:\n",
       "5px; padding: 2px 6px; margin-left: 5px; font-size: 0.8em;\">The template file uses zeroized UUID. To create a debug credential file for specific par run the\n",
       "\"get-uuid\" command listed below and replace to zeros at the UUID field by the UUID value returned by the command in the yaml file.\"</span><br><span class=\"yaml-commented-line\"># -------------------------------------------===== SoC Usage [Required] =====-------------------------------------------</span><br><span class=\"yaml-commented-line\"># Description: A CC (constraint) value that is a bit mask, and whose bits are used in an SoCC-specific manner. These</span><br><span class=\"yaml-commented-line\"># bits are typically used for controlling which debug domains are accessed via the authentication protocol, but device-</span><br><span class=\"yaml-commented-line\"># specific debug options can be managed in this way also.</span><br><span class=\"diff-removed\"><span class=\"yaml-key\">cc_socu</span>: <span class=\"yaml-value\">'0x0FFF'</span> <span style=\"background-color: #FFFF00; border-radius: 5px; padding: 2px 6px;\n",
       "margin-left: 5px; font-size: 0.8em;\">Changed on value 0x00FFFFF0 to set everything open. For more info about this value check the documentation</span></span><br><span class=\"diff-added\"><span class=\"yaml-key\">cc_socu</span>: <span class=\"yaml-value\">0x00FFFFF0</span></span><br><span class=\"yaml-commented-line\"># -----------------------------------------===== Vendor Usage [Required] =====------------------------------------------</span><br><span class=\"yaml-commented-line\"># Description: A CC (constraint) value that is opaque to the debug authentication protocol itself but which can be</span><br><span class=\"yaml-commented-line\"># leveraged by vendors in product-specific ways.</span><br><span class=\"yaml-key\">cc_vu</span>: <span class=\"yaml-value\">0</span><br><span class=\"yaml-commented-line\"># ---------------------------------------===== Credential Beacon [Required] =====---------------------------------------</span><br><span class=\"yaml-commented-line\"># Description: A value that is passed through the authentication protocol, which is not interpreted by the protocol but</span><br><span class=\"yaml-commented-line\"># is instead made visible to the application being debugged. A credential beacon is associated with a DC and is</span><br><span class=\"yaml-commented-line\"># therefore vendor/RoT-signed. An authentication beacon is provided and signed by the debugger during the authentication</span><br><span class=\"yaml-commented-line\"># process.</span><br><span class=\"yaml-key\">cc_beacon</span>: <span class=\"yaml-value\">0</span> <span style=\"background-color: #FFFF00; border-radius: 5px; padding: 2px 6px; margin-\n",
       "left: 5px; font-size: 0.8em;\">We keep the cc beacon on value zero, it's enough for example purposes</span><br><span class=\"yaml-commented-line\"># -----------------------------------------===== RoT meta-data [Required] =====-----------------------------------------</span><br><span class=\"yaml-commented-line\"># Description: The RoT meta-data required by the device to corroborate; the ROTID sent in the DAC, the field in this DC,</span><br><span class=\"yaml-commented-line\"># and any additional RoT state that is not stored within the device. This allows different RoT identification,</span><br><span class=\"yaml-commented-line\"># management and revocation solutions to be handled.</span><br><span class=\"yaml-key\">rot_meta</span>: <span style=\"background-color: #FFFF00; border-radius: 5px; padding: 2px 6px; margin-left: 5px; font-size:\n",
       "0.8em;\">Updated Root Of Trust public keys to used in our example</span><br><span class=\"diff-removed\"><span class=\"yaml-list-item\">  - </span>./rotk0.pub</span><br><span class=\"diff-removed\"><span class=\"yaml-list-item\">  - </span>./rotk1.pub</span><br><span class=\"diff-removed\"><span class=\"yaml-list-item\">  - </span>./rotk2.pub</span><br><span class=\"diff-removed\"><span class=\"yaml-list-item\">  - </span>./rotk3.pub</span><br><span class=\"diff-added\"><span class=\"yaml-list-item\">  - </span>../../_data/keys/ecc256/srk0_ecc256.pub</span><br><span class=\"diff-added\"><span class=\"yaml-list-item\">  - </span>../../_data/keys/ecc256/srk1_ecc256.pub</span><br><span class=\"diff-added\"><span class=\"yaml-list-item\">  - </span>../../_data/keys/ecc256/srk2_ecc256.pub</span><br><span class=\"diff-added\"><span class=\"yaml-list-item\">  - </span>../../_data/keys/ecc256/srk3_ecc256.pub</span><br><span class=\"yaml-commented-line\"># ----------------------------------------===== RoT Identifier [Required] =====-----------------------------------------</span><br><span class=\"yaml-commented-line\"># Description: RoTID allows the debugger to infer which RoT public key(s) are acceptable to the device. If the debugger</span><br><span class=\"yaml-commented-line\"># cannot or does not provide such a credential, the authentication process will fail.</span><br><span class=\"yaml-key\">rot_id</span>: <span class=\"yaml-value\">0</span> <span style=\"background-color: #FFFF00; border-radius: 5px; padding: 2px 6px; margin-\n",
       "left: 5px; font-size: 0.8em;\">We keep it same because in our example the private key to sign whole DC file has been chooses with index 0</span><br><span class=\"yaml-commented-line\"># -------------------------------------===== Debug Credential Key [Required] =====--------------------------------------</span><br><span class=\"yaml-commented-line\"># Description: A user-owned key pair. The public part of the key is associated with a DC, the private part is held by</span><br><span class=\"yaml-commented-line\"># the user and used to produce signatures during authentication.</span><br><span class=\"diff-removed\"><span class=\"yaml-key\">dck</span>: <span class=\"yaml-value\">dck.pub</span> <span style=\"background-color: #FFFF00; border-radius: 5px; padding: 2px 6px; margin-\n",
       "left: 5px; font-size: 0.8em;\">Updated Debug Credential public key to used in our example</span></span><br><span class=\"diff-added\"><span class=\"yaml-key\">dck</span>: <span class=\"yaml-value\">../../_data/keys/ecc256/dck_ecc256.pub</span></span><br><span class=\"yaml-commented-line\"># ----------------------------===== RoT signature private key [Conditionally required] =====----------------------------</span><br><span class=\"yaml-commented-line\"># Description: Private key for the RoT meta chosen by rot_id to sign the image.</span><br><span class=\"diff-added\"><span class=\"yaml-key\">rotk</span>: <span class=\"yaml-value\">../../_data/keys/ecc256/srk0_ecc256.pem</span></span><br><span class=\"diff-removed\"><span class=\"yaml-key\">rotk</span>: <span class=\"yaml-value\">rotk0.pem</span> <span style=\"background-color: #FFFF00; border-radius: 5px; padding: 2px 6px;\n",
       "margin-left: 5px; font-size: 0.8em;\">Add path to private key file for signing used in our example</span></span><br><span class=\"yaml-commented-line\"># -------------------------------===== Signature Provider [Conditionally required] =====--------------------------------</span><br><span class=\"yaml-commented-line\"># Description: Signature provider configuration in format 'type=<identifier>;key_number=<value>'.</span><br><span class=\"diff-removed\"><span class=\"yaml-key\">sign_provider</span>: <span class=\"yaml-value\">type=sasp;key_number=0</span> <span style=\"background-color: #FFFF00; border-radius: 5px;\n",
       "padding: 2px 6px; margin-left: 5px; font-size: 0.8em;\">This is removed, because we are using private key in this example</span></span><br><span class=\"yaml-commented-line\"># ======================================================================================================================</span><br><span class=\"yaml-commented-line\">#                                         == Debug Credential Signature part ==                                         </span><br><span class=\"yaml-commented-line\"># ======================================================================================================================</span><br><span class=\"yaml-commented-line\"># --------------------------------------------===== CA Flag [Optional] =====--------------------------------------------</span><br><span class=\"yaml-commented-line\"># Description: CA Flag is used by AHAB to indicate if the SRK is allowed to sign other keys</span><br><span class=\"diff-removed\"><span class=\"yaml-key\">flag_ca</span>: <span class=\"yaml-value\">false</span> <span style=\"background-color: #FFFF00; border-radius: 5px; padding: 2px 6px;\n",
       "margin-left: 5px; font-size: 0.8em;\">CA Flag could be removed in case that the keys are not CA, the default value is also False.</span></span><br></pre></div>\n",
       "          <div id=\"userConfigView_e7fee36e7375ce2e95dcb692dbb79cf2\" class=\"yaml-diff\" style=\"display:none;\"><pre class=\"yaml-diff\"><span class=\"yaml-commented-line\"># Copyright 2024 NXP</span><br><span class=\"yaml-commented-line\">#</span><br><span class=\"yaml-commented-line\"># SPDX-License-Identifier: BSD-3-Clause</span><br><span class=\"yaml-commented-line\"># ================================  Debug Credential file template for mimxrt1189 family.  =================================</span><br><br><span class=\"yaml-commented-line\"># -------------------------------------------------------- Note --------------------------------------------------------</span><br><br><span class=\"yaml-commented-line\"># Debug credential file has following binary structure:</span><br><span class=\"yaml-commented-line\">#  ============================================</span><br><span class=\"yaml-commented-line\">#  ============================================</span><br><span class=\"yaml-commented-line\">#  ===              Version                 ===</span><br><span class=\"yaml-commented-line\">#  ============================================</span><br><span class=\"yaml-commented-line\">#  ===             Soc Class                ===</span><br><span class=\"yaml-commented-line\">#  ============================================</span><br><span class=\"yaml-commented-line\">#  ===                UUID                  ===</span><br><span class=\"yaml-commented-line\">#  ============================================</span><br><span class=\"yaml-commented-line\">#  ===    RoT Meta SHA256 of following:     ===</span><br><span class=\"yaml-commented-line\">#  ===          RoT Key0 SHA256             ===</span><br><span class=\"yaml-commented-line\">#  ===          RoT Key1 SHA256             ===</span><br><span class=\"yaml-commented-line\">#  ===          RoT Key2 SHA256             ===</span><br><span class=\"yaml-commented-line\">#  ===          RoT Key3 SHA256             ===</span><br><span class=\"yaml-commented-line\">#  ============================================</span><br><span class=\"yaml-commented-line\">#  ===        Debugger Key DCK (Pub):       ===</span><br><span class=\"yaml-commented-line\">#  ===                                      ===</span><br><span class=\"yaml-commented-line\">#  ============================================</span><br><span class=\"yaml-commented-line\">#  ===              CC SOCU                 ===</span><br><span class=\"yaml-commented-line\">#  ============================================</span><br><span class=\"yaml-commented-line\">#  ===               CC VU                  ===</span><br><span class=\"yaml-commented-line\">#  ============================================</span><br><span class=\"yaml-commented-line\">#  ===                 CB                   ===</span><br><span class=\"yaml-commented-line\">#  ============================================</span><br><span class=\"yaml-commented-line\">#  ===            RoT Key (pub)             ===</span><br><span class=\"yaml-commented-line\">#  ===                                      ===</span><br><span class=\"yaml-commented-line\">#  ============================================</span><br><span class=\"yaml-commented-line\">#  ============================================</span><br><span class=\"yaml-commented-line\">#  ===       Signature of all block         ===</span><br><span class=\"yaml-commented-line\">#  ===  SHA256 of whole block => Sign(RoTK) ===</span><br><span class=\"yaml-commented-line\">#  ============================================</span><br><span class=\"yaml-commented-line\">#  ============================================</span><br><br><span class=\"yaml-commented-line\">#  ============================================</span><br><span class=\"yaml-commented-line\">#  Debug Credential Signature</span><br><span class=\"yaml-commented-line\">#  ============================================</span><br><span class=\"yaml-commented-line\">#  There are two ways how sign the final DC data blob.</span><br><br><span class=\"yaml-commented-line\">#  1. In case that you is available private pair for rot_meta with index rot_id just use first simple style</span><br><span class=\"yaml-commented-line\">#  to use it by rotk key. As a second way to do same is use sign_provider (or signProvider - both are accepted) option</span><br><span class=\"yaml-commented-line\"># with 'type=file'.</span><br><br><span class=\"yaml-commented-line\">#  2. For case that Debug Credential files are generated in untrusted environment (without access to RoT private keys),</span><br><span class=\"yaml-commented-line\">#  there is option to use plugin (example how to create own plugin is in: ./SPSDK/examples/dat/hsm/). The plugin</span><br><span class=\"yaml-commented-line\">#  has simple interface that allows handle DC data blob into plugin with index of RoT meta public key to get back signed</span><br><span class=\"yaml-commented-line\">#  DC image.</span><br><br><span class=\"yaml-commented-line\">#  Those options are exclusive, so only one option could be used to sign the DC.</span><br><br><span class=\"yaml-commented-line\"># ======================================================================================================================</span><br><span class=\"yaml-commented-line\">#                                                 == General Options ==</span><br><span class=\"yaml-commented-line\"># ======================================================================================================================</span><br><span class=\"yaml-commented-line\"># -----------------------------------===== MCU family [Conditionally required] =====------------------------------------</span><br><span class=\"yaml-commented-line\"># Description: MCU family name.</span><br><span class=\"yaml-commented-line\"># Possible options: <k32w148, kw45b41z8, lpc55s06, lpc55s16, lpc55s28, lpc55s36, lpc55s69, mcxn236, mcxn546, mcxn946,</span><br><span class=\"yaml-commented-line\"># mcxn946, mcxw7116, mimx8ulp, mimx9352, mimx9596, nhs52s04, mimxrt1189, mimxrt595s, mimxrt685s, rw612></span><br><span class=\"yaml-key\">family</span>: <span class=\"yaml-value\">mimxrt1189</span><br><span class=\"yaml-commented-line\"># -------------------------------------===== Chip silicon revision [Optional] =====-------------------------------------</span><br><span class=\"yaml-commented-line\"># Description: If needed this could be used to specify silicon revision of device.</span><br><span class=\"yaml-key\">revision</span>: <span class=\"yaml-value\">latest</span><br><span class=\"yaml-commented-line\"># ======================================================================================================================</span><br><span class=\"yaml-commented-line\">#                                             == Debug Credential Content ==</span><br><span class=\"yaml-commented-line\"># ======================================================================================================================</span><br><span class=\"yaml-commented-line\"># ------------------------------------------===== Device UUID [Required] =====------------------------------------------</span><br><span class=\"yaml-commented-line\"># Description: 128-bit IETF RFC4122 compliant non-sequential Universally Unique Identifier (UUID)</span><br><span class=\"yaml-key\">uuid</span>: <span class=\"yaml-value\">'00000000000000000000000000000000'</span><br><span class=\"yaml-commented-line\"># -------------------------------------------===== SoC Usage [Required] =====-------------------------------------------</span><br><span class=\"yaml-commented-line\"># Description: A CC (constraint) value that is a bit mask, and whose bits are used in an SoCC-specific manner. These</span><br><span class=\"yaml-commented-line\"># bits are typically used for controlling which debug domains are accessed via the authentication protocol, but device-</span><br><span class=\"yaml-commented-line\"># specific debug options can be managed in this way also.</span><br><span class=\"yaml-key\">cc_socu</span>: <span class=\"yaml-value\">0x00FFFFF0</span><br><span class=\"yaml-commented-line\"># -----------------------------------------===== Vendor Usage [Required] =====------------------------------------------</span><br><span class=\"yaml-commented-line\"># Description: A CC (constraint) value that is opaque to the debug authentication protocol itself but which can be</span><br><span class=\"yaml-commented-line\"># leveraged by vendors in product-specific ways.</span><br><span class=\"yaml-key\">cc_vu</span>: <span class=\"yaml-value\">0</span><br><span class=\"yaml-commented-line\"># ---------------------------------------===== Credential Beacon [Required] =====---------------------------------------</span><br><span class=\"yaml-commented-line\"># Description: A value that is passed through the authentication protocol, which is not interpreted by the protocol but</span><br><span class=\"yaml-commented-line\"># is instead made visible to the application being debugged. A credential beacon is associated with a DC and is</span><br><span class=\"yaml-commented-line\"># therefore vendor/RoT-signed. An authentication beacon is provided and signed by the debugger during the authentication</span><br><span class=\"yaml-commented-line\"># process.</span><br><span class=\"yaml-key\">cc_beacon</span>: <span class=\"yaml-value\">0</span><br><span class=\"yaml-commented-line\"># -----------------------------------------===== RoT meta-data [Required] =====-----------------------------------------</span><br><span class=\"yaml-commented-line\"># Description: The RoT meta-data required by the device to corroborate; the ROTID sent in the DAC, the field in this DC,</span><br><span class=\"yaml-commented-line\"># and any additional RoT state that is not stored within the device. This allows different RoT identification,</span><br><span class=\"yaml-commented-line\"># management and revocation solutions to be handled.</span><br><span class=\"yaml-key\">rot_meta</span>:<br><span class=\"yaml-list-item\">  - </span>../../_data/keys/ecc256/srk0_ecc256.pub<br><span class=\"yaml-list-item\">  - </span>../../_data/keys/ecc256/srk1_ecc256.pub<br><span class=\"yaml-list-item\">  - </span>../../_data/keys/ecc256/srk2_ecc256.pub<br><span class=\"yaml-list-item\">  - </span>../../_data/keys/ecc256/srk3_ecc256.pub<br><span class=\"yaml-commented-line\"># ----------------------------------------===== RoT Identifier [Required] =====-----------------------------------------</span><br><span class=\"yaml-commented-line\"># Description: RoTID allows the debugger to infer which RoT public key(s) are acceptable to the device. If the debugger</span><br><span class=\"yaml-commented-line\"># cannot or does not provide such a credential, the authentication process will fail.</span><br><span class=\"yaml-key\">rot_id</span>: <span class=\"yaml-value\">0</span><br><span class=\"yaml-commented-line\"># -------------------------------------===== Debug Credential Key [Required] =====--------------------------------------</span><br><span class=\"yaml-commented-line\"># Description: A user-owned key pair. The public part of the key is associated with a DC, the private part is held by</span><br><span class=\"yaml-commented-line\"># the user and used to produce signatures during authentication.</span><br><span class=\"yaml-key\">dck</span>: <span class=\"yaml-value\">../../_data/keys/ecc256/dck_ecc256.pub</span><br><span class=\"yaml-commented-line\"># ----------------------------===== RoT signature private key [Conditionally required] =====----------------------------</span><br><span class=\"yaml-commented-line\"># Description: Private key for the RoT meta chosen by rot_id to sign the image.</span><br><span class=\"yaml-key\">rotk</span>: <span class=\"yaml-value\">../../_data/keys/ecc256/srk0_ecc256.pem</span><br></pre></div>\n",
       "        </div>\n",
       "        "
      ],
      "text/plain": [
       "<IPython.core.display.HTML object>"
      ]
     },
     "execution_count": 2,
     "metadata": {},
     "output_type": "execute_result"
    }
   ],
   "source": [
    "# Get difference of template and user YAML configuration\n",
    "YamlDiffWidget(\"inputs/dc_config.diffc\").html"
   ]
  },
  {
   "cell_type": "markdown",
   "metadata": {},
   "source": [
    "Now we generate dc file based on yaml configuration."
   ]
  },
  {
   "cell_type": "code",
   "execution_count": 13,
   "metadata": {},
   "outputs": [
    {
     "name": "stdout",
     "output_type": "stream",
     "text": [
      "nxpdebugmbox -f mimxrt1189 dat dc export -c inputs/dc_config.yaml -o workspace/debug_auth.dc --force \n",
      "RKTH: cb2cc774b2dcec92c840eca0646b78f8d3661d3a43ed265a490a13aca75e190a\n",
      "Creating Debug credential file succeeded\n"
     ]
    }
   ],
   "source": [
    "DC_FILE_PATH = WORKSPACE + \"debug_auth.dc\"\n",
    "%! nxpdebugmbox -f $FAMILY dat dc export -c $DC_CONFIG -o $DC_FILE_PATH --force"
   ]
  },
  {
   "cell_type": "markdown",
   "metadata": {},
   "source": [
    "## 4. Generate debug authentication configuration file\n",
    "\n",
    "In advance we will prepare the configuration file for debug authentication procedure itself. Let's begin again by creating a template configuration file using the `nxpdebugmbox dat get-template` command. To simplify this example, we have already prepared that configuration, which can be found in the [./inputs/dat_config.yaml](./inputs/dat_config.yaml) file. Below, we'll compare the differences between the template and our customized example to highlight the additions we've made. This tiny configuration file is needed that specify the data from in-field technician."
   ]
  },
  {
   "cell_type": "code",
   "execution_count": 4,
   "metadata": {},
   "outputs": [
    {
     "name": "stdout",
     "output_type": "stream",
     "text": [
      "nxpdebugmbox -f mimxrt1189 dat get-template -o workspace/dat_config.yaml --force \n",
      "Creating workspace\\dat_config.yaml template file.\n"
     ]
    },
    {
     "data": {
      "text/html": [
       "\n",
       "        \n",
       "        <style>\n",
       "            .yaml-diff { font-family: monospace; background-color: #f0f0f0; padding: 1em; border: 1px solid #c0c0c0; }\n",
       "            .yaml-key { color: #0000CC; font-weight: bold; }\n",
       "            .yaml-value { color: #006600; }\n",
       "            .yaml-commented-line { color: #008800; }\n",
       "            .yaml-list-item { color: #660066; }\n",
       "            .diff-removed { background-color: #ffaaaa; }\n",
       "            .diff-added { background-color: #aaffaa; }\n",
       "            .yaml-comment {\n",
       "                background-color: #FF8C00;\n",
       "                color: #000000;\n",
       "                border-radius: 50%;\n",
       "                padding: 0 0.3em;\n",
       "                margin-left: 0.5em;\n",
       "                font-size: 0.8em;\n",
       "                cursor: help;\n",
       "                font-weight: bold;\n",
       "                text-shadow: 1px 1px 1px rgba(255, 255, 255, 0.7);\n",
       "            }\n",
       "            #toggleButton_9f65ec74d0bbaeba32215abf43796c7a {\n",
       "                background-color: #4CAF50;\n",
       "                border: none;\n",
       "                color: white;\n",
       "                padding: 10px 20px;\n",
       "                text-align: center;\n",
       "                text-decoration: none;\n",
       "                display: inline-block;\n",
       "                font-size: 16px;\n",
       "                margin: 4px 2px;\n",
       "                cursor: pointer;\n",
       "            }\n",
       "        </style>\n",
       "        \n",
       "        \n",
       "        <script>\n",
       "        function toggleView_9f65ec74d0bbaeba32215abf43796c7a() {\n",
       "            var diffView = document.getElementById('diffView_9f65ec74d0bbaeba32215abf43796c7a');\n",
       "            var userConfigView = document.getElementById('userConfigView_9f65ec74d0bbaeba32215abf43796c7a');\n",
       "            var button = document.getElementById('toggleButton_9f65ec74d0bbaeba32215abf43796c7a');\n",
       "\n",
       "            if (diffView.style.display === 'none' && userConfigView.style.display === 'none') {\n",
       "                diffView.style.display = 'block';\n",
       "                userConfigView.style.display = 'none';\n",
       "                button.textContent = 'Show User Config';\n",
       "            } else if (diffView.style.display === 'block') {\n",
       "                diffView.style.display = 'none';\n",
       "                userConfigView.style.display = 'block';\n",
       "                button.textContent = 'Hide';\n",
       "            } else {\n",
       "                diffView.style.display = 'none';\n",
       "                userConfigView.style.display = 'none';\n",
       "                button.textContent = 'Show Diff';\n",
       "            }\n",
       "        }\n",
       "        </script>\n",
       "        \n",
       "        <div class=\"yaml-diff-container\">\n",
       "          <h3>Configuration Differences</h3>\n",
       "          <button onclick=\"toggleView_9f65ec74d0bbaeba32215abf43796c7a()\" id=\"toggleButton_9f65ec74d0bbaeba32215abf43796c7a\">Show Diff</button>\n",
       "          \n",
       "        <a href=\"data:text/plain;base64,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\" download=\"user_config.yaml\">\n",
       "            <button style=\"background-color: #4CAF50; border: none; color: white; padding: 10px 20px; text-align: center; text-decoration: none; display: inline-block; font-size: 16px; margin: 4px 2px; cursor: pointer;\">\n",
       "                Download Config\n",
       "            </button>\n",
       "        </a>\n",
       "        \n",
       "          <div id=\"diffView_9f65ec74d0bbaeba32215abf43796c7a\" class=\"yaml-diff\" style=\"display:none;\"><pre class=\"yaml-diff\"><span class=\"yaml-commented-line\"># ===========================  Debug Authentication Configuration template for mimxrt1189.  ============================</span><br><br><span class=\"yaml-commented-line\"># ======================================================================================================================</span><br><span class=\"yaml-commented-line\">#                                                 == General Options ==                                                 </span><br><span class=\"yaml-commented-line\"># ======================================================================================================================</span><br><span class=\"yaml-commented-line\"># -------------------------------------===== The chip family name [Required] =====--------------------------------------</span><br><span class=\"yaml-commented-line\"># Description: NXP chip family identifier.</span><br><span class=\"yaml-key\">family</span>: <span class=\"yaml-value\">mimxrt1189</span><br><span class=\"yaml-commented-line\"># -----------------------------------------===== MCU revision [Optional] =====------------------------------------------</span><br><span class=\"yaml-commented-line\"># Description: Revision of silicon. The 'latest' name, means most current revision.</span><br><span class=\"yaml-key\">revision</span>: <span class=\"yaml-value\">latest</span><br><span class=\"yaml-commented-line\"># ======================================================================================================================</span><br><span class=\"yaml-commented-line\">#                                           == Debug Authentication Content ==                                          </span><br><span class=\"yaml-commented-line\"># ======================================================================================================================</span><br><span class=\"yaml-commented-line\"># -------------------------------===== Debug Credential Certificate file [Required] =====-------------------------------</span><br><span class=\"yaml-commented-line\"># Description: A debug credential binary file provided by owner of Root Keys. The file could be created by 'dc' group of</span><br><span class=\"yaml-commented-line\"># commands.</span><br><span class=\"diff-removed\"><span class=\"yaml-key\">certificate</span>: <span class=\"yaml-value\">dc.bin</span> <span style=\"background-color: #FFFF00; border-radius: 5px; padding: 2px 6px;\n",
       "margin-left: 5px; font-size: 0.8em;\">Path to debug credential certificate (that we created in previous step)</span></span><br><span class=\"diff-added\"><span class=\"yaml-key\">certificate</span>: <span class=\"yaml-value\">workspace/rt118x_256.dc</span></span><br><span class=\"yaml-commented-line\"># -------------------------------------===== Authentication beacon [Required] =====-------------------------------------</span><br><span class=\"yaml-commented-line\"># Description: Debug authentication process can be extended with beacons. DEBUG_AUTH_BEACON (this field) contain</span><br><span class=\"yaml-commented-line\"># information from debug authentication after debugger is successfully authenticated. This register contain data from</span><br><span class=\"yaml-commented-line\"># Authentication beacon [31:16] which is defined during authentication session and Credential beacon [15:0] which is</span><br><span class=\"yaml-commented-line\"># defined on RoT keys owner side during debug credential file generation and signing. When credential beacon non-zero</span><br><span class=\"yaml-commented-line\"># value is used in this field, ROM defers opening debug access to user application. The result of the authentication</span><br><span class=\"yaml-commented-line\"># process is written to DBG_FEATURES register while the user application after doing its extended processing, such as</span><br><span class=\"yaml-commented-line\"># clean-up of critical keys and secrets, should copy the value to DBG_FEATURES_DP register to enable the debug access.</span><br><span class=\"yaml-key\">beacon</span>: <span class=\"yaml-value\">0</span> <span style=\"background-color: #FFFF00; border-radius: 5px; padding: 2px 6px; margin-\n",
       "left: 5px; font-size: 0.8em;\">We keep the beacon on value zero, it's enough for example purposes</span><br><span class=\"yaml-commented-line\"># -------------------------------------------===== Keys set [Optional] =====--------------------------------------------</span><br><span class=\"yaml-commented-line\"># Description: Selection of keys origin.</span><br><span class=\"yaml-commented-line\"># Possible options: <oem, nxp></span><br><span class=\"yaml-key\">srk_set</span>: <span class=\"yaml-value\">oem</span> <span style=\"background-color: #FFFF00; border-radius: 5px; padding: 2px 6px; margin-\n",
       "left: 5px; font-size: 0.8em;\">We keep default value on OEM</span><br><span class=\"yaml-commented-line\"># ----------------------------===== DCK signature private key [Conditionally required] =====----------------------------</span><br><span class=\"yaml-commented-line\"># Description: Private key that match the public key in debug credential file, to sign Debug Authentication response.</span><br><span class=\"diff-added\"><span class=\"yaml-key\">dck_private_key</span>: <span class=\"yaml-value\">../../_data/keys/ecc256/dck_ecc256.pem</span></span><br><span class=\"diff-removed\"><span class=\"yaml-key\">dck_private_key</span>: <span class=\"yaml-value\">dck.pem</span> <span style=\"background-color: #FFFF00; border-radius: 5px; padding: 2px\n",
       "6px; margin-left: 5px; font-size: 0.8em;\">Updated Debug Credential private key to used in our example</span></span><br><span class=\"yaml-commented-line\"># -------------------------------===== Signature Provider [Conditionally required] =====--------------------------------</span><br><span class=\"yaml-commented-line\"># Description: Signature provider configuration in format 'type=<identifier>;key_number=<value>'.</span><br><span class=\"diff-removed\"><span class=\"yaml-key\">sign_provider</span>: <span class=\"yaml-value\">type=sasp;key_number=0</span> <span style=\"background-color: #FFFF00; border-radius: 5px;\n",
       "padding: 2px 6px; margin-left: 5px; font-size: 0.8em;\">This is removed, because we are using private key in this example</span></span><br></pre></div>\n",
       "          <div id=\"userConfigView_9f65ec74d0bbaeba32215abf43796c7a\" class=\"yaml-diff\" style=\"display:none;\"><pre class=\"yaml-diff\"><span class=\"yaml-commented-line\"># Copyright 2024 NXP</span><br><span class=\"yaml-commented-line\">#</span><br><span class=\"yaml-commented-line\"># SPDX-License-Identifier: BSD-3-Clause</span><br><span class=\"yaml-commented-line\"># ===========================  Debug Authentication Configuration template for mimxrt1189.  ============================</span><br><br><span class=\"yaml-commented-line\"># ======================================================================================================================</span><br><span class=\"yaml-commented-line\">#                                                 == General Options ==</span><br><span class=\"yaml-commented-line\"># ======================================================================================================================</span><br><span class=\"yaml-commented-line\"># -------------------------------------===== The chip family name [Required] =====--------------------------------------</span><br><span class=\"yaml-commented-line\"># Description: NXP chip family identifier.</span><br><span class=\"yaml-key\">family</span>: <span class=\"yaml-value\">mimxrt1189</span><br><span class=\"yaml-commented-line\"># -----------------------------------------===== MCU revision [Optional] =====------------------------------------------</span><br><span class=\"yaml-commented-line\"># Description: Revision of silicon. The 'latest' name, means most current revision.</span><br><span class=\"yaml-key\">revision</span>: <span class=\"yaml-value\">latest</span><br><span class=\"yaml-commented-line\"># ======================================================================================================================</span><br><span class=\"yaml-commented-line\">#                                           == Debug Authentication Content ==</span><br><span class=\"yaml-commented-line\"># ======================================================================================================================</span><br><span class=\"yaml-commented-line\"># -------------------------------===== Debug Credential Certificate file [Required] =====-------------------------------</span><br><span class=\"yaml-commented-line\"># Description: A debug credential binary file provided by owner of Root Keys. The file could be created by 'dc' group of</span><br><span class=\"yaml-commented-line\"># commands.</span><br><span class=\"yaml-key\">certificate</span>: <span class=\"yaml-value\">workspace/rt118x_256.dc</span><br><span class=\"yaml-commented-line\"># -------------------------------------===== Authentication beacon [Required] =====-------------------------------------</span><br><span class=\"yaml-commented-line\"># Description: Debug authentication process can be extended with beacons. DEBUG_AUTH_BEACON (this field) contain</span><br><span class=\"yaml-commented-line\"># information from debug authentication after debugger is successfully authenticated. This register contain data from</span><br><span class=\"yaml-commented-line\"># Authentication beacon [31:16] which is defined during authentication session and Credential beacon [15:0] which is</span><br><span class=\"yaml-commented-line\"># defined on RoT keys owner side during debug credential file generation and signing. When credential beacon non-zero</span><br><span class=\"yaml-commented-line\"># value is used in this field, ROM defers opening debug access to user application. The result of the authentication</span><br><span class=\"yaml-commented-line\"># process is written to DBG_FEATURES register while the user application after doing its extended processing, such as</span><br><span class=\"yaml-commented-line\"># clean-up of critical keys and secrets, should copy the value to DBG_FEATURES_DP register to enable the debug access.</span><br><span class=\"yaml-key\">beacon</span>: <span class=\"yaml-value\">0</span><br><span class=\"yaml-commented-line\"># -------------------------------------------===== Keys set [Optional] =====--------------------------------------------</span><br><span class=\"yaml-commented-line\"># Description: Selection of keys origin.</span><br><span class=\"yaml-commented-line\"># Possible options: <oem, nxp></span><br><span class=\"yaml-key\">srk_set</span>: <span class=\"yaml-value\">oem</span><br><span class=\"yaml-commented-line\"># ----------------------------===== DCK signature private key [Conditionally required] =====----------------------------</span><br><span class=\"yaml-commented-line\"># Description: Private key that match the public key in debug credential file, to sign Debug Authentication response.</span><br><span class=\"yaml-key\">dck_private_key</span>: <span class=\"yaml-value\">../../_data/keys/ecc256/dck_ecc256.pem</span><br></pre></div>\n",
       "        </div>\n",
       "        "
      ],
      "text/plain": [
       "<IPython.core.display.HTML object>"
      ]
     },
     "execution_count": 4,
     "metadata": {},
     "output_type": "execute_result"
    }
   ],
   "source": [
    "# Get difference of template and user YAML configuration\n",
    "YamlDiffWidget(\"inputs/dat_config.diffc\").html"
   ]
  },
  {
   "cell_type": "markdown",
   "metadata": {},
   "source": [
    "## 5. Test debug authentication\n",
    "Now we can call authentication command for nxpdebugmbox. Since the board is in the OEM closed life cycle, as a validation test we will use test-connection command from `nxpdebugmbox` application. After the auth command is performed, the MCU should has enable debug interface by settings in CC_SOCU field in debug credential file. "
   ]
  },
  {
   "cell_type": "code",
   "execution_count": 21,
   "metadata": {},
   "outputs": [
    {
     "name": "stdout",
     "output_type": "stream",
     "text": [
      "nxpdebugmbox -f mimxrt1189 -i pyocd mem-tool test-connection \n",
      "  #   Interface   Id          Description                 \n",
      "----------------------------------------------------------\n",
      "  0   PyOCD       851002903   Segger J-Link Compact PLUS  \n",
      "The device is not-accessible for debugging.\n"
     ]
    }
   ],
   "source": [
    "# Test to confirm that debug access doesn't work\n",
    "%! nxpdebugmbox -f $FAMILY -i $DEBUGGER_PROBE mem-tool test-connection"
   ]
  },
  {
   "cell_type": "code",
   "execution_count": 22,
   "metadata": {},
   "outputs": [
    {
     "name": "stdout",
     "output_type": "stream",
     "text": [
      "nxpdebugmbox -f mimxrt1189 -i pyocd -v dat auth -c inputs/dat_config.yaml \n",
      "\u001b[37m\u001b[1mINFO:root:\u001b[39m\u001b[0m\n",
      "\u001b[37m\u001b[1mINFO:root:\u001b[39m\u001b[0m\n",
      "\u001b[37m\u001b[1mINFO:root:--- SPSDK DEBUG LOGGING STARTED (2024-11-06 09:33:11.634502) ---\u001b[39m\u001b[0m\n",
      "\u001b[37m\u001b[1mINFO:root:SPSDK version: 2.3.0.dev196+g291e35f98\u001b[39m\u001b[0m\n",
      "\u001b[37m\u001b[1mINFO:root:Python version: 3.11.4 (tags/v3.11.4:d2340ef, Jun  7 2023, 05:45:37) [MSC v.1934 64 bit (AMD64)]\u001b[39m\u001b[0m\n",
      "\u001b[37m\u001b[1mINFO:root:\u001b[39m\u001b[0m\n",
      "\u001b[37m\u001b[1mINFO:spsdk.apps.nxpdebugmbox:Starting Debug Authentication\u001b[39m\u001b[0m\n",
      "  #   Interface   Id          Description                 \n",
      "----------------------------------------------------------\n",
      "  0   PyOCD       851002903   Segger J-Link Compact PLUS  \n",
      "\u001b[37m\u001b[1mINFO:spsdk.debuggers.debug_probe_pyocd:PyOCD connected via J-Link Compact PLUS probe.\u001b[39m\u001b[0m\n",
      "\u001b[37m\u001b[1mINFO:spsdk.apps.nxpdebugmbox:DAC: \n",
      "Version                : Version 2.0\n",
      "SOCC                   : 0x5254049C\n",
      "UUID                   : C8BDB7562AFA425B9528F5D63EB4125E\n",
      "CC_VU                  : 0\n",
      "ROTID_rkh_revocation   : 00000000\n",
      "ROTID_rkth_hash        : cb2cc774b2dcec92c840eca0646b78f8d3661d3a43ed265a490a13aca75e190a\n",
      "CC_soc_pinned          : 00FFFFF0\n",
      "CC_soc_default         : 00000000\n",
      "Challenge              : 60a392326c39a1de536d83b94287002443fbeae5859d67158c4d225b9de3318a\n",
      "\u001b[39m\u001b[0m\n",
      "\u001b[37m\u001b[1mINFO:spsdk.apps.nxpdebugmbox:DAR:\n",
      "DAC:\n",
      "Version                : Version 2.0\n",
      "SOCC                   : 0x5254049C\n",
      "UUID                   : C8BDB7562AFA425B9528F5D63EB4125E\n",
      "CC_VU                  : 0\n",
      "ROTID_rkh_revocation   : 00000000\n",
      "ROTID_rkth_hash        : cb2cc774b2dcec92c840eca0646b78f8d3661d3a43ed265a490a13aca75e190a\n",
      "CC_soc_pinned          : 00FFFFF0\n",
      "CC_soc_default         : 00000000\n",
      "Challenge              : 60a392326c39a1de536d83b94287002443fbeae5859d67158c4d225b9de3318a\n",
      "\n",
      "DC:\n",
      "Version : Version 2.0\n",
      "SOCC    : 0x5254049C\n",
      "UUID    : 00000000000000000000000000000000\n",
      "CC_SOCC : 0xfffff0\n",
      "CC_VU   : 0x0\n",
      "BEACON  : 0\n",
      "Number of records in flags: 4\n",
      "SRK table has 4 entries\n",
      "CTRK hash   : cb2cc774b2dcec92c840eca0646b78f8d3661d3a43ed265a490a13aca75e190a\n",
      "\n",
      "Authentication Beacon: 0\n",
      "\u001b[39m\u001b[0m\n",
      "\u001b[37m\u001b[1mINFO:spsdk.debuggers.debug_probe_pyocd:PyOCD connected via J-Link Compact PLUS probe.\u001b[39m\u001b[0m\n",
      "Debug Authentication ends successfully.\n"
     ]
    }
   ],
   "source": [
    "# Unlock the Debug Authentication\n",
    "%! nxpdebugmbox -f $FAMILY -i $DEBUGGER_PROBE -v dat auth -c $DAT_CONFIG"
   ]
  },
  {
   "cell_type": "code",
   "execution_count": 23,
   "metadata": {},
   "outputs": [
    {
     "name": "stdout",
     "output_type": "stream",
     "text": [
      "nxpdebugmbox -f mimxrt1189 -i pyocd mem-tool test-connection \n",
      "  #   Interface   Id          Description                 \n",
      "----------------------------------------------------------\n",
      "  0   PyOCD       851002903   Segger J-Link Compact PLUS  \n",
      "The device is accessible for debugging.\n"
     ]
    }
   ],
   "source": [
    "# Test to confirm that debug access works\n",
    "%! nxpdebugmbox -f $FAMILY -i $DEBUGGER_PROBE mem-tool test-connection"
   ]
  }
 ],
 "metadata": {
  "kernelspec": {
   "display_name": "venv",
   "language": "python",
   "name": "python3"
  },
  "language_info": {
   "codemirror_mode": {
    "name": "ipython",
    "version": 3
   },
   "file_extension": ".py",
   "mimetype": "text/x-python",
   "name": "python",
   "nbconvert_exporter": "python",
   "pygments_lexer": "ipython3",
   "version": "3.11.0"
  }
 },
 "nbformat": 4,
 "nbformat_minor": 4
}
