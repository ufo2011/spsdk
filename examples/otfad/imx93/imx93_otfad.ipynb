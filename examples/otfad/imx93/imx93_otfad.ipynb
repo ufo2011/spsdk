{
 "cells": [
  {
   "cell_type": "markdown",
   "metadata": {},
   "source": [
    "# i.MX 93 OTFAD (On-The-Fly AES Decryption) Example\n",
    "\n",
    "This notebook describes how to build a bootable AHAB image that is encrypted using the i.MX 93 OTFAD (On-The-Fly AES Decryption) feature. The i.MX 93 OTFAD is a hardware accelerator that can be used to encrypt and decrypt data on-the-fly. The OTFAD is also used to decrypt the boot image when the i.MX 93 boots.\n"
   ]
  },
  {
   "cell_type": "markdown",
   "metadata": {},
   "source": [
    "## 1. Prerequisites\n",
    "\n",
    "- SPSDK is needed with examples extension. `pip install spsdk[examples]` (Please refer to the installation documentation.)\n",
    "- This demo was tested with i.MX93 EVK board"
   ]
  },
  {
   "cell_type": "code",
   "execution_count": 30,
   "metadata": {
    "tags": [
     "remove-cell"
    ]
   },
   "outputs": [
    {
     "name": "stdout",
     "output_type": "stream",
     "text": [
      "env: JUPYTER_SPSDK=1\n",
      "Created `%!` as an alias for `%execute`.\n"
     ]
    }
   ],
   "source": [
    "from spsdk.utils.jupyter_utils import YamlDiffWidget\n",
    "\n",
    "# This env variable sets colored logger output to STDOUT\n",
    "# Execute this cell to enable execution of the ! line magic\n",
    "%env JUPYTER_SPSDK=1\n",
    "%alias execute echo %l && %l\n",
    "%alias_magic ! execute"
   ]
  },
  {
   "cell_type": "markdown",
   "metadata": {},
   "source": [
    "### 1.1 Images preparation\n",
    "\n",
    "- We use U-Boot image in this example. Prepare the U-Boot image for flexSPI imx-boot-imx93-14x14-lpddr4x-evk-fspi.bin-flash_singleboot_flexspi using the `imx-mkimage` or `nxpimage` tool or use the prebuilt image from the NXP website.\n",
    "\n",
    "2) Put the U-Boot image to the inputs directory.\n",
    "\n",
    "3) Extract the FCB block and image container set from the data\n",
    "    \n",
    "    ```bash\n",
    "    nxpimage -v utils binary-image extract -b inputs/imx-boot-imx91-11x11-lpddr4-evk-fspi.bin-flash_singleboot_flexspi -a 0x400 -s 0x200 -o workspace/fcb.bin\n",
    "    nxpimage -v utils binary-image extract -b inputs/imx-boot-imx91-11x11-lpddr4-evk-fspi.bin-flash_singleboot_flexspi -a 0x1000 -s 0 -o workspace/imx-boot.bin\n",
    "\n",
    "    ``` \n"
   ]
  },
  {
   "cell_type": "code",
   "execution_count": 20,
   "metadata": {},
   "outputs": [
    {
     "name": "stdout",
     "output_type": "stream",
     "text": [
      "nxpimage -v utils binary-image extract -b inputs/imx-boot-imx91-11x11-lpddr4-evk-fspi.bin-flash_singleboot_flexspi -a 0x400 -s 0x200 -o workspace/fcb.bin\n",
      "Success. (Extracted chunk: workspace/fcb.bin created.)\n",
      "nxpimage -v utils binary-image extract -b inputs/imx-boot-imx91-11x11-lpddr4-evk-fspi.bin-flash_singleboot_flexspi -a 0x1000 -s 0 -o workspace/imx-boot.bin\n",
      "Success. (Extracted chunk: workspace/imx-boot.bin created.)\n"
     ]
    }
   ],
   "source": [
    "FILENAME = \"inputs/imx-boot-imx91-11x11-lpddr4-evk-fspi.bin-flash_singleboot_flexspi\"\n",
    "\n",
    "%! nxpimage -v utils binary-image extract -b $FILENAME -a 0x400 -s 0x200 -o workspace/fcb.bin\n",
    "%! nxpimage -v utils binary-image extract -b $FILENAME -a 0x1000 -s 0 -o workspace/imx-boot.bin"
   ]
  },
  {
   "cell_type": "markdown",
   "metadata": {},
   "source": [
    "## 2. OTFAD\n",
    "\n",
    "- The OTFAD engine includes complete hardware support for a standard AES key unwrap mechanism to decrypt a key BLOB data instruction containing the parameters needed for up to 4 unique AES contexts. Each context has a unique 128-bit key, 64-bit counter and 64-bit memory region descriptor.\n",
    "- OTFAD can only be used with flexSPI 1, it can’t be used for other boot medias like eMMC.\n",
    "- OTFAD will be enabled by system ROM when booting from flexSPI, user just need to prepare encrypted boot image and program OTFAD related fuses.\n",
    "- Please check more information about OTFAD IP from the i.MX93 security reference manual.\n",
    "\n",
    "![OTFAD structure](img/otfad_structure.png)\n",
    "\n",
    "### 2.1 OTFAD Key Scrambling\n",
    "\n",
    "Key scrambling is an encryption algorithm designed to obfuscate the secret key information. It is an optional feature. When enabled, the OTFAD engine implements a key scrambling algorithm, wherein, the input OTFAD key is scrambled and then utilized to unwrap the key blobs containing the image encryption keys.\n",
    "\n",
    "The OTFAD tool takes three inputs to scramble the OTFAD key:\n",
    "- OTFAD key: An OEM programmed input 128-bit key used to wrap/un-wrap the image encryption keys. \n",
    "- Key Scramble: An OEM programmed input 32-bit key used to scramble the input OTFAD key.\n",
    "- Key Scramble Align: An OEM programmed 8-bit key aligns value used along with Key Scramble in scrambling algorithm.\n",
    "\n",
    "\n",
    "\n",
    "### 2.2 OTFAD Template\n",
    "\n",
    "The following command generates the template:\n",
    "\n",
    "```bash\n",
    "nxpimage otfad get-template -f mimx9352 -o ahab_template.yaml\n",
    "```\n",
    "\n",
    "### 2.3 Exporting the OTFAD Image\n",
    "\n",
    "The following command exports the OTFAD image with fuse programming script for flexSPI instance 1.\n",
    "\n",
    "```bash\n",
    "nxpimage otfad export -f mimx9352 -c ahab_template.yaml -i 1\n",
    "```\n",
    "\n",
    "If the FlexSPI instance is specified, the OTFAD image will be exported with the fuse programming script for the specified FlexSPI instance.\n"
   ]
  },
  {
   "cell_type": "code",
   "execution_count": 21,
   "metadata": {
    "tags": [
     "remove-input"
    ]
   },
   "outputs": [
    {
     "name": "stdout",
     "output_type": "stream",
     "text": [
      "nxpimage otfad get-template -f mimx9352 -o workspace/otfad_template.yaml --force\n",
      "Creating workspace/otfad_template.yaml template file.\n"
     ]
    },
    {
     "data": {
      "text/html": [
       "\n",
       "            \n",
       "            <style>\n",
       "                .yaml-diff { font-family: monospace; background-color: #f0f0f0; padding: 1em; border: 1px solid #c0c0c0; }\n",
       "                .yaml-key { color: #0000CC; font-weight: bold; }\n",
       "                .yaml-value { color: #006600; }\n",
       "                .yaml-commented-line { color: #008800; }\n",
       "                .yaml-list-item { color: #660066; }\n",
       "                .diff-removed { background-color: #ffaaaa; }\n",
       "                .diff-added { background-color: #aaffaa; }\n",
       "                .yaml-comment {\n",
       "                    background-color: #FF8C00;\n",
       "                    color: #000000;\n",
       "                    border-radius: 50%;\n",
       "                    padding: 0 0.3em;\n",
       "                    margin-left: 0.5em;\n",
       "                    font-size: 0.8em;\n",
       "                    cursor: help;\n",
       "                    font-weight: bold;\n",
       "                    text-shadow: 1px 1px 1px rgba(255, 255, 255, 0.7);\n",
       "                }\n",
       "                #toggleButton_7e1e91d4912c8cdca2289c1158729501 {\n",
       "                    background-color: #4CAF50;\n",
       "                    border: none;\n",
       "                    color: white;\n",
       "                    padding: 10px 20px;\n",
       "                    text-align: center;\n",
       "                    text-decoration: none;\n",
       "                    display: inline-block;\n",
       "                    font-size: 16px;\n",
       "                    margin: 4px 2px;\n",
       "                    cursor: pointer;\n",
       "                }\n",
       "            </style>\n",
       "            \n",
       "            \n",
       "            <script>\n",
       "            function toggleView_7e1e91d4912c8cdca2289c1158729501() {\n",
       "                var diffView = document.getElementById('diffView_7e1e91d4912c8cdca2289c1158729501');\n",
       "                var userConfigView = document.getElementById('userConfigView_7e1e91d4912c8cdca2289c1158729501');\n",
       "                var button = document.getElementById('toggleButton_7e1e91d4912c8cdca2289c1158729501');\n",
       "\n",
       "                if (diffView.style.display === 'none' && userConfigView.style.display === 'none') {\n",
       "                    diffView.style.display = 'block';\n",
       "                    userConfigView.style.display = 'none';\n",
       "                    button.textContent = 'Show User Config';\n",
       "                } else if (diffView.style.display === 'block') {\n",
       "                    diffView.style.display = 'none';\n",
       "                    userConfigView.style.display = 'block';\n",
       "                    button.textContent = 'Hide';\n",
       "                } else {\n",
       "                    diffView.style.display = 'none';\n",
       "                    userConfigView.style.display = 'none';\n",
       "                    button.textContent = 'Show Diff';\n",
       "                }\n",
       "            }\n",
       "            </script>\n",
       "            \n",
       "            <div class=\"yaml-diff-container\">\n",
       "            <h3>Configuration Differences</h3>\n",
       "            <button onclick=\"toggleView_7e1e91d4912c8cdca2289c1158729501()\" id=\"toggleButton_7e1e91d4912c8cdca2289c1158729501\">Show Diff</button>\n",
       "            \n",
       "            <a href=\"data:text/plain;base64,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\" download=\"user_config.yaml\">\n",
       "                <button style=\"background-color: #4CAF50; border: none; color: white; padding: 10px 20px; text-align: center; text-decoration: none; display: inline-block; font-size: 16px; margin: 4px 2px; cursor: pointer;\">\n",
       "                    Download Config\n",
       "                </button>\n",
       "            </a>\n",
       "            \n",
       "            <div id=\"diffView_7e1e91d4912c8cdca2289c1158729501\" class=\"yaml-diff\" style=\"display:none;\"><pre class=\"yaml-diff\"><span class=\"yaml-commented-line\"># ==========================  On-The-Fly AES decryption Configuration template for mimx9352.  ==========================</span><br><span class=\"diff-removed\"></span><br><br><span class=\"yaml-commented-line\"># -------------------------------------------------------- Note --------------------------------------------------------</span><br><span class=\"yaml-commented-line\"># Is important to use physical addresses (non-secure) in settings of OTFAD to proper run the decryption on device.</span><br><span class=\"yaml-commented-line\"># For example:</span><br><span class=\"yaml-commented-line\">#   In case of using FlexSPI2 the secure base address address is 0x1400_0000. But in setting of the OTFAD use</span><br><span class=\"yaml-commented-line\"># 0x0400_0000 as a base address.</span><br><span class=\"yaml-commented-line\">#   The code must be still linked on secure base address 0x1400_0000 to proper run of OTFAD hardware.</span><br><br><span class=\"yaml-commented-line\">#   Same is for FlexSPI1, but instead of 0x3800_0000 base address, the 0x2800_0000 must be used in OTFAD configuration.</span><br><span class=\"yaml-commented-line\"># ======================================================================================================================</span><br><span class=\"yaml-commented-line\">#                                                 == General Options ==                                                 </span><br><span class=\"yaml-commented-line\"># ======================================================================================================================</span><br><span class=\"yaml-commented-line\"># -------------------------------------===== The chip family name [Required] =====--------------------------------------</span><br><span class=\"yaml-commented-line\"># Description: NXP chip family identifier.</span><br><span class=\"yaml-commented-line\"># Possible options: <mimx9352, mimxrt1010, mimxrt1165, mimxrt1166, mimxrt1171, mimxrt1172, mimxrt1173, mimxrt1175,</span><br><span class=\"yaml-commented-line\"># mimxrt1176, mimxrt1181, mimxrt1182, mimxrt1187, mimxrt1189, mimxrt533s, mimxrt555s, mimxrt595s, mimxrt685s></span><br><span class=\"yaml-key\">family</span>: <span class=\"yaml-value\">mimx9352</span><br><span class=\"yaml-commented-line\"># -----------------------------------------===== MCU revision [Optional] =====------------------------------------------</span><br><span class=\"yaml-commented-line\"># Description: Revision of silicon. The 'latest' name, means most current revision.</span><br><span class=\"yaml-commented-line\"># Possible options: <a0, a1, latest></span><br><span class=\"yaml-key\">revision</span>: <span class=\"yaml-value\">latest</span><br><span class=\"yaml-commented-line\"># ======================================================================================================================</span><br><span class=\"yaml-commented-line\">#                                                  == Basic Settings ==                                                 </span><br><span class=\"yaml-commented-line\"># ======================================================================================================================</span><br><span class=\"yaml-commented-line\"># --------------------------------------===== OTFAD output folder [Required] =====--------------------------------------</span><br><span class=\"yaml-commented-line\"># Description: Path to directory where the OTFAD output will be generated</span><br><span class=\"diff-added\"><span class=\"yaml-key\">output_folder</span>: <span class=\"yaml-value\">../workspace/encrypted</span></span><br><span class=\"diff-removed\"><span class=\"yaml-key\">output_folder</span>: <span class=\"yaml-value\">otfad_output</span> <span style=\"background-color: #FFFF00; border-radius: 5px; padding:\n",
       "2px 6px; margin-left: 5px; font-size: 0.8em;\">Change the output folder to the workspace</span></span><br><span class=\"yaml-commented-line\"># ---------------------------------===== Output binary image file name [Optional] =====---------------------------------</span><br><span class=\"yaml-commented-line\"># Description: Filename of the output image containing keyblobs and encrypted data blobs without file extension (.bin</span><br><span class=\"yaml-commented-line\"># will be appended)</span><br><span class=\"diff-removed\"><span class=\"yaml-key\">output_name</span>: <span class=\"yaml-value\">otfad_whole_image</span></span><br><span class=\"yaml-commented-line\"># ---------------------------------------===== Keyblob file name [Optional] =====---------------------------------------</span><br><span class=\"yaml-commented-line\"># Description: Filename of the keyblob without file extension (.bin will be appended)</span><br><span class=\"diff-removed\"><span class=\"yaml-key\">keyblob_name</span>: <span class=\"yaml-value\">OTFAD_Table</span></span><br><span class=\"yaml-commented-line\"># ----------------------------------------===== Encrypted name [Optional] =====-----------------------------------------</span><br><span class=\"yaml-commented-line\"># Description: filename of the encrypted datablobs without file extension (.bin will be appended)</span><br><span class=\"diff-removed\"><span class=\"yaml-key\">encrypted_name</span>: <span class=\"yaml-value\">encrypted_blob</span></span><br><span class=\"yaml-commented-line\"># --------------------------------------===== Generate readme.txt [Optional] =====--------------------------------------</span><br><span class=\"yaml-commented-line\"># Description: Readme file contains information about image layout</span><br><span class=\"diff-removed\"><span class=\"yaml-key\">generate_readme</span>: <span class=\"yaml-value\">true</span></span><br><span class=\"yaml-commented-line\"># ======================================================================================================================</span><br><span class=\"yaml-commented-line\">#                                                  == OTFAD Settings ==                                                 </span><br><span class=\"yaml-commented-line\"># ======================================================================================================================</span><br><span class=\"yaml-commented-line\"># ----------------------------------------------===== KEK [Required] =====----------------------------------------------</span><br><span class=\"yaml-commented-line\"># Description: OTFAD Key Encryption Key to encrypt OTFAD table. Might be provided as a path to binary file containing</span><br><span class=\"yaml-commented-line\"># KEK or as a string or number</span><br><span class=\"diff-removed\"><span class=\"yaml-key\">kek</span>: <span class=\"yaml-value\">my_secret_kek.bin</span> <span style=\"background-color: #FFFF00; border-radius: 5px; padding: 2px\n",
       "6px; margin-left: 5px; font-size: 0.8em;\">Define a key encryption key that will be programmed to fuses</span></span><br><span class=\"diff-added\"><span class=\"yaml-key\">kek</span>: <span class=\"yaml-value\">\"0x00112233445566778899AAABBCCDDEEFF\"</span></span><br><span class=\"yaml-commented-line\"># ---------------------------------===== OTFAD key blobs table address [Required] =====---------------------------------</span><br><span class=\"yaml-commented-line\"># Description: The base address of key blob table, it should be aligned to 1 KB (1024 B)</span><br><span class=\"diff-removed\"><span class=\"yaml-key\">otfad_table_address</span>: <span class=\"yaml-value\">'0x28000000'</span></span><br><span class=\"diff-added\"><span class=\"yaml-key\">otfad_table_address</span>: <span class=\"yaml-value\">\"0x28000000\"</span></span><br><span class=\"yaml-commented-line\"># ----------------------------------------===== Data blobs list [Optional] =====----------------------------------------</span><br><span class=\"yaml-commented-line\"># Description: List of all data blobs included in this key blob</span><br><span class=\"yaml-key\">data_blobs</span>: <span style=\"background-color: #FFFF00; border-radius: 5px; padding: 2px 6px; margin-left: 5px; font-size:\n",
       "0.8em;\">Define the data that will be encrypted</span><br><span class=\"diff-removed\"><span class=\"yaml-key\">  -</span></span><br>    <span class=\"yaml-commented-line\"># -----------------------------------===== Plain Text data blob [Required] =====------------------------------------</span><br><span class=\"diff-added\"><span class=\"yaml-key\">  - </span><span class=\"yaml-commented-line\"># -----------------------------------===== Plain Text data blob [Required] =====------------------------------------</span></span><br>    <span class=\"yaml-commented-line\"># Description: Path to binary file with plain text data to be encrypted if desired</span><br><span class=\"diff-removed\"><span class=\"yaml-key\">    data</span>: <span class=\"yaml-value\">my_data.bin</span> <span style=\"background-color: #FFFF00; border-radius: 5px; padding: 2px\n",
       "6px; margin-left: 5px; font-size: 0.8em;\">Define the data that will be encrypted</span></span><br><span class=\"diff-added\"><span class=\"yaml-key\">    data</span>: <span class=\"yaml-value\">workspace/imx-boot.bin</span></span><br>    <span class=\"yaml-commented-line\"># -------------------------------------===== Data blob address [Required] =====-------------------------------------</span><br>    <span class=\"yaml-commented-line\"># Description: Data blob address, it could be omitted if data blob starts at start_address</span><br><span class=\"diff-removed\"><span class=\"yaml-key\">    address</span>: <span class=\"yaml-value\">'0x28001000'</span></span><br><span class=\"diff-added\"><span class=\"yaml-key\">    address</span>: <span class=\"yaml-value\">\"0x28001000\"</span></span><br><span class=\"yaml-commented-line\"># --------------------------------===== List of Key Blobs used by OTFAD [Required] =====--------------------------------</span><br><span class=\"yaml-commented-line\"># Description: The list of definition of individual key blobs including plain data. Add other array items as you need</span><br><span class=\"yaml-commented-line\"># and device allows</span><br><span class=\"yaml-key\">key_blobs</span>: <span style=\"background-color: #FFFF00; border-radius: 5px; padding: 2px 6px; margin-left: 5px; font-size:\n",
       "0.8em;\">Define up to 4 contexts for encryption</span><br><span class=\"diff-removed\"><span class=\"yaml-key\">  -</span></span><br>    <span class=\"yaml-commented-line\"># ------------------------------------------===== AES key [Required] =====------------------------------------------</span><br><span class=\"diff-added\"><span class=\"yaml-key\">  - </span><span class=\"yaml-commented-line\"># ------------------------------------------===== AES key [Required] =====------------------------------------------</span></span><br>    <span class=\"yaml-commented-line\"># Description: AES key for the key blob</span><br><span class=\"diff-removed\"><span class=\"yaml-key\">    aes_key</span>: <span class=\"yaml-value\">'0xB1A0C56AF31E98CD6936A79D9E6F829D'</span> <span style=\"background-color: #FFFF00; border-\n",
       "radius: 5px; padding: 2px 6px; margin-left: 5px; font-size: 0.8em;\">Define the AES key that will be used for encryption</span></span><br><span class=\"diff-added\"><span class=\"yaml-key\">    aes_key</span>: <span class=\"yaml-value\">\"0xB1A0C56AF31E98CD6936A79D9E6F829D\"</span></span><br>    <span class=\"yaml-commented-line\"># -------------------------------------===== AES Counter value [Required] =====-------------------------------------</span><br>    <span class=\"yaml-commented-line\"># Description: AES counter value for the key blob</span><br><span class=\"diff-removed\"><span class=\"yaml-key\">    aes_ctr</span>: <span class=\"yaml-value\">'0x5689fab8b4bfb264'</span></span><br><span class=\"diff-added\"><span class=\"yaml-key\">    aes_ctr</span>: <span class=\"yaml-value\">\"0x5689fab8b4bfb264\"</span></span><br>    <span class=\"yaml-commented-line\"># ------------------------------===== Start address of key blob data [Required] =====-------------------------------</span><br>    <span class=\"yaml-commented-line\"># Description: Start address of key blob data, it should be aligned to 1 KB (1024 B)</span><br><span class=\"diff-removed\"><span class=\"yaml-key\">    start_address</span>: <span class=\"yaml-value\">'0x28001000'</span> <span style=\"background-color: #FFFF00; border-radius: 5px;\n",
       "padding: 2px 6px; margin-left: 5px; font-size: 0.8em;\">Define the start address of the data that will be encrypted by the keyblob</span></span><br><span class=\"diff-added\"><span class=\"yaml-key\">    start_address</span>: <span class=\"yaml-value\">\"0x28001000\"</span></span><br>    <span class=\"yaml-commented-line\"># -------------------------------===== End address of key blob data [Required] =====--------------------------------</span><br>    <span class=\"yaml-commented-line\"># Description: End address of key blob data, it should be aligned to 1 KB (1024 B)</span><br><span class=\"diff-removed\"><span class=\"yaml-key\">    end_address</span>: <span class=\"yaml-value\">'0x28010000'</span></span><br><span class=\"diff-added\"><span class=\"yaml-key\">    end_address</span>: <span class=\"yaml-value\">\"0x28010000\"</span></span><br>    <span class=\"yaml-commented-line\"># --------------------------------===== AES decryption enable flag [Optional] =====---------------------------------</span><br>    <span class=\"yaml-commented-line\"># Description: For accesses hitting in a valid context, this bit indicates if the fetched data is to be decrypted or</span><br>    <span class=\"yaml-commented-line\"># simply bypassed</span><br><span class=\"yaml-key\">    aes_decryption_enable</span>: <span class=\"yaml-value\">true</span><br>    <span class=\"yaml-commented-line\"># ----------------------------------------===== Valid flag [Optional] =====-----------------------------------------</span><br>    <span class=\"yaml-commented-line\"># Description: This field signals if the context is valid or not</span><br><span class=\"yaml-key\">    valid</span>: <span class=\"yaml-value\">true</span><br>    <span class=\"yaml-commented-line\"># --------------------------------------===== Read Only flag [Optional] =====---------------------------------------</span><br>    <span class=\"yaml-commented-line\"># Description: This field signals if the context is Read only or not</span><br><span class=\"yaml-key\">    read_only</span>: <span class=\"yaml-value\">true</span><br><span class=\"yaml-commented-line\"># ======================================================================================================================</span><br><span class=\"yaml-commented-line\">#                                          == OTFAD Key Scrambling Settings ==                                          </span><br><span class=\"yaml-commented-line\"># ======================================================================================================================</span><br><span class=\"diff-removed\"><span class=\"yaml-key\">key_scramble</span>: <span style=\"background-color: #FFFF00; border-radius: 5px; padding: 2px 6px; margin-left: 5px; font-size:\n",
       "0.8em;\">This might be removed if you don't want to use key scrambling</span></span><br>  <span class=\"yaml-commented-line\"># ----------------------------------------===== Key Scramble [Required] =====-----------------------------------------</span><br>  <span class=\"yaml-commented-line\"># Description: OTFAD Key Scramble mask (4 bytes size)</span><br><span class=\"diff-removed\"><span class=\"yaml-key\">  key_scramble_mask</span>: <span class=\"yaml-value\">'0x12345678'</span> <span style=\"background-color: #FFFF00; border-radius: 5px;\n",
       "padding: 2px 6px; margin-left: 5px; font-size: 0.8em;\">This might be removed if you don't want to use key scrambling</span></span><br>  <span class=\"yaml-commented-line\"># -------------------------------------===== Key Scramble Align [Required] =====--------------------------------------</span><br>  <span class=\"yaml-commented-line\"># Description: OTFAD Key scramble mask align (1 byte size)</span><br><span class=\"diff-removed\"><span class=\"yaml-key\">  key_scramble_align</span>: <span class=\"yaml-value\">'0x72'</span> <span style=\"background-color: #FFFF00; border-radius: 5px; padding:\n",
       "2px 6px; margin-left: 5px; font-size: 0.8em;\">This might be removed if you don't want to use key scrambling</span></span><br></pre></div>\n",
       "            <div id=\"userConfigView_7e1e91d4912c8cdca2289c1158729501\" class=\"yaml-diff\" style=\"display:none;\"><pre class=\"yaml-diff\"><span class=\"yaml-commented-line\"># ==========================  On-The-Fly AES decryption Configuration template for mimx9352.  ==========================</span><br><br><span class=\"yaml-commented-line\"># -------------------------------------------------------- Note --------------------------------------------------------</span><br><span class=\"yaml-commented-line\"># Is important to use physical addresses (non-secure) in settings of OTFAD to proper run the decryption on device.</span><br><span class=\"yaml-commented-line\"># For example:</span><br><span class=\"yaml-commented-line\">#   In case of using FlexSPI2 the secure base address address is 0x1400_0000. But in setting of the OTFAD use</span><br><span class=\"yaml-commented-line\"># 0x0400_0000 as a base address.</span><br><span class=\"yaml-commented-line\">#   The code must be still linked on secure base address 0x1400_0000 to proper run of OTFAD hardware.</span><br><br><span class=\"yaml-commented-line\">#   Same is for FlexSPI1, but instead of 0x3800_0000 base address, the 0x2800_0000 must be used in OTFAD configuration.</span><br><span class=\"yaml-commented-line\"># ======================================================================================================================</span><br><span class=\"yaml-commented-line\">#                                                 == General Options ==</span><br><span class=\"yaml-commented-line\"># ======================================================================================================================</span><br><span class=\"yaml-commented-line\"># -------------------------------------===== The chip family name [Required] =====--------------------------------------</span><br><span class=\"yaml-commented-line\"># Description: NXP chip family identifier.</span><br><span class=\"yaml-commented-line\"># Possible options: <mimx9352, mimxrt1010, mimxrt1165, mimxrt1166, mimxrt1171, mimxrt1172, mimxrt1173, mimxrt1175,</span><br><span class=\"yaml-commented-line\"># mimxrt1176, mimxrt1181, mimxrt1182, mimxrt1187, mimxrt1189, mimxrt533s, mimxrt555s, mimxrt595s, mimxrt685s></span><br><span class=\"yaml-key\">family</span>: <span class=\"yaml-value\">mimx9352</span><br><span class=\"yaml-commented-line\"># -----------------------------------------===== MCU revision [Optional] =====------------------------------------------</span><br><span class=\"yaml-commented-line\"># Description: Revision of silicon. The 'latest' name, means most current revision.</span><br><span class=\"yaml-commented-line\"># Possible options: <a0, a1, latest></span><br><span class=\"yaml-key\">revision</span>: <span class=\"yaml-value\">latest</span><br><span class=\"yaml-commented-line\"># ======================================================================================================================</span><br><span class=\"yaml-commented-line\">#                                                  == Basic Settings ==</span><br><span class=\"yaml-commented-line\"># ======================================================================================================================</span><br><span class=\"yaml-commented-line\"># --------------------------------------===== OTFAD output folder [Required] =====--------------------------------------</span><br><span class=\"yaml-commented-line\"># Description: Path to directory where the OTFAD output will be generated</span><br><span class=\"yaml-key\">output_folder</span>: <span class=\"yaml-value\">../workspace/encrypted</span> <span style=\"background-color: #FFFF00; border-radius: 5px;\n",
       "padding: 2px 6px; margin-left: 5px; font-size: 0.8em;\">Change the output folder to the workspace</span><br><span class=\"yaml-commented-line\"># ======================================================================================================================</span><br><span class=\"yaml-commented-line\">#                                                  == OTFAD Settings ==</span><br><span class=\"yaml-commented-line\"># ======================================================================================================================</span><br><span class=\"yaml-commented-line\"># ----------------------------------------------===== KEK [Required] =====----------------------------------------------</span><br><span class=\"yaml-commented-line\"># Description: OTFAD Key Encryption Key to encrypt OTFAD table. Might be provided as a path to binary file containing</span><br><span class=\"yaml-commented-line\"># KEK or as a string or number</span><br><span class=\"yaml-key\">kek</span>: <span class=\"yaml-value\">\"0x00112233445566778899AAABBCCDDEEFF\"</span> <span style=\"background-color: #FFFF00; border-radius:\n",
       "5px; padding: 2px 6px; margin-left: 5px; font-size: 0.8em;\">Define a key encryption key that will be programmed to fuses</span><br><span class=\"yaml-commented-line\"># ---------------------------------===== OTFAD key blobs table address [Required] =====---------------------------------</span><br><span class=\"yaml-commented-line\"># Description: The base address of key blob table, it should be aligned to 1 KB (1024 B)</span><br><span class=\"yaml-key\">otfad_table_address</span>: <span class=\"yaml-value\">\"0x28000000\"</span><br><span class=\"yaml-commented-line\"># ----------------------------------------===== Data blobs list [Optional] =====----------------------------------------</span><br><span class=\"yaml-commented-line\"># Description: List of all data blobs included in this key blob</span><br><span class=\"yaml-key\">data_blobs</span>: <span style=\"background-color: #FFFF00; border-radius: 5px; padding: 2px 6px; margin-left: 5px; font-size:\n",
       "0.8em;\">Define the data that will be encrypted</span><br><span class=\"yaml-key\">  - </span><span class=\"yaml-commented-line\"># -----------------------------------===== Plain Text data blob [Required] =====------------------------------------</span><br>    <span class=\"yaml-commented-line\"># Description: Path to binary file with plain text data to be encrypted if desired</span><br><span class=\"yaml-key\">    data</span>: <span class=\"yaml-value\">workspace/imx-boot.bin</span> <span style=\"background-color: #FFFF00; border-radius: 5px;\n",
       "padding: 2px 6px; margin-left: 5px; font-size: 0.8em;\">Define the data that will be encrypted</span><br>    <span class=\"yaml-commented-line\"># -------------------------------------===== Data blob address [Required] =====-------------------------------------</span><br>    <span class=\"yaml-commented-line\"># Description: Data blob address, it could be omitted if data blob starts at start_address</span><br><span class=\"yaml-key\">    address</span>: <span class=\"yaml-value\">\"0x28001000\"</span><br><span class=\"yaml-commented-line\"># --------------------------------===== List of Key Blobs used by OTFAD [Required] =====--------------------------------</span><br><span class=\"yaml-commented-line\"># Description: The list of definition of individual key blobs including plain data. Add other array items as you need</span><br><span class=\"yaml-commented-line\"># and device allows</span><br><span class=\"yaml-key\">key_blobs</span>: <span style=\"background-color: #FFFF00; border-radius: 5px; padding: 2px 6px; margin-left: 5px; font-size:\n",
       "0.8em;\">Define up to 4 contexts for encryption</span><br><span class=\"yaml-key\">  - </span><span class=\"yaml-commented-line\"># ------------------------------------------===== AES key [Required] =====------------------------------------------</span><br>    <span class=\"yaml-commented-line\"># Description: AES key for the key blob</span><br><span class=\"yaml-key\">    aes_key</span>: <span class=\"yaml-value\">\"0xB1A0C56AF31E98CD6936A79D9E6F829D\"</span> <span style=\"background-color: #FFFF00; border-\n",
       "radius: 5px; padding: 2px 6px; margin-left: 5px; font-size: 0.8em;\">Define the AES key that will be used for encryption</span><br>    <span class=\"yaml-commented-line\"># -------------------------------------===== AES Counter value [Required] =====-------------------------------------</span><br>    <span class=\"yaml-commented-line\"># Description: AES counter value for the key blob</span><br><span class=\"yaml-key\">    aes_ctr</span>: <span class=\"yaml-value\">\"0x5689fab8b4bfb264\"</span><br>    <span class=\"yaml-commented-line\"># ------------------------------===== Start address of key blob data [Required] =====-------------------------------</span><br>    <span class=\"yaml-commented-line\"># Description: Start address of key blob data, it should be aligned to 1 KB (1024 B)</span><br><span class=\"yaml-key\">    start_address</span>: <span class=\"yaml-value\">\"0x28001000\"</span> <span style=\"background-color: #FFFF00; border-radius: 5px;\n",
       "padding: 2px 6px; margin-left: 5px; font-size: 0.8em;\">Define the start address of the data that will be encrypted by the keyblob</span><br>    <span class=\"yaml-commented-line\"># -------------------------------===== End address of key blob data [Required] =====--------------------------------</span><br>    <span class=\"yaml-commented-line\"># Description: End address of key blob data, it should be aligned to 1 KB (1024 B)</span><br><span class=\"yaml-key\">    end_address</span>: <span class=\"yaml-value\">\"0x28010000\"</span><br>    <span class=\"yaml-commented-line\"># --------------------------------===== AES decryption enable flag [Optional] =====---------------------------------</span><br>    <span class=\"yaml-commented-line\"># Description: For accesses hitting in a valid context, this bit indicates if the fetched data is to be decrypted or</span><br>    <span class=\"yaml-commented-line\"># simply bypassed</span><br><span class=\"yaml-key\">    aes_decryption_enable</span>: <span class=\"yaml-value\">true</span><br>    <span class=\"yaml-commented-line\"># ----------------------------------------===== Valid flag [Optional] =====-----------------------------------------</span><br>    <span class=\"yaml-commented-line\"># Description: This field signals if the context is valid or not</span><br><span class=\"yaml-key\">    valid</span>: <span class=\"yaml-value\">true</span><br>    <span class=\"yaml-commented-line\"># --------------------------------------===== Read Only flag [Optional] =====---------------------------------------</span><br>    <span class=\"yaml-commented-line\"># Description: This field signals if the context is Read only or not</span><br><span class=\"yaml-key\">    read_only</span>: <span class=\"yaml-value\">true</span><br></pre></div>\n",
       "            </div>\n",
       "            "
      ],
      "text/plain": [
       "<IPython.core.display.HTML object>"
      ]
     },
     "execution_count": 21,
     "metadata": {},
     "output_type": "execute_result"
    }
   ],
   "source": [
    "YamlDiffWidget(\"inputs/imx93_otfad.diffc\").html"
   ]
  },
  {
   "cell_type": "code",
   "execution_count": 33,
   "metadata": {},
   "outputs": [
    {
     "name": "stdout",
     "output_type": "stream",
     "text": [
      "nxpimage otfad export -c inputs/otfad_mx93.yaml -i 1\n",
      "Created OTFAD BLHOST load fuses script:\n",
      "workspace/encrypted/otfad1_mimx9352.bcf\n",
      "Success. OTFAD files have been created\n"
     ]
    }
   ],
   "source": [
    "%! nxpimage otfad export -c inputs/otfad_mx93.yaml -i 1"
   ]
  },
  {
   "cell_type": "markdown",
   "metadata": {},
   "source": [
    "## 3. Bootable Image with OTFAD encrypted image\n",
    "\n",
    "The following command merges the OTFAD image with the bootable image:\n",
    "\n",
    "```bash\n",
    "nxpimage -v bootable-image merge -c u-boot-flash_template.yaml -o flash.bin\n",
    "```\n",
    "\n",
    "We have to prepare the configuration. "
   ]
  },
  {
   "cell_type": "code",
   "execution_count": 23,
   "metadata": {
    "tags": [
     "remove-input"
    ]
   },
   "outputs": [
    {
     "name": "stdout",
     "output_type": "stream",
     "text": [
      "nxpimage utils binary-image get-template -o workspace/bimg_template.yaml --force\n",
      "Creating workspace/bimg_template.yaml template file.\n"
     ]
    },
    {
     "data": {
      "text/html": [
       "\n",
       "            \n",
       "            <style>\n",
       "                .yaml-diff { font-family: monospace; background-color: #f0f0f0; padding: 1em; border: 1px solid #c0c0c0; }\n",
       "                .yaml-key { color: #0000CC; font-weight: bold; }\n",
       "                .yaml-value { color: #006600; }\n",
       "                .yaml-commented-line { color: #008800; }\n",
       "                .yaml-list-item { color: #660066; }\n",
       "                .diff-removed { background-color: #ffaaaa; }\n",
       "                .diff-added { background-color: #aaffaa; }\n",
       "                .yaml-comment {\n",
       "                    background-color: #FF8C00;\n",
       "                    color: #000000;\n",
       "                    border-radius: 50%;\n",
       "                    padding: 0 0.3em;\n",
       "                    margin-left: 0.5em;\n",
       "                    font-size: 0.8em;\n",
       "                    cursor: help;\n",
       "                    font-weight: bold;\n",
       "                    text-shadow: 1px 1px 1px rgba(255, 255, 255, 0.7);\n",
       "                }\n",
       "                #toggleButton_2464069ed90db0ce745c4de2e151f020 {\n",
       "                    background-color: #4CAF50;\n",
       "                    border: none;\n",
       "                    color: white;\n",
       "                    padding: 10px 20px;\n",
       "                    text-align: center;\n",
       "                    text-decoration: none;\n",
       "                    display: inline-block;\n",
       "                    font-size: 16px;\n",
       "                    margin: 4px 2px;\n",
       "                    cursor: pointer;\n",
       "                }\n",
       "            </style>\n",
       "            \n",
       "            \n",
       "            <script>\n",
       "            function toggleView_2464069ed90db0ce745c4de2e151f020() {\n",
       "                var diffView = document.getElementById('diffView_2464069ed90db0ce745c4de2e151f020');\n",
       "                var userConfigView = document.getElementById('userConfigView_2464069ed90db0ce745c4de2e151f020');\n",
       "                var button = document.getElementById('toggleButton_2464069ed90db0ce745c4de2e151f020');\n",
       "\n",
       "                if (diffView.style.display === 'none' && userConfigView.style.display === 'none') {\n",
       "                    diffView.style.display = 'block';\n",
       "                    userConfigView.style.display = 'none';\n",
       "                    button.textContent = 'Show User Config';\n",
       "                } else if (diffView.style.display === 'block') {\n",
       "                    diffView.style.display = 'none';\n",
       "                    userConfigView.style.display = 'block';\n",
       "                    button.textContent = 'Hide';\n",
       "                } else {\n",
       "                    diffView.style.display = 'none';\n",
       "                    userConfigView.style.display = 'none';\n",
       "                    button.textContent = 'Show Diff';\n",
       "                }\n",
       "            }\n",
       "            </script>\n",
       "            \n",
       "            <div class=\"yaml-diff-container\">\n",
       "            <h3>Configuration Differences</h3>\n",
       "            <button onclick=\"toggleView_2464069ed90db0ce745c4de2e151f020()\" id=\"toggleButton_2464069ed90db0ce745c4de2e151f020\">Show Diff</button>\n",
       "            \n",
       "            <a href=\"data:text/plain;base64,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\" download=\"user_config.yaml\">\n",
       "                <button style=\"background-color: #4CAF50; border: none; color: white; padding: 10px 20px; text-align: center; text-decoration: none; display: inline-block; font-size: 16px; margin: 4px 2px; cursor: pointer;\">\n",
       "                    Download Config\n",
       "                </button>\n",
       "            </a>\n",
       "            \n",
       "            <div id=\"diffView_2464069ed90db0ce745c4de2e151f020\" class=\"yaml-diff\" style=\"display:none;\"><pre class=\"yaml-diff\"><span class=\"yaml-commented-line\"># =======================================  Binary Image Configuration template.  =======================================</span><br><br><span class=\"yaml-commented-line\"># ======================================================================================================================</span><br><span class=\"yaml-commented-line\">#                                                 == General Options ==                                                 </span><br><span class=\"yaml-commented-line\"># ======================================================================================================================</span><br><span class=\"yaml-commented-line\"># ------------------------------------------===== Image name [Required] =====-------------------------------------------</span><br><span class=\"yaml-commented-line\"># Description: The optional image name used just during prints to console during merging.</span><br><span class=\"diff-removed\"><span class=\"yaml-key\">name</span>: <span class=\"yaml-value\">My super binary image</span></span><br><span class=\"diff-added\"><span class=\"yaml-key\">name</span>: <span class=\"yaml-value\">OTFAD encrypted AHAB image with FCB</span></span><br><span class=\"yaml-commented-line\"># -------------------------------------===== Overall size of image [Optional] =====-------------------------------------</span><br><span class=\"yaml-commented-line\"># Description: The overall size of merged image.</span><br><span class=\"diff-removed\"><span class=\"yaml-key\">size</span>: <span class=\"yaml-value\">1024</span></span><br><span class=\"yaml-commented-line\"># --------------------------===== Pattern defined as number or special values [Optional] =====--------------------------</span><br><span class=\"yaml-commented-line\"># Description: The pattern that will be used to fill up gaps between defined regions. String or number or choose from</span><br><span class=\"yaml-commented-line\"># predefined patterns - rand, zeros, ones, inc</span><br><span class=\"diff-removed\"><span class=\"yaml-key\">pattern</span>: <span class=\"yaml-value\">zeros</span></span><br><span class=\"yaml-commented-line\"># ---------------------------------------===== Regions alignment [Optional] =====---------------------------------------</span><br><span class=\"yaml-commented-line\"># Description: The region alignment that will be used in case that offset is not specified.</span><br><span class=\"diff-removed\"><span class=\"yaml-key\">alignment</span>: <span class=\"yaml-value\">1</span></span><br><br><span class=\"yaml-commented-line\"># ======================================================================================================================</span><br><span class=\"yaml-commented-line\">#                                              == Binary images to merge ==                                             </span><br><span class=\"yaml-commented-line\"># ======================================================================================================================</span><br><span class=\"yaml-commented-line\"># --------------------------------===== Array of defined binary regions [Required] =====--------------------------------</span><br><span class=\"yaml-commented-line\"># Description: The array of individual regions to merge into final image.</span><br><span class=\"yaml-key\">regions</span>:<br><span class=\"diff-removed\"><span class=\"yaml-key\">  -</span></span><br>  <span class=\"yaml-commented-line\"># ====================================================================================================================</span><br>  <span class=\"yaml-commented-line\">#                                          == List of possible 2 options. ==                                          </span><br>  <span class=\"yaml-commented-line\">#                                         Options [binary_file, binary_block]                                         </span><br>  <span class=\"yaml-commented-line\"># ====================================================================================================================</span><br><span class=\"diff-added\"><span class=\"yaml-key\">  - </span><span class=\"yaml-commented-line\"># ----------------------------------------===== Binary file [Required] =====----------------------------------------</span></span><br><span class=\"diff-added\"><span class=\"yaml-key\">    binary_file</span>:</span><br><span class=\"diff-added\"><span class=\"yaml-key\">      name</span>: <span class=\"yaml-value\">OTFAD keyblob</span></span><br><span class=\"diff-added\"><span class=\"yaml-key\">      path</span>: <span class=\"yaml-value\">../workspace/encrypted/otfad_table.bin</span></span><br><span class=\"diff-added\"><span class=\"yaml-key\">      offset</span>: <span class=\"yaml-value\">0</span></span><br><br><span class=\"diff-added\"><span class=\"yaml-key\">  - </span><span class=\"yaml-commented-line\"># ----------------------------------------===== Binary file [Required] =====----------------------------------------</span></span><br><span class=\"diff-added\"><span class=\"yaml-key\">    binary_file</span>:</span><br><span class=\"diff-added\"><span class=\"yaml-key\">      name</span>: <span class=\"yaml-value\">FCB</span></span><br><span class=\"diff-added\"><span class=\"yaml-key\">      path</span>: <span class=\"yaml-value\">../workspace/fcb.bin</span></span><br><span class=\"diff-added\"><span class=\"yaml-key\">      offset</span>: <span class=\"yaml-value\">0x400</span></span><br><span class=\"diff-added\"></span><br>  <span class=\"yaml-commented-line\">#  =========================== [Example of possible configuration: #0 , erase if not used] ============================</span><br><span class=\"diff-added\"><span class=\"yaml-key\">  - </span><span class=\"yaml-commented-line\">#  =========================== [Example of possible configuration: #0 , erase if not used] ============================</span></span><br>    <span class=\"yaml-commented-line\"># ----------------------------------------===== Binary file [Required] =====----------------------------------------</span><br><span class=\"yaml-key\">    binary_file</span>: <span style=\"background-color: #FFFF00; border-radius: 5px; padding: 2px 6px; margin-left: 5px; font-size:\n",
       "0.8em;\">Define path to the OTFAD table (keyblob) binary file at offset 0x0, FCB at offset 0x400 and encrypted data at offset 0x1000</span><br>      <span class=\"yaml-commented-line\"># ---------------------------------------===== Image name [Optional] =====----------------------------------------</span><br>      <span class=\"yaml-commented-line\"># Description: The optional image name used just during prints to console during merging.</span><br><span class=\"diff-removed\"><span class=\"yaml-key\">      name</span>: <span class=\"yaml-value\">My super binary image</span></span><br><span class=\"diff-added\"><span class=\"yaml-key\">      name</span>: <span class=\"yaml-value\">OTFAD encrypted blob</span></span><br>      <span class=\"yaml-commented-line\"># ---------------------------------------===== Binary file [Required] =====---------------------------------------</span><br>      <span class=\"yaml-commented-line\"># Description: The path to binary file to merge into final image</span><br><span class=\"diff-removed\"><span class=\"yaml-key\">      path</span>: <span class=\"yaml-value\">my_binary_to_merge.bin</span></span><br><span class=\"diff-added\"><span class=\"yaml-key\">      path</span>: <span class=\"yaml-value\">../workspace/encrypted/encrypted_blob.bin</span></span><br>      <span class=\"yaml-commented-line\"># -------------------------------------===== Offset of image [Optional] =====-------------------------------------</span><br>      <span class=\"yaml-commented-line\"># Description: The offset of image to be merge on. The offset could be also negative - for example to 'erase'</span><br>      <span class=\"yaml-commented-line\"># security bit from address. In case that offset definition is omitted, the block will be placed after previous</span><br>      <span class=\"yaml-commented-line\"># one with defined alignment.</span><br><span class=\"diff-removed\"><span class=\"yaml-key\">      offset</span>: <span class=\"yaml-value\">1024</span></span><br><span class=\"diff-added\"><span class=\"yaml-key\">      offset</span>: <span class=\"yaml-value\">0x1000</span></span><br><br>  <span class=\"yaml-commented-line\">#  =========================== [Example of possible configuration: #1 , erase if not used] ============================</span><br>    <span class=\"yaml-commented-line\"># ---------------------------------------===== Binary block [Required] =====----------------------------------------</span><br><span class=\"diff-removed\"><span class=\"yaml-key\">    binary_block</span>:</span><br>      <span class=\"yaml-commented-line\"># ---------------------------------------===== Image name [Optional] =====----------------------------------------</span><br>      <span class=\"yaml-commented-line\"># Description: The optional image name used just during prints to console during merging.</span><br><span class=\"diff-removed\"><span class=\"yaml-key\">      name</span>: <span class=\"yaml-value\">My super binary block</span></span><br>      <span class=\"yaml-commented-line\"># ------------------------------------===== Binary block size [Required] =====------------------------------------</span><br>      <span class=\"yaml-commented-line\"># Description: The size of binary block</span><br><span class=\"diff-removed\"><span class=\"yaml-key\">      size</span>: <span class=\"yaml-value\">512</span></span><br>      <span class=\"yaml-commented-line\"># ---------------------------------===== Offset of binary block [Optional] =====----------------------------------</span><br>      <span class=\"yaml-commented-line\"># Description: The offset of binary block to be merge on. The offset could be also negative - for example to</span><br>      <span class=\"yaml-commented-line\"># 'erase' security bit from address. In case that offset definition is omitted, the block will be placed after</span><br>      <span class=\"yaml-commented-line\"># previous one with defined alignment.</span><br><span class=\"diff-removed\"><span class=\"yaml-key\">      offset</span>: <span class=\"yaml-value\">1024</span></span><br>      <span class=\"yaml-commented-line\"># -----------------------===== Pattern defined as number or special values [Required] =====-----------------------</span><br>      <span class=\"yaml-commented-line\"># Description: The pattern that will be used to fill up gaps between defined regions. String or number or choose</span><br>      <span class=\"yaml-commented-line\"># from predefined patterns - rand, zeros, ones, inc</span><br><span class=\"diff-removed\"><span class=\"yaml-key\">      pattern</span>: <span class=\"yaml-value\">zeros</span></span><br><span class=\"diff-removed\"></span></pre></div>\n",
       "            <div id=\"userConfigView_2464069ed90db0ce745c4de2e151f020\" class=\"yaml-diff\" style=\"display:none;\"><pre class=\"yaml-diff\"><span class=\"yaml-commented-line\"># =======================================  Binary Image Configuration template.  =======================================</span><br><br><span class=\"yaml-commented-line\"># ======================================================================================================================</span><br><span class=\"yaml-commented-line\">#                                                 == General Options ==</span><br><span class=\"yaml-commented-line\"># ======================================================================================================================</span><br><span class=\"yaml-commented-line\"># ------------------------------------------===== Image name [Optional] =====-------------------------------------------</span><br><span class=\"yaml-commented-line\"># Description: The optional image name used just during prints to console during merging.</span><br><span class=\"yaml-key\">name</span>: <span class=\"yaml-value\">OTFAD encrypted AHAB image with FCB</span><br><span class=\"yaml-commented-line\"># -------------------------------------===== Overall size of image [Optional] =====-------------------------------------</span><br><br><span class=\"yaml-commented-line\"># ======================================================================================================================</span><br><span class=\"yaml-commented-line\">#                                              == Binary images to merge ==</span><br><span class=\"yaml-commented-line\"># ======================================================================================================================</span><br><span class=\"yaml-commented-line\"># --------------------------------===== Array of defined binary regions [Optional] =====--------------------------------</span><br><span class=\"yaml-commented-line\"># Description: The array of individual regions to merge into final image.</span><br><span class=\"yaml-key\">regions</span>:<br><span class=\"yaml-key\">  - </span><span class=\"yaml-commented-line\"># ----------------------------------------===== Binary file [Required] =====----------------------------------------</span><br><span class=\"yaml-key\">    binary_file</span>: <span style=\"background-color: #FFFF00; border-radius: 5px; padding: 2px 6px; margin-left: 5px; font-size:\n",
       "0.8em;\">Define path to the OTFAD table (keyblob) binary file at offset 0x0, FCB at offset 0x400 and encrypted data at offset 0x1000</span><br>      <span class=\"yaml-commented-line\"># ---------------------------------------===== Image name [Optional] =====----------------------------------------</span><br>      <span class=\"yaml-commented-line\"># Description: The optional image name used just during prints to console during merging.</span><br><span class=\"yaml-key\">      name</span>: <span class=\"yaml-value\">OTFAD keyblob</span><br>      <span class=\"yaml-commented-line\"># ---------------------------------------===== Binary file [Required] =====---------------------------------------</span><br>      <span class=\"yaml-commented-line\"># Description: The path to binary file to merge into final image</span><br><span class=\"yaml-key\">      path</span>: <span class=\"yaml-value\">../workspace/encrypted/otfad_table.bin</span><br>      <span class=\"yaml-commented-line\"># -------------------------------------===== Offset of image [Optional] =====-------------------------------------</span><br>      <span class=\"yaml-commented-line\"># Description: The offset of image to be merge on. The offset could be also negative - for example to 'erase'</span><br>      <span class=\"yaml-commented-line\"># security bit from address. In case that offset definition is omitted, the block will be placed after previous</span><br>      <span class=\"yaml-commented-line\"># one with defined alignment.</span><br><span class=\"yaml-key\">      offset</span>: <span class=\"yaml-value\">0</span><br><br><span class=\"yaml-key\">  - </span><span class=\"yaml-commented-line\"># ----------------------------------------===== Binary file [Required] =====----------------------------------------</span><br><span class=\"yaml-key\">    binary_file</span>: <span style=\"background-color: #FFFF00; border-radius: 5px; padding: 2px 6px; margin-left: 5px; font-size:\n",
       "0.8em;\">Define path to the OTFAD table (keyblob) binary file at offset 0x0, FCB at offset 0x400 and encrypted data at offset 0x1000</span><br>      <span class=\"yaml-commented-line\"># ---------------------------------------===== Image name [Optional] =====----------------------------------------</span><br>      <span class=\"yaml-commented-line\"># Description: The optional image name used just during prints to console during merging.</span><br><span class=\"yaml-key\">      name</span>: <span class=\"yaml-value\">FCB</span><br>      <span class=\"yaml-commented-line\"># ---------------------------------------===== Binary file [Required] =====---------------------------------------</span><br>      <span class=\"yaml-commented-line\"># Description: The path to binary file to merge into final image</span><br><span class=\"yaml-key\">      path</span>: <span class=\"yaml-value\">../workspace/fcb.bin</span><br>      <span class=\"yaml-commented-line\"># -------------------------------------===== Offset of image [Optional] =====-------------------------------------</span><br>      <span class=\"yaml-commented-line\"># Description: The offset of image to be merge on. The offset could be also negative - for example to 'erase'</span><br>      <span class=\"yaml-commented-line\"># security bit from address. In case that offset definition is omitted, the block will be placed after previous</span><br>      <span class=\"yaml-commented-line\"># one with defined alignment.</span><br><span class=\"yaml-key\">      offset</span>: <span class=\"yaml-value\">0x400</span><br><br><span class=\"yaml-key\">  - </span><span class=\"yaml-commented-line\">#  =========================== [Example of possible configuration: #0 , erase if not used] ============================</span><br>    <span class=\"yaml-commented-line\"># ----------------------------------------===== Binary file [Required] =====----------------------------------------</span><br><span class=\"yaml-key\">    binary_file</span>: <span style=\"background-color: #FFFF00; border-radius: 5px; padding: 2px 6px; margin-left: 5px; font-size:\n",
       "0.8em;\">Define path to the OTFAD table (keyblob) binary file at offset 0x0, FCB at offset 0x400 and encrypted data at offset 0x1000</span><br>      <span class=\"yaml-commented-line\"># ---------------------------------------===== Image name [Optional] =====----------------------------------------</span><br>      <span class=\"yaml-commented-line\"># Description: The optional image name used just during prints to console during merging.</span><br><span class=\"yaml-key\">      name</span>: <span class=\"yaml-value\">OTFAD encrypted blob</span><br>      <span class=\"yaml-commented-line\"># ---------------------------------------===== Binary file [Required] =====---------------------------------------</span><br>      <span class=\"yaml-commented-line\"># Description: The path to binary file to merge into final image</span><br><span class=\"yaml-key\">      path</span>: <span class=\"yaml-value\">../workspace/encrypted/encrypted_blob.bin</span><br>      <span class=\"yaml-commented-line\"># -------------------------------------===== Offset of image [Optional] =====-------------------------------------</span><br>      <span class=\"yaml-commented-line\"># Description: The offset of image to be merge on. The offset could be also negative - for example to 'erase'</span><br>      <span class=\"yaml-commented-line\"># security bit from address. In case that offset definition is omitted, the block will be placed after previous</span><br>      <span class=\"yaml-commented-line\"># one with defined alignment.</span><br><span class=\"yaml-key\">      offset</span>: <span class=\"yaml-value\">0x1000</span><br></pre></div>\n",
       "            </div>\n",
       "            "
      ],
      "text/plain": [
       "<IPython.core.display.HTML object>"
      ]
     },
     "execution_count": 23,
     "metadata": {},
     "output_type": "execute_result"
    }
   ],
   "source": [
    "YamlDiffWidget(\"inputs/imx93_otfad_bimg.diffc\").html"
   ]
  },
  {
   "cell_type": "code",
   "execution_count": 26,
   "metadata": {},
   "outputs": [
    {
     "name": "stdout",
     "output_type": "stream",
     "text": [
      "nxpimage -v utils binary-image merge --config inputs/bimg.yaml --output workspace/encrypted_full_image.bin\n",
      "\u001b[37m\u001b[1mINFO:spsdk.apps.nxpimage:Merged Image:\n",
      "Name:      OTFAD encrypted AHAB image with FCB\n",
      "Starts:    0x0\n",
      "Ends:      0x1ed7ff\n",
      "Size:      Size: 1.9 MiB; 2,021,376 B\n",
      "Alignment: 1 B\n",
      "Execution Start Address: Not defined\n",
      "Pattern:zeros\n",
      "\u001b[39m\u001b[0m\n",
      "\u001b[37m\u001b[1mINFO:spsdk.apps.nxpimage:Merged Image:\n",
      "\n",
      "\u001b[90m+==0x0000_0000= OTFAD encrypted AHAB image with FCB ==+\n",
      "\u001b[90m|             Size: 1.9 MiB; 2,021,376 B              |\n",
      "\u001b[90m|                   Pattern: zeros                    |\n",
      "\u001b[90m|\u001b[34m+==0x0000_0000= OTFAD keyblob ======================+\u001b[90m|\n",
      "\u001b[90m|\u001b[34m|                    Size: 256 B                    |\u001b[90m|\n",
      "\u001b[90m|\u001b[34m|              The image loaded from:               |\u001b[90m|\n",
      "\u001b[90m|\u001b[34m|       workspace/encrypted/OTFAD_Table.bin .       |\u001b[90m|\n",
      "\u001b[90m|\u001b[34m|                  Pattern: zeros                   |\u001b[90m|\n",
      "\u001b[90m|\u001b[34m|\u001b[90m+==0x0000_0000= Segment 0 ========================+\u001b[34m|\u001b[90m|\n",
      "\u001b[90m|\u001b[34m|\u001b[90m|                   Size: 256 B                   |\u001b[34m|\u001b[90m|\n",
      "\u001b[90m|\u001b[34m|\u001b[90m|                 Pattern: zeros                  |\u001b[34m|\u001b[90m|\n",
      "\u001b[90m|\u001b[34m|\u001b[90m+==0x0000_00ff====================================+\u001b[34m|\u001b[90m|\n",
      "\u001b[90m|\u001b[34m+==0x0000_00ff======================================+\u001b[90m|\n",
      "\u001b[90m|                     Gap: 768 B                      |\n",
      "\u001b[90m|\u001b[32m+==0x0000_0400= FCB ================================+\u001b[90m|\n",
      "\u001b[90m|\u001b[32m|                    Size: 512 B                    |\u001b[90m|\n",
      "\u001b[90m|\u001b[32m|    The image loaded from: workspace/fcb.bin .     |\u001b[90m|\n",
      "\u001b[90m|\u001b[32m|                  Pattern: zeros                   |\u001b[90m|\n",
      "\u001b[90m|\u001b[32m|\u001b[90m+==0x0000_0400= Segment 0 ========================+\u001b[32m|\u001b[90m|\n",
      "\u001b[90m|\u001b[32m|\u001b[90m|                   Size: 512 B                   |\u001b[32m|\u001b[90m|\n",
      "\u001b[90m|\u001b[32m|\u001b[90m|                 Pattern: zeros                  |\u001b[32m|\u001b[90m|\n",
      "\u001b[90m|\u001b[32m|\u001b[90m+==0x0000_05ff====================================+\u001b[32m|\u001b[90m|\n",
      "\u001b[90m|\u001b[32m+==0x0000_05ff======================================+\u001b[90m|\n",
      "\u001b[90m|                    Gap: 2.5 kiB                     |\n",
      "\u001b[90m|\u001b[36m+==0x0000_1000= OTFAD encrypted blob ===============+\u001b[90m|\n",
      "\u001b[90m|\u001b[36m|            Size: 1.9 MiB; 2,017,280 B             |\u001b[90m|\n",
      "\u001b[90m|\u001b[36m|              The image loaded from:               |\u001b[90m|\n",
      "\u001b[90m|\u001b[36m|     workspace/encrypted/encrypted_blobs.bin .     |\u001b[90m|\n",
      "\u001b[90m|\u001b[36m|                  Pattern: zeros                   |\u001b[90m|\n",
      "\u001b[90m|\u001b[36m|\u001b[90m+==0x0000_1000= Segment 0 ========================+\u001b[36m|\u001b[90m|\n",
      "\u001b[90m|\u001b[36m|\u001b[90m|           Size: 1.9 MiB; 2,017,280 B            |\u001b[36m|\u001b[90m|\n",
      "\u001b[90m|\u001b[36m|\u001b[90m|                 Pattern: zeros                  |\u001b[36m|\u001b[90m|\n",
      "\u001b[90m|\u001b[36m|\u001b[90m+==0x001e_d7ff====================================+\u001b[36m|\u001b[90m|\n",
      "\u001b[90m|\u001b[36m+==0x001e_d7ff======================================+\u001b[90m|\n",
      "\u001b[90m+==0x001e_d7ff========================================+\n",
      "\u001b[39m\u001b[39m\u001b[0m\n",
      "Success. (Merged image: workspace/encrypted_full_image.bin created.)\n"
     ]
    }
   ],
   "source": [
    "%! nxpimage -v utils binary-image merge --config inputs/bimg.yaml --output workspace/encrypted_full_image.bin"
   ]
  },
  {
   "cell_type": "markdown",
   "metadata": {},
   "source": [
    "## 4. Program OTFAD Fuses\n",
    "\n",
    "The Following fuses need to be programmed to enable the OTFAD feature:\n",
    "\n",
    "| Fuse                          | Location                       |\n",
    "|-------------------------------|--------------------------------|\n",
    "| OTFAD_ENABLE                  | Bank 23, word 4, bit 3         |\n",
    "| OTFAD_KEY[127:0]              | Bank 23, word 0~4              |\n",
    "| OTFAD1_KEY_SCRAMBLE_EN        | Bank 23, word 4, bit 7         |\n",
    "| OTFAD1_KEY_SCRAMBLE_ALIGN[7:0]| Bank 23, word 4, bit 8~15      |\n",
    "| OTFAD1_KEY_SCRAMBLE[31:0]     | Bank 23, word 5                |\n",
    "\n",
    "### 4.1 Program OTFAD Fuses using the NXPELE\n",
    "Fuses can be programmed by the SPSDK nxpele tool. Refer to the [AHAB notebook](../../ahab/imx93/imx93_ahab_uboot.ipynb) for more information about how to use the nxpele tool\n",
    "The following command programs the OTFAD fuses:\n",
    "\n",
    "```bash\n",
    "nxpele batch -c \"workspace/encrypted/otfad1_mimx9352.bcf\"\n",
    "```\n",
    "\n",
    "Example of the bcf file:\n",
    "\n",
    "```python\n",
    "\n",
    "# Family: mimx9352 Revision: a1\n",
    "\n",
    "# Value: 0x8\n",
    "# Description: Fuse 188\n",
    "# Bitfield: OTFAD1_ENABLE, Description: OTFAD1 enable, Value: 0x1\n",
    "# Bitfield: OTFAD1_KEY_SCRAMBLE_EN, Description: OTFAD1 key scramble enable, write-only, Value: 0x0\n",
    "# Bitfield: OTFAD1_KEY_SCRAMBLE_ALIGN, Description: OTFAD1 key scramble align, write-only, Value: 0x00\n",
    "# WARNING! Partially set register, check all bitfields before writing\n",
    "# OTP ID: OTFAD1_CFG\n",
    "\n",
    "write-fuse --index 188 --data 0x00000008\n",
    "\n",
    "# Value: 0x0\n",
    "# Description: OTFAD1 key scramble\n",
    "# OTP ID: OTFAD1_KEY_SCRAMBLE\n",
    "\n",
    "write-fuse --index 189 --data 0x00000000\n",
    "\n",
    "# Value: 0x112233445566778899aaabbccddeeff\n",
    "# Description: OTFAD1 Key known as KEK.\n",
    "# Grouped register name: OTFAD1_KEY\n",
    "\n",
    "# OTP ID: OTFAD1_KEY3, Value: 0xffeeddcc\n",
    "write-fuse --index 184 --data 0xFFEEDDCC\n",
    "# OTP ID: OTFAD1_KEY2, Value: 0xbbaa9a89\n",
    "write-fuse --index 185 --data 0xBBAA9A89\n",
    "# OTP ID: OTFAD1_KEY1, Value: 0x78675645\n",
    "write-fuse --index 186 --data 0x78675645\n",
    "# OTP ID: OTFAD1_KEY0, Value: 0x34231201\n",
    "write-fuse --index 187 --data 0x34231201\n",
    "```\n",
    "\n",
    "\n",
    "### 4.2 Program OTFAD Fuses using the U-Boot CLI \n",
    "\n",
    "Another option is to use the U-Boot CLI interface and fuse prog command\n",
    "\n",
    "```bash\n",
    "u-boot=> fuse prog -y 23 0 0xffeeddcc <= burn test keys\n",
    "u-boot=> fuse prog -y 23 1 0xbbaa9988\n",
    "u-boot=> fuse prog -y 23 2 0x77665544\n",
    "u-boot=> fuse prog -y 23 3 0x33221100\n",
    "u-boot=> fuse prog 23 4 0x8    <= enable OTFAD\n",
    "```\n"
   ]
  },
  {
   "cell_type": "markdown",
   "metadata": {},
   "source": [
    "## 4. Image download\n",
    "First we put the `iMX93` into serial downloader mode for Cortex-A (`0011`), and use `nxpuuu` to programm the encrypted image to flexSPI.\n",
    "First argument is bootloader image that contains u-boot second argument is our encrypted u-boot.\n",
    "\n",
    "The picture below shows the desired DIP switch configuration for flashing Cortex-A:\n",
    "\n",
    "![Download Mode Cortex-A](img/serial_downloader.jpg)"
   ]
  },
  {
   "cell_type": "code",
   "execution_count": null,
   "metadata": {},
   "outputs": [
    {
     "name": "stdout",
     "output_type": "stream",
     "text": [
      "nxpuuu -v write -f mimx9352 -b emmc outputs/flash.bin \n",
      "SDPS: boot -f outputs/flash.bin\n",
      "\n",
      "\n",
      "Done\n"
     ]
    }
   ],
   "source": [
    "%! nxpuuu $VERBOSITY write -f mimx9352 -b qspi \"inputs/imx-boot-imx91-11x11-lpddr4-evk-fspi.bin-flash_singleboot_flexspi\" \"workspace/encrypted_full_image.bin\""
   ]
  },
  {
   "cell_type": "markdown",
   "metadata": {},
   "source": []
  }
 ],
 "metadata": {
  "kernelspec": {
   "display_name": "venv",
   "language": "python",
   "name": "python3"
  },
  "language_info": {
   "codemirror_mode": {
    "name": "ipython",
    "version": 3
   },
   "file_extension": ".py",
   "mimetype": "text/x-python",
   "name": "python",
   "nbconvert_exporter": "python",
   "pygments_lexer": "ipython3",
   "version": "3.13.0"
  }
 },
 "nbformat": 4,
 "nbformat_minor": 2
}
