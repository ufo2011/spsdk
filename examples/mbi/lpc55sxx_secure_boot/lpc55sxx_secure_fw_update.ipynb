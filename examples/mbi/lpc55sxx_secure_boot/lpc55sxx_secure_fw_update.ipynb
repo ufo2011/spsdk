{
 "cells": [
  {
   "attachments": {},
   "cell_type": "markdown",
   "metadata": {},
   "source": [
    "# LPC55Sxx Secure Firmware Update\n",
    "\n",
    "This notebook describes how to create secure container for firmware update on LPC55Sxx devices using the SPSDK command line utilities, it is based on the application note [AN12283](https://www.nxp.com/docs/en/application-note/AN12283.pdf). \n",
    "\n",
    "## 1. Secure Boot Setup\n",
    "We need to setup secure boot first. This is better described in \"lpc55sx_secure_boot.ipynb\" notebook. So, let's execute it first."
   ]
  },
  {
   "cell_type": "code",
   "execution_count": 1,
   "metadata": {
    "tags": [
     "hide-cell"
    ]
   },
   "outputs": [
    {
     "name": "stdout",
     "output_type": "stream",
     "text": [
      "env: JUPYTER_SPSDK=1\n",
      "Created `%!` as an alias for `%execute`.\n",
      "nxpimage  utils binary-image convert -i lpcxpresso55s69_led_blinky.axf -f BIN -o workspace/lpcxpresso55s69_led_blinky.bin \n",
      "Success. (Converted file: workspace/lpcxpresso55s69_led_blinky.bin created.)\n",
      "nxpimage mbi get-templates -f lpc55s69 -o workspace/ --force \n",
      "Creating workspace/lpc55s69_xip_plain.yaml template file.\n",
      "Creating workspace/lpc55s69_xip_crc.yaml template file.\n",
      "Creating workspace/lpc55s69_xip_signed.yaml template file.\n",
      "Creating workspace/lpc55s69_load_to_ram_crc.yaml template file.\n",
      "Creating workspace/lpc55s69_load_to_ram_signed.yaml template file.\n",
      "nxpimage  mbi export -c inputs/mbi_config_lpc55s6x.yaml \n",
      "RKTH: 60a4d31a7a08825285e3d3e961c850f41876c384e20cf7037664c6aebecc8b88\n",
      "Success. (Master Boot Image: workspace/lpc55s6x_mbi.bin created.)\n",
      "pfr get-template -t cmpa -f lpc55s69 -o workspace/cmpa_lpc55s6x.yaml --force \n",
      "The PFR cmpa template for lpc55s69 has been saved into workspace/cmpa_lpc55s6x.yaml YAML file\n",
      "pfr  generate-binary -c inputs/cmpa_lpc55s6x.yaml -o workspace/cmpa.bin -e inputs/mbi_config_lpc55s6x.yaml \n",
      "\u001b[33mWARNING:spsdk.pfr.pfr:The DCFG_CC_SOCU_PIN register has been recomputed, because it has been used in configuration and the bitfield INVERSE_VALUE has not been specified (695ms since start, pfr.py:206)\u001b[39m\n",
      "\u001b[33mWARNING:spsdk.pfr.pfr:The DCFG_CC_SOCU_DFLT register has been recomputed, because it has been used in configuration and the bitfield INVERSE_VALUE has not been specified (695ms since start, pfr.py:206)\u001b[39m\n",
      "Success. (PFR binary has been generated)\n",
      "pfr get-template -t cfpa -f lpc55s69 -o workspace/cfpa_lpc55s6x.yaml --force \n",
      "The PFR cfpa template for lpc55s69 has been saved into workspace/cfpa_lpc55s6x.yaml YAML file\n",
      "nxpdevscan -u \n",
      "-------- Connected NXP USB Devices --------\n",
      "\n",
      "USB COMPOSITE DEVICE - NXP SEMICONDUCTOR INC.\n",
      "Vendor ID: 0x1fc9\n",
      "Product ID: 0x0021\n",
      "Path: HID\\VID_1FC9&PID_0021\\9&3AA499EB&0&0000\n",
      "Path Hash: 694e4de1\n",
      "Name: lpc55s66 | lpc55s69 | lpc5526 | nhs52s04 | lpc5528 | lpc55s28 | lpc55s26\n",
      "Serial number: \n",
      "\n",
      "blhost -u lpc55s69 get-property current-version \n",
      "Response status = 0 (0x0) Success.\n",
      "Response word 1 = 1258487808 (0x4b030000)\n",
      "Current Version = K3.0.0\n",
      "blhost -u lpc55s69 set-property 29 1 \n",
      "Response status = 0 (0x0) Success.\n",
      "blhost -u lpc55s69 write-memory 0x9E600 zero_1536.bin \n",
      "Writing memory\n",
      "Response status = 0 (0x0) Success.\n",
      "Response word 1 = 1536 (0x600)\n",
      "blhost -u lpc55s69 set-property 29 0 \n",
      "Response status = 0 (0x0) Success.\n",
      "pfr read -f lpc55s69 -u lpc55s69 -t cfpa -o workspace/cfpa.bin -y workspace/cfpa_parsed.yaml \n",
      "CFPA page address on lpc55s69 is 0x9de00\n",
      "CFPA data stored to workspace/cfpa.bin\n",
      "Parsed config stored to workspace/cfpa_parsed.yaml\n",
      "pfr get-template -t cfpa -f lpc55s69 -o workspace/cfpa_lpc55s6x.yaml --force \n",
      "The PFR cfpa template for lpc55s69 has been saved into workspace/cfpa_lpc55s6x.yaml YAML file\n",
      "pfr write -u lpc55s69 -t cmpa -f lpc55s69 -b workspace/cmpa.bin \n",
      "CMPA page address on lpc55s69 is 0x9e400\n",
      "CMPA data written to device.\n",
      "blhost -u lpc55s69 flash-erase-region 0 0x10000 \n",
      "Response status = 0 (0x0) Success.\n",
      "blhost -u lpc55s69 write-memory 0 workspace/lpc55s6x_mbi.bin \n",
      "Writing memory\n",
      "Response status = 0 (0x0) Success.\n",
      "Response word 1 = 10648 (0x2998)\n"
     ]
    }
   ],
   "source": [
    "from spsdk.utils.jupyter_utils import YamlDiffWidget\n",
    "\n",
    "%run ./lpc55sxx_secure_boot.ipynb"
   ]
  },
  {
   "attachments": {},
   "cell_type": "markdown",
   "metadata": {},
   "source": [
    "## 2. SBKEK generation\n",
    "\n",
    "SBKEK is key (AES-256) used for encryption of the Secure Binary. We have to prepare it in plaint text and in binary form. We can use nxpimage sb21 get-sbkek tool for key generation."
   ]
  },
  {
   "cell_type": "code",
   "execution_count": 2,
   "metadata": {},
   "outputs": [
    {
     "name": "stdout",
     "output_type": "stream",
     "text": [
      "nxpimage sb21 get-sbkek -o workspace/ \n",
      "\u001b[33mWARNING:spsdk.utils.misc:The key source is not specified, the random value is used in size of 32 B. (752ms since start, misc.py:533)\u001b[39m\n",
      "SBKEK: 6ddec0bcf81ec722cf726811606177928d13f4ea67fb91e9082a37ed0e3f6b3c\n",
      "(OTP) MASTER KEY: 860c818b83884764a71867a2f59d964e067370f9874c55daa7400ed3ea805f48\n",
      "Keys have been stored to: workspace\n"
     ]
    }
   ],
   "source": [
    "WORKSPACE = \"workspace/\"\n",
    "\n",
    "# we can specify key with -k option. If the key is not specified, random one will be generated.\n",
    "%! nxpimage sb21 get-sbkek -o $WORKSPACE\n",
    "\n",
    "SBKEK_PATH = WORKSPACE + \"sbkek.txt\"\n",
    "SBKEK_BIN = WORKSPACE + \"sbkek.bin\""
   ]
  },
  {
   "attachments": {},
   "cell_type": "markdown",
   "metadata": {},
   "source": [
    "## 3. Secure Binary preparation\n",
    "Secure Binary (SB) is a container in case of LPC55xx in version 2.1. It's symmetrically encrypted using AES-256 and decrypted during boot and digitally signed. The SB configuration file contains the configuration commands that are processed after the SB2 file is loaded in the device. The image location is stated in the \"sources\" section of the .bd file. The SB key in the text file is used for encryption with the nxpimage command line tool.\n",
    "\n",
    "In the example below we have prepared simple BD file with one section with two commands - erase and load."
   ]
  },
  {
   "cell_type": "code",
   "execution_count": 3,
   "metadata": {},
   "outputs": [
    {
     "name": "stdout",
     "output_type": "stream",
     "text": [
      "nxpimage sb21 get-template -f lpc55s69 -o workspace/sb21_template.yaml --force \n",
      "Creating workspace/sb21_template.yaml template file.\n"
     ]
    },
    {
     "data": {
      "text/html": [
       "\n",
       "        \n",
       "        <style>\n",
       "            .yaml-diff { font-family: monospace; background-color: #f0f0f0; padding: 1em; border: 1px solid #c0c0c0; }\n",
       "            .yaml-key { color: #0000CC; font-weight: bold; }\n",
       "            .yaml-value { color: #006600; }\n",
       "            .yaml-commented-line { color: #008800; }\n",
       "            .yaml-list-item { color: #660066; }\n",
       "            .diff-removed { background-color: #ffaaaa; }\n",
       "            .diff-added { background-color: #aaffaa; }\n",
       "            .yaml-comment {\n",
       "                background-color: #FF8C00;\n",
       "                color: #000000;\n",
       "                border-radius: 50%;\n",
       "                padding: 0 0.3em;\n",
       "                margin-left: 0.5em;\n",
       "                font-size: 0.8em;\n",
       "                cursor: help;\n",
       "                font-weight: bold;\n",
       "                text-shadow: 1px 1px 1px rgba(255, 255, 255, 0.7);\n",
       "            }\n",
       "            #toggleButton_d3c0593e95abe7caddaf74485dee849c {\n",
       "                background-color: #4CAF50;\n",
       "                border: none;\n",
       "                color: white;\n",
       "                padding: 10px 20px;\n",
       "                text-align: center;\n",
       "                text-decoration: none;\n",
       "                display: inline-block;\n",
       "                font-size: 16px;\n",
       "                margin: 4px 2px;\n",
       "                cursor: pointer;\n",
       "            }\n",
       "        </style>\n",
       "        \n",
       "        \n",
       "        <script>\n",
       "        function toggleView_d3c0593e95abe7caddaf74485dee849c() {\n",
       "            var diffView = document.getElementById('diffView_d3c0593e95abe7caddaf74485dee849c');\n",
       "            var userConfigView = document.getElementById('userConfigView_d3c0593e95abe7caddaf74485dee849c');\n",
       "            var button = document.getElementById('toggleButton_d3c0593e95abe7caddaf74485dee849c');\n",
       "\n",
       "            if (diffView.style.display === 'none' && userConfigView.style.display === 'none') {\n",
       "                diffView.style.display = 'block';\n",
       "                userConfigView.style.display = 'none';\n",
       "                button.textContent = 'Show User Config';\n",
       "            } else if (diffView.style.display === 'block') {\n",
       "                diffView.style.display = 'none';\n",
       "                userConfigView.style.display = 'block';\n",
       "                button.textContent = 'Hide';\n",
       "            } else {\n",
       "                diffView.style.display = 'none';\n",
       "                userConfigView.style.display = 'none';\n",
       "                button.textContent = 'Show Diff';\n",
       "            }\n",
       "        }\n",
       "        </script>\n",
       "        \n",
       "        <div class=\"yaml-diff-container\">\n",
       "          <h3>Configuration Differences</h3>\n",
       "          <button onclick=\"toggleView_d3c0593e95abe7caddaf74485dee849c()\" id=\"toggleButton_d3c0593e95abe7caddaf74485dee849c\">Show Diff</button>\n",
       "          \n",
       "        <a href=\"data:text/plain;base64,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\" download=\"user_config.yaml\">\n",
       "            <button style=\"background-color: #4CAF50; border: none; color: white; padding: 10px 20px; text-align: center; text-decoration: none; display: inline-block; font-size: 16px; margin: 4px 2px; cursor: pointer;\">\n",
       "                Download Config\n",
       "            </button>\n",
       "        </a>\n",
       "        \n",
       "          <div id=\"diffView_d3c0593e95abe7caddaf74485dee849c\" class=\"yaml-diff\" style=\"display:none;\"><pre class=\"yaml-diff\"><span class=\"yaml-commented-line\"># ==============================  Secure Binary v2.1 Configuration template for lpc55s69  ==============================</span><br><br><span class=\"yaml-commented-line\"># ======================================================================================================================</span><br><span class=\"yaml-commented-line\">#                                                 == General Options ==                                                 </span><br><span class=\"yaml-commented-line\"># ======================================================================================================================</span><br><span class=\"yaml-commented-line\"># -------------------------------------===== The chip family name [Required] =====--------------------------------------</span><br><span class=\"yaml-commented-line\"># Description: NXP chip family identifier.</span><br><span class=\"yaml-commented-line\"># Possible options: <lpc55s04, lpc55s06, lpc55s14, lpc55s16, lpc55s26, lpc55s28, lpc55s66, lpc55s69, mimxrt533s,</span><br><span class=\"yaml-commented-line\"># mimxrt555s, mimxrt595s, mimxrt685s, nhs52s04></span><br><span class=\"yaml-key\">family</span>: <span class=\"yaml-value\">lpc55s69</span><br><span class=\"yaml-commented-line\"># -----------------------------------------===== MCU revision [Optional] =====------------------------------------------</span><br><span class=\"yaml-commented-line\"># Description: Revision of silicon. The 'latest' name, means most current revision.</span><br><span class=\"yaml-commented-line\"># Possible options: <a0, a1, latest></span><br><span class=\"diff-removed\"><span class=\"yaml-key\">revision</span>: <span class=\"yaml-value\">latest</span></span><br><span class=\"yaml-commented-line\"># -----------------------------------------===== SB2.1 Options [Required] =====-----------------------------------------</span><br><span class=\"yaml-commented-line\"># Description: An options block contains zero or more name/value pairs and the option settings that assign values to</span><br><span class=\"yaml-commented-line\"># global options used by the nxpimage to control the generation of the output file.</span><br><span class=\"yaml-key\">options</span>:<br>  <span class=\"yaml-commented-line\"># -----------------------------------------===== SB2.1 flags [Required] =====-----------------------------------------</span><br>  <span class=\"yaml-commented-line\"># Description: For SB2.1 use only 0x8 encrypted + signed.</span><br><span class=\"yaml-key\">  flags</span>: <span class=\"yaml-value\">8</span><br>  <span class=\"yaml-commented-line\"># -------------------------------------===== SB2.1 build number [Optional] =====--------------------------------------</span><br>  <span class=\"yaml-commented-line\"># Description: Build number.</span><br><span class=\"diff-removed\"><span class=\"yaml-key\">  buildNumber</span>: <span class=\"yaml-value\">1</span></span><br>  <span class=\"yaml-commented-line\"># ---------------------------------------===== Product version [Optional] =====---------------------------------------</span><br>  <span class=\"yaml-commented-line\"># Description: Version string as \"xxx.yyy.zzz\".</span><br><span class=\"yaml-key\">  productVersion</span>: <span class=\"yaml-value\">1.00.00</span><br>  <span class=\"yaml-commented-line\"># --------------------------------------===== Component version [Optional] =====--------------------------------------</span><br>  <span class=\"yaml-commented-line\"># Description: Component version string as \"xxx.yyy.zzz\".</span><br><span class=\"yaml-key\">  componentVersion</span>: <span class=\"yaml-value\">1.00.00</span><br>  <span class=\"yaml-commented-line\"># -----------------------------------------===== SB Version [Optional] =====------------------------------------------</span><br>  <span class=\"yaml-commented-line\"># Description: Used to specify version of SB2 file.</span><br><span class=\"diff-removed\"><span class=\"yaml-key\">  secureBinaryVersion</span>: <span class=\"yaml-value\">'2.1'</span></span><br><span class=\"diff-added\"><span class=\"yaml-key\">  secureBinaryVersion</span>: <span class=\"yaml-value\">\"2.1\"</span></span><br><span class=\"yaml-commented-line\"># ======================================================================================================================</span><br><span class=\"yaml-commented-line\">#                                              == Image Signing Settings ==                                             </span><br><span class=\"yaml-commented-line\"># ======================================================================================================================</span><br><span class=\"yaml-commented-line\"># --------------------------===== Main Certificate private key [Conditionally required] =====---------------------------</span><br><span class=\"yaml-commented-line\"># Description: Main Certificate private key used to sign certificate. It can be replaced by signProvider key.</span><br><span class=\"diff-added\"><span class=\"yaml-key\">signPrivateKey</span>: <span class=\"yaml-value\">../../_data/keys/rsa2048/IMG1_1_sha256_2048_65537_v3_usr_key.pem</span></span><br><span class=\"diff-removed\"><span class=\"yaml-key\">signPrivateKey</span>: <span class=\"yaml-value\">main_prv_key.pem</span> <span style=\"background-color: #FFFF00; border-radius: 5px;\n",
       "padding: 2px 6px; margin-left: 5px; font-size: 0.8em;\">Add path to your private key file for signing</span></span><br><span class=\"yaml-commented-line\"># -------------------------------===== Signature Provider [Conditionally required] =====--------------------------------</span><br><span class=\"yaml-commented-line\"># Description: Signature provider configuration in format 'type=<identifier>;<key1>=<value1>;<key2>=<value2>'.</span><br><span class=\"diff-removed\"><span class=\"yaml-key\">signProvider</span>: <span class=\"yaml-value\">type=file;file_path=my_prv_key.pem</span> <span style=\"background-color: #FFFF00; border-\n",
       "radius: 5px; padding: 2px 6px; margin-left: 5px; font-size: 0.8em;\">This is removed, because we are using private key in this example</span></span><br><span class=\"yaml-commented-line\"># ======================================================================================================================</span><br><span class=\"yaml-commented-line\">#                                               == Certificate Block V1 ==                                              </span><br><span class=\"yaml-commented-line\"># ======================================================================================================================</span><br><span class=\"yaml-commented-line\"># -----------------------------===== Certificate Block binary/config file [Required] =====------------------------------</span><br><span class=\"yaml-commented-line\"># Description: Path to certificate block binary or config file.</span><br><span class=\"diff-removed\"><span class=\"yaml-key\">certBlock</span>: <span class=\"yaml-value\">cert_block.yaml</span> <span style=\"background-color: #FFFF00; border-radius: 5px; padding:\n",
       "2px 6px; margin-left: 5px; font-size: 0.8em;\">Add path to the configuration file containing certificates or path to binary block</span></span><br><span class=\"diff-added\"><span class=\"yaml-key\">certBlock</span>: <span class=\"yaml-value\">inputs/cert_block.yaml</span></span><br><span class=\"yaml-commented-line\"># ======================================================================================================================</span><br><span class=\"yaml-commented-line\">#                                                   == SB2.1 Output ==                                                  </span><br><span class=\"yaml-commented-line\"># ======================================================================================================================</span><br><span class=\"yaml-commented-line\"># -----------------------------------------===== SB2 filename [Required] =====------------------------------------------</span><br><span class=\"yaml-commented-line\"># Description: Generated SB2 container filename.</span><br><span class=\"diff-removed\"><span class=\"yaml-key\">containerOutputFile</span>: <span class=\"yaml-value\">my_new.sb</span></span><br><span class=\"diff-added\"><span class=\"yaml-key\">containerOutputFile</span>: <span class=\"yaml-value\">../workspace/output.sb</span></span><br><span class=\"yaml-commented-line\"># ======================================================================================================================</span><br><span class=\"yaml-commented-line\">#                                                  == Basic Setting ==                                                  </span><br><span class=\"yaml-commented-line\"># ======================================================================================================================</span><br><span class=\"yaml-commented-line\"># ------------------------------------------===== SB2.1 SBKEK [Required] =====------------------------------------------</span><br><span class=\"yaml-commented-line\"># Description: Path to SB key encryption key (AES-128). It might be provided in text file or binary file or as a hex</span><br><span class=\"yaml-commented-line\"># string in the configuration.</span><br><span class=\"diff-removed\"><span class=\"yaml-key\">containerKeyBlobEncryptionKey</span>: <span class=\"yaml-value\">sbkek.txt</span> <span style=\"background-color: #FFFF00; border-radius:\n",
       "5px; padding: 2px 6px; margin-left: 5px; font-size: 0.8em;\">Add path to our AES encryption key</span></span><br><span class=\"diff-added\"><span class=\"yaml-key\">containerKeyBlobEncryptionKey</span>: <span class=\"yaml-value\">workspace/sbkek.txt</span></span><br><span class=\"yaml-commented-line\"># ---------------------===== Path to file where the hash of hashes will be stored [Optional] =====----------------------</span><br><span class=\"yaml-commented-line\"># Description: Path to output hash of hashes of root keys</span><br><span class=\"diff-removed\"><span class=\"yaml-key\">RKTHOutputPath</span>: <span class=\"yaml-value\">hash.bin</span> <span style=\"background-color: #FFFF00; border-radius: 5px; padding: 2px\n",
       "6px; margin-left: 5px; font-size: 0.8em;\">We do not need to save hash</span></span><br><span class=\"yaml-commented-line\"># ======================================================================================================================</span><br><span class=\"yaml-commented-line\">#                                           == SB 2.1 Sections and commands ==                                          </span><br><span class=\"yaml-commented-line\"># ======================================================================================================================</span><br><span class=\"yaml-commented-line\"># ----------------------------------------===== SB2.1 Sections [Required] =====-----------------------------------------</span><br><span class=\"yaml-commented-line\"># Description: Secure Binary v2.1 section blocks</span><br><span class=\"yaml-key\">sections</span>:<br><span class=\"diff-removed\"><span class=\"yaml-key\">  -</span></span><br><span class=\"diff-added\"><span class=\"yaml-key\">  - </span><span class=\"yaml-commented-line\"># ----------------------------------------===== Section ID [Optional] =====-----------------------------------------</span></span><br><span class=\"diff-added\"><span class=\"yaml-key\">    section_id</span>: <span class=\"yaml-value\">0</span></span><br>    <span class=\"yaml-commented-line\"># --------------------------------------===== SB2.1 Commands [Optional] =====---------------------------------------</span><br>    <span class=\"yaml-commented-line\"># Description: Secure Binary v2.1 commands block, list of all possible options - Modify it according to your</span><br>    <span class=\"yaml-commented-line\"># application</span><br><span class=\"yaml-key\">    commands</span>:<br><span class=\"diff-removed\"><span class=\"yaml-key\">      -</span></span><br>      <span class=\"yaml-commented-line\"># ================================================================================================================</span><br>      <span class=\"yaml-commented-line\">#                                        == List of possible 6 options. ==                                        </span><br>      <span class=\"yaml-commented-line\">#                             Options [erase, load, enable, fill, jump, version_check]                            </span><br>      <span class=\"yaml-commented-line\"># ================================================================================================================</span><br><span class=\"diff-removed\"></span><br>      <span class=\"yaml-commented-line\">#  ========================= [Example of possible configuration: #0 , erase if not used] ==========================</span><br>        <span class=\"yaml-commented-line\"># -----------------------------------------===== Erase [Required] =====-----------------------------------------</span><br><span class=\"diff-added\"><span class=\"yaml-key\">      - </span><span class=\"yaml-commented-line\"># -----------------------------------------===== Erase [Required] =====-----------------------------------------</span></span><br>        <span class=\"yaml-commented-line\"># Description: Performs a flash erase of the given address range. The erase will be rounded up to the sector</span><br>        <span class=\"yaml-commented-line\"># size.</span><br><span class=\"yaml-key\">        erase</span>: <span style=\"background-color: #FFFF00; border-radius: 5px; padding: 2px 6px; margin-left: 5px; font-size:\n",
       "0.8em;\">Erase the flash before programming</span><br>          <span class=\"yaml-commented-line\"># ---------------------------------------===== Address [Required] =====---------------------------------------</span><br>          <span class=\"yaml-commented-line\"># Description: Address of memory block to be erased.</span><br><span class=\"yaml-key\">          address</span>: <span class=\"yaml-value\">0</span><br>          <span class=\"yaml-commented-line\"># ----------------------------------------===== Size [Optional] =====-----------------------------------------</span><br>          <span class=\"yaml-commented-line\"># Description: Size of memory block to be erased.</span><br><span class=\"diff-removed\"><span class=\"yaml-key\">          length</span>: <span class=\"yaml-value\">4096</span></span><br><span class=\"diff-added\"><span class=\"yaml-key\">          length</span>: <span class=\"yaml-value\">65536</span></span><br>          <span class=\"yaml-commented-line\"># --------------------------------------===== Memory ID [Optional] =====--------------------------------------</span><br>          <span class=\"yaml-commented-line\"># Description: ID of memory block to be erased.</span><br><span class=\"diff-removed\"><span class=\"yaml-key\">          mem_opt</span>: <span class=\"yaml-value\">0</span></span><br>          <span class=\"yaml-commented-line\"># ----------------------------------------===== Flags [Optional] =====----------------------------------------</span><br>          <span class=\"yaml-commented-line\"># Description: For erase all, flags=1, for erase unsecure all -> 2</span><br><span class=\"diff-removed\"><span class=\"yaml-key\">          flags</span>: <span class=\"yaml-value\">0</span></span><br><span class=\"diff-removed\"></span><br>      <span class=\"yaml-commented-line\">#  ========================= [Example of possible configuration: #1 , erase if not used] ==========================</span><br>        <span class=\"yaml-commented-line\"># -----------------------------------------===== Load [Required] =====------------------------------------------</span><br><span class=\"diff-added\"><span class=\"yaml-key\">      - </span><span class=\"yaml-commented-line\"># -----------------------------------------===== Load [Required] =====------------------------------------------</span></span><br>        <span class=\"yaml-commented-line\"># Description: If set, then the data to write immediately follows the range header. The length field contains</span><br>        <span class=\"yaml-commented-line\"># the actual data length</span><br><span class=\"yaml-key\">        load</span>: <span style=\"background-color: #FFFF00; border-radius: 5px; padding: 2px 6px; margin-left: 5px; font-size:\n",
       "0.8em;\">Load the binary file to the flash</span><br>          <span class=\"yaml-commented-line\"># ---------------------------------------===== Address [Required] =====---------------------------------------</span><br>          <span class=\"yaml-commented-line\"># Description: Address of memory block to be loaded.</span><br><span class=\"yaml-key\">          address</span>: <span class=\"yaml-value\">0</span><br>          <span class=\"yaml-commented-line\"># --------------------------------------===== Memory ID [Optional] =====--------------------------------------</span><br>          <span class=\"yaml-commented-line\"># Description: ID of memory block to be loaded.</span><br><span class=\"diff-removed\"><span class=\"yaml-key\">          load_opt</span>: <span class=\"yaml-value\">0</span> <span style=\"background-color: #FFFF00; border-radius: 5px; padding: 2px\n",
       "6px; margin-left: 5px; font-size: 0.8em;\">Load the binary file to the flash</span></span><br>          <span class=\"yaml-commented-line\"># ------------------------------------===== Binary file. [Optional] =====-------------------------------------</span><br>          <span class=\"yaml-commented-line\"># Description: Binary file to be loaded.</span><br><span class=\"diff-added\"><span class=\"yaml-key\">          file</span>: <span class=\"yaml-value\">workspace/lpc55s6x_mbi.bin</span></span><br><span class=\"diff-removed\"><span class=\"yaml-key\">          file</span>: <span class=\"yaml-value\">my_binary.bin</span></span><br>          <span class=\"yaml-commented-line\"># -----------------------------===== Value for fuse programming [Optional] =====------------------------------</span><br>          <span class=\"yaml-commented-line\"># Description: Fill the 32bit integer value of fuse to be programmed. Legacy way of programming fuses.</span><br>          <span class=\"yaml-commented-line\"># ProgramFuses is recommended in new projects.</span><br><span class=\"diff-removed\"><span class=\"yaml-key\">          pattern</span>: <span class=\"yaml-value\">1</span></span><br>          <span class=\"yaml-commented-line\"># -----------------------------------===== Binary values. [Optional] =====------------------------------------</span><br>          <span class=\"yaml-commented-line\"># Description: Binary values delimited by comma to be loaded.</span><br><span class=\"diff-removed\"><span class=\"yaml-key\">          values</span>: <span class=\"yaml-value\">0x1224, 0x5678, 0, 12245678</span></span><br><br>      <span class=\"yaml-commented-line\">#  ========================= [Example of possible configuration: #2 , erase if not used] ==========================</span><br>        <span class=\"yaml-commented-line\"># -----------------------------------===== Configure memory [Required] =====------------------------------------</span><br>        <span class=\"yaml-commented-line\"># Description: initialization of external memories using a parameter block that was previously loaded to RAM.</span><br><span class=\"diff-removed\"><span class=\"yaml-key\">        enable</span>:</span><br>          <span class=\"yaml-commented-line\"># ---------------------------------------===== Address [Required] =====---------------------------------------</span><br>          <span class=\"yaml-commented-line\"># Description: Configuration address.</span><br><span class=\"diff-removed\"><span class=\"yaml-key\">          address</span>: <span class=\"yaml-value\">0</span></span><br>          <span class=\"yaml-commented-line\"># --------------------------------------===== Memory ID [Optional] =====--------------------------------------</span><br>          <span class=\"yaml-commented-line\"># Description: ID of memory block to be configured.</span><br><span class=\"diff-removed\"><span class=\"yaml-key\">          mem_opt</span>: <span class=\"yaml-value\">0</span></span><br><span class=\"diff-removed\"></span><br>      <span class=\"yaml-commented-line\">#  ========================= [Example of possible configuration: #3 , erase if not used] ==========================</span><br>        <span class=\"yaml-commented-line\"># --------------------------------------===== Fill memory [Required] =====--------------------------------------</span><br>        <span class=\"yaml-commented-line\"># Description: Used for filling of the memory range by repeated pattern.</span><br><span class=\"diff-removed\"><span class=\"yaml-key\">        fill</span>:</span><br>          <span class=\"yaml-commented-line\"># ---------------------------------------===== Address [Required] =====---------------------------------------</span><br>          <span class=\"yaml-commented-line\"># Description: Address of memory block to be filled.</span><br><span class=\"diff-removed\"><span class=\"yaml-key\">          address</span>: <span class=\"yaml-value\">0</span></span><br>          <span class=\"yaml-commented-line\"># ---------------------------------------===== Pattern [Required] =====---------------------------------------</span><br>          <span class=\"yaml-commented-line\"># Description: Pattern which will be used to fill memory.</span><br><span class=\"diff-removed\"><span class=\"yaml-key\">          pattern</span>: <span class=\"yaml-value\">2779096485</span></span><br><span class=\"diff-removed\"></span><br>      <span class=\"yaml-commented-line\">#  ========================= [Example of possible configuration: #4 , erase if not used] ==========================</span><br>        <span class=\"yaml-commented-line\"># ------------------------------------===== Jump to address [Required] =====------------------------------------</span><br>        <span class=\"yaml-commented-line\"># Description: The jump command produces the ROM_JUMP_CMD command. Optionally set SP and call argument.</span><br><span class=\"diff-removed\"><span class=\"yaml-key\">        jump</span>:</span><br>          <span class=\"yaml-commented-line\"># ---------------------------------------===== Address [Required] =====---------------------------------------</span><br>          <span class=\"yaml-commented-line\"># Description: Jump to fixed address.</span><br><span class=\"diff-removed\"><span class=\"yaml-key\">          address</span>: <span class=\"yaml-value\">0</span></span><br>          <span class=\"yaml-commented-line\"># ---------------------------------===== Stack pointer value [Optional] =====---------------------------------</span><br>          <span class=\"yaml-commented-line\"># Description: Sets the stack pointer before jumping.</span><br><span class=\"diff-removed\"><span class=\"yaml-key\">          spreg</span>: <span class=\"yaml-value\">536874496</span></span><br>          <span class=\"yaml-commented-line\"># ------------------------------------===== Call argument [Optional] =====------------------------------------</span><br>          <span class=\"yaml-commented-line\"># Description: Argument to the function being jumped to.</span><br><span class=\"diff-removed\"><span class=\"yaml-key\">          argument</span>: <span class=\"yaml-value\">1515870810</span></span><br><span class=\"diff-removed\"></span><br>      <span class=\"yaml-commented-line\">#  ========================= [Example of possible configuration: #5 , erase if not used] ==========================</span><br>        <span class=\"yaml-commented-line\"># --------------------------------===== Check firmware version [Required] =====---------------------------------</span><br>        <span class=\"yaml-commented-line\"># Description: Used to execute check of provided counter value with value stored in specified monotonous counter</span><br>        <span class=\"yaml-commented-line\"># in device. If values are not same, SB file is rejected.</span><br><span class=\"diff-removed\"><span class=\"yaml-key\">        version_check</span>:</span><br>          <span class=\"yaml-commented-line\"># ------------------------------------===== Version type [Required] =====-------------------------------------</span><br>          <span class=\"yaml-commented-line\"># Description: 0 for secure, 1 for non secure.</span><br><span class=\"diff-removed\"><span class=\"yaml-key\">          ver_type</span>: <span class=\"yaml-value\">0</span></span><br>          <span class=\"yaml-commented-line\"># -------------------------------------===== FW version [Required] =====--------------------------------------</span><br>          <span class=\"yaml-commented-line\"># Description: FW version to be checked.</span><br><span class=\"diff-removed\"><span class=\"yaml-key\">          fw_version</span>: <span class=\"yaml-value\">1</span></span><br><span class=\"diff-removed\"></span></pre></div>\n",
       "          <div id=\"userConfigView_d3c0593e95abe7caddaf74485dee849c\" class=\"yaml-diff\" style=\"display:none;\"><pre class=\"yaml-diff\"><span class=\"yaml-commented-line\"># Copyright 2024 NXP</span><br><span class=\"yaml-commented-line\">#</span><br><span class=\"yaml-commented-line\"># SPDX-License-Identifier: BSD-3-Clause</span><br><span class=\"yaml-commented-line\"># ==========================================  SB 2.1 converted configuration  ==========================================</span><br><br><span class=\"yaml-commented-line\"># ======================================================================================================================</span><br><span class=\"yaml-commented-line\">#                                                 == General Options ==</span><br><span class=\"yaml-commented-line\"># ======================================================================================================================</span><br><span class=\"yaml-commented-line\"># -------------------------------------===== The chip family name [Required] =====--------------------------------------</span><br><span class=\"yaml-commented-line\"># Description: NXP chip family identifier.</span><br><span class=\"yaml-commented-line\"># Possible options: <lpc55s04, lpc55s06, lpc55s14, lpc55s16, lpc55s26, lpc55s28, lpc55s66, lpc55s69, mimxrt533s,</span><br><span class=\"yaml-commented-line\"># mimxrt555s, mimxrt595s, mimxrt685s, nhs52s04></span><br><span class=\"yaml-key\">family</span>: <span class=\"yaml-value\">lpc55s69</span><br><span class=\"yaml-commented-line\"># -----------------------------------------===== SB2.1 Options [Required] =====-----------------------------------------</span><br><span class=\"yaml-commented-line\"># Description: An options block contains zero or more name/value pairs and the option settings that assign values to</span><br><span class=\"yaml-commented-line\"># global options used by the nxpimage to control the generation of the output file.</span><br><span class=\"yaml-key\">options</span>:<br>  <span class=\"yaml-commented-line\"># -----------------------------------------===== SB2.1 flags [Required] =====-----------------------------------------</span><br>  <span class=\"yaml-commented-line\"># Description: For SB2.1 use only 0x8 encrypted + signed.</span><br><span class=\"yaml-key\">  flags</span>: <span class=\"yaml-value\">8</span><br>  <span class=\"yaml-commented-line\"># ---------------------------------------===== Product version [Optional] =====---------------------------------------</span><br>  <span class=\"yaml-commented-line\"># Description: Version string as \"xxx.yyy.zzz\".</span><br><span class=\"yaml-key\">  productVersion</span>: <span class=\"yaml-value\">1.00.00</span><br>  <span class=\"yaml-commented-line\"># --------------------------------------===== Component version [Optional] =====--------------------------------------</span><br>  <span class=\"yaml-commented-line\"># Description: Component version string as \"xxx.yyy.zzz\".</span><br><span class=\"yaml-key\">  componentVersion</span>: <span class=\"yaml-value\">1.00.00</span><br>  <span class=\"yaml-commented-line\"># -----------------------------------------===== SB Version [Optional] =====------------------------------------------</span><br>  <span class=\"yaml-commented-line\"># Description: Used to specify version of SB2 file.</span><br><span class=\"yaml-key\">  secureBinaryVersion</span>: <span class=\"yaml-value\">\"2.1\"</span><br><span class=\"yaml-commented-line\"># ======================================================================================================================</span><br><span class=\"yaml-commented-line\">#                                              == Image Signing Settings ==</span><br><span class=\"yaml-commented-line\"># ======================================================================================================================</span><br><span class=\"yaml-commented-line\"># --------------------------===== Main Certificate private key [Conditionally required] =====---------------------------</span><br><span class=\"yaml-commented-line\"># Description: Main Certificate private key used to sign certificate. It can be replaced by signProvider key.</span><br><span class=\"yaml-key\">signPrivateKey</span>: <span class=\"yaml-value\">../../_data/keys/rsa2048/IMG1_1_sha256_2048_65537_v3_usr_key.pem</span> <span\n",
       "style=\"background-color: #FFFF00; border-radius: 5px; padding: 2px 6px; margin-left: 5px; font-size: 0.8em;\">Add path to your private key file for\n",
       "signing</span><br><span class=\"yaml-commented-line\"># ======================================================================================================================</span><br><span class=\"yaml-commented-line\">#                                               == Certificate Block V1 ==</span><br><span class=\"yaml-commented-line\"># ======================================================================================================================</span><br><span class=\"yaml-commented-line\"># -----------------------------===== Certificate Block binary/config file [Required] =====------------------------------</span><br><span class=\"yaml-commented-line\"># Description: Path to certificate block binary or config file.</span><br><span class=\"yaml-key\">certBlock</span>: <span class=\"yaml-value\">inputs/cert_block.yaml</span> <span style=\"background-color: #FFFF00; border-radius: 5px;\n",
       "padding: 2px 6px; margin-left: 5px; font-size: 0.8em;\">Add path to the configuration file containing certificates or path to binary block</span><br><span class=\"yaml-commented-line\"># ======================================================================================================================</span><br><span class=\"yaml-commented-line\">#                                                   == SB2.1 Output ==</span><br><span class=\"yaml-commented-line\"># ======================================================================================================================</span><br><span class=\"yaml-commented-line\"># -----------------------------------------===== SB2 filename [Required] =====------------------------------------------</span><br><span class=\"yaml-commented-line\"># Description: Generated SB2 container filename.</span><br><span class=\"yaml-key\">containerOutputFile</span>: <span class=\"yaml-value\">../workspace/output.sb</span><br><span class=\"yaml-commented-line\"># ======================================================================================================================</span><br><span class=\"yaml-commented-line\">#                                                  == Basic Setting ==</span><br><span class=\"yaml-commented-line\"># ======================================================================================================================</span><br><span class=\"yaml-commented-line\"># ------------------------------------------===== SB2.1 SBKEK [Required] =====------------------------------------------</span><br><span class=\"yaml-commented-line\"># Description: Path to SB key encryption key (AES-128). It might be provided in text file or binary file or as a hex</span><br><span class=\"yaml-commented-line\"># string in the configuration.</span><br><span class=\"yaml-key\">containerKeyBlobEncryptionKey</span>: <span class=\"yaml-value\">workspace/sbkek.txt</span> <span style=\"background-color: #FFFF00; border-\n",
       "radius: 5px; padding: 2px 6px; margin-left: 5px; font-size: 0.8em;\">Add path to our AES encryption key</span><br><span class=\"yaml-commented-line\"># ======================================================================================================================</span><br><span class=\"yaml-commented-line\">#                                           == SB 2.1 Sections and commands ==</span><br><span class=\"yaml-commented-line\"># ======================================================================================================================</span><br><span class=\"yaml-commented-line\"># ----------------------------------------===== SB2.1 Sections [Required] =====-----------------------------------------</span><br><span class=\"yaml-commented-line\"># Description: Secure Binary v2.1 section blocks</span><br><span class=\"yaml-key\">sections</span>:<br><span class=\"yaml-key\">  - </span><span class=\"yaml-commented-line\"># ----------------------------------------===== Section ID [Optional] =====-----------------------------------------</span><br>    <span class=\"yaml-commented-line\"># Description: ID of the section</span><br><span class=\"yaml-key\">    section_id</span>: <span class=\"yaml-value\">0</span><br>    <span class=\"yaml-commented-line\"># --------------------------------------===== SB2.1 Commands [Optional] =====---------------------------------------</span><br>    <span class=\"yaml-commented-line\"># Description: Secure Binary v2.1 commands block, list of all possible options - Modify it according to your</span><br>    <span class=\"yaml-commented-line\"># application</span><br><span class=\"yaml-key\">    commands</span>:<br><span class=\"yaml-key\">      - </span><span class=\"yaml-commented-line\"># -----------------------------------------===== Erase [Required] =====-----------------------------------------</span><br>        <span class=\"yaml-commented-line\"># Description: Performs a flash erase of the given address range. The erase will be rounded up to the sector</span><br>        <span class=\"yaml-commented-line\"># size.</span><br><span class=\"yaml-key\">        erase</span>: <span style=\"background-color: #FFFF00; border-radius: 5px; padding: 2px 6px; margin-left: 5px; font-size:\n",
       "0.8em;\">Erase the flash before programming</span><br>          <span class=\"yaml-commented-line\"># ---------------------------------------===== Address [Required] =====---------------------------------------</span><br>          <span class=\"yaml-commented-line\"># Description: Address of memory block to be erased.</span><br><span class=\"yaml-key\">          address</span>: <span class=\"yaml-value\">0</span><br>          <span class=\"yaml-commented-line\"># ----------------------------------------===== Size [Optional] =====-----------------------------------------</span><br>          <span class=\"yaml-commented-line\"># Description: Size of memory block to be erased.</span><br><span class=\"yaml-key\">          length</span>: <span class=\"yaml-value\">65536</span><br><span class=\"yaml-key\">      - </span><span class=\"yaml-commented-line\"># -----------------------------------------===== Load [Required] =====------------------------------------------</span><br>        <span class=\"yaml-commented-line\"># Description: If set, then the data to write immediately follows the range header. The length field contains</span><br>        <span class=\"yaml-commented-line\"># the actual data length</span><br><span class=\"yaml-key\">        load</span>: <span style=\"background-color: #FFFF00; border-radius: 5px; padding: 2px 6px; margin-left: 5px; font-size:\n",
       "0.8em;\">Load the binary file to the flash</span><br>          <span class=\"yaml-commented-line\"># ---------------------------------------===== Address [Required] =====---------------------------------------</span><br>          <span class=\"yaml-commented-line\"># Description: Address of memory block to be loaded.</span><br><span class=\"yaml-key\">          address</span>: <span class=\"yaml-value\">0</span><br>          <span class=\"yaml-commented-line\"># ------------------------------------===== Binary file. [Optional] =====-------------------------------------</span><br>          <span class=\"yaml-commented-line\"># Description: Binary file to be loaded.</span><br><span class=\"yaml-key\">          file</span>: <span class=\"yaml-value\">workspace/lpc55s6x_mbi.bin</span><br></pre></div>\n",
       "        </div>\n",
       "        "
      ],
      "text/plain": [
       "<IPython.core.display.HTML object>"
      ]
     },
     "execution_count": 3,
     "metadata": {},
     "output_type": "execute_result"
    }
   ],
   "source": [
    "YamlDiffWidget(\"inputs/lpc55sxx_secure_fw_update.diffc\").html"
   ]
  },
  {
   "cell_type": "code",
   "execution_count": 4,
   "metadata": {},
   "outputs": [
    {
     "name": "stdout",
     "output_type": "stream",
     "text": [
      "nxpimage  sb21 export -c inputs/sb2_config.yaml \n",
      "RKTH: 60a4d31a7a08825285e3d3e961c850f41876c384e20cf7037664c6aebecc8b88\n",
      "Success. (Secure binary 2.1: workspace/output.sb created.)\n"
     ]
    }
   ],
   "source": [
    "import os\n",
    "\n",
    "SB2_PATH = \"workspace/output.sb\"\n",
    "\n",
    "%! nxpimage $VERBOSITY sb21 export -c inputs/sb2_config.yaml\n",
    "assert os.path.exists(SB2_PATH)"
   ]
  },
  {
   "cell_type": "markdown",
   "metadata": {},
   "source": [
    "## 4. Device preparation\n",
    "\n",
    "Now it's time to prepare the device (enroll keys, load pfr...). In this example we will use LPCXpresso55S69 Evaluation kit.\n",
    "\n",
    "First step is to enter ISP mode, this could be achieved by either shorting J10 or by simultaneously pressing ISP button and reset button.\n",
    "\n",
    "LPCXpresso55S69 supports UART and USB-HID interface for the ISP programming. In the picture below we used UART, if you want to use USB, connect the cable to high speed USB port.\n",
    "\n",
    "<img src=\"../../_data/img/boards/lpc55s69.png\" alt=\"lpc55s69\" height=\"300\">\n",
    "\n",
    "\n",
    "We could use app *nxpdevscan* to check if the device is connected to the PC in ISP mode.\n",
    "\n"
   ]
  },
  {
   "cell_type": "code",
   "execution_count": 5,
   "metadata": {
    "execute_cell": false
   },
   "outputs": [
    {
     "name": "stdout",
     "output_type": "stream",
     "text": [
      "nxpdevscan -u \n",
      "-------- Connected NXP USB Devices --------\n",
      "\n",
      "USB COMPOSITE DEVICE - NXP SEMICONDUCTOR INC.\n",
      "Vendor ID: 0x1fc9\n",
      "Product ID: 0x0021\n",
      "Path: HID\\VID_1FC9&PID_0021\\9&3AA499EB&0&0000\n",
      "Path Hash: 694e4de1\n",
      "Name: nhs52s04 | lpc55s66 | lpc55s69 | lpc55s26 | lpc55s28 | lpc5526 | lpc5528\n",
      "Serial number: \n",
      "\n"
     ]
    }
   ],
   "source": [
    "# check if the device is connected and detected by PC\n",
    "%! nxpdevscan -u"
   ]
  },
  {
   "cell_type": "code",
   "execution_count": 6,
   "metadata": {},
   "outputs": [
    {
     "name": "stdout",
     "output_type": "stream",
     "text": [
      "blhost -u lpc55s69 get-property current-version \n",
      "Response status = 0 (0x0) Success.\n",
      "Response word 1 = 1258487808 (0x4b030000)\n",
      "Current Version = K3.0.0\n"
     ]
    }
   ],
   "source": [
    "USB_CONNECTION = \"-u lpc55s69\"\n",
    "# choose com port or /dev\n",
    "UART_CONNECTION = \"-p com21\"\n",
    "\n",
    "# comment if you want to use UART\n",
    "# CONNECTION = USB_CONNECTION\n",
    "CONNECTION = USB_CONNECTION\n",
    "\n",
    "%! blhost $CONNECTION get-property current-version"
   ]
  },
  {
   "attachments": {},
   "cell_type": "markdown",
   "metadata": {},
   "source": [
    "## 5. Key enrollment\n",
    "\n",
    "Key enrollment should be done only once in the device life cycle. We have to write KEK key that will be used for SB decryption and we will generate PUF keys for PRINCE encryption.\n",
    "\n",
    "To detect if key provisioning was enrolled issue blhost command *read-memory 0x0009E600 4*. If the output is \"95 95 95 95\" it means that the key store is already enrolled."
   ]
  },
  {
   "cell_type": "code",
   "execution_count": 7,
   "metadata": {},
   "outputs": [
    {
     "name": "stdout",
     "output_type": "stream",
     "text": [
      "blhost -u lpc55s69 read-memory 0x0009E600 4 \n",
      "Reading memory\n",
      "00 00 00 00\n",
      "Response status = 0 (0x0) Success.\n",
      "Response word 1 = 4 (0x4)\n",
      "Read 4 of 4 bytes.\n",
      "blhost -u lpc55s69 key-provisioning enroll \n",
      "Response status = 0 (0x0) Success.\n",
      "blhost -u lpc55s69 key-provisioning set_user_key 3 workspace/sbkek.bin \n",
      "Response status = 0 (0x0) Success.\n",
      "blhost -u lpc55s69 key-provisioning set_key 7 16 \n",
      "Response status = 0 (0x0) Success.\n",
      "blhost -u lpc55s69 key-provisioning set_key 8 16 \n",
      "Response status = 0 (0x0) Success.\n",
      "blhost -u lpc55s69 key-provisioning set_key 9 16 \n",
      "Response status = 0 (0x0) Success.\n",
      "blhost -u lpc55s69 key-provisioning write_key_nonvolatile 0 \n",
      "Response status = 0 (0x0) Success.\n"
     ]
    }
   ],
   "source": [
    "## Check if the keystore is enrolled\n",
    "%! blhost $CONNECTION read-memory 0x0009E600 4\n",
    "\n",
    "## Key provisioning enroll uncomment in case it's not enrolled ###\n",
    "%! blhost $CONNECTION key-provisioning enroll\n",
    "\n",
    "### Write KEK for SB\n",
    "%! blhost $CONNECTION key-provisioning set_user_key 3 $SBKEK_BIN\n",
    "\n",
    "### Generate random key for PRINCE region 0 ###\n",
    "%! blhost $CONNECTION key-provisioning set_key 7 16\n",
    "\n",
    "### Generate random key for PRINCE region 1 ###\n",
    "%! blhost $CONNECTION key-provisioning set_key 8 16\n",
    "\n",
    "### Generate random key for PRINCE region 2 ###\n",
    "%! blhost $CONNECTION key-provisioning set_key 9 16\n",
    "\n",
    "### In case the key store has been enrolled comment if enrolling\n",
    "# read keystore from internal flash\n",
    "# %! blhost $CONNECTION key-provisioning read_key_nonvolatile 0\n",
    "\n",
    "# # Write KEK for SB\n",
    "# %! blhost $CONNECTION key-provisioning set_user_key 3 $SBKEK_BIN\n",
    "\n",
    "# ### Now write the keystore to internal flash\n",
    "%! blhost $CONNECTION key-provisioning write_key_nonvolatile 0"
   ]
  },
  {
   "attachments": {},
   "cell_type": "markdown",
   "metadata": {},
   "source": [
    "## 6. Receive SB file\n",
    "Last step is to receive SB and then reset the chip to boot the image. Do not forget to remove the ISP jumper."
   ]
  },
  {
   "cell_type": "code",
   "execution_count": 8,
   "metadata": {},
   "outputs": [
    {
     "name": "stdout",
     "output_type": "stream",
     "text": [
      "blhost -u lpc55s69 receive-sb-file workspace/output.sb \n",
      "Sending SB file\n",
      "Response status = 0 (0x0) Success.\n",
      "blhost -u lpc55s69 reset \n",
      "Response status = 0 (0x0) Success.\n"
     ]
    }
   ],
   "source": [
    "%! blhost $CONNECTION receive-sb-file $SB2_PATH\n",
    "\n",
    "# reset target\n",
    "%! blhost $CONNECTION reset"
   ]
  }
 ],
 "metadata": {
  "kernelspec": {
   "display_name": "venv",
   "language": "python",
   "name": "python3"
  },
  "language_info": {
   "codemirror_mode": {
    "name": "ipython",
    "version": 3
   },
   "file_extension": ".py",
   "mimetype": "text/x-python",
   "name": "python",
   "nbconvert_exporter": "python",
   "pygments_lexer": "ipython3",
   "version": "3.11.0"
  },
  "orig_nbformat": 4,
  "vscode": {
   "interpreter": {
    "hash": "9ae905cdb03b2bea9f2883acc56fb3ee9783b3cfb8f9c98bd74d46626fd8ede9"
   }
  }
 },
 "nbformat": 4,
 "nbformat_minor": 2
}
