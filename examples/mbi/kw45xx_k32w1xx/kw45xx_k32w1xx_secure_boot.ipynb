{
 "cells": [
  {
   "attachments": {},
   "cell_type": "markdown",
   "metadata": {},
   "source": [
    "# KW45xx and K32W1xx Secure Boot\n",
    "\n",
    "This notebook describes how to how to set up a basic secure boot on KW45xx and K32W1xx devices using the SPSDK command line utilities.\n",
    "\n",
    "Secure Boot ensures authenticity, integrity and confidentiality of any software during the\n",
    "boot process and ensures that the intended secure level is reached. Secure Boot ensures that only properly signed (Original equipment manufacturer (OEM)-authentic) code can be executed on a device, protecting debug access is of utmost importance. Secure boot provides guarantee that unauthorized code cannot be executed on a given product.\n",
    "\n",
    "At the end of this example, the signed application will be provided and the chip will be secured for that reason only application signed by key's owner can boot. \n",
    "\n",
    "Here is the necessary steps to achieve this goal:\n",
    "- plain application\n",
    "- root of trust\n",
    "- create secured imaged (created based on rot and plain)\n",
    "- switch device to proper life cycle\n",
    "- load secure image\n",
    "- verification"
   ]
  },
  {
   "cell_type": "markdown",
   "metadata": {},
   "source": [
    "## 1. Prerequisites\n",
    "- SPSDK is needed with examples extension. `pip install spsdk[examples]` (Please refer to the [installation](../../_knowledge_base/installation_guide.rst) documentation.)\n",
    "\n",
    "- This example uses KW45xx-EVK/K32W1xx-EVK board\n",
    "\n",
    "  <img src=\"../../_data/img/boards/kw45xx-evk.png\" alt=\"kw45xx-evk\" height=\"300\">\n",
    "\n",
    "  <img src=\"../../_data/img/boards/k32w1xx-evk.png\" alt=\"k32w1xx-evk\" height=\"300\">\n",
    "\n"
   ]
  },
  {
   "cell_type": "markdown",
   "metadata": {},
   "source": [
    "Let's prepare also workspace and variables."
   ]
  },
  {
   "cell_type": "code",
   "execution_count": 2,
   "metadata": {
    "tags": [
     "remove-cell"
    ]
   },
   "outputs": [
    {
     "name": "stdout",
     "output_type": "stream",
     "text": [
      "env: JUPYTER_SPSDK=1\n",
      "Created `%!` as an alias for `%execute`.\n"
     ]
    }
   ],
   "source": [
    "# Initialization cell\n",
    "import os\n",
    "\n",
    "from spsdk.utils.jupyter_utils import YamlDiffWidget\n",
    "\n",
    "# This env variable sets colored logger output to STDOUT\n",
    "%env JUPYTER_SPSDK=1\n",
    "# Set a magic for command execution and echo\n",
    "%alias execute echo %l && %l\n",
    "%alias_magic ! execute"
   ]
  },
  {
   "cell_type": "code",
   "execution_count": 3,
   "metadata": {},
   "outputs": [],
   "source": [
    "WORKSPACE = \"workspace/\"  # change this to path to your workspace\n",
    "INPUTS = \"inputs/\"\n",
    "# verbosity of commands, might be -v or -vv for debug or blank for no additional info\n",
    "VERBOSITY = \"-v\"\n",
    "# choose family (kw45b41z8, kw45b41z5 or k32w148)\n",
    "FAMILY = \"kw45b41z8\"\n",
    "MBI_USER_CONFIG = \"inputs/kw45xx_xip_signed.yaml\""
   ]
  },
  {
   "attachments": {},
   "cell_type": "markdown",
   "metadata": {},
   "source": [
    "## 2. Root of Trust Keys Preparation\n",
    "\n",
    "To create a signed image, you need to establish a Root of Trust (RoT) at the beginning, which will be used later to sign the image.\n",
    "\n",
    "- The EVK board (KW45xx-EVK/K32W1xx) comes with pre-burned fuses containing the Root Key Table Hash (RKTH) in a fuse called CUST_PROD_OEMFW_AUTH_PUK, provided by NXP. The corresponding keys are stored in the EVK_keys folder.\n",
    "\n",
    "- Generally, you can generate Root of Trust Keys (RoTKs)/Super Root Keys (SRKs) and optionally an Image Signing Key (ISK). To generate these keys, use the *nxpcrypto* application (refer to [How-to-get-keys-using-nxpcrypto](../../crypto/keys.ipynb)). By default, the script creates 4 RoTKs and 1 ISK. At least one RoTK is mandatory.\n",
    "\n",
    "- Based on the loaded keys, a Root Key Table Hash (RKTH) value is calculated. This RKTH should be loaded into the device fuses, which is why the keys cannot be changed for the device once set.\n"
   ]
  },
  {
   "attachments": {},
   "cell_type": "markdown",
   "metadata": {},
   "source": [
    "## 3. Prepare Master Boot Image (MBI)\n",
    "\n",
    "In order to achieve secure boot, we will use signed [mbi](../../_knowledge_base/mbi_summary.md) with by already prepared RoT keys. \n",
    "\n",
    "\n",
    "The structure of signed MBI is following:\n",
    "\n",
    "<img src=\"img/signed_image.png\" alt=\"Signed image structure\" height=\"400\"> \n",
    "\n",
    "\n",
    "In order to generate MBI file, nxpimage tool is used.\n",
    "The process of creating MBI in SPSDK is following:\n",
    " - Get the certification block used in signed MBI\n",
    " - Get the configuration file that describes MBI setting\n",
    "   - To start creating the configuration file, the template of that file could be used. The command is: 'nxpimage mbi get-templates'\n",
    " - Modify the configuration file to reflect the project needs\n",
    " - Use the configuration by 'nxpimage mbi export' command to create the final MBI file \n",
    "\n"
   ]
  },
  {
   "cell_type": "markdown",
   "metadata": {},
   "source": [
    "### 3.1 Preparing Certificate Block v2.1\n",
    "\n",
    "In order to create signed MBI the certification block that keeps the RoT info must be prepared.\n",
    "- In our case we have already prepared certification block to simplify the example (see [Certification block configuration v2.1](./inputs/cert_block_kw45_secure.yaml))\n",
    "- To learn how to create a certificate blok check the whole example is presented in dedicated notebook (see [How-to-get-cert-block](../../certificate_block/cert_block_v2_1.ipynb)). "
   ]
  },
  {
   "cell_type": "markdown",
   "metadata": {},
   "source": [
    "### 3.2 Preparing MBI configuration file\n",
    "\n",
    "Let's begin by creating a template configuration file using the `nxpimage mbi get-templates` command. To simplify this example, we have already prepared a certificate block, which can be found in the [kw45xx_xip_signed.yaml](./inputs/kw45xx_xip_signed.yaml) file. Below, we'll compare the differences between the template and our customized example to highlight the additions we've made."
   ]
  },
  {
   "cell_type": "code",
   "execution_count": 5,
   "metadata": {
    "comments": {
     "certBlock": "Add path to the configuration file containing certificates or path to binary block",
     "enableTrustZone": "We also do not enable TrustZone in this example",
     "signPrivateKey": "Add path to your private key file for signing",
     "signProvider": "This is removed, because we are using private key in this example"
    },
    "tags": [
     "remove-input"
    ]
   },
   "outputs": [
    {
     "name": "stdout",
     "output_type": "stream",
     "text": [
      "nxpimage mbi get-templates -f kw45b41z8 -o workspace/ --force \n",
      "Creating workspace/kw45b41z8_xip_plain.yaml template file.\n",
      "Creating workspace/kw45b41z8_xip_crc.yaml template file.\n",
      "Creating workspace/kw45b41z8_xip_signed.yaml template file.\n",
      "Creating workspace/kw45b41z8_xip_nxp_signed.yaml template file.\n"
     ]
    },
    {
     "data": {
      "text/html": [
       "\n",
       "        \n",
       "        <style>\n",
       "            .yaml-diff { font-family: monospace; background-color: #f0f0f0; padding: 1em; border: 1px solid #c0c0c0; }\n",
       "            .yaml-key { color: #0000CC; font-weight: bold; }\n",
       "            .yaml-value { color: #006600; }\n",
       "            .yaml-commented-line { color: #008800; }\n",
       "            .yaml-list-item { color: #660066; }\n",
       "            .diff-removed { background-color: #ffaaaa; }\n",
       "            .diff-added { background-color: #aaffaa; }\n",
       "            .yaml-comment {\n",
       "                background-color: #FF8C00;\n",
       "                color: #000000;\n",
       "                border-radius: 50%;\n",
       "                padding: 0 0.3em;\n",
       "                margin-left: 0.5em;\n",
       "                font-size: 0.8em;\n",
       "                cursor: help;\n",
       "                font-weight: bold;\n",
       "                text-shadow: 1px 1px 1px rgba(255, 255, 255, 0.7);\n",
       "            }\n",
       "            #toggleButton_fb9c6e3eac25eb1f06728ddcbc9833fa {\n",
       "                background-color: #4CAF50;\n",
       "                border: none;\n",
       "                color: white;\n",
       "                padding: 10px 20px;\n",
       "                text-align: center;\n",
       "                text-decoration: none;\n",
       "                display: inline-block;\n",
       "                font-size: 16px;\n",
       "                margin: 4px 2px;\n",
       "                cursor: pointer;\n",
       "            }\n",
       "        </style>\n",
       "        \n",
       "        \n",
       "        <script>\n",
       "        function toggleView_fb9c6e3eac25eb1f06728ddcbc9833fa() {\n",
       "            var diffView = document.getElementById('diffView_fb9c6e3eac25eb1f06728ddcbc9833fa');\n",
       "            var userConfigView = document.getElementById('userConfigView_fb9c6e3eac25eb1f06728ddcbc9833fa');\n",
       "            var button = document.getElementById('toggleButton_fb9c6e3eac25eb1f06728ddcbc9833fa');\n",
       "\n",
       "            if (diffView.style.display === 'none' && userConfigView.style.display === 'none') {\n",
       "                diffView.style.display = 'block';\n",
       "                userConfigView.style.display = 'none';\n",
       "                button.textContent = 'Show User Config';\n",
       "            } else if (diffView.style.display === 'block') {\n",
       "                diffView.style.display = 'none';\n",
       "                userConfigView.style.display = 'block';\n",
       "                button.textContent = 'Hide';\n",
       "            } else {\n",
       "                diffView.style.display = 'none';\n",
       "                userConfigView.style.display = 'none';\n",
       "                button.textContent = 'Show Diff';\n",
       "            }\n",
       "        }\n",
       "        </script>\n",
       "        \n",
       "        <div class=\"yaml-diff-container\">\n",
       "          <h3>Configuration Differences</h3>\n",
       "          <button onclick=\"toggleView_fb9c6e3eac25eb1f06728ddcbc9833fa()\" id=\"toggleButton_fb9c6e3eac25eb1f06728ddcbc9833fa\">Show Diff</button>\n",
       "          \n",
       "        <a href=\"data:text/plain;base64,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\" download=\"user_config.yaml\">\n",
       "            <button style=\"background-color: #4CAF50; border: none; color: white; padding: 10px 20px; text-align: center; text-decoration: none; display: inline-block; font-size: 16px; margin: 4px 2px; cursor: pointer;\">\n",
       "                Download Config\n",
       "            </button>\n",
       "        </a>\n",
       "        \n",
       "          <div id=\"diffView_fb9c6e3eac25eb1f06728ddcbc9833fa\" class=\"yaml-diff\" style=\"display:none;\"><pre class=\"yaml-diff\"><span class=\"yaml-commented-line\"># ==============  Master Boot Image Configuration template for kw45b41z8:latest, Plain Signed XIP Image.  ==============</span><br><br><span class=\"yaml-commented-line\"># ======================================================================================================================</span><br><span class=\"yaml-commented-line\">#                                                 == General Options ==                                                 </span><br><span class=\"yaml-commented-line\"># ======================================================================================================================</span><br><span class=\"yaml-commented-line\"># -------------------------------------===== The chip family name [Required] =====--------------------------------------</span><br><span class=\"yaml-commented-line\"># Description: NXP chip family identifier.</span><br><span class=\"yaml-commented-line\"># Possible options: <k32w148, kw45b41z5, kw45b41z8, lpc5502, lpc5504, lpc5506, lpc5512, lpc5514, lpc5516, lpc5526,</span><br><span class=\"yaml-commented-line\"># lpc5528, lpc5534, lpc5536, lpc55s04, lpc55s06, lpc55s14, lpc55s16, lpc55s26, lpc55s28, lpc55s36, lpc55s66, lpc55s69,</span><br><span class=\"yaml-commented-line\"># mc56f81646, mc56f81648, mc56f81666, mc56f81668, mc56f81746, mc56f81748, mc56f81766, mc56f81768, mc56f81866,</span><br><span class=\"yaml-commented-line\"># mc56f81868, mcxa132, mcxa133, mcxa142, mcxa143, mcxa144, mcxa145, mcxa146, mcxa152, mcxa153, mcxa154, mcxa155,</span><br><span class=\"yaml-commented-line\"># mcxa156, mcxn235, mcxn236, mcxn546, mcxn547, mcxn946, mcxn947, mcxw716a, mcxw716c, mimxrt533s, mimxrt555s, mimxrt595s,</span><br><span class=\"yaml-commented-line\"># mimxrt685s, mimxrt798s, mwct2012, mwct2012a, mwct20d2, mwct20d2a, nhs52s04, rw610, rw612></span><br><span class=\"yaml-key\">family</span>: <span class=\"yaml-value\">kw45b41z8</span><br><span class=\"yaml-commented-line\"># -----------------------------------------===== MCU revision [Optional] =====------------------------------------------</span><br><span class=\"yaml-commented-line\"># Description: Revision of silicon. The 'latest' name, means most current revision.</span><br><span class=\"yaml-commented-line\"># Possible options: <a0, a1, a2, latest></span><br><span class=\"yaml-key\">revision</span>: <span class=\"yaml-value\">latest</span><br><span class=\"yaml-commented-line\"># ======================================================================================================================</span><br><span class=\"yaml-commented-line\">#                                                  == Basic Settings ==                                                 </span><br><span class=\"yaml-commented-line\"># ======================================================================================================================</span><br><span class=\"yaml-commented-line\"># --------------------------------------===== Application target [Required] =====---------------------------------------</span><br><span class=\"yaml-commented-line\"># Description: Definition if application is Execute in Place(XiP) or loaded to RAM during reset sequence.</span><br><span class=\"yaml-commented-line\"># Possible options: <xip, load-to-ram></span><br><span class=\"yaml-key\">outputImageExecutionTarget</span>: <span class=\"yaml-value\">xip</span><br><span class=\"yaml-commented-line\"># -------------------------------===== Type of boot image authentication [Required] =====-------------------------------</span><br><span class=\"yaml-commented-line\"># Description: Specification of final master boot image authentication.</span><br><span class=\"yaml-commented-line\"># Possible options: <plain, crc, signed, signed-encrypted, signed-nxp></span><br><span class=\"yaml-key\">outputImageAuthenticationType</span>: <span class=\"yaml-value\">signed</span><br><span class=\"yaml-commented-line\"># ---------------------------------------===== Output Image name [Required] =====---------------------------------------</span><br><span class=\"yaml-commented-line\"># Description: The path for result binary file.</span><br><span class=\"diff-removed\"><span class=\"yaml-key\">masterBootOutputFile</span>: <span class=\"yaml-value\">my_mbi.bin</span></span><br><span class=\"diff-added\"><span class=\"yaml-key\">masterBootOutputFile</span>: <span class=\"yaml-value\">../workspace/kw45xx_mbi_xip_signed_hello_world.bin</span></span><br><span class=\"yaml-commented-line\"># ------------------------------------===== Plain application image [Required] =====------------------------------------</span><br><span class=\"yaml-commented-line\"># Description: The input application image to by modified to Master Boot Image.</span><br><span class=\"diff-removed\"><span class=\"yaml-key\">inputImageFile</span>: <span class=\"yaml-value\">my_application.bin</span></span><br><span class=\"diff-added\"><span class=\"yaml-key\">inputImageFile</span>: <span class=\"yaml-value\">../inputs/kw45_int_xip_hello_world_blue_led_blinky_loop.bin</span></span><br><span class=\"yaml-commented-line\"># --------------------------------===== Loading address of application [Required] =====---------------------------------</span><br><span class=\"yaml-commented-line\"># Description: Application loading address in RAM if not XiP, otherwise address of load in XiP.</span><br><span class=\"yaml-key\">outputImageExecutionAddress</span>: <span class=\"yaml-value\">0</span><br><span class=\"yaml-commented-line\"># ---------------------------------------===== Firmware version. [Optional] =====---------------------------------------</span><br><span class=\"yaml-commented-line\"># Description: Value compared with Secure_FW_Version monotonic counter value stored in protected memory (MCU specific).</span><br><span class=\"yaml-commented-line\"># If value is lower than value in protected memory, then is image rejected (rollback protection).</span><br><span class=\"yaml-key\">firmwareVersion</span>: <span class=\"yaml-value\">0</span><br><span class=\"yaml-commented-line\"># ======================================================================================================================</span><br><span class=\"yaml-commented-line\">#                                              == Certificate Block V2.1 ==                                             </span><br><span class=\"yaml-commented-line\"># ======================================================================================================================</span><br><span class=\"yaml-commented-line\"># -----------------------------===== Certificate Block binary/config file [Required] =====------------------------------</span><br><span class=\"yaml-commented-line\"># Description: Path to certificate block binary or config file.</span><br><span class=\"diff-removed\"><span class=\"yaml-key\">certBlock</span>: <span class=\"yaml-value\">cert_block.yaml</span> <span style=\"background-color: #FFFF00; border-radius: 5px; padding:\n",
       "2px 6px; margin-left: 5px; font-size: 0.8em;\">Add path to the configuration file containing certificates or path to binary block</span></span><br><span class=\"diff-added\"><span class=\"yaml-key\">certBlock</span>: <span class=\"yaml-value\">../inputs/cert_block_kw45_secure.yaml</span></span><br><span class=\"yaml-commented-line\"># ======================================================================================================================</span><br><span class=\"yaml-commented-line\">#                                              == Image Signing Settings ==                                             </span><br><span class=\"yaml-commented-line\"># ======================================================================================================================</span><br><span class=\"yaml-commented-line\"># --------------------------===== Main Certificate private key [Conditionally required] =====---------------------------</span><br><span class=\"yaml-commented-line\"># Description: Main Certificate private key used to sign certificate. It can be replaced by signProvider key.</span><br><span class=\"diff-added\"><span class=\"yaml-key\">signPrivateKey</span>: <span class=\"yaml-value\">../../_data/keys/evk_keys/RoT_key0_secp384r1_kw45xx.pem</span></span><br><span class=\"diff-removed\"><span class=\"yaml-key\">signPrivateKey</span>: <span class=\"yaml-value\">main_prv_key.pem</span> <span style=\"background-color: #FFFF00; border-radius: 5px;\n",
       "padding: 2px 6px; margin-left: 5px; font-size: 0.8em;\">Add path to your private key file for signing</span></span><br><span class=\"yaml-commented-line\"># -------------------------------===== Signature Provider [Conditionally required] =====--------------------------------</span><br><span class=\"yaml-commented-line\"># Description: Signature provider configuration in format 'type=<identifier>;<key1>=<value1>;<key2>=<value2>'.</span><br><span class=\"diff-removed\"><span class=\"yaml-key\">signProvider</span>: <span class=\"yaml-value\">type=file;file_path=my_prv_key.pem</span> <span style=\"background-color: #FFFF00; border-\n",
       "radius: 5px; padding: 2px 6px; margin-left: 5px; font-size: 0.8em;\">This is removed, because we are using private key in this example</span></span><br><span class=\"yaml-commented-line\"># ======================================================================================================================</span><br><span class=\"yaml-commented-line\">#                                               == Trust Zone Settings ==                                               </span><br><span class=\"yaml-commented-line\"># ======================================================================================================================</span><br><span class=\"yaml-commented-line\"># ------------------------------------===== TrustZone enable option [Optional] =====------------------------------------</span><br><span class=\"yaml-commented-line\"># Description: If not specified, the Trust zone is disabled.</span><br><span class=\"diff-removed\"><span class=\"yaml-key\">enableTrustZone</span>: <span class=\"yaml-value\">false</span> <span style=\"background-color: #FFFF00; border-radius: 5px; padding: 2px\n",
       "6px; margin-left: 5px; font-size: 0.8em;\">We also do not enable TrustZone in this example</span></span><br><span class=\"yaml-commented-line\"># ---------------------------------===== TrustZone Customization file [Optional] =====----------------------------------</span><br><span class=\"yaml-commented-line\"># Description: If not specified, but TrustZone is enabled(enableTrustZone) the default values are used.</span><br><span class=\"diff-removed\"><span class=\"yaml-key\">trustZonePresetFile</span>: <span class=\"yaml-value\">my_tz_custom.yaml</span></span><br><span class=\"yaml-commented-line\"># ======================================================================================================================</span><br><span class=\"yaml-commented-line\">#                                               == Add Manifest Digest ==                                               </span><br><span class=\"yaml-commented-line\"># ======================================================================================================================</span><br><span class=\"yaml-commented-line\"># --------------------------------------===== Add Manifest Digest [Optional] =====--------------------------------------</span><br><span class=\"yaml-commented-line\"># Description: Used for concurrent execution of ECDSA verify and hash calculation.</span><br><span class=\"diff-removed\"><span class=\"yaml-key\">addManifestDigest</span>: <span class=\"yaml-value\">true</span></span><br></pre></div>\n",
       "          <div id=\"userConfigView_fb9c6e3eac25eb1f06728ddcbc9833fa\" class=\"yaml-diff\" style=\"display:none;\"><pre class=\"yaml-diff\"><span class=\"yaml-commented-line\"># Copyright 2024 NXP</span><br><span class=\"yaml-commented-line\">#</span><br><span class=\"yaml-commented-line\"># SPDX-License-Identifier: BSD-3-Clause</span><br><span class=\"yaml-commented-line\"># ==============  Master Boot Image Configuration template for kw45b41z8:latest, Plain Signed XIP Image.  ==============</span><br><br><span class=\"yaml-commented-line\"># ======================================================================================================================</span><br><span class=\"yaml-commented-line\">#                                                 == General Options ==</span><br><span class=\"yaml-commented-line\"># ======================================================================================================================</span><br><span class=\"yaml-commented-line\"># -------------------------------------===== The chip family name [Required] =====--------------------------------------</span><br><span class=\"yaml-commented-line\"># Description: NXP chip family identifier.</span><br><span class=\"yaml-commented-line\"># Possible options: <k32w148, kw45b41z5, kw45b41z8, lpc5502, lpc5504, lpc5506, lpc5512, lpc5514, lpc5516, lpc5526,</span><br><span class=\"yaml-commented-line\"># lpc5528, lpc5534, lpc5536, lpc55s04, lpc55s06, lpc55s14, lpc55s16, lpc55s26, lpc55s28, lpc55s36, lpc55s66, lpc55s69,</span><br><span class=\"yaml-commented-line\"># mc56f81646, mc56f81648, mc56f81666, mc56f81668, mc56f81746, mc56f81748, mc56f81766, mc56f81768, mc56f81866,</span><br><span class=\"yaml-commented-line\"># mc56f81868, mcxa132, mcxa133, mcxa142, mcxa143, mcxa144, mcxa145, mcxa146, mcxa152, mcxa153, mcxa154, mcxa155,</span><br><span class=\"yaml-commented-line\"># mcxa156, mcxn235, mcxn236, mcxn546, mcxn547, mcxn946, mcxn947, mcxw716a, mcxw716c, mimxrt533s, mimxrt555s, mimxrt595s,</span><br><span class=\"yaml-commented-line\"># mimxrt685s, mimxrt798s, mwct2012, mwct2012a, mwct20d2, mwct20d2a, nhs52s04, rw610, rw612></span><br><span class=\"yaml-key\">family</span>: <span class=\"yaml-value\">kw45b41z8</span><br><span class=\"yaml-commented-line\"># -----------------------------------------===== MCU revision [Optional] =====------------------------------------------</span><br><span class=\"yaml-commented-line\"># Description: Revision of silicon. The 'latest' name, means most current revision.</span><br><span class=\"yaml-commented-line\"># Possible options: <a0, a1, a2, latest></span><br><span class=\"yaml-key\">revision</span>: <span class=\"yaml-value\">latest</span><br><span class=\"yaml-commented-line\"># ======================================================================================================================</span><br><span class=\"yaml-commented-line\">#                                                  == Basic Settings ==</span><br><span class=\"yaml-commented-line\"># ======================================================================================================================</span><br><span class=\"yaml-commented-line\"># --------------------------------------===== Application target [Required] =====---------------------------------------</span><br><span class=\"yaml-commented-line\"># Description: Definition if application is Execute in Place(XiP) or loaded to RAM during reset sequence.</span><br><span class=\"yaml-commented-line\"># Possible options: <xip, load-to-ram></span><br><span class=\"yaml-key\">outputImageExecutionTarget</span>: <span class=\"yaml-value\">xip</span><br><span class=\"yaml-commented-line\"># -------------------------------===== Type of boot image authentication [Required] =====-------------------------------</span><br><span class=\"yaml-commented-line\"># Description: Specification of final master boot image authentication.</span><br><span class=\"yaml-commented-line\"># Possible options: <plain, crc, signed, signed-encrypted, signed-nxp></span><br><span class=\"yaml-key\">outputImageAuthenticationType</span>: <span class=\"yaml-value\">signed</span><br><span class=\"yaml-commented-line\"># ---------------------------------------===== Output Image name [Required] =====---------------------------------------</span><br><span class=\"yaml-commented-line\"># Description: The path for result binary file.</span><br><span class=\"yaml-key\">masterBootOutputFile</span>: <span class=\"yaml-value\">../workspace/kw45xx_mbi_xip_signed_hello_world.bin</span><br><span class=\"yaml-commented-line\"># ------------------------------------===== Plain application image [Required] =====------------------------------------</span><br><span class=\"yaml-commented-line\"># Description: The input application image to by modified to Master Boot Image.</span><br><span class=\"yaml-key\">inputImageFile</span>: <span class=\"yaml-value\">../inputs/kw45_int_xip_hello_world_blue_led_blinky_loop.bin</span><br><span class=\"yaml-commented-line\"># --------------------------------===== Loading address of application [Required] =====---------------------------------</span><br><span class=\"yaml-commented-line\"># Description: Application loading address in RAM if not XiP, otherwise address of load in XiP.</span><br><span class=\"yaml-key\">outputImageExecutionAddress</span>: <span class=\"yaml-value\">0</span><br><span class=\"yaml-commented-line\"># ---------------------------------------===== Firmware version. [Optional] =====---------------------------------------</span><br><span class=\"yaml-commented-line\"># Description: Value compared with Secure_FW_Version monotonic counter value stored in protected memory (MCU specific).</span><br><span class=\"yaml-commented-line\"># If value is lower than value in protected memory, then is image rejected (rollback protection).</span><br><span class=\"yaml-key\">firmwareVersion</span>: <span class=\"yaml-value\">0</span><br><span class=\"yaml-commented-line\"># ======================================================================================================================</span><br><span class=\"yaml-commented-line\">#                                              == Certificate Block V2.1 ==</span><br><span class=\"yaml-commented-line\"># ======================================================================================================================</span><br><span class=\"yaml-commented-line\"># -----------------------------===== Certificate Block binary/config file [Required] =====------------------------------</span><br><span class=\"yaml-commented-line\"># Description: Path to certificate block binary or config file.</span><br><span class=\"yaml-key\">certBlock</span>: <span class=\"yaml-value\">../inputs/cert_block_kw45_secure.yaml</span> <span style=\"background-color: #FFFF00; border-\n",
       "radius: 5px; padding: 2px 6px; margin-left: 5px; font-size: 0.8em;\">Add path to the configuration file containing certificates or path to binary block</span><br><span class=\"yaml-commented-line\"># ======================================================================================================================</span><br><span class=\"yaml-commented-line\">#                                              == Image Signing Settings ==</span><br><span class=\"yaml-commented-line\"># ======================================================================================================================</span><br><span class=\"yaml-commented-line\"># --------------------------===== Main Certificate private key [Conditionally required] =====---------------------------</span><br><span class=\"yaml-commented-line\"># Description: Main Certificate private key used to sign certificate. It can be replaced by signProvider key.</span><br><span class=\"yaml-key\">signPrivateKey</span>: <span class=\"yaml-value\">../../_data/keys/evk_keys/RoT_key0_secp384r1_kw45xx.pem</span> <span style=\"background-\n",
       "color: #FFFF00; border-radius: 5px; padding: 2px 6px; margin-left: 5px; font-size: 0.8em;\">Add path to your private key file for signing</span><br></pre></div>\n",
       "        </div>\n",
       "        "
      ],
      "text/plain": [
       "<IPython.core.display.HTML object>"
      ]
     },
     "execution_count": 5,
     "metadata": {},
     "output_type": "execute_result"
    }
   ],
   "source": [
    "# Get difference of template and user YAML configuration\n",
    "YamlDiffWidget(\"inputs/kw45xx_k32w1xx_secure_boot.diffc\").html"
   ]
  },
  {
   "attachments": {},
   "cell_type": "markdown",
   "metadata": {},
   "source": [
    "### 3.3 MBI generation\n",
    "\n",
    "We have created certificates, keys and proper configuration required for the creation of MBI file. Let's create a MBI."
   ]
  },
  {
   "cell_type": "code",
   "execution_count": 4,
   "metadata": {},
   "outputs": [
    {
     "name": "stdout",
     "output_type": "stream",
     "text": [
      "RKTH: 650d8097079ff27a3e8a2da14781b922fd8295b6c00bfa067f00e87f1a16b8b304bf710d45cbd591e2e24be83183922c\n",
      "Success. (Master Boot Image: workspace\\kw45xx_mbi_xip_signed_hello_world.bin created.)\n"
     ]
    }
   ],
   "source": [
    "# Execute MBI export command with our configuration\n",
    "! nxpimage mbi export -c $MBI_USER_CONFIG\n",
    "\n",
    "# Just check the MBI file has been properly created\n",
    "MBI_OUTPUT_FILE = WORKSPACE + \"kw45xx_mbi_xip_signed_hello_world.bin\"\n",
    "assert os.path.exists(MBI_OUTPUT_FILE)"
   ]
  },
  {
   "attachments": {},
   "cell_type": "markdown",
   "metadata": {},
   "source": [
    "## 4. Device preparation\n",
    "\n",
    "Now it's time to prepare the device. In this example we will use KW45xx-EVK/K32W1xx board.\n",
    "\n",
    "### Board preparation\n",
    "\n",
    "First step is to enter In System Programming (ISP) mode, this could be achieved by 3 scenarios:\n",
    "- Force ISP mode by HW pin\n",
    "  1) Put JP25 to (1-2)\n",
    "  2) Reset the board with SW4 pressed\n",
    "- Force ISP mode by debug mailbox command\n",
    "  - Connect debug probe and use *nxpdebugmbox ispmode -m 1* command\n",
    "- Native fall-down in case that no valid application is in chip\n",
    "  - In case that chip has no valid application to boot, the ISP mode is activated natively \n",
    "\n",
    "Use app *nxpdevscan* to check if the device is connected to the PC in ISP mode.\n",
    "\n",
    "\n",
    "**In our case, we already have burnt some fuses on EVK. Those KW45xx/K32Wxx EVK boards are distributed from NXP by already burned RoTKH information as has been already mentioned earlier.**"
   ]
  },
  {
   "cell_type": "code",
   "execution_count": 8,
   "metadata": {
    "execute_cell": false
   },
   "outputs": [
    {
     "name": "stdout",
     "output_type": "stream",
     "text": [
      "nxpdevscan \n",
      "-------- Connected NXP USB Devices --------\n",
      "\n",
      "-------- Connected NXP UART Devices --------\n",
      "\n",
      "Port: COM10\n",
      "Type: mboot device\n",
      "\n",
      "-------- Connected NXP SIO Devices --------\n",
      "\n",
      "-------- Connected NXP UUU Devices --------\n",
      "\n"
     ]
    }
   ],
   "source": [
    "# check if the device is connected and detected by PC\n",
    "%! nxpdevscan"
   ]
  },
  {
   "cell_type": "code",
   "execution_count": 9,
   "metadata": {},
   "outputs": [
    {
     "name": "stdout",
     "output_type": "stream",
     "text": [
      "blhost -p com10 get-property current-version \n",
      "Response status = 0 (0x0) Success.\n",
      "Response word 1 = 1258488064 (0x4b030100)\n",
      "Current Version = K3.1.0\n"
     ]
    }
   ],
   "source": [
    "# Choose com port got by nxpdevscan tool\n",
    "UART_CONNECTION = \"-p com10\"\n",
    "\n",
    "%! blhost $UART_CONNECTION get-property current-version"
   ]
  },
  {
   "attachments": {},
   "cell_type": "markdown",
   "metadata": {},
   "source": [
    "## 5. Load MBI\n",
    "\n",
    "Last step is to uploads MBI file with image to device."
   ]
  },
  {
   "cell_type": "code",
   "execution_count": 10,
   "metadata": {},
   "outputs": [
    {
     "name": "stdout",
     "output_type": "stream",
     "text": [
      "blhost -p com10 flash-erase-all \n",
      "Response status = 0 (0x0) Success.\n"
     ]
    }
   ],
   "source": [
    "# 4.1 Erase all flash\n",
    "%! blhost $UART_CONNECTION flash-erase-all"
   ]
  },
  {
   "cell_type": "code",
   "execution_count": 11,
   "metadata": {},
   "outputs": [
    {
     "name": "stdout",
     "output_type": "stream",
     "text": [
      "blhost -p com10 write-memory 0x0 workspace/kw45xx_mbi_xip_signed_hello_world.bin \n",
      "Writing memory\n",
      "Response status = 0 (0x0) Success.\n",
      "Response word 1 = 2872 (0xb38)\n"
     ]
    }
   ],
   "source": [
    "# 4.2 Uploads MBI\n",
    "%! blhost $UART_CONNECTION write-memory 0x0 $MBI_OUTPUT_FILE"
   ]
  },
  {
   "cell_type": "code",
   "execution_count": 12,
   "metadata": {},
   "outputs": [
    {
     "name": "stdout",
     "output_type": "stream",
     "text": [
      "blhost -p com10 reset \n",
      "Response status = 0 (0x0) Success.\n"
     ]
    }
   ],
   "source": [
    "# 4.3 Reset to board to verify that image successfully boot\n",
    "%! blhost $UART_CONNECTION reset"
   ]
  },
  {
   "cell_type": "markdown",
   "metadata": {},
   "source": [
    "The application can boot. Right now the board is in OEM OPEN life cycle - every image can boot. You can check life cycle value by switching back to ISP mode and running command: \n",
    "\n",
    "%! blhost $UART_CONNECTION fuse-read 0xa 4\n",
    "\n",
    "Here is description of lifecycles:\n",
    "\n",
    "<img src=\"img/lifecycle_states.png\" alt=\"lifecycle states\" height=\"400\"> \n",
    "\n",
    "Let's enable secure boot feature in next chapter and limit the booting only for images signed by oem owned keys."
   ]
  },
  {
   "cell_type": "markdown",
   "metadata": {},
   "source": [
    "### 6. Secure device\n",
    "\n",
    "Once the secure boot is enabled, which means that the life cycle is shifted to OEM Closed (0x1F), the signed image is loaded and only applications signed with these keys can boot.\n",
    "\n",
    "Shifting the life cycle is done by writing the correct value to the fuse with address 0xa using the following command:\n",
    "\n",
    "\n",
    "blhost $UART_CONNECTION fuse-program 0xa '{{1F}}'\n",
    "\n",
    "\n",
    "> **WARNING:** This step is a destructive operation (burning fuses). Remember that shifting the lifecycle is a one-time operation and cannot be reverted.\n",
    "\n",
    "In the Closed lifecycle, only limited ISP commands are allowed (GetProperty, Reset, SetProperty, ReceiveSbFile). Test and debug ports are closed by default. If debug authentication is enabled, then the authentication process can be used to reopen debug ports.\n",
    "\n",
    "Once the life cycle is shifted, we will achieve the goal: the signed application boots, and the chip is secured. From now on, only applications signed by OEM-owned keys can boot.\n",
    "\n",
    "Moreover, firmware updates are only possible using the `blhost receive-sb-file` command.\n",
    "\n",
    "If you try to load an image that is signed by different keys, the application should not boot.\n"
   ]
  }
 ],
 "metadata": {
  "kernelspec": {
   "display_name": "venv",
   "language": "python",
   "name": "python3"
  },
  "language_info": {
   "codemirror_mode": {
    "name": "ipython",
    "version": 3
   },
   "file_extension": ".py",
   "mimetype": "text/x-python",
   "name": "python",
   "nbconvert_exporter": "python",
   "pygments_lexer": "ipython3",
   "version": "3.11.0"
  }
 },
 "nbformat": 4,
 "nbformat_minor": 4
}
