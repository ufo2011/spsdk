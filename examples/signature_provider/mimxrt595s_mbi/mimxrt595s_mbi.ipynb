{
 "cells": [
  {
   "attachments": {},
   "cell_type": "markdown",
   "metadata": {},
   "source": [
    "# Generating Master Boot Image with a Signature Provider for MIMXRT595S\n",
    "\n",
    "This notebook provides a guide on utilizing a custom remote signing service to generate a Master Boot Image (MBI) using the *nxpimage* tool. We will explore the integration of the signature provider with the SPSDK framework and efficient signing of your images"
   ]
  },
  {
   "cell_type": "markdown",
   "metadata": {},
   "source": [
    "## 1. Prerequisites\n",
    "- SPSDK is needed with examples extension. `pip install spsdk[examples]` (Please refer to the [installation](../../_knowledge_base/installation_guide.rst) documentation.)\n",
    "- Connect the mimxrt595s-evk board via your preferred interface\n",
    "\n",
    "  <img src=\"../../_data/img/boards/mimxrt595s-evk.png\" alt=\"mimxrt595s-evk\" height=\"300\">"
   ]
  },
  {
   "cell_type": "markdown",
   "metadata": {},
   "source": [
    "Let's prepare also workspace and variables."
   ]
  },
  {
   "cell_type": "code",
   "execution_count": 11,
   "metadata": {
    "tags": [
     "remove-cell"
    ]
   },
   "outputs": [
    {
     "name": "stdout",
     "output_type": "stream",
     "text": [
      "env: JUPYTER_SPSDK=1\n",
      "Created `%!` as an alias for `%execute`.\n"
     ]
    }
   ],
   "source": [
    "from spsdk.utils.jupyter_utils import YamlDiffWidget\n",
    "\n",
    "# This env variable sets colored logger output to STDOUT\n",
    "%env JUPYTER_SPSDK=1\n",
    "# Set a magic for command execution and echo\n",
    "%alias execute echo %l && %l\n",
    "%alias_magic ! execute"
   ]
  },
  {
   "cell_type": "code",
   "execution_count": 12,
   "metadata": {},
   "outputs": [],
   "source": [
    "import os\n",
    "\n",
    "DATA_DIR = \"_data/\"\n",
    "WORKSPACE = \"workspace/\"  # change this to path to your workspace\n",
    "PLUGINS_DIR = \"../_common/plugins/\"\n",
    "SASP_PLUGIN = os.path.join(PLUGINS_DIR, \"sasp.py\")\n",
    "FAMILY = \"mimxrt595s\"\n",
    "VERBOSITY = (\n",
    "    \"-v\"  # verbosity of commands, might be -v or -vv for debug or blank for no additional info\n",
    ")"
   ]
  },
  {
   "attachments": {},
   "cell_type": "markdown",
   "metadata": {},
   "source": [
    "## 2. Signature Provider Plugin Setup\n",
    "\n",
    "First, we need to setup the Signature Provider plugin and start the custom HSM. In order to do that, go to [Signature Provider notebook](../_common/signature_provider.ipynb) and follow the instructions there. \n",
    "Once you are done, come back and continue here."
   ]
  },
  {
   "attachments": {},
   "cell_type": "markdown",
   "metadata": {},
   "source": [
    "## 3. Preparing the configuration file\n",
    "\n",
    "To successfully create a Master Boot Image, a configuration file is required for the *nxpimage* application.\n",
    "There are three types of MBIs for the RT5xx series, categorized by their authentication type: `Plain`, `CRC`, and `Signed`. In this example, we will focus exclusively on the `Signed` image type.\n",
    "\n",
    "Let's begin with creating a template configuration file running the `nxpimage mbi get-templates` command. This command generates a YAML template that can be customized so the custom Signature Provider is integrated. Below, we'll compare the differences between the template and our customized example to highlight the additions we've made."
   ]
  },
  {
   "cell_type": "code",
   "execution_count": 16,
   "metadata": {
    "tags": [
     "remove-cell"
    ]
   },
   "outputs": [
    {
     "name": "stdout",
     "output_type": "stream",
     "text": [
      "nxpimage mbi get-templates -f mimxrt595s -o workspace/ --force \n",
      "Creating workspace/mimxrt595s_xip_plain.yaml template file.\n",
      "Creating workspace/mimxrt595s_xip_crc.yaml template file.\n",
      "Creating workspace/mimxrt595s_xip_signed.yaml template file.\n",
      "Creating workspace/mimxrt595s_load_to_ram_plain.yaml template file.\n",
      "Creating workspace/mimxrt595s_load_to_ram_crc.yaml template file.\n",
      "Creating workspace/mimxrt595s_load_to_ram_signed.yaml template file.\n",
      "Creating workspace/mimxrt595s_load_to_ram_encrypted.yaml template file.\n"
     ]
    },
    {
     "data": {
      "text/html": [
       "\n",
       "        \n",
       "        <style>\n",
       "            .yaml-diff { font-family: monospace; background-color: #f0f0f0; padding: 1em; border: 1px solid #c0c0c0; }\n",
       "            .yaml-key { color: #0000CC; font-weight: bold; }\n",
       "            .yaml-value { color: #006600; }\n",
       "            .yaml-commented-line { color: #008800; }\n",
       "            .yaml-list-item { color: #660066; }\n",
       "            .diff-removed { background-color: #ffaaaa; }\n",
       "            .diff-added { background-color: #aaffaa; }\n",
       "            .yaml-comment {\n",
       "                background-color: #FF8C00;\n",
       "                color: #000000;\n",
       "                border-radius: 50%;\n",
       "                padding: 0 0.3em;\n",
       "                margin-left: 0.5em;\n",
       "                font-size: 0.8em;\n",
       "                cursor: help;\n",
       "                font-weight: bold;\n",
       "                text-shadow: 1px 1px 1px rgba(255, 255, 255, 0.7);\n",
       "            }\n",
       "            #toggleButton_c35fdcfd2a0b85e3652bf5903f717689 {\n",
       "                background-color: #4CAF50;\n",
       "                border: none;\n",
       "                color: white;\n",
       "                padding: 10px 20px;\n",
       "                text-align: center;\n",
       "                text-decoration: none;\n",
       "                display: inline-block;\n",
       "                font-size: 16px;\n",
       "                margin: 4px 2px;\n",
       "                cursor: pointer;\n",
       "            }\n",
       "        </style>\n",
       "        \n",
       "        \n",
       "        <script>\n",
       "        function toggleView_c35fdcfd2a0b85e3652bf5903f717689() {\n",
       "            var diffView = document.getElementById('diffView_c35fdcfd2a0b85e3652bf5903f717689');\n",
       "            var userConfigView = document.getElementById('userConfigView_c35fdcfd2a0b85e3652bf5903f717689');\n",
       "            var button = document.getElementById('toggleButton_c35fdcfd2a0b85e3652bf5903f717689');\n",
       "\n",
       "            if (diffView.style.display === 'none' && userConfigView.style.display === 'none') {\n",
       "                diffView.style.display = 'block';\n",
       "                userConfigView.style.display = 'none';\n",
       "                button.textContent = 'Show User Config';\n",
       "            } else if (diffView.style.display === 'block') {\n",
       "                diffView.style.display = 'none';\n",
       "                userConfigView.style.display = 'block';\n",
       "                button.textContent = 'Hide';\n",
       "            } else {\n",
       "                diffView.style.display = 'none';\n",
       "                userConfigView.style.display = 'none';\n",
       "                button.textContent = 'Show Diff';\n",
       "            }\n",
       "        }\n",
       "        </script>\n",
       "        \n",
       "        <div class=\"yaml-diff-container\">\n",
       "          <h3>Configuration Differences</h3>\n",
       "          <button onclick=\"toggleView_c35fdcfd2a0b85e3652bf5903f717689()\" id=\"toggleButton_c35fdcfd2a0b85e3652bf5903f717689\">Show Diff</button>\n",
       "          \n",
       "        <a href=\"data:text/plain;base64,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\" download=\"user_config.yaml\">\n",
       "            <button style=\"background-color: #4CAF50; border: none; color: white; padding: 10px 20px; text-align: center; text-decoration: none; display: inline-block; font-size: 16px; margin: 4px 2px; cursor: pointer;\">\n",
       "                Download Config\n",
       "            </button>\n",
       "        </a>\n",
       "        \n",
       "          <div id=\"diffView_c35fdcfd2a0b85e3652bf5903f717689\" class=\"yaml-diff\" style=\"display:none;\"><pre class=\"yaml-diff\"><span class=\"yaml-commented-line\"># =============  Master Boot Image Configuration template for mimxrt595s:latest, Plain Signed XIP Image.  ==============</span><br><br><span class=\"yaml-commented-line\"># ======================================================================================================================</span><br><span class=\"yaml-commented-line\">#                                                 == General Options ==                                                 </span><br><span class=\"yaml-commented-line\"># ======================================================================================================================</span><br><span class=\"yaml-commented-line\"># -------------------------------------===== The chip family name [Required] =====--------------------------------------</span><br><span class=\"yaml-commented-line\"># Description: NXP chip family identifier.</span><br><span class=\"yaml-commented-line\"># Possible options: <k32w148, kw45b41z5, kw45b41z8, lpc5502, lpc5504, lpc5506, lpc5512, lpc5514, lpc5516, lpc5526,</span><br><span class=\"yaml-commented-line\"># lpc5528, lpc5534, lpc5536, lpc55s04, lpc55s06, lpc55s14, lpc55s16, lpc55s26, lpc55s28, lpc55s36, lpc55s66, lpc55s69,</span><br><span class=\"yaml-commented-line\"># mc56f81646, mc56f81648, mc56f81666, mc56f81668, mc56f81746, mc56f81748, mc56f81766, mc56f81768, mc56f81866,</span><br><span class=\"yaml-commented-line\"># mc56f81868, mcxa132, mcxa133, mcxa142, mcxa143, mcxa144, mcxa145, mcxa146, mcxa152, mcxa153, mcxa154, mcxa155,</span><br><span class=\"yaml-commented-line\"># mcxa156, mcxn235, mcxn236, mcxn546, mcxn547, mcxn946, mcxn947, mcxw716a, mcxw716c, mimxrt533s, mimxrt555s, mimxrt595s,</span><br><span class=\"yaml-commented-line\"># mimxrt685s, mimxrt798s, mwct2012, mwct2012a, mwct20d2, mwct20d2a, nhs52s04, rw610, rw612></span><br><span class=\"yaml-key\">family</span>: <span class=\"yaml-value\">mimxrt595s</span><br><span class=\"yaml-commented-line\"># -----------------------------------------===== MCU revision [Optional] =====------------------------------------------</span><br><span class=\"yaml-commented-line\"># Description: Revision of silicon. The 'latest' name, means most current revision.</span><br><span class=\"yaml-commented-line\"># Possible options: <a0, b0, latest></span><br><span class=\"yaml-key\">revision</span>: <span class=\"yaml-value\">latest</span><br><span class=\"yaml-commented-line\"># ======================================================================================================================</span><br><span class=\"yaml-commented-line\">#                                                  == Basic Settings ==                                                 </span><br><span class=\"yaml-commented-line\"># ======================================================================================================================</span><br><span class=\"yaml-commented-line\"># --------------------------------------===== Application target [Required] =====---------------------------------------</span><br><span class=\"yaml-commented-line\"># Description: Definition if application is Execute in Place(XiP) or loaded to RAM during reset sequence.</span><br><span class=\"yaml-commented-line\"># Possible options: <xip, load-to-ram></span><br><span class=\"yaml-key\">outputImageExecutionTarget</span>: <span class=\"yaml-value\">xip</span><br><span class=\"yaml-commented-line\"># -------------------------------===== Type of boot image authentication [Required] =====-------------------------------</span><br><span class=\"yaml-commented-line\"># Description: Specification of final master boot image authentication.</span><br><span class=\"yaml-commented-line\"># Possible options: <plain, crc, signed, signed-encrypted, signed-nxp></span><br><span class=\"yaml-key\">outputImageAuthenticationType</span>: <span class=\"yaml-value\">signed</span><br><span class=\"yaml-commented-line\"># ---------------------------------------===== Output Image name [Required] =====---------------------------------------</span><br><span class=\"yaml-commented-line\"># Description: The path for result binary file.</span><br><span class=\"diff-removed\"><span class=\"yaml-key\">masterBootOutputFile</span>: <span class=\"yaml-value\">my_mbi.bin</span></span><br><span class=\"diff-added\"><span class=\"yaml-key\">masterBootOutputFile</span>: <span class=\"yaml-value\">../workspace/my_mbi.bin</span></span><br><span class=\"yaml-commented-line\"># ------------------------------------===== Plain application image [Required] =====------------------------------------</span><br><span class=\"yaml-commented-line\"># Description: The input application image to by modified to Master Boot Image.</span><br><span class=\"diff-removed\"><span class=\"yaml-key\">inputImageFile</span>: <span class=\"yaml-value\">my_application.bin</span></span><br><span class=\"diff-added\"><span class=\"yaml-key\">inputImageFile</span>: <span class=\"yaml-value\">evkmimxrt595_led_blinky_ext_flash.bin</span></span><br><span class=\"yaml-commented-line\"># --------------------------------===== Loading address of application [Required] =====---------------------------------</span><br><span class=\"yaml-commented-line\"># Description: Application loading address in RAM if not XiP, otherwise address of load in XiP.</span><br><span class=\"yaml-key\">outputImageExecutionAddress</span>: <span class=\"yaml-value\">0</span><br><span class=\"yaml-commented-line\"># ----------------------------------===== Enable User HW key sharing [Required] =====-----------------------------------</span><br><span class=\"yaml-commented-line\"># Description: Controlling secure hardware key bus. If enabled(1), then it is possible to access keys on hardware secure</span><br><span class=\"yaml-commented-line\"># bus from non-secure application, else non-secure application will read zeros.</span><br><span class=\"yaml-key\">enableHwUserModeKeys</span>: <span class=\"yaml-value\">false</span><br><span class=\"yaml-commented-line\"># ======================================================================================================================</span><br><span class=\"yaml-commented-line\">#                                               == Trust Zone Settings ==                                               </span><br><span class=\"yaml-commented-line\"># ======================================================================================================================</span><br><span class=\"yaml-commented-line\"># ------------------------------------===== TrustZone enable option [Optional] =====------------------------------------</span><br><span class=\"yaml-commented-line\"># Description: If not specified, the Trust zone is disabled.</span><br><span class=\"yaml-key\">enableTrustZone</span>: <span class=\"yaml-value\">false</span><br><span class=\"yaml-commented-line\"># ---------------------------------===== TrustZone Customization file [Optional] =====----------------------------------</span><br><span class=\"yaml-commented-line\"># Description: If not specified, but TrustZone is enabled(enableTrustZone) the default values are used.</span><br><span class=\"diff-removed\"><span class=\"yaml-key\">trustZonePresetFile</span>: <span class=\"yaml-value\">my_tz_custom.yaml</span> <span style=\"background-color: #FFFF00; border-radius: 5px;\n",
       "padding: 2px 6px; margin-left: 5px; font-size: 0.8em;\">This is not needed as TrustZone is disabled</span></span><br><span class=\"yaml-commented-line\"># ======================================================================================================================</span><br><span class=\"yaml-commented-line\">#                                               == Certificate Block V1 ==                                              </span><br><span class=\"yaml-commented-line\"># ======================================================================================================================</span><br><span class=\"yaml-commented-line\"># -----------------------------===== Certificate Block binary/config file [Required] =====------------------------------</span><br><span class=\"yaml-commented-line\"># Description: Path to certificate block binary or config file.</span><br><span class=\"yaml-key\">certBlock</span>: <span class=\"yaml-value\">cert_block.yaml</span><br><span class=\"yaml-commented-line\"># ======================================================================================================================</span><br><span class=\"yaml-commented-line\">#                                              == Image Signing Settings ==                                             </span><br><span class=\"yaml-commented-line\"># ======================================================================================================================</span><br><span class=\"yaml-commented-line\"># --------------------------===== Main Certificate private key [Conditionally required] =====---------------------------</span><br><span class=\"yaml-commented-line\"># Description: Main Certificate private key used to sign certificate. It can be replaced by signProvider key.</span><br><span class=\"diff-removed\"><span class=\"yaml-key\">signPrivateKey</span>: <span class=\"yaml-value\">main_prv_key.pem</span> <span style=\"background-color: #FFFF00; border-radius: 5px;\n",
       "padding: 2px 6px; margin-left: 5px; font-size: 0.8em;\">This is not needed as it is replaced by signProvider parameter.</span></span><br><span class=\"yaml-commented-line\"># -------------------------------===== Signature Provider [Conditionally required] =====--------------------------------</span><br><span class=\"yaml-commented-line\"># Description: Signature provider configuration in format 'type=<identifier>;<key1>=<value1>;<key2>=<value2>'.</span><br><span class=\"diff-removed\"><span class=\"yaml-key\">signProvider</span>: <span class=\"yaml-value\">type=file;file_path=my_prv_key.pem</span> <span style=\"background-color: #FFFF00; border-\n",
       "radius: 5px; padding: 2px 6px; margin-left: 5px; font-size: 0.8em;\">The configuration of signature provider defining the actual signature provider type and its\n",
       "parameters.</span></span><br><span class=\"diff-added\"><span class=\"yaml-key\">signProvider</span>: <span class=\"yaml-value\">type=sasp;key_number=0;key_type=rsa2048</span></span><br></pre></div>\n",
       "          <div id=\"userConfigView_c35fdcfd2a0b85e3652bf5903f717689\" class=\"yaml-diff\" style=\"display:none;\"><pre class=\"yaml-diff\"><span class=\"yaml-commented-line\"># =============  Master Boot Image Configuration template for mimxrt595s:latest, Plain Signed XIP Image.  ==============</span><br><br><span class=\"yaml-commented-line\"># ======================================================================================================================</span><br><span class=\"yaml-commented-line\">#                                                 == General Options ==</span><br><span class=\"yaml-commented-line\"># ======================================================================================================================</span><br><span class=\"yaml-commented-line\"># -------------------------------------===== The chip family name [Required] =====--------------------------------------</span><br><span class=\"yaml-commented-line\"># Description: NXP chip family identifier.</span><br><span class=\"yaml-commented-line\"># Possible options: <k32w148, kw45b41z5, kw45b41z8, lpc5502, lpc5504, lpc5506, lpc5512, lpc5514, lpc5516, lpc5526,</span><br><span class=\"yaml-commented-line\"># lpc5528, lpc5534, lpc5536, lpc55s04, lpc55s06, lpc55s14, lpc55s16, lpc55s26, lpc55s28, lpc55s36, lpc55s66, lpc55s69,</span><br><span class=\"yaml-commented-line\"># mc56f81646, mc56f81648, mc56f81666, mc56f81668, mc56f81746, mc56f81748, mc56f81766, mc56f81768, mc56f81866,</span><br><span class=\"yaml-commented-line\"># mc56f81868, mcxa132, mcxa133, mcxa142, mcxa143, mcxa144, mcxa145, mcxa146, mcxa152, mcxa153, mcxa154, mcxa155,</span><br><span class=\"yaml-commented-line\"># mcxa156, mcxn235, mcxn236, mcxn546, mcxn547, mcxn946, mcxn947, mcxw716a, mcxw716c, mimxrt533s, mimxrt555s, mimxrt595s,</span><br><span class=\"yaml-commented-line\"># mimxrt685s, mimxrt798s, mwct2012, mwct2012a, mwct20d2, mwct20d2a, nhs52s04, rw610, rw612></span><br><span class=\"yaml-key\">family</span>: <span class=\"yaml-value\">mimxrt595s</span><br><span class=\"yaml-commented-line\"># -----------------------------------------===== MCU revision [Optional] =====------------------------------------------</span><br><span class=\"yaml-commented-line\"># Description: Revision of silicon. The 'latest' name, means most current revision.</span><br><span class=\"yaml-commented-line\"># Possible options: <a0, b0, latest></span><br><span class=\"yaml-key\">revision</span>: <span class=\"yaml-value\">latest</span><br><span class=\"yaml-commented-line\"># ======================================================================================================================</span><br><span class=\"yaml-commented-line\">#                                                  == Basic Settings ==</span><br><span class=\"yaml-commented-line\"># ======================================================================================================================</span><br><span class=\"yaml-commented-line\"># --------------------------------------===== Application target [Required] =====---------------------------------------</span><br><span class=\"yaml-commented-line\"># Description: Definition if application is Execute in Place(XiP) or loaded to RAM during reset sequence.</span><br><span class=\"yaml-commented-line\"># Possible options: <xip, load-to-ram></span><br><span class=\"yaml-key\">outputImageExecutionTarget</span>: <span class=\"yaml-value\">xip</span><br><span class=\"yaml-commented-line\"># -------------------------------===== Type of boot image authentication [Required] =====-------------------------------</span><br><span class=\"yaml-commented-line\"># Description: Specification of final master boot image authentication.</span><br><span class=\"yaml-commented-line\"># Possible options: <plain, crc, signed, signed-encrypted, signed-nxp></span><br><span class=\"yaml-key\">outputImageAuthenticationType</span>: <span class=\"yaml-value\">signed</span><br><span class=\"yaml-commented-line\"># ---------------------------------------===== Output Image name [Required] =====---------------------------------------</span><br><span class=\"yaml-commented-line\"># Description: The path for result binary file.</span><br><span class=\"yaml-key\">masterBootOutputFile</span>: <span class=\"yaml-value\">../workspace/my_mbi.bin</span><br><span class=\"yaml-commented-line\"># ------------------------------------===== Plain application image [Required] =====------------------------------------</span><br><span class=\"yaml-commented-line\"># Description: The input application image to by modified to Master Boot Image.</span><br><span class=\"yaml-key\">inputImageFile</span>: <span class=\"yaml-value\">evkmimxrt595_led_blinky_ext_flash.bin</span><br><span class=\"yaml-commented-line\"># --------------------------------===== Loading address of application [Required] =====---------------------------------</span><br><span class=\"yaml-commented-line\"># Description: Application loading address in RAM if not XiP, otherwise address of load in XiP.</span><br><span class=\"yaml-key\">outputImageExecutionAddress</span>: <span class=\"yaml-value\">0</span><br><span class=\"yaml-commented-line\"># ----------------------------------===== Enable User HW key sharing [Required] =====-----------------------------------</span><br><span class=\"yaml-commented-line\"># Description: Controlling secure hardware key bus. If enabled(1), then it is possible to access keys on hardware secure</span><br><span class=\"yaml-commented-line\"># bus from non-secure application, else non-secure application will read zeros.</span><br><span class=\"yaml-key\">enableHwUserModeKeys</span>: <span class=\"yaml-value\">false</span><br><span class=\"yaml-commented-line\"># ======================================================================================================================</span><br><span class=\"yaml-commented-line\">#                                               == Trust Zone Settings ==</span><br><span class=\"yaml-commented-line\"># ======================================================================================================================</span><br><span class=\"yaml-commented-line\"># ------------------------------------===== TrustZone enable option [Optional] =====------------------------------------</span><br><span class=\"yaml-commented-line\"># Description: If not specified, the Trust zone is disabled.</span><br><span class=\"yaml-key\">enableTrustZone</span>: <span class=\"yaml-value\">false</span><br><span class=\"yaml-commented-line\"># ======================================================================================================================</span><br><span class=\"yaml-commented-line\">#                                               == Certificate Block V1 ==</span><br><span class=\"yaml-commented-line\"># ======================================================================================================================</span><br><span class=\"yaml-commented-line\"># -----------------------------===== Certificate Block binary/config file [Required] =====------------------------------</span><br><span class=\"yaml-commented-line\"># Description: Path to certificate block binary or config file.</span><br><span class=\"yaml-key\">certBlock</span>: <span class=\"yaml-value\">cert_block.yaml</span><br><span class=\"yaml-commented-line\"># ======================================================================================================================</span><br><span class=\"yaml-commented-line\">#                                              == Image Signing Settings ==</span><br><span class=\"yaml-commented-line\"># ======================================================================================================================</span><br><span class=\"yaml-commented-line\"># -------------------------------===== Signature Provider [Conditionally required] =====--------------------------------</span><br><span class=\"yaml-commented-line\"># Description: Signature provider configuration in format 'type=<identifier>;<key1>=<value1>;<key2>=<value2>'.</span><br><span class=\"yaml-key\">signProvider</span>: <span class=\"yaml-value\">type=sasp;key_number=0;key_type=rsa2048</span> <span style=\"background-color: #FFFF00;\n",
       "border-radius: 5px; padding: 2px 6px; margin-left: 5px; font-size: 0.8em;\">The configuration of signature provider defining the actual signature provider type\n",
       "and its parameters.</span><br></pre></div>\n",
       "        </div>\n",
       "        "
      ],
      "text/plain": [
       "<IPython.core.display.HTML object>"
      ]
     },
     "execution_count": 16,
     "metadata": {},
     "output_type": "execute_result"
    }
   ],
   "source": [
    "# Get difference of template and user YAML configuration\n",
    "YamlDiffWidget(\"mimxrt595s_mbi.diffc\").html"
   ]
  },
  {
   "cell_type": "markdown",
   "metadata": {},
   "source": [
    "### 3.1 Signature Provider configuration\n",
    "\n",
    "The signature provider configuration string must follow the format:\n",
    "\n",
    "  ```\n",
    "  \"type=<identifier>;<key1>=<value1>;<key2>=<value2>;...\"\n",
    "  ```\n",
    " - The `<identifier>` must match the `identifier` class attribute defined in the custom Signature Provider (in this example `plugins/sasp.py`).\n",
    " - The remaining key-value pairs will be passed to the `__init__` method of the given Signature Provider.\n",
    "\n",
    "\n",
    "For instance, the configuration string:\n",
    "  ```\n",
    "  \"type=file;file_path=private_key.pem\"\n",
    "  ```  \n",
    "  will instantiate the following object:  \n",
    "  ```python\n",
    "  spsdk.crypto.PlainFileSP(file_path='private_key.pem')\n",
    "  ```"
   ]
  },
  {
   "attachments": {},
   "cell_type": "markdown",
   "metadata": {},
   "source": [
    "## 4. Master Boot Image Generation\n",
    "\n",
    "At this point, we have everything we need to run *nxpimage* application using remote HSM for image signing."
   ]
  },
  {
   "cell_type": "code",
   "execution_count": 15,
   "metadata": {},
   "outputs": [
    {
     "name": "stdout",
     "output_type": "stream",
     "text": [
      "nxpimage -v mbi export --plugin ../_common/plugins/sasp.py --config _data/mimxrt595s_xip_signed.yaml \n",
      "RKTH: db31d46c717711a8231cbc38b1de8a6e8657e1f733e04c2ee4b62fcea59149fa\n",
      "\u001b[37m\u001b[1mINFO:spsdk.apps.nxpimage:\n",
      "\u001b[90m+==0x0000_0000= Application Block ======+\n",
      "\u001b[90m|       Size: 14.5 kiB; 14,804 B        |\n",
      "\u001b[90m|\u001b[34m+==0x0000_0000= Application ==========+\u001b[90m|\n",
      "\u001b[90m|\u001b[34m|      Size: 13.0 kiB; 13,264 B       |\u001b[90m|\n",
      "\u001b[90m|\u001b[34m+==0x0000_33cf========================+\u001b[90m|\n",
      "\u001b[90m|\u001b[32m+==0x0000_33d0= Certification Block ==+\u001b[90m|\n",
      "\u001b[90m|\u001b[32m|       Size: 1.3 kiB; 1,284 B        |\u001b[90m|\n",
      "\u001b[90m|\u001b[32m+==0x0000_38d3========================+\u001b[90m|\n",
      "\u001b[90m|\u001b[36m+==0x0000_38d4= RSA signature ========+\u001b[90m|\n",
      "\u001b[90m|\u001b[36m|             Size: 256 B             |\u001b[90m|\n",
      "\u001b[90m|\u001b[36m+==0x0000_39d3========================+\u001b[90m|\n",
      "\u001b[90m+==0x0000_39d3==========================+\n",
      "\u001b[39m\u001b[39m\u001b[0m\n",
      "Success. (Master Boot Image: workspace/my_mbi.bin created.)\n"
     ]
    }
   ],
   "source": [
    "CONFIG_PATH = os.path.join(DATA_DIR, \"mimxrt595s_xip_signed.yaml\")\n",
    "OUTPUT_PATH = os.path.join(WORKSPACE, \"my_mbi.bin\")\n",
    "%! nxpimage $VERBOSITY mbi export --plugin $SASP_PLUGIN --config $CONFIG_PATH\n",
    "\n",
    "# check if the signed image exists\n",
    "assert os.path.exists(OUTPUT_PATH)"
   ]
  },
  {
   "attachments": {},
   "cell_type": "markdown",
   "metadata": {},
   "source": [
    "## 5. HSM teardown\n",
    "\n",
    "Last step is to stop custom HSM. In order to do that, open again the [HSM Setup notebook](../_common/sahsm.ipynb) and stop the running jupyter notebook code cell."
   ]
  },
  {
   "attachments": {},
   "cell_type": "markdown",
   "metadata": {},
   "source": []
  }
 ],
 "metadata": {
  "kernelspec": {
   "display_name": "venv_uv",
   "language": "python",
   "name": "python3"
  },
  "language_info": {
   "codemirror_mode": {
    "name": "ipython",
    "version": 3
   },
   "file_extension": ".py",
   "mimetype": "text/x-python",
   "name": "python",
   "nbconvert_exporter": "python",
   "pygments_lexer": "ipython3",
   "version": "3.10.6"
  },
  "orig_nbformat": 4
 },
 "nbformat": 4,
 "nbformat_minor": 2
}
