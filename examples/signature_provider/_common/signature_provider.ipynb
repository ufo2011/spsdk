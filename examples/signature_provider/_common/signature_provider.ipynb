{
 "cells": [
  {
   "attachments": {},
   "cell_type": "markdown",
   "metadata": {},
   "source": [
    "# Signature Provider Plugin\n",
    "\n",
    "The Signature Provider is a crucial component of SPSDK that facilitates secure signing operations using custom hardware security module (HSM). It acts as an interface between the SPSDK and the HSM, allowing developers to leverage the cryptographic capabilities of the HSM for signing data securely.\n",
    "\n",
    "## 1. Benefits of using the Signature Provider\n",
    " \n",
    " - **Enhanced Security**:\n",
    "   - The Signature Provider enables the use of HSMs, which are designed to provide a high level of security for cryptographic operations. By keeping private keys within the HSM, the risk of key exposure is significantly reduced.\n",
    " \n",
    " - **Custom HSM Support**:\n",
    "   - One of the standout features of the Signature Provider is its ability to work with custom HSMs. This flexibility allows organizations to integrate their existing security infrastructure into the SPSDK, ensuring that they can utilize their preferred hardware solutions.\n",
    " \n",
    " - **Interoperability**:\n",
    "   - The Signature Provider is designed to be compatible with various HSMs and cryptographic standards. This interoperability ensures that organizations can switch between different HSMs or use multiple HSMs without significant changes to their codebase.\n",
    " \n",
    " - **Audit and Compliance**:\n",
    "   - Using an HSM for signing operations can help organizations meet regulatory compliance requirements. The Signature Provider can facilitate logging and auditing of cryptographic operations, providing a clear trail for compliance purposes.\n",
    "\n",
    "\n",
    "This notebook describes how to setup a Signature Provider plugin\n",
    "\n",
    "When signing the data with SPSDK, there are two options:\n",
    "- Using the local private key (not recommended)\n",
    "- Using the remote signing service(HSM)\n",
    "\n",
    "Let's look at the second option and setup Signature Provider \n"
   ]
  },
  {
   "cell_type": "code",
   "execution_count": 2,
   "metadata": {},
   "outputs": [],
   "source": [
    "PLUGINS_DIR = \"plugins/\"\n",
    "VERBOSITY = (\n",
    "    \"-v\"  # verbosity of commands, might be -v or -vv for debug or blank for no additional info\n",
    ")"
   ]
  },
  {
   "attachments": {},
   "cell_type": "markdown",
   "metadata": {},
   "source": [
    "## 2. Custom HSM setup\n",
    "\n",
    "First, we need to start the custom HSM. In order to do that, open the [HSM notebook](sahsm.ipynb) and follow the instructions there. Once you are done, come back and continue here."
   ]
  },
  {
   "attachments": {},
   "cell_type": "markdown",
   "metadata": {},
   "source": [
    "Now the HSM should be up and running. In order to test the functionality of HSM from previous step, run a simple test:"
   ]
  },
  {
   "cell_type": "code",
   "execution_count": 1,
   "metadata": {},
   "outputs": [
    {
     "name": "stdout",
     "output_type": "stream",
     "text": [
      "RSA2048: {'signature': 'QWjBWnbG7QtninaD6R9dQZqGiMZZskdVLCV1peXZEp43SJx3PATOoXTIQhvLhOZ5Q0f1683dtGAkEzb1aHKY05fIw2iPAGNHsL7IAe5nH0t3dOaCvemlodzAbb8GDpdahUHBURpnJOsgqYccZZOR6E3GSuIwD8qKBlZ7sGomtwzrBGuNHU5AG8U0J+8hLhExpEttd953mtnyMnC5aq3W30SbwU+7lZDAc2jIJn1PltVUetdHOVyGSPi4yAGZIlnzgYD8vpse2xlPP+3Ifdfuu3ckkNSZ0xzmK8adehKGTqD5hlpnP9iWPd7lio+82SovjmQ552RwwtRGbFmqC2qEkg=='}\n",
      "SECP384R1: {'signature': 'ADePXaZhKL1AW7SHanQQOAyqFGIIRJzPhs9SiW2MInXD/GH9t9fZX0NNmdQ0ZL37uV+C58iLOTUY/iFtNmO9yJsRyU8ncBOUTLQbEbGCIbHoi5HUKk9KcBb0LS3tYU3X'}\n"
     ]
    }
   ],
   "source": [
    "import requests\n",
    "\n",
    "# rsa2048 sign\n",
    "response = requests.get(\"http://127.0.0.1:5000/signer/rsa2048/0?data=b'ABC'\")\n",
    "print(f\"RSA2048: {response.json()}\")\n",
    "\n",
    "response = requests.get(\"http://127.0.0.1:5000/signer/secp384r1/0?data=b'ABC'\")\n",
    "print(f\"SECP384R1: {response.json()}\")"
   ]
  },
  {
   "attachments": {},
   "cell_type": "markdown",
   "metadata": {},
   "source": [
    "## 3. Signature Provider plugin\n",
    "\n",
    "Plugins extend the existing SPSDK functionality with additional features. \n",
    "\n",
    "In order to use remote signing, a Signature Provider plugin used for communication with HSM must be implemented.\n",
    "\n",
    "Explore the `plugins\\sasp.py`. It will be used later on."
   ]
  },
  {
   "attachments": {},
   "cell_type": "markdown",
   "metadata": {},
   "source": [
    "### 3.1 Plugin API\n",
    "\n",
    "Note that the SuperAwesomeSP plugin is derived from `spsdk.crypto.SignatureProvider` base class.\n",
    "\n",
    "- The derived class has to implement:\n",
    "  - `identifier: str`: class attribute that identifies the concrete implementation of SignatureProvider\n",
    "  - `sign(bytes) -> bytes`: method which performs the actual signing\n",
    "  - `signature_length -> str`: property which returns a length of a signature\n",
    "- The derived class can also optionally implement:\n",
    "  - `info() -> str`: method which returns information about the signature provider (for debugging purposes). The default implementation returns a class name as a string\n",
    "  - `verify_public_key(bytes) -> bool`: method which verifies if a given public key matches a private key.\n",
    " \n",
    "> Omitting the implementation of optional methods such as `info()` does not break the functionality of application."
   ]
  },
  {
   "attachments": {},
   "cell_type": "markdown",
   "metadata": {},
   "source": [
    "### 3.2 Signature Formats\n",
    "\n",
    "The signature must meet following formats:\n",
    "\n",
    "- RSA: Standard format\n",
    "- ECC: Extracted public numbers r+s stored in big endian or DER-formatted signature"
   ]
  }
 ],
 "metadata": {
  "kernelspec": {
   "display_name": "venv_uv",
   "language": "python",
   "name": "python3"
  },
  "language_info": {
   "codemirror_mode": {
    "name": "ipython",
    "version": 3
   },
   "file_extension": ".py",
   "mimetype": "text/x-python",
   "name": "python",
   "nbconvert_exporter": "python",
   "pygments_lexer": "ipython3",
   "version": "3.10.6"
  },
  "orig_nbformat": 4
 },
 "nbformat": 4,
 "nbformat_minor": 2
}
