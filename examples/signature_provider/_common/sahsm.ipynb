{
 "cells": [
  {
   "attachments": {},
   "cell_type": "markdown",
   "metadata": {},
   "source": [
    "# Custom HSM\n",
    "\n",
    "HSM provide the required secure environment that is needed to generate and protect the cryptographic keys used to protect and authenticate sensitive data.\n",
    "\n",
    "We will use a simple Flask REST API service representing the remote HSM machine.\n",
    "\n",
    "Looking into `hsm` directory, we can see following files:\n",
    "- `hsm/sahsm.py` is an example of a remote signing service.\n",
    "- `hsm/hsm_k0_cert0_2048.pem` test private key used for signing the data.\n",
    "- `hsm/hsm_k1_cert0_2048.pem` test private key used for signing the data."
   ]
  },
  {
   "cell_type": "markdown",
   "metadata": {},
   "source": [
    "## 1. Setup\n",
    "\n",
    "In order to start the HSM service, run following code:"
   ]
  },
  {
   "cell_type": "code",
   "execution_count": null,
   "metadata": {},
   "outputs": [
    {
     "name": "stdout",
     "output_type": "stream",
     "text": [
      "Looking in indexes: https://pypi.org/simple, https://nl2-nxrm.sw.nxp.com/repository/spsdk_pypi/simple/\n",
      " * Serving Flask app 'hsm.sahsm'\n",
      " * Debug mode: off\n"
     ]
    },
    {
     "name": "stderr",
     "output_type": "stream",
     "text": [
      "WARNING: This is a development server. Do not use it in a production deployment. Use a production WSGI server instead.\n",
      " * Running on http://127.0.0.1:5000\n",
      "Press CTRL+C to quit\n"
     ]
    }
   ],
   "source": [
    "import sys\n",
    "\n",
    "# Install a the required dependencies into the current Jupyter kernel\n",
    "!{sys.executable} -m pip install flask requests\n",
    "\n",
    "# Start remote signing service\n",
    "from hsm.sahsm import APP\n",
    "\n",
    "APP.run()\n",
    "# This will keep running"
   ]
  }
 ],
 "metadata": {
  "kernelspec": {
   "display_name": "venv_uv",
   "language": "python",
   "name": "python3"
  },
  "language_info": {
   "codemirror_mode": {
    "name": "ipython",
    "version": 3
   },
   "file_extension": ".py",
   "mimetype": "text/x-python",
   "name": "python",
   "nbconvert_exporter": "python",
   "pygments_lexer": "ipython3",
   "version": "3.10.6"
  },
  "orig_nbformat": 4
 },
 "nbformat": 4,
 "nbformat_minor": 2
}
