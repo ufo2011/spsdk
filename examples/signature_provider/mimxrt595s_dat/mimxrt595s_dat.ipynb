{
 "cells": [
  {
   "attachments": {},
   "cell_type": "markdown",
   "metadata": {},
   "source": [
    "# Generating Debug Certificate with a Signature Provider for MIMXRT595S\n",
    "\n",
    "This notebook outlines the process of generating a debug credentials file for debug authentication using a custom remote signing service. We will detail the steps necessary to create a debug certificate, ensuring secure and efficient authentication."
   ]
  },
  {
   "cell_type": "markdown",
   "metadata": {},
   "source": [
    "## 1. Prerequisites\n",
    "- SPSDK is needed with examples extension. `pip install spsdk[examples]` (Please refer to the [installation](../../_knowledge_base/installation_guide.rst) documentation.)\n",
    "- Connect the mimxrt595s-evk board via debugger\n",
    "\n",
    "  <img src=\"../../_data/img/boards/mimxrt595s-evk.png\" alt=\"mimxrt595s-evk\" height=\"300\">"
   ]
  },
  {
   "cell_type": "markdown",
   "metadata": {},
   "source": [
    "Let's prepare also workspace and variables."
   ]
  },
  {
   "cell_type": "code",
   "execution_count": 21,
   "metadata": {
    "tags": [
     "remove-cell"
    ]
   },
   "outputs": [
    {
     "name": "stdout",
     "output_type": "stream",
     "text": [
      "env: JUPYTER_SPSDK=1\n",
      "Created `%!` as an alias for `%execute`.\n"
     ]
    }
   ],
   "source": [
    "from spsdk.utils.jupyter_utils import YamlDiffWidget\n",
    "\n",
    "# This env variable sets colored logger output to STDOUT\n",
    "%env JUPYTER_SPSDK=1\n",
    "# Set a magic for command execution and echo\n",
    "%alias execute echo %l && %l\n",
    "%alias_magic ! execute"
   ]
  },
  {
   "cell_type": "code",
   "execution_count": 22,
   "metadata": {},
   "outputs": [],
   "source": [
    "import os\n",
    "\n",
    "DATA_DIR = \"_data/\"\n",
    "WORKSPACE = \"workspace/\"  # change this to path to your workspace\n",
    "PLUGINS_DIR = \"../_common/plugins/\"\n",
    "SASP_PLUGIN = os.path.join(PLUGINS_DIR, \"sasp.py\")\n",
    "FAMILY = \"mimxrt595s\"\n",
    "VERBOSITY = (\n",
    "    \"-v\"  # verbosity of commands, might be -v or -vv for debug or blank for no additional info\n",
    ")"
   ]
  },
  {
   "attachments": {},
   "cell_type": "markdown",
   "metadata": {},
   "source": [
    "## 2. Signature Provider Plugin Setup\n",
    "\n",
    "First, we need to setup the Signature Provider plugin and start the custom HSM. In order to do that, go to [Signature Provider notebook](../_common/signature_provider.ipynb) and follow the instructions there. \n",
    "Once you are done, come back and continue here."
   ]
  },
  {
   "attachments": {},
   "cell_type": "markdown",
   "metadata": {},
   "source": [
    "## 3. Preparing the configuration file\n",
    "\n",
    "Let's begin with creating a template configuration file using the `nxpdebugmbox dat dc get-template` command. This command generates a YAML template that can be customized so the custom Signature Provider is integrated. Below, we'll compare the differences between the template and our customized example to highlight the additions we've made."
   ]
  },
  {
   "cell_type": "code",
   "execution_count": 14,
   "metadata": {
    "tags": [
     "remove-cell"
    ]
   },
   "outputs": [
    {
     "name": "stdout",
     "output_type": "stream",
     "text": [
      "nxpdebugmbox -f mimxrt595s dat dc get-template -o workspace/mimxrt595s_template.yaml --force \n",
      "The Debug Credentials template for mimxrt595s has been saved into workspace/mimxrt595s_template.yaml YAML file\n"
     ]
    },
    {
     "data": {
      "text/html": [
       "\n",
       "        \n",
       "        <style>\n",
       "            .yaml-diff { font-family: monospace; background-color: #f0f0f0; padding: 1em; border: 1px solid #c0c0c0; }\n",
       "            .yaml-key { color: #0000CC; font-weight: bold; }\n",
       "            .yaml-value { color: #006600; }\n",
       "            .yaml-commented-line { color: #008800; }\n",
       "            .yaml-list-item { color: #660066; }\n",
       "            .diff-removed { background-color: #ffaaaa; }\n",
       "            .diff-added { background-color: #aaffaa; }\n",
       "            .yaml-comment {\n",
       "                background-color: #FF8C00;\n",
       "                color: #000000;\n",
       "                border-radius: 50%;\n",
       "                padding: 0 0.3em;\n",
       "                margin-left: 0.5em;\n",
       "                font-size: 0.8em;\n",
       "                cursor: help;\n",
       "                font-weight: bold;\n",
       "                text-shadow: 1px 1px 1px rgba(255, 255, 255, 0.7);\n",
       "            }\n",
       "            #toggleButton_347dae9dcf95dc8bad859ff8f714b72b {\n",
       "                background-color: #4CAF50;\n",
       "                border: none;\n",
       "                color: white;\n",
       "                padding: 10px 20px;\n",
       "                text-align: center;\n",
       "                text-decoration: none;\n",
       "                display: inline-block;\n",
       "                font-size: 16px;\n",
       "                margin: 4px 2px;\n",
       "                cursor: pointer;\n",
       "            }\n",
       "        </style>\n",
       "        \n",
       "        \n",
       "        <script>\n",
       "        function toggleView_347dae9dcf95dc8bad859ff8f714b72b() {\n",
       "            var diffView = document.getElementById('diffView_347dae9dcf95dc8bad859ff8f714b72b');\n",
       "            var userConfigView = document.getElementById('userConfigView_347dae9dcf95dc8bad859ff8f714b72b');\n",
       "            var button = document.getElementById('toggleButton_347dae9dcf95dc8bad859ff8f714b72b');\n",
       "\n",
       "            if (diffView.style.display === 'none' && userConfigView.style.display === 'none') {\n",
       "                diffView.style.display = 'block';\n",
       "                userConfigView.style.display = 'none';\n",
       "                button.textContent = 'Show User Config';\n",
       "            } else if (diffView.style.display === 'block') {\n",
       "                diffView.style.display = 'none';\n",
       "                userConfigView.style.display = 'block';\n",
       "                button.textContent = 'Hide';\n",
       "            } else {\n",
       "                diffView.style.display = 'none';\n",
       "                userConfigView.style.display = 'none';\n",
       "                button.textContent = 'Show Diff';\n",
       "            }\n",
       "        }\n",
       "        </script>\n",
       "        \n",
       "        <div class=\"yaml-diff-container\">\n",
       "          <h3>Configuration Differences</h3>\n",
       "          <button onclick=\"toggleView_347dae9dcf95dc8bad859ff8f714b72b()\" id=\"toggleButton_347dae9dcf95dc8bad859ff8f714b72b\">Show Diff</button>\n",
       "          \n",
       "        <a href=\"data:text/plain;base64,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\" download=\"user_config.yaml\">\n",
       "            <button style=\"background-color: #4CAF50; border: none; color: white; padding: 10px 20px; text-align: center; text-decoration: none; display: inline-block; font-size: 16px; margin: 4px 2px; cursor: pointer;\">\n",
       "                Download Config\n",
       "            </button>\n",
       "        </a>\n",
       "        \n",
       "          <div id=\"diffView_347dae9dcf95dc8bad859ff8f714b72b\" class=\"yaml-diff\" style=\"display:none;\"><pre class=\"yaml-diff\"><span class=\"yaml-commented-line\"># ==============================  Debug Credential file template for mimxrt595s family.  ===============================</span><br><br><br><span class=\"yaml-commented-line\"># -------------------------------------------------------- Note --------------------------------------------------------</span><br><br><span class=\"yaml-commented-line\"># Debug credential file has following binary structure:</span><br><span class=\"yaml-commented-line\">#  ============================================</span><br><span class=\"yaml-commented-line\">#  ============================================</span><br><span class=\"yaml-commented-line\">#  ===              Version                 ===</span><br><span class=\"yaml-commented-line\">#  ============================================</span><br><span class=\"yaml-commented-line\">#  ===             Soc Class                ===</span><br><span class=\"yaml-commented-line\">#  ============================================</span><br><span class=\"yaml-commented-line\">#  ===                UUID                  ===</span><br><span class=\"yaml-commented-line\">#  ============================================</span><br><span class=\"yaml-commented-line\">#  ===    RoT Meta SHA256 of following:     ===</span><br><span class=\"yaml-commented-line\">#  ===          RoT Key0 SHA256             ===</span><br><span class=\"yaml-commented-line\">#  ===          RoT Key1 SHA256             ===</span><br><span class=\"yaml-commented-line\">#  ===          RoT Key2 SHA256             ===</span><br><span class=\"yaml-commented-line\">#  ===          RoT Key3 SHA256             ===</span><br><span class=\"yaml-commented-line\">#  ============================================</span><br><span class=\"yaml-commented-line\">#  ===        Debugger Key DCK (Pub):       ===</span><br><span class=\"yaml-commented-line\">#  ===                                      ===</span><br><span class=\"yaml-commented-line\">#  ============================================</span><br><span class=\"yaml-commented-line\">#  ===              CC SOCU                 ===</span><br><span class=\"yaml-commented-line\">#  ============================================</span><br><span class=\"yaml-commented-line\">#  ===               CC VU                  ===</span><br><span class=\"yaml-commented-line\">#  ============================================</span><br><span class=\"yaml-commented-line\">#  ===                 CB                   ===</span><br><span class=\"yaml-commented-line\">#  ============================================</span><br><span class=\"yaml-commented-line\">#  ===            RoT Key (pub)             ===</span><br><span class=\"yaml-commented-line\">#  ===                                      ===</span><br><span class=\"yaml-commented-line\">#  ============================================</span><br><span class=\"yaml-commented-line\">#  ============================================</span><br><span class=\"yaml-commented-line\">#  ===       Signature of all block         ===</span><br><span class=\"yaml-commented-line\">#  ===  SHA256 of whole block => Sign(RoTK) ===</span><br><span class=\"yaml-commented-line\">#  ============================================</span><br><span class=\"yaml-commented-line\">#  ============================================</span><br><br><br><span class=\"yaml-commented-line\">#  ============================================</span><br><span class=\"yaml-commented-line\">#  Debug Credential Signature</span><br><span class=\"yaml-commented-line\">#  ============================================</span><br><span class=\"yaml-commented-line\">#  There are two ways how sign the final DC data blob.</span><br><br><span class=\"yaml-commented-line\">#  1. In case that you is available private pair for rot_meta with index rot_id just use first simple style</span><br><span class=\"yaml-commented-line\">#  to use it by rotk key. As a second way to do same is use sign_provider (or signProvider - both are accepted) option</span><br><span class=\"yaml-commented-line\"># with 'type=file'.</span><br><br><span class=\"yaml-commented-line\">#  2. For case that Debug Credential files are generated in untrusted environment (without access to RoT private keys),</span><br><span class=\"yaml-commented-line\">#  there is option to use plugin (example how to create own plugin is in: ./SPSDK/examples/dat/hsm/). The plugin</span><br><span class=\"yaml-commented-line\">#  has simple interface that allows handle DC data blob into plugin with index of RoT meta public key to get back signed</span><br><span class=\"yaml-commented-line\">#  DC image.</span><br><br><span class=\"yaml-commented-line\">#  Those options are exclusive, so only one option could be used to sign the DC.</span><br><br><br><span class=\"yaml-commented-line\"># ======================================================================================================================</span><br><span class=\"yaml-commented-line\">#                                                 == General Options ==                                                 </span><br><span class=\"yaml-commented-line\"># ======================================================================================================================</span><br><span class=\"yaml-commented-line\"># ------------------------------===== The chip family name [Conditionally required] =====-------------------------------</span><br><span class=\"yaml-commented-line\"># Description: NXP chip family identifier.</span><br><span class=\"yaml-commented-line\"># Possible options: <k32w148, kw45b41z5, kw45b41z8, lpc55s04, lpc55s06, lpc55s14, lpc55s16, lpc55s26, lpc55s28,</span><br><span class=\"yaml-commented-line\"># lpc55s36, lpc55s66, lpc55s69, mcxa132, mcxa133, mcxa142, mcxa143, mcxa144, mcxa145, mcxa146, mcxa152, mcxa153,</span><br><span class=\"yaml-commented-line\"># mcxa154, mcxa155, mcxa156, mcxn235, mcxn236, mcxn546, mcxn547, mcxn946, mcxn947, mcxw716a, mcxw716c, mimx8ulp,</span><br><span class=\"yaml-commented-line\"># mimx9131, mimx9352, mimx9596, mimxrt1181, mimxrt1182, mimxrt1187, mimxrt1189, mimxrt533s, mimxrt555s, mimxrt595s,</span><br><span class=\"yaml-commented-line\"># mimxrt685s, mimxrt798s, nhs52s04, rw610, rw612></span><br><span class=\"yaml-key\">family</span>: <span class=\"yaml-value\">mimxrt595s</span><br><span class=\"yaml-commented-line\"># -----------------------------------------===== MCU revision [Optional] =====------------------------------------------</span><br><span class=\"yaml-commented-line\"># Description: Revision of silicon. The 'latest' name, means most current revision.</span><br><span class=\"yaml-commented-line\"># Possible options: <a0, b0, latest></span><br><span class=\"yaml-key\">revision</span>: <span class=\"yaml-value\">latest</span><br><span class=\"yaml-commented-line\"># ======================================================================================================================</span><br><span class=\"yaml-commented-line\">#                                             == Debug Credential Content ==                                            </span><br><span class=\"yaml-commented-line\"># ======================================================================================================================</span><br><span class=\"yaml-commented-line\"># ------------------------------------------===== Device UUID [Required] =====------------------------------------------</span><br><span class=\"yaml-commented-line\"># Description: 128-bit IETF RFC4122 compliant non-sequential Universally Unique Identifier (UUID)</span><br><span class=\"diff-removed\"><span class=\"yaml-key\">uuid</span>: <span class=\"yaml-value\">'00000000000000000000000000000000'</span></span><br><span class=\"diff-added\"><span class=\"yaml-key\">uuid</span>: <span class=\"yaml-value\">'E004090E6BDD2155BBCE9E0665805BE3'</span></span><br><span class=\"yaml-commented-line\"># -------------------------------------------===== SoC Usage [Required] =====-------------------------------------------</span><br><span class=\"yaml-commented-line\"># Description: A CC (constraint) value that is a bit mask, and whose bits are used in an SoCC-specific manner. These</span><br><span class=\"yaml-commented-line\"># bits are typically used for controlling which debug domains are accessed via the authentication protocol, but device-</span><br><span class=\"yaml-commented-line\"># specific debug options can be managed in this way also.</span><br><span class=\"diff-removed\"><span class=\"yaml-key\">cc_socu</span>: <span class=\"yaml-value\">'0x0FFF'</span></span><br><span class=\"diff-added\"><span class=\"yaml-key\">cc_socu</span>: <span class=\"yaml-value\">'0x03FF'</span></span><br><span class=\"yaml-commented-line\"># -----------------------------------------===== Vendor Usage [Required] =====------------------------------------------</span><br><span class=\"yaml-commented-line\"># Description: A CC (constraint) value that is opaque to the debug authentication protocol itself but which can be</span><br><span class=\"yaml-commented-line\"># leveraged by vendors in product-specific ways.</span><br><span class=\"diff-removed\"><span class=\"yaml-key\">cc_vu</span>: <span class=\"yaml-value\">0</span></span><br><span class=\"diff-added\"><span class=\"yaml-key\">cc_vu</span>: <span class=\"yaml-value\">0x5678</span></span><br><span class=\"yaml-commented-line\"># ---------------------------------------===== Credential Beacon [Required] =====---------------------------------------</span><br><span class=\"yaml-commented-line\"># Description: A value that is passed through the authentication protocol, which is not interpreted by the protocol but</span><br><span class=\"yaml-commented-line\"># is instead made visible to the application being debugged. A credential beacon is associated with a DC and is</span><br><span class=\"yaml-commented-line\"># therefore vendor/RoT-signed. An authentication beacon is provided and signed by the debugger during the authentication</span><br><span class=\"yaml-commented-line\"># process.</span><br><span class=\"yaml-key\">cc_beacon</span>: <span class=\"yaml-value\">0</span><br><span class=\"yaml-commented-line\"># -----------------------------------------===== RoT meta-data [Required] =====-----------------------------------------</span><br><span class=\"yaml-commented-line\"># Description: The RoT meta-data required by the device to corroborate; the ROTID sent in the DAC, the field in this DC,</span><br><span class=\"yaml-commented-line\"># and any additional RoT state that is not stored within the device. This allows different RoT identification,</span><br><span class=\"yaml-commented-line\"># management and revocation solutions to be handled.</span><br><span class=\"yaml-key\">rot_meta</span>:<br><span class=\"diff-added\"><span class=\"yaml-key\">  - </span>./p0_cert0_2048.pub</span><br><span class=\"diff-added\"><span class=\"yaml-key\">  - </span>./p1_cert0_2048.pub</span><br><span class=\"diff-removed\"><span class=\"yaml-key\">  - </span>./rotk0.pub</span><br><span class=\"diff-removed\"><span class=\"yaml-key\">  - </span>./rotk1.pub</span><br><span class=\"diff-removed\"><span class=\"yaml-key\">  - </span>./rotk2.pub</span><br><span class=\"diff-removed\"><span class=\"yaml-key\">  - </span>./rotk3.pub</span><br><span class=\"yaml-commented-line\"># ----------------------------------------===== RoT Identifier [Required] =====-----------------------------------------</span><br><span class=\"yaml-commented-line\"># Description: RoTID allows the debugger to infer which RoT public key(s) are acceptable to the device. If the debugger</span><br><span class=\"yaml-commented-line\"># cannot or does not provide such a credential, the authentication process will fail.</span><br><span class=\"yaml-key\">rot_id</span>: <span class=\"yaml-value\">0</span> <span style=\"background-color: #FFFF00; border-radius: 5px; padding: 2px 6px; margin-\n",
       "left: 5px; font-size: 0.8em;\">0-based index representing the private key that will be used with respect to `rot_meta`</span><br><span class=\"yaml-commented-line\"># -------------------------------------===== Debug Credential Key [Required] =====--------------------------------------</span><br><span class=\"yaml-commented-line\"># Description: A user-owned key pair. The public part of the key is associated with a DC, the private part is held by</span><br><span class=\"yaml-commented-line\"># the user and used to produce signatures during authentication.</span><br><span class=\"yaml-key\">dck</span>: <span class=\"yaml-value\">dck.pub</span><br><span class=\"yaml-commented-line\"># ----------------------------===== RoT signature private key [Conditionally required] =====----------------------------</span><br><span class=\"yaml-commented-line\"># Description: Private key for the RoT meta chosen by rot_id to sign the image.</span><br><span class=\"diff-removed\"><span class=\"yaml-key\">rotk</span>: <span class=\"yaml-value\">rotk0.pem</span> <span style=\"background-color: #FFFF00; border-radius: 5px; padding: 2px 6px;\n",
       "margin-left: 5px; font-size: 0.8em;\">This is not needed as it is replaced by sign_provider parameter.</span></span><br><span class=\"yaml-commented-line\"># -------------------------------===== Signature Provider [Conditionally required] =====--------------------------------</span><br><span class=\"yaml-commented-line\"># Description: Signature provider configuration in format 'type=<identifier>;key_number=<value>'.</span><br><span class=\"diff-removed\"><span class=\"yaml-key\">sign_provider</span>: <span class=\"yaml-value\">type=sasp;key_number=0</span> <span style=\"background-color: #FFFF00; border-radius: 5px;\n",
       "padding: 2px 6px; margin-left: 5px; font-size: 0.8em;\">The configuration of signature provider defining the actual signature provider type and its\n",
       "parameters.</span></span><br><span class=\"diff-added\"><span class=\"yaml-key\">sign_provider</span>: <span class=\"yaml-value\">type=sasp;key_number=0;key_type=rsa2048</span></span><br></pre></div>\n",
       "          <div id=\"userConfigView_347dae9dcf95dc8bad859ff8f714b72b\" class=\"yaml-diff\" style=\"display:none;\"><pre class=\"yaml-diff\"><span class=\"yaml-commented-line\"># ==============================  Debug Credential file template for mimxrt595s family.  ===============================</span><br><br><br><span class=\"yaml-commented-line\"># -------------------------------------------------------- Note --------------------------------------------------------</span><br><br><span class=\"yaml-commented-line\"># Debug credential file has following binary structure:</span><br><span class=\"yaml-commented-line\">#  ============================================</span><br><span class=\"yaml-commented-line\">#  ============================================</span><br><span class=\"yaml-commented-line\">#  ===              Version                 ===</span><br><span class=\"yaml-commented-line\">#  ============================================</span><br><span class=\"yaml-commented-line\">#  ===             Soc Class                ===</span><br><span class=\"yaml-commented-line\">#  ============================================</span><br><span class=\"yaml-commented-line\">#  ===                UUID                  ===</span><br><span class=\"yaml-commented-line\">#  ============================================</span><br><span class=\"yaml-commented-line\">#  ===    RoT Meta SHA256 of following:     ===</span><br><span class=\"yaml-commented-line\">#  ===          RoT Key0 SHA256             ===</span><br><span class=\"yaml-commented-line\">#  ===          RoT Key1 SHA256             ===</span><br><span class=\"yaml-commented-line\">#  ===          RoT Key2 SHA256             ===</span><br><span class=\"yaml-commented-line\">#  ===          RoT Key3 SHA256             ===</span><br><span class=\"yaml-commented-line\">#  ============================================</span><br><span class=\"yaml-commented-line\">#  ===        Debugger Key DCK (Pub):       ===</span><br><span class=\"yaml-commented-line\">#  ===                                      ===</span><br><span class=\"yaml-commented-line\">#  ============================================</span><br><span class=\"yaml-commented-line\">#  ===              CC SOCU                 ===</span><br><span class=\"yaml-commented-line\">#  ============================================</span><br><span class=\"yaml-commented-line\">#  ===               CC VU                  ===</span><br><span class=\"yaml-commented-line\">#  ============================================</span><br><span class=\"yaml-commented-line\">#  ===                 CB                   ===</span><br><span class=\"yaml-commented-line\">#  ============================================</span><br><span class=\"yaml-commented-line\">#  ===            RoT Key (pub)             ===</span><br><span class=\"yaml-commented-line\">#  ===                                      ===</span><br><span class=\"yaml-commented-line\">#  ============================================</span><br><span class=\"yaml-commented-line\">#  ============================================</span><br><span class=\"yaml-commented-line\">#  ===       Signature of all block         ===</span><br><span class=\"yaml-commented-line\">#  ===  SHA256 of whole block => Sign(RoTK) ===</span><br><span class=\"yaml-commented-line\">#  ============================================</span><br><span class=\"yaml-commented-line\">#  ============================================</span><br><br><br><span class=\"yaml-commented-line\">#  ============================================</span><br><span class=\"yaml-commented-line\">#  Debug Credential Signature</span><br><span class=\"yaml-commented-line\">#  ============================================</span><br><span class=\"yaml-commented-line\">#  There are two ways how sign the final DC data blob.</span><br><br><span class=\"yaml-commented-line\">#  1. In case that you is available private pair for rot_meta with index rot_id just use first simple style</span><br><span class=\"yaml-commented-line\">#  to use it by rotk key. As a second way to do same is use sign_provider (or signProvider - both are accepted) option</span><br><span class=\"yaml-commented-line\"># with 'type=file'.</span><br><br><span class=\"yaml-commented-line\">#  2. For case that Debug Credential files are generated in untrusted environment (without access to RoT private keys),</span><br><span class=\"yaml-commented-line\">#  there is option to use plugin (example how to create own plugin is in: ./SPSDK/examples/dat/hsm/). The plugin</span><br><span class=\"yaml-commented-line\">#  has simple interface that allows handle DC data blob into plugin with index of RoT meta public key to get back signed</span><br><span class=\"yaml-commented-line\">#  DC image.</span><br><br><span class=\"yaml-commented-line\">#  Those options are exclusive, so only one option could be used to sign the DC.</span><br><br><br><span class=\"yaml-commented-line\"># ======================================================================================================================</span><br><span class=\"yaml-commented-line\">#                                                 == General Options ==</span><br><span class=\"yaml-commented-line\"># ======================================================================================================================</span><br><span class=\"yaml-commented-line\"># ------------------------------===== The chip family name [Conditionally required] =====-------------------------------</span><br><span class=\"yaml-commented-line\"># Description: NXP chip family identifier.</span><br><span class=\"yaml-commented-line\"># Possible options: <k32w148, kw45b41z5, kw45b41z8, lpc55s04, lpc55s06, lpc55s14, lpc55s16, lpc55s26, lpc55s28,</span><br><span class=\"yaml-commented-line\"># lpc55s36, lpc55s66, lpc55s69, mcxa132, mcxa133, mcxa142, mcxa143, mcxa144, mcxa145, mcxa146, mcxa152, mcxa153,</span><br><span class=\"yaml-commented-line\"># mcxa154, mcxa155, mcxa156, mcxn235, mcxn236, mcxn546, mcxn547, mcxn946, mcxn947, mcxw716a, mcxw716c, mimx8ulp,</span><br><span class=\"yaml-commented-line\"># mimx9131, mimx9352, mimx9596, mimxrt1181, mimxrt1182, mimxrt1187, mimxrt1189, mimxrt533s, mimxrt555s, mimxrt595s,</span><br><span class=\"yaml-commented-line\"># mimxrt685s, mimxrt798s, nhs52s04, rw610, rw612></span><br><span class=\"yaml-key\">family</span>: <span class=\"yaml-value\">mimxrt595s</span><br><span class=\"yaml-commented-line\"># -----------------------------------------===== MCU revision [Optional] =====------------------------------------------</span><br><span class=\"yaml-commented-line\"># Description: Revision of silicon. The 'latest' name, means most current revision.</span><br><span class=\"yaml-commented-line\"># Possible options: <a0, b0, latest></span><br><span class=\"yaml-key\">revision</span>: <span class=\"yaml-value\">latest</span><br><span class=\"yaml-commented-line\"># ======================================================================================================================</span><br><span class=\"yaml-commented-line\">#                                             == Debug Credential Content ==</span><br><span class=\"yaml-commented-line\"># ======================================================================================================================</span><br><span class=\"yaml-commented-line\"># ------------------------------------------===== Device UUID [Required] =====------------------------------------------</span><br><span class=\"yaml-commented-line\"># Description: 128-bit IETF RFC4122 compliant non-sequential Universally Unique Identifier (UUID)</span><br><span class=\"yaml-key\">uuid</span>: <span class=\"yaml-value\">'E004090E6BDD2155BBCE9E0665805BE3'</span><br><span class=\"yaml-commented-line\"># -------------------------------------------===== SoC Usage [Required] =====-------------------------------------------</span><br><span class=\"yaml-commented-line\"># Description: A CC (constraint) value that is a bit mask, and whose bits are used in an SoCC-specific manner. These</span><br><span class=\"yaml-commented-line\"># bits are typically used for controlling which debug domains are accessed via the authentication protocol, but device-</span><br><span class=\"yaml-commented-line\"># specific debug options can be managed in this way also.</span><br><span class=\"yaml-key\">cc_socu</span>: <span class=\"yaml-value\">'0x03FF'</span><br><span class=\"yaml-commented-line\"># -----------------------------------------===== Vendor Usage [Required] =====------------------------------------------</span><br><span class=\"yaml-commented-line\"># Description: A CC (constraint) value that is opaque to the debug authentication protocol itself but which can be</span><br><span class=\"yaml-commented-line\"># leveraged by vendors in product-specific ways.</span><br><span class=\"yaml-key\">cc_vu</span>: <span class=\"yaml-value\">0x5678</span><br><span class=\"yaml-commented-line\"># ---------------------------------------===== Credential Beacon [Required] =====---------------------------------------</span><br><span class=\"yaml-commented-line\"># Description: A value that is passed through the authentication protocol, which is not interpreted by the protocol but</span><br><span class=\"yaml-commented-line\"># is instead made visible to the application being debugged. A credential beacon is associated with a DC and is</span><br><span class=\"yaml-commented-line\"># therefore vendor/RoT-signed. An authentication beacon is provided and signed by the debugger during the authentication</span><br><span class=\"yaml-commented-line\"># process.</span><br><span class=\"yaml-key\">cc_beacon</span>: <span class=\"yaml-value\">0</span><br><span class=\"yaml-commented-line\"># -----------------------------------------===== RoT meta-data [Required] =====-----------------------------------------</span><br><span class=\"yaml-commented-line\"># Description: The RoT meta-data required by the device to corroborate; the ROTID sent in the DAC, the field in this DC,</span><br><span class=\"yaml-commented-line\"># and any additional RoT state that is not stored within the device. This allows different RoT identification,</span><br><span class=\"yaml-commented-line\"># management and revocation solutions to be handled.</span><br><span class=\"yaml-key\">rot_meta</span>:<br><span class=\"yaml-key\">  - </span>./p0_cert0_2048.pub<br><span class=\"yaml-key\">  - </span>./p1_cert0_2048.pub<br><span class=\"yaml-commented-line\"># ----------------------------------------===== RoT Identifier [Required] =====-----------------------------------------</span><br><span class=\"yaml-commented-line\"># Description: RoTID allows the debugger to infer which RoT public key(s) are acceptable to the device. If the debugger</span><br><span class=\"yaml-commented-line\"># cannot or does not provide such a credential, the authentication process will fail.</span><br><span class=\"yaml-key\">rot_id</span>: <span class=\"yaml-value\">0</span> <span style=\"background-color: #FFFF00; border-radius: 5px; padding: 2px 6px; margin-\n",
       "left: 5px; font-size: 0.8em;\">0-based index representing the private key that will be used with respect to `rot_meta`</span><br><span class=\"yaml-commented-line\"># -------------------------------------===== Debug Credential Key [Required] =====--------------------------------------</span><br><span class=\"yaml-commented-line\"># Description: A user-owned key pair. The public part of the key is associated with a DC, the private part is held by</span><br><span class=\"yaml-commented-line\"># the user and used to produce signatures during authentication.</span><br><span class=\"yaml-key\">dck</span>: <span class=\"yaml-value\">dck.pub</span><br><span class=\"yaml-commented-line\"># -------------------------------===== Signature Provider [Conditionally required] =====--------------------------------</span><br><span class=\"yaml-commented-line\"># Description: Signature provider configuration in format 'type=<identifier>;key_number=<value>'.</span><br><span class=\"yaml-key\">sign_provider</span>: <span class=\"yaml-value\">type=sasp;key_number=0;key_type=rsa2048</span> <span style=\"background-color: #FFFF00;\n",
       "border-radius: 5px; padding: 2px 6px; margin-left: 5px; font-size: 0.8em;\">The configuration of signature provider defining the actual signature provider type\n",
       "and its parameters.</span><br></pre></div>\n",
       "        </div>\n",
       "        "
      ],
      "text/plain": [
       "<IPython.core.display.HTML object>"
      ]
     },
     "execution_count": 14,
     "metadata": {},
     "output_type": "execute_result"
    }
   ],
   "source": [
    "# Get difference of template and user YAML configuration\n",
    "YamlDiffWidget(\"mimxrt595s_dat.diffc\").html"
   ]
  },
  {
   "cell_type": "markdown",
   "metadata": {},
   "source": [
    "### 3.1 Signature Provider configuration\n",
    "\n",
    "The signature provider configuration string must follow the format:\n",
    "\n",
    "  ```\n",
    "  \"type=<identifier>;<key1>=<value1>;<key2>=<value2>;...\"\n",
    "  ```\n",
    " - The `<identifier>` must match the `identifier` class attribute defined in the custom Signature Provider (in this example `plugins/sasp.py`).\n",
    " - The remaining key-value pairs will be passed to the `__init__` method of the given Signature Provider.\n",
    "\n",
    "\n",
    "For instance, the configuration string:\n",
    "  ```\n",
    "  \"type=file;file_path=private_key.pem\"\n",
    "  ```  \n",
    "  will instantiate the following object:  \n",
    "  ```python\n",
    "  spsdk.crypto.PlainFileSP(file_path='private_key.pem')\n",
    "  ```"
   ]
  },
  {
   "attachments": {},
   "cell_type": "markdown",
   "metadata": {},
   "source": [
    "## 4. Debug Certificate Generation\n",
    "\n",
    "At this point, we have everything we need to run create debug certificate signed by remote HSM."
   ]
  },
  {
   "cell_type": "code",
   "execution_count": 24,
   "metadata": {},
   "outputs": [
    {
     "name": "stdout",
     "output_type": "stream",
     "text": [
      "nxpdebugmbox -v -f mimxrt595s dat dc export --config _data/dck_rsa_2048.yaml --plugin ../_common/plugins/sasp.py --output workspace/dc_out.cert --force \n",
      "\u001b[37m\u001b[1mINFO:spsdk.apps.nxpdebugmbox:Loading configuration from yml file...\u001b[39m\u001b[0m\n",
      "\u001b[37m\u001b[1mINFO:spsdk.dat.debug_credential:Protocol version not defined. The version 1.0 has been determined from RoT public key\u001b[39m\u001b[0m\n",
      "\u001b[37m\u001b[1mINFO:spsdk.apps.nxpdebugmbox:Creating RSA debug credential object...\u001b[39m\u001b[0m\n",
      "RKTH: 5905022784a39901b0dc0860c9455cd1b83c5336a2e973825759961554664c89\n",
      "\u001b[37m\u001b[1mINFO:spsdk.apps.nxpdebugmbox:Saving the debug credential to a file: workspace/dc_out.cert\u001b[39m\u001b[0m\n",
      "Creating Debug credential file succeeded\n"
     ]
    }
   ],
   "source": [
    "CONFIG_PATH = os.path.join(DATA_DIR, \"dck_rsa_2048.yaml\")\n",
    "OUTPUT_PATH = os.path.join(WORKSPACE, \"dc_out.cert\")\n",
    "%! nxpdebugmbox $VERBOSITY -f $FAMILY dat dc export --config $CONFIG_PATH --plugin $SASP_PLUGIN --output $OUTPUT_PATH --force\n",
    "\n",
    "# check if the signed image exists\n",
    "assert os.path.exists(OUTPUT_PATH)"
   ]
  },
  {
   "attachments": {},
   "cell_type": "markdown",
   "metadata": {},
   "source": [
    "## 5. HSM teardown\n",
    "\n",
    "Last step is to stop custom HSM. In order to do that, open again the [HSM Setup notebook](../_common/sahsm.ipynb) and stop the running jupyter notebook code cell."
   ]
  }
 ],
 "metadata": {
  "kernelspec": {
   "display_name": "venv_uv",
   "language": "python",
   "name": "python3"
  },
  "language_info": {
   "codemirror_mode": {
    "name": "ipython",
    "version": 3
   },
   "file_extension": ".py",
   "mimetype": "text/x-python",
   "name": "python",
   "nbconvert_exporter": "python",
   "pygments_lexer": "ipython3",
   "version": "3.10.6"
  },
  "orig_nbformat": 4
 },
 "nbformat": 4,
 "nbformat_minor": 2
}